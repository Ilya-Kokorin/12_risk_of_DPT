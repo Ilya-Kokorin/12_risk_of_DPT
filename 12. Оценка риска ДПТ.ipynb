{
 "cells": [
  {
   "cell_type": "markdown",
   "id": "74c4b47a",
   "metadata": {},
   "source": [
    "# Оценка риска ДПТ"
   ]
  },
  {
   "cell_type": "markdown",
   "id": "4790708c",
   "metadata": {},
   "source": [
    "Нужно создать систему, которая могла бы оценить риск ДТП по выбранному маршруту движения. Под риском понимается вероятность ДТП с любым повреждением транспортного средства. Как только водитель забронировал автомобиль, сел за руль и выбрал маршрут, система должна оценить уровень риска. Если уровень риска высок, водитель увидит предупреждение и рекомендации по маршруту.\n",
    "Идея создания такой системы находится в стадии предварительного обсуждения и проработки. Чёткого алгоритма работы и подобных решений на рынке ещё не существует. Текущая задача — понять, возможно ли предсказывать ДТП, опираясь на исторические данные одного из регионов."
   ]
  },
  {
   "cell_type": "markdown",
   "id": "ac898c08",
   "metadata": {},
   "source": [
    "## Импорт библиотек"
   ]
  },
  {
   "cell_type": "raw",
   "id": "2c376f80",
   "metadata": {},
   "source": [
    "!pip install phik"
   ]
  },
  {
   "cell_type": "code",
   "execution_count": 2,
   "id": "7fe3af41",
   "metadata": {},
   "outputs": [],
   "source": [
    "import numpy as np\n",
    "import pandas as pd   \n",
    "import matplotlib.pyplot as plt\n",
    "import seaborn as sns\n",
    "from sqlalchemy import create_engine\n",
    "from phik import phik_matrix\n",
    "from phik.report import plot_correlation_matrix\n",
    "\n",
    "# Подготовка данных\n",
    "from sklearn.model_selection import train_test_split, RandomizedSearchCV, GridSearchCV\n",
    "from sklearn.preprocessing import OneHotEncoder, OrdinalEncoder, StandardScaler, MinMaxScaler, RobustScaler\n",
    "\n",
    "# Для пайплайна\n",
    "from sklearn.pipeline import Pipeline\n",
    "from sklearn.compose import ColumnTransformer\n",
    "from sklearn.impute import SimpleImputer\n",
    "\n",
    "# Модели\n",
    "from sklearn.linear_model import LogisticRegression\n",
    "from sklearn.neighbors import KNeighborsClassifier\n",
    "# from sklearn.tree import DecisionTreeClassifier\n",
    "from sklearn.ensemble import RandomForestClassifier\n",
    "from catboost import CatBoostClassifier\n",
    "from lightgbm import LGBMClassifier\n",
    "from sklearn.metrics import roc_auc_score, confusion_matrix, f1_score, recall_score\n",
    "\n",
    "# Игнорирование предупреждений\n",
    "import warnings\n",
    "warnings.filterwarnings('ignore')"
   ]
  },
  {
   "cell_type": "code",
   "execution_count": 3,
   "id": "2aab34e3",
   "metadata": {},
   "outputs": [],
   "source": [
    "RANDOM_STATE = 15"
   ]
  },
  {
   "cell_type": "code",
   "execution_count": 4,
   "id": "42cf69cf",
   "metadata": {},
   "outputs": [],
   "source": [
    "db_config = {\n",
    "'user': 'praktikum_student', # имя пользователя,\n",
    "'pwd': 'Sdf4$2;d-d30pp', # пароль,\n",
    "'host': 'rc1b-wcoijxj3yxfsf3fs.mdb.yandexcloud.net',\n",
    "'port': 6432, # порт подключения,\n",
    "'db': 'data-science-vehicle-db' # название базы данных,\n",
    "} \n",
    "\n",
    "db_connection = 'postgresql://{}:{}@{}:{}/{}'.format(*db_config.values())\n",
    "engine = create_engine(db_connection)"
   ]
  },
  {
   "cell_type": "markdown",
   "id": "7d67d05f",
   "metadata": {
    "ExecuteTime": {
     "end_time": "2022-05-05T04:58:05.692448Z",
     "start_time": "2022-05-05T04:58:05.688565Z"
    }
   },
   "source": [
    "## Загрузка таблиц sql и их первичное исследование"
   ]
  },
  {
   "cell_type": "code",
   "execution_count": 5,
   "id": "24357a25",
   "metadata": {},
   "outputs": [
    {
     "data": {
      "text/html": [
       "<div>\n",
       "<style scoped>\n",
       "    .dataframe tbody tr th:only-of-type {\n",
       "        vertical-align: middle;\n",
       "    }\n",
       "\n",
       "    .dataframe tbody tr th {\n",
       "        vertical-align: top;\n",
       "    }\n",
       "\n",
       "    .dataframe thead th {\n",
       "        text-align: right;\n",
       "    }\n",
       "</style>\n",
       "<table border=\"1\" class=\"dataframe\">\n",
       "  <thead>\n",
       "    <tr style=\"text-align: right;\">\n",
       "      <th></th>\n",
       "      <th>db_year</th>\n",
       "    </tr>\n",
       "    <tr>\n",
       "      <th>case_id</th>\n",
       "      <th></th>\n",
       "    </tr>\n",
       "  </thead>\n",
       "  <tbody>\n",
       "    <tr>\n",
       "      <th>0081715</th>\n",
       "      <td>2021</td>\n",
       "    </tr>\n",
       "    <tr>\n",
       "      <th>0726202</th>\n",
       "      <td>2021</td>\n",
       "    </tr>\n",
       "    <tr>\n",
       "      <th>3858022</th>\n",
       "      <td>2021</td>\n",
       "    </tr>\n",
       "    <tr>\n",
       "      <th>3899441</th>\n",
       "      <td>2021</td>\n",
       "    </tr>\n",
       "    <tr>\n",
       "      <th>3899442</th>\n",
       "      <td>2021</td>\n",
       "    </tr>\n",
       "    <tr>\n",
       "      <th>3899445</th>\n",
       "      <td>2021</td>\n",
       "    </tr>\n",
       "    <tr>\n",
       "      <th>3899446</th>\n",
       "      <td>2021</td>\n",
       "    </tr>\n",
       "    <tr>\n",
       "      <th>3899449</th>\n",
       "      <td>2021</td>\n",
       "    </tr>\n",
       "    <tr>\n",
       "      <th>3899450</th>\n",
       "      <td>2021</td>\n",
       "    </tr>\n",
       "    <tr>\n",
       "      <th>3899453</th>\n",
       "      <td>2021</td>\n",
       "    </tr>\n",
       "  </tbody>\n",
       "</table>\n",
       "</div>"
      ],
      "text/plain": [
       "        db_year\n",
       "case_id        \n",
       "0081715    2021\n",
       "0726202    2021\n",
       "3858022    2021\n",
       "3899441    2021\n",
       "3899442    2021\n",
       "3899445    2021\n",
       "3899446    2021\n",
       "3899449    2021\n",
       "3899450    2021\n",
       "3899453    2021"
      ]
     },
     "execution_count": 5,
     "metadata": {},
     "output_type": "execute_result"
    }
   ],
   "source": [
    "#выведем все таблицы на экран\n",
    "case_ids_query = '''\n",
    "SELECT *\n",
    "FROM case_ids\n",
    "LIMIT 10\n",
    "'''\n",
    "pd.read_sql_query(case_ids_query, con=engine, index_col='case_id')"
   ]
  },
  {
   "cell_type": "code",
   "execution_count": 6,
   "id": "baa99c0a",
   "metadata": {},
   "outputs": [
    {
     "data": {
      "text/html": [
       "<div>\n",
       "<style scoped>\n",
       "    .dataframe tbody tr th:only-of-type {\n",
       "        vertical-align: middle;\n",
       "    }\n",
       "\n",
       "    .dataframe tbody tr th {\n",
       "        vertical-align: top;\n",
       "    }\n",
       "\n",
       "    .dataframe thead th {\n",
       "        text-align: right;\n",
       "    }\n",
       "</style>\n",
       "<table border=\"1\" class=\"dataframe\">\n",
       "  <thead>\n",
       "    <tr style=\"text-align: right;\">\n",
       "      <th></th>\n",
       "      <th>case_id</th>\n",
       "      <th>party_number</th>\n",
       "      <th>vehicle_type</th>\n",
       "      <th>vehicle_transmission</th>\n",
       "      <th>vehicle_age</th>\n",
       "    </tr>\n",
       "    <tr>\n",
       "      <th>id</th>\n",
       "      <th></th>\n",
       "      <th></th>\n",
       "      <th></th>\n",
       "      <th></th>\n",
       "      <th></th>\n",
       "    </tr>\n",
       "  </thead>\n",
       "  <tbody>\n",
       "    <tr>\n",
       "      <th>1175713</th>\n",
       "      <td>5305032</td>\n",
       "      <td>2</td>\n",
       "      <td>sedan</td>\n",
       "      <td>manual</td>\n",
       "      <td>3</td>\n",
       "    </tr>\n",
       "    <tr>\n",
       "      <th>1</th>\n",
       "      <td>3858022</td>\n",
       "      <td>1</td>\n",
       "      <td>sedan</td>\n",
       "      <td>auto</td>\n",
       "      <td>3</td>\n",
       "    </tr>\n",
       "    <tr>\n",
       "      <th>1175712</th>\n",
       "      <td>5305030</td>\n",
       "      <td>1</td>\n",
       "      <td>sedan</td>\n",
       "      <td>auto</td>\n",
       "      <td>3</td>\n",
       "    </tr>\n",
       "    <tr>\n",
       "      <th>1175717</th>\n",
       "      <td>5305033</td>\n",
       "      <td>3</td>\n",
       "      <td>sedan</td>\n",
       "      <td>auto</td>\n",
       "      <td>5</td>\n",
       "    </tr>\n",
       "    <tr>\n",
       "      <th>1175722</th>\n",
       "      <td>5305034</td>\n",
       "      <td>2</td>\n",
       "      <td>sedan</td>\n",
       "      <td>auto</td>\n",
       "      <td>5</td>\n",
       "    </tr>\n",
       "    <tr>\n",
       "      <th>1175737</th>\n",
       "      <td>5305046</td>\n",
       "      <td>2</td>\n",
       "      <td>sedan</td>\n",
       "      <td>auto</td>\n",
       "      <td>5</td>\n",
       "    </tr>\n",
       "    <tr>\n",
       "      <th>1175750</th>\n",
       "      <td>5305053</td>\n",
       "      <td>3</td>\n",
       "      <td>sedan</td>\n",
       "      <td>auto</td>\n",
       "      <td>9</td>\n",
       "    </tr>\n",
       "    <tr>\n",
       "      <th>1175715</th>\n",
       "      <td>5305033</td>\n",
       "      <td>1</td>\n",
       "      <td>sedan</td>\n",
       "      <td>manual</td>\n",
       "      <td>10</td>\n",
       "    </tr>\n",
       "    <tr>\n",
       "      <th>1175716</th>\n",
       "      <td>5305033</td>\n",
       "      <td>2</td>\n",
       "      <td>sedan</td>\n",
       "      <td>manual</td>\n",
       "      <td>4</td>\n",
       "    </tr>\n",
       "    <tr>\n",
       "      <th>1175758</th>\n",
       "      <td>5305060</td>\n",
       "      <td>2</td>\n",
       "      <td>sedan</td>\n",
       "      <td>auto</td>\n",
       "      <td>11</td>\n",
       "    </tr>\n",
       "  </tbody>\n",
       "</table>\n",
       "</div>"
      ],
      "text/plain": [
       "         case_id  party_number vehicle_type vehicle_transmission  vehicle_age\n",
       "id                                                                           \n",
       "1175713  5305032             2        sedan               manual            3\n",
       "1        3858022             1        sedan                 auto            3\n",
       "1175712  5305030             1        sedan                 auto            3\n",
       "1175717  5305033             3        sedan                 auto            5\n",
       "1175722  5305034             2        sedan                 auto            5\n",
       "1175737  5305046             2        sedan                 auto            5\n",
       "1175750  5305053             3        sedan                 auto            9\n",
       "1175715  5305033             1        sedan               manual           10\n",
       "1175716  5305033             2        sedan               manual            4\n",
       "1175758  5305060             2        sedan                 auto           11"
      ]
     },
     "execution_count": 6,
     "metadata": {},
     "output_type": "execute_result"
    }
   ],
   "source": [
    "query = '''\n",
    "SELECT *\n",
    "FROM vehicles\n",
    "LIMIT 10\n",
    "'''\n",
    "pd.read_sql_query(query, con=engine, index_col='id')"
   ]
  },
  {
   "cell_type": "code",
   "execution_count": 7,
   "id": "eb462e85",
   "metadata": {},
   "outputs": [
    {
     "data": {
      "text/html": [
       "<div>\n",
       "<style scoped>\n",
       "    .dataframe tbody tr th:only-of-type {\n",
       "        vertical-align: middle;\n",
       "    }\n",
       "\n",
       "    .dataframe tbody tr th {\n",
       "        vertical-align: top;\n",
       "    }\n",
       "\n",
       "    .dataframe thead th {\n",
       "        text-align: right;\n",
       "    }\n",
       "</style>\n",
       "<table border=\"1\" class=\"dataframe\">\n",
       "  <thead>\n",
       "    <tr style=\"text-align: right;\">\n",
       "      <th></th>\n",
       "      <th>case_id</th>\n",
       "      <th>county_city_location</th>\n",
       "      <th>county_location</th>\n",
       "      <th>distance</th>\n",
       "      <th>direction</th>\n",
       "      <th>intersection</th>\n",
       "      <th>weather_1</th>\n",
       "      <th>location_type</th>\n",
       "      <th>collision_damage</th>\n",
       "      <th>party_count</th>\n",
       "      <th>primary_collision_factor</th>\n",
       "      <th>pcf_violation_category</th>\n",
       "      <th>type_of_collision</th>\n",
       "      <th>motor_vehicle_involved_with</th>\n",
       "      <th>road_surface</th>\n",
       "      <th>road_condition_1</th>\n",
       "      <th>lighting</th>\n",
       "      <th>control_device</th>\n",
       "      <th>collision_date</th>\n",
       "      <th>collision_time</th>\n",
       "    </tr>\n",
       "  </thead>\n",
       "  <tbody>\n",
       "    <tr>\n",
       "      <th>0</th>\n",
       "      <td>4750401</td>\n",
       "      <td>0103</td>\n",
       "      <td>alameda</td>\n",
       "      <td>0.0</td>\n",
       "      <td>None</td>\n",
       "      <td>1</td>\n",
       "      <td>cloudy</td>\n",
       "      <td>None</td>\n",
       "      <td>scratch</td>\n",
       "      <td>2</td>\n",
       "      <td>vehicle code violation</td>\n",
       "      <td>traffic signals and signs</td>\n",
       "      <td>broadside</td>\n",
       "      <td>other motor vehicle</td>\n",
       "      <td>wet</td>\n",
       "      <td>normal</td>\n",
       "      <td>daylight</td>\n",
       "      <td>functioning</td>\n",
       "      <td>2012-04-10</td>\n",
       "      <td>13:47:00</td>\n",
       "    </tr>\n",
       "    <tr>\n",
       "      <th>1</th>\n",
       "      <td>5087612</td>\n",
       "      <td>3300</td>\n",
       "      <td>riverside</td>\n",
       "      <td>450.0</td>\n",
       "      <td>north</td>\n",
       "      <td>0</td>\n",
       "      <td>clear</td>\n",
       "      <td>ramp</td>\n",
       "      <td>scratch</td>\n",
       "      <td>2</td>\n",
       "      <td>vehicle code violation</td>\n",
       "      <td>dui</td>\n",
       "      <td>rear end</td>\n",
       "      <td>other motor vehicle</td>\n",
       "      <td>dry</td>\n",
       "      <td>normal</td>\n",
       "      <td>dark with street lights not functioning</td>\n",
       "      <td>none</td>\n",
       "      <td>2012-01-15</td>\n",
       "      <td>20:23:00</td>\n",
       "    </tr>\n",
       "    <tr>\n",
       "      <th>2</th>\n",
       "      <td>5125192</td>\n",
       "      <td>4312</td>\n",
       "      <td>santa clara</td>\n",
       "      <td>30.0</td>\n",
       "      <td>south</td>\n",
       "      <td>0</td>\n",
       "      <td>cloudy</td>\n",
       "      <td>None</td>\n",
       "      <td>small damage</td>\n",
       "      <td>2</td>\n",
       "      <td>vehicle code violation</td>\n",
       "      <td>unsafe starting or backing</td>\n",
       "      <td>other</td>\n",
       "      <td>parked motor vehicle</td>\n",
       "      <td>dry</td>\n",
       "      <td>normal</td>\n",
       "      <td>daylight</td>\n",
       "      <td>functioning</td>\n",
       "      <td>2012-03-16</td>\n",
       "      <td>14:35:00</td>\n",
       "    </tr>\n",
       "    <tr>\n",
       "      <th>3</th>\n",
       "      <td>5457328</td>\n",
       "      <td>3711</td>\n",
       "      <td>san diego</td>\n",
       "      <td>5.0</td>\n",
       "      <td>west</td>\n",
       "      <td>0</td>\n",
       "      <td>clear</td>\n",
       "      <td>None</td>\n",
       "      <td>middle damage</td>\n",
       "      <td>2</td>\n",
       "      <td>None</td>\n",
       "      <td>None</td>\n",
       "      <td>broadside</td>\n",
       "      <td>bicycle</td>\n",
       "      <td>dry</td>\n",
       "      <td>normal</td>\n",
       "      <td>daylight</td>\n",
       "      <td>none</td>\n",
       "      <td>2012-01-20</td>\n",
       "      <td>13:30:00</td>\n",
       "    </tr>\n",
       "    <tr>\n",
       "      <th>4</th>\n",
       "      <td>5356548</td>\n",
       "      <td>3400</td>\n",
       "      <td>sacramento</td>\n",
       "      <td>10.0</td>\n",
       "      <td>south</td>\n",
       "      <td>0</td>\n",
       "      <td>clear</td>\n",
       "      <td>None</td>\n",
       "      <td>scratch</td>\n",
       "      <td>2</td>\n",
       "      <td>vehicle code violation</td>\n",
       "      <td>other hazardous violation</td>\n",
       "      <td>other</td>\n",
       "      <td>bicycle</td>\n",
       "      <td>dry</td>\n",
       "      <td>normal</td>\n",
       "      <td>daylight</td>\n",
       "      <td>functioning</td>\n",
       "      <td>2012-10-19</td>\n",
       "      <td>16:50:00</td>\n",
       "    </tr>\n",
       "    <tr>\n",
       "      <th>5</th>\n",
       "      <td>5356550</td>\n",
       "      <td>1942</td>\n",
       "      <td>los angeles</td>\n",
       "      <td>0.0</td>\n",
       "      <td>None</td>\n",
       "      <td>1</td>\n",
       "      <td>clear</td>\n",
       "      <td>None</td>\n",
       "      <td>scratch</td>\n",
       "      <td>2</td>\n",
       "      <td>vehicle code violation</td>\n",
       "      <td>traffic signals and signs</td>\n",
       "      <td>broadside</td>\n",
       "      <td>other motor vehicle</td>\n",
       "      <td>dry</td>\n",
       "      <td>normal</td>\n",
       "      <td>daylight</td>\n",
       "      <td>functioning</td>\n",
       "      <td>2012-09-28</td>\n",
       "      <td>15:00:00</td>\n",
       "    </tr>\n",
       "    <tr>\n",
       "      <th>6</th>\n",
       "      <td>5403029</td>\n",
       "      <td>4313</td>\n",
       "      <td>santa clara</td>\n",
       "      <td>0.0</td>\n",
       "      <td>None</td>\n",
       "      <td>1</td>\n",
       "      <td>fog</td>\n",
       "      <td>None</td>\n",
       "      <td>fatal</td>\n",
       "      <td>3</td>\n",
       "      <td>vehicle code violation</td>\n",
       "      <td>automobile right of way</td>\n",
       "      <td>broadside</td>\n",
       "      <td>other motor vehicle</td>\n",
       "      <td>wet</td>\n",
       "      <td>normal</td>\n",
       "      <td>daylight</td>\n",
       "      <td>None</td>\n",
       "      <td>2012-01-03</td>\n",
       "      <td>07:29:00</td>\n",
       "    </tr>\n",
       "    <tr>\n",
       "      <th>7</th>\n",
       "      <td>5403030</td>\n",
       "      <td>1942</td>\n",
       "      <td>los angeles</td>\n",
       "      <td>72.0</td>\n",
       "      <td>west</td>\n",
       "      <td>0</td>\n",
       "      <td>clear</td>\n",
       "      <td>None</td>\n",
       "      <td>fatal</td>\n",
       "      <td>3</td>\n",
       "      <td>other improper driving</td>\n",
       "      <td>other improper driving</td>\n",
       "      <td>rear end</td>\n",
       "      <td>None</td>\n",
       "      <td>dry</td>\n",
       "      <td>normal</td>\n",
       "      <td>dusk or dawn</td>\n",
       "      <td>functioning</td>\n",
       "      <td>2012-01-19</td>\n",
       "      <td>05:45:00</td>\n",
       "    </tr>\n",
       "    <tr>\n",
       "      <th>8</th>\n",
       "      <td>5403031</td>\n",
       "      <td>1500</td>\n",
       "      <td>kern</td>\n",
       "      <td>550.0</td>\n",
       "      <td>east</td>\n",
       "      <td>0</td>\n",
       "      <td>clear</td>\n",
       "      <td>highway</td>\n",
       "      <td>fatal</td>\n",
       "      <td>1</td>\n",
       "      <td>vehicle code violation</td>\n",
       "      <td>dui</td>\n",
       "      <td>hit object</td>\n",
       "      <td>fixed object</td>\n",
       "      <td>dry</td>\n",
       "      <td>normal</td>\n",
       "      <td>dusk or dawn</td>\n",
       "      <td>none</td>\n",
       "      <td>2012-01-13</td>\n",
       "      <td>06:05:00</td>\n",
       "    </tr>\n",
       "    <tr>\n",
       "      <th>9</th>\n",
       "      <td>5403033</td>\n",
       "      <td>3711</td>\n",
       "      <td>san diego</td>\n",
       "      <td>444.0</td>\n",
       "      <td>north</td>\n",
       "      <td>0</td>\n",
       "      <td>clear</td>\n",
       "      <td>None</td>\n",
       "      <td>fatal</td>\n",
       "      <td>1</td>\n",
       "      <td>vehicle code violation</td>\n",
       "      <td>improper turning</td>\n",
       "      <td>hit object</td>\n",
       "      <td>fixed object</td>\n",
       "      <td>dry</td>\n",
       "      <td>normal</td>\n",
       "      <td>dark with no street lights</td>\n",
       "      <td>none</td>\n",
       "      <td>2012-01-01</td>\n",
       "      <td>19:32:00</td>\n",
       "    </tr>\n",
       "  </tbody>\n",
       "</table>\n",
       "</div>"
      ],
      "text/plain": [
       "   case_id county_city_location county_location  distance direction  \\\n",
       "0  4750401                 0103         alameda       0.0      None   \n",
       "1  5087612                 3300       riverside     450.0     north   \n",
       "2  5125192                 4312     santa clara      30.0     south   \n",
       "3  5457328                 3711       san diego       5.0      west   \n",
       "4  5356548                 3400      sacramento      10.0     south   \n",
       "5  5356550                 1942     los angeles       0.0      None   \n",
       "6  5403029                 4313     santa clara       0.0      None   \n",
       "7  5403030                 1942     los angeles      72.0      west   \n",
       "8  5403031                 1500            kern     550.0      east   \n",
       "9  5403033                 3711       san diego     444.0     north   \n",
       "\n",
       "   intersection weather_1 location_type collision_damage  party_count  \\\n",
       "0             1    cloudy          None          scratch            2   \n",
       "1             0     clear          ramp          scratch            2   \n",
       "2             0    cloudy          None     small damage            2   \n",
       "3             0     clear          None    middle damage            2   \n",
       "4             0     clear          None          scratch            2   \n",
       "5             1     clear          None          scratch            2   \n",
       "6             1       fog          None            fatal            3   \n",
       "7             0     clear          None            fatal            3   \n",
       "8             0     clear       highway            fatal            1   \n",
       "9             0     clear          None            fatal            1   \n",
       "\n",
       "  primary_collision_factor      pcf_violation_category type_of_collision  \\\n",
       "0   vehicle code violation   traffic signals and signs         broadside   \n",
       "1   vehicle code violation                         dui          rear end   \n",
       "2   vehicle code violation  unsafe starting or backing             other   \n",
       "3                     None                        None         broadside   \n",
       "4   vehicle code violation   other hazardous violation             other   \n",
       "5   vehicle code violation   traffic signals and signs         broadside   \n",
       "6   vehicle code violation     automobile right of way         broadside   \n",
       "7   other improper driving      other improper driving          rear end   \n",
       "8   vehicle code violation                         dui        hit object   \n",
       "9   vehicle code violation            improper turning        hit object   \n",
       "\n",
       "  motor_vehicle_involved_with road_surface road_condition_1  \\\n",
       "0         other motor vehicle          wet           normal   \n",
       "1         other motor vehicle          dry           normal   \n",
       "2        parked motor vehicle          dry           normal   \n",
       "3                     bicycle          dry           normal   \n",
       "4                     bicycle          dry           normal   \n",
       "5         other motor vehicle          dry           normal   \n",
       "6         other motor vehicle          wet           normal   \n",
       "7                        None          dry           normal   \n",
       "8                fixed object          dry           normal   \n",
       "9                fixed object          dry           normal   \n",
       "\n",
       "                                  lighting control_device collision_date  \\\n",
       "0                                 daylight    functioning     2012-04-10   \n",
       "1  dark with street lights not functioning           none     2012-01-15   \n",
       "2                                 daylight    functioning     2012-03-16   \n",
       "3                                 daylight           none     2012-01-20   \n",
       "4                                 daylight    functioning     2012-10-19   \n",
       "5                                 daylight    functioning     2012-09-28   \n",
       "6                                 daylight           None     2012-01-03   \n",
       "7                             dusk or dawn    functioning     2012-01-19   \n",
       "8                             dusk or dawn           none     2012-01-13   \n",
       "9               dark with no street lights           none     2012-01-01   \n",
       "\n",
       "  collision_time  \n",
       "0       13:47:00  \n",
       "1       20:23:00  \n",
       "2       14:35:00  \n",
       "3       13:30:00  \n",
       "4       16:50:00  \n",
       "5       15:00:00  \n",
       "6       07:29:00  \n",
       "7       05:45:00  \n",
       "8       06:05:00  \n",
       "9       19:32:00  "
      ]
     },
     "execution_count": 7,
     "metadata": {},
     "output_type": "execute_result"
    }
   ],
   "source": [
    "query = '''\n",
    "SELECT *\n",
    "FROM collisions\n",
    "WHERE EXTRACT(YEAR FROM collision_date::date) = 2012\n",
    "LIMIT 10\n",
    "'''\n",
    "pd.read_sql_query(query, con=engine)"
   ]
  },
  {
   "cell_type": "code",
   "execution_count": 8,
   "id": "0b3f3a44",
   "metadata": {},
   "outputs": [
    {
     "data": {
      "text/html": [
       "<div>\n",
       "<style scoped>\n",
       "    .dataframe tbody tr th:only-of-type {\n",
       "        vertical-align: middle;\n",
       "    }\n",
       "\n",
       "    .dataframe tbody tr th {\n",
       "        vertical-align: top;\n",
       "    }\n",
       "\n",
       "    .dataframe thead th {\n",
       "        text-align: right;\n",
       "    }\n",
       "</style>\n",
       "<table border=\"1\" class=\"dataframe\">\n",
       "  <thead>\n",
       "    <tr style=\"text-align: right;\">\n",
       "      <th></th>\n",
       "      <th>case_id</th>\n",
       "      <th>party_number</th>\n",
       "      <th>party_type</th>\n",
       "      <th>at_fault</th>\n",
       "      <th>insurance_premium</th>\n",
       "      <th>party_sobriety</th>\n",
       "      <th>party_drug_physical</th>\n",
       "      <th>cellphone_in_use</th>\n",
       "    </tr>\n",
       "    <tr>\n",
       "      <th>id</th>\n",
       "      <th></th>\n",
       "      <th></th>\n",
       "      <th></th>\n",
       "      <th></th>\n",
       "      <th></th>\n",
       "      <th></th>\n",
       "      <th></th>\n",
       "      <th></th>\n",
       "    </tr>\n",
       "  </thead>\n",
       "  <tbody>\n",
       "    <tr>\n",
       "      <th>29</th>\n",
       "      <td>3899462</td>\n",
       "      <td>2</td>\n",
       "      <td>car</td>\n",
       "      <td>0</td>\n",
       "      <td>21.0</td>\n",
       "      <td>had not been drinking</td>\n",
       "      <td>None</td>\n",
       "      <td>0</td>\n",
       "    </tr>\n",
       "    <tr>\n",
       "      <th>142</th>\n",
       "      <td>3982898</td>\n",
       "      <td>2</td>\n",
       "      <td>car</td>\n",
       "      <td>0</td>\n",
       "      <td>71.0</td>\n",
       "      <td>had not been drinking</td>\n",
       "      <td>None</td>\n",
       "      <td>0</td>\n",
       "    </tr>\n",
       "    <tr>\n",
       "      <th>171</th>\n",
       "      <td>3982914</td>\n",
       "      <td>2</td>\n",
       "      <td>car</td>\n",
       "      <td>0</td>\n",
       "      <td>43.0</td>\n",
       "      <td>had not been drinking</td>\n",
       "      <td>None</td>\n",
       "      <td>1</td>\n",
       "    </tr>\n",
       "    <tr>\n",
       "      <th>290</th>\n",
       "      <td>3984348</td>\n",
       "      <td>2</td>\n",
       "      <td>car</td>\n",
       "      <td>0</td>\n",
       "      <td>NaN</td>\n",
       "      <td>impairment unknown</td>\n",
       "      <td>G</td>\n",
       "      <td>0</td>\n",
       "    </tr>\n",
       "    <tr>\n",
       "      <th>397</th>\n",
       "      <td>3987634</td>\n",
       "      <td>1</td>\n",
       "      <td>car</td>\n",
       "      <td>1</td>\n",
       "      <td>54.0</td>\n",
       "      <td>had not been drinking</td>\n",
       "      <td>None</td>\n",
       "      <td>0</td>\n",
       "    </tr>\n",
       "    <tr>\n",
       "      <th>623</th>\n",
       "      <td>3990318</td>\n",
       "      <td>2</td>\n",
       "      <td>car</td>\n",
       "      <td>0</td>\n",
       "      <td>49.0</td>\n",
       "      <td>had not been drinking</td>\n",
       "      <td>None</td>\n",
       "      <td>0</td>\n",
       "    </tr>\n",
       "    <tr>\n",
       "      <th>812</th>\n",
       "      <td>3995210</td>\n",
       "      <td>1</td>\n",
       "      <td>car</td>\n",
       "      <td>1</td>\n",
       "      <td>32.0</td>\n",
       "      <td>had not been drinking</td>\n",
       "      <td>None</td>\n",
       "      <td>0</td>\n",
       "    </tr>\n",
       "    <tr>\n",
       "      <th>839</th>\n",
       "      <td>3995242</td>\n",
       "      <td>1</td>\n",
       "      <td>car</td>\n",
       "      <td>0</td>\n",
       "      <td>64.0</td>\n",
       "      <td>had not been drinking</td>\n",
       "      <td>None</td>\n",
       "      <td>0</td>\n",
       "    </tr>\n",
       "    <tr>\n",
       "      <th>893</th>\n",
       "      <td>3996586</td>\n",
       "      <td>1</td>\n",
       "      <td>car</td>\n",
       "      <td>1</td>\n",
       "      <td>46.0</td>\n",
       "      <td>had not been drinking</td>\n",
       "      <td>None</td>\n",
       "      <td>0</td>\n",
       "    </tr>\n",
       "    <tr>\n",
       "      <th>978</th>\n",
       "      <td>4000533</td>\n",
       "      <td>1</td>\n",
       "      <td>car</td>\n",
       "      <td>1</td>\n",
       "      <td>NaN</td>\n",
       "      <td>impairment unknown</td>\n",
       "      <td>G</td>\n",
       "      <td>0</td>\n",
       "    </tr>\n",
       "  </tbody>\n",
       "</table>\n",
       "</div>"
      ],
      "text/plain": [
       "     case_id  party_number party_type  at_fault  insurance_premium  \\\n",
       "id                                                                   \n",
       "29   3899462             2        car         0               21.0   \n",
       "142  3982898             2        car         0               71.0   \n",
       "171  3982914             2        car         0               43.0   \n",
       "290  3984348             2        car         0                NaN   \n",
       "397  3987634             1        car         1               54.0   \n",
       "623  3990318             2        car         0               49.0   \n",
       "812  3995210             1        car         1               32.0   \n",
       "839  3995242             1        car         0               64.0   \n",
       "893  3996586             1        car         1               46.0   \n",
       "978  4000533             1        car         1                NaN   \n",
       "\n",
       "            party_sobriety party_drug_physical  cellphone_in_use  \n",
       "id                                                                \n",
       "29   had not been drinking                None                 0  \n",
       "142  had not been drinking                None                 0  \n",
       "171  had not been drinking                None                 1  \n",
       "290     impairment unknown                   G                 0  \n",
       "397  had not been drinking                None                 0  \n",
       "623  had not been drinking                None                 0  \n",
       "812  had not been drinking                None                 0  \n",
       "839  had not been drinking                None                 0  \n",
       "893  had not been drinking                None                 0  \n",
       "978     impairment unknown                   G                 0  "
      ]
     },
     "execution_count": 8,
     "metadata": {},
     "output_type": "execute_result"
    }
   ],
   "source": [
    "query = '''\n",
    "SELECT *\n",
    "FROM parties\n",
    "WHERE party_type = 'car'\n",
    "LIMIT 10\n",
    "'''\n",
    "pd.read_sql_query(query, con=engine, index_col='id')"
   ]
  },
  {
   "cell_type": "markdown",
   "id": "297e43ff",
   "metadata": {},
   "source": [
    "**Вывод**\n",
    "<br>Все таблицы рабочие. Таблица case_ids не потребуется. Все таблицы связаны по ключу case_id. Условия: тип виновника — только машина (car) и данныe за 2012 год возможно соблюсти. Описаание таблиц не соответствует самим таблицам (например поле CONTROL_CONDITION_1 из описания не имеется в таблице collisions)"
   ]
  },
  {
   "cell_type": "markdown",
   "id": "8beaa986",
   "metadata": {},
   "source": [
    "##  Проведите статистический анализ факторов ДТП"
   ]
  },
  {
   "cell_type": "code",
   "execution_count": 9,
   "id": "943aa5d1",
   "metadata": {},
   "outputs": [
    {
     "data": {
      "image/png": "[encoded data removed]",
      "text/plain": [
       "<Figure size 432x288 with 1 Axes>"
      ]
     },
     "metadata": {
      "needs_background": "light"
     },
     "output_type": "display_data"
    },
    {
     "data": {
      "image/png": "[encoded data removed]",
      "text/plain": [
       "<Figure size 432x288 with 1 Axes>"
      ]
     },
     "metadata": {
      "needs_background": "light"
     },
     "output_type": "display_data"
    },
    {
     "data": {
      "image/png": "[encoded data removed]",
      "text/plain": [
       "<Figure size 432x288 with 1 Axes>"
      ]
     },
     "metadata": {
      "needs_background": "light"
     },
     "output_type": "display_data"
    },
    {
     "data": {
      "image/png": "[encoded data removed]",
      "text/plain": [
       "<Figure size 432x288 with 1 Axes>"
      ]
     },
     "metadata": {
      "needs_background": "light"
     },
     "output_type": "display_data"
    },
    {
     "data": {
      "image/png": "[encoded data removed]",
      "text/plain": [
       "<Figure size 432x288 with 1 Axes>"
      ]
     },
     "metadata": {
      "needs_background": "light"
     },
     "output_type": "display_data"
    },
    {
     "data": {
      "image/png": "[encoded data removed]",
      "text/plain": [
       "<Figure size 432x288 with 1 Axes>"
      ]
     },
     "metadata": {
      "needs_background": "light"
     },
     "output_type": "display_data"
    }
   ],
   "source": [
    "# выясним, в какие месяцы происходит наибольшее количество аварий\n",
    "\n",
    "query = '''\n",
    "SELECT CAST(EXTRACT(MONTH FROM collision_date::date) AS int) AS month_of_crash,\n",
    "       CAST(EXTRACT(YEAR FROM collision_date::date) AS int) AS year_of_crash,\n",
    "       COUNT(case_id)\n",
    "FROM collisions\n",
    "GROUP BY EXTRACT(YEAR FROM collision_date::date), EXTRACT(MONTH FROM collision_date::date)\n",
    "'''\n",
    "\n",
    "temp = pd.read_sql_query(query, con=engine, index_col='year_of_crash')\n",
    "\n",
    "for year in temp.index.unique().to_list():\n",
    "    t = temp[temp.index == year]\n",
    "    t.plot(kind='bar', \n",
    "           x='month_of_crash',\n",
    "           title=f'Количество аварий за {year} год',\n",
    "           xlabel='Номер месяца',\n",
    "           ylabel='Количество аварий')\n",
    "plt.xticks(rotation=90);"
   ]
  },
  {
   "cell_type": "markdown",
   "id": "0bd09b2c",
   "metadata": {},
   "source": [
    "Начиная с 2012 года в БД начали попадать не все данные, поскольку, судя по данным, с июня 2012 года аварий практически не происходило. Судя по полным данным реже всего происходили аварии в январе, феврале и июне, а чаще всего в марте и октябре и декабре."
   ]
  },
  {
   "cell_type": "markdown",
   "id": "73db2bc8",
   "metadata": {},
   "source": [
    "Составим задачи для коллег-аналитиков:\n",
    "1. Узнать, у каких типов автомобилей выше процент аварий кроме царапин(таблицы collisions и vehicles);\n",
    "2. Как страховка зависит от возраста автомобиля (таблицы parties и vehicles);\n",
    "2. Проведите анализ серьёзности повреждений транспортного средства, исходя из состояния дороги в момент ДТП (таблицы collisions и parties);\n",
    "3. Найдите самые частые причины ДТП (таблица parties);\n",
    "4. Узнать, в какую погоду аварии происходят чаще (таблица collisions);\n",
    "5. Найдите самые частые последствия аварии (таблица collisions);\n",
    "6. Кто чаще всего выступает вторым участником происшествия (таблица collisions).\n",
    "\n",
    "<br> Решим для примера задачу №1:"
   ]
  },
  {
   "cell_type": "code",
   "execution_count": 10,
   "id": "f6d0c4a3",
   "metadata": {},
   "outputs": [
    {
     "data": {
      "text/html": [
       "<div>\n",
       "<style scoped>\n",
       "    .dataframe tbody tr th:only-of-type {\n",
       "        vertical-align: middle;\n",
       "    }\n",
       "\n",
       "    .dataframe tbody tr th {\n",
       "        vertical-align: top;\n",
       "    }\n",
       "\n",
       "    .dataframe thead th {\n",
       "        text-align: right;\n",
       "    }\n",
       "</style>\n",
       "<table border=\"1\" class=\"dataframe\">\n",
       "  <thead>\n",
       "    <tr style=\"text-align: right;\">\n",
       "      <th></th>\n",
       "      <th>crash_count</th>\n",
       "      <th>count_cars</th>\n",
       "      <th>precent_cases</th>\n",
       "    </tr>\n",
       "    <tr>\n",
       "      <th>vehicle_type</th>\n",
       "      <th></th>\n",
       "      <th></th>\n",
       "      <th></th>\n",
       "    </tr>\n",
       "  </thead>\n",
       "  <tbody>\n",
       "    <tr>\n",
       "      <th>minivan</th>\n",
       "      <td>25687</td>\n",
       "      <td>43000</td>\n",
       "      <td>59.737209</td>\n",
       "    </tr>\n",
       "    <tr>\n",
       "      <th>hatchback</th>\n",
       "      <td>26240</td>\n",
       "      <td>45595</td>\n",
       "      <td>57.550170</td>\n",
       "    </tr>\n",
       "    <tr>\n",
       "      <th>sedan</th>\n",
       "      <td>344456</td>\n",
       "      <td>488665</td>\n",
       "      <td>70.489190</td>\n",
       "    </tr>\n",
       "    <tr>\n",
       "      <th>coupe</th>\n",
       "      <td>164209</td>\n",
       "      <td>442780</td>\n",
       "      <td>37.085912</td>\n",
       "    </tr>\n",
       "    <tr>\n",
       "      <th>other</th>\n",
       "      <td>583</td>\n",
       "      <td>1194</td>\n",
       "      <td>48.827471</td>\n",
       "    </tr>\n",
       "  </tbody>\n",
       "</table>\n",
       "</div>"
      ],
      "text/plain": [
       "              crash_count  count_cars  precent_cases\n",
       "vehicle_type                                        \n",
       "minivan             25687       43000      59.737209\n",
       "hatchback           26240       45595      57.550170\n",
       "sedan              344456      488665      70.489190\n",
       "coupe              164209      442780      37.085912\n",
       "other                 583        1194      48.827471"
      ]
     },
     "execution_count": 10,
     "metadata": {},
     "output_type": "execute_result"
    }
   ],
   "source": [
    "query = '''\n",
    "WITH t AS (SELECT v.vehicle_type,\n",
    "                  COUNT(v.case_id) crash_count\n",
    "           FROM collisions с\n",
    "           JOIN vehicles v ON с.case_id = v.case_id\n",
    "           WHERE collision_damage != 'scratch'\n",
    "           GROUP BY v.vehicle_type)\n",
    "           \n",
    "SELECT t.vehicle_type,\n",
    "       t.crash_count,\n",
    "       COUNT(v.case_id) count_cars,\n",
    "       t.crash_count::float / COUNT(v.case_id)::float * 100 precent_cases\n",
    "FROM t\n",
    "JOIN vehicles v ON t.vehicle_type = v.vehicle_type\n",
    "GROUP BY t.vehicle_type, t.crash_count\n",
    "'''\n",
    "\n",
    "temp = pd.read_sql_query(query, con=engine, index_col='vehicle_type')\n",
    "temp"
   ]
  },
  {
   "cell_type": "code",
   "execution_count": 11,
   "id": "d603a743",
   "metadata": {},
   "outputs": [
    {
     "data": {
      "image/png": "[encoded data removed]",
      "text/plain": [
       "<Figure size 648x504 with 1 Axes>"
      ]
     },
     "metadata": {
      "needs_background": "light"
     },
     "output_type": "display_data"
    }
   ],
   "source": [
    "temp['precent_cases'].plot(kind='bar',\n",
    "                           grid=True, \n",
    "                           figsize=(9, 7),\n",
    "                           title='Процент попадания в серьезную аварию',\n",
    "                           xlabel='Тип кузова',\n",
    "                           ylabel='Процент аварий')\n",
    "plt.xticks(rotation=0);"
   ]
  },
  {
   "cell_type": "markdown",
   "id": "883d8bde",
   "metadata": {},
   "source": [
    "Из построенной диаграммы видно, что наиболее часто в серьезные аварии попадают автомобили типа сидан. Наименее часто купе."
   ]
  },
  {
   "cell_type": "markdown",
   "id": "58fe9344",
   "metadata": {},
   "source": [
    "Решим задачу №2:"
   ]
  },
  {
   "cell_type": "code",
   "execution_count": 12,
   "id": "37db493b",
   "metadata": {},
   "outputs": [],
   "source": [
    "query = '''\n",
    "SELECT CAST(v.vehicle_age AS int),\n",
    "       AVG(p.insurance_premium) insurance_premium\n",
    "FROM vehicles v\n",
    "JOIN parties p ON v.case_id = p.case_id\n",
    "WHERE v.vehicle_age IS NOT NULL\n",
    "GROUP BY v.vehicle_age\n",
    "'''\n",
    "\n",
    "temp = pd.read_sql_query(query, con=engine, index_col='vehicle_age')"
   ]
  },
  {
   "cell_type": "code",
   "execution_count": 13,
   "id": "e1a5b110",
   "metadata": {},
   "outputs": [
    {
     "data": {
      "image/png": "[encoded data removed]",
      "text/plain": [
       "<Figure size 648x504 with 1 Axes>"
      ]
     },
     "metadata": {
      "needs_background": "light"
     },
     "output_type": "display_data"
    }
   ],
   "source": [
    "temp['insurance_premium'].plot(kind='bar',\n",
    "                               grid=True, \n",
    "                               figsize=(9, 7),\n",
    "                               title='Средний размер страховки для возраста автомобиля',\n",
    "                               xlabel='Возраст автомобиля, год',\n",
    "                               ylabel='Размер страховки, тыс.долл')\n",
    "plt.xticks(rotation=0);"
   ]
  },
  {
   "cell_type": "markdown",
   "id": "1f725af2",
   "metadata": {},
   "source": [
    "Как видно, как правило с повышением возраста автомобиля повышается и страховка, но это правило действует только для автомобилей от 2 до 15 лет С 16 до 20 лет страховка скорее понижается. Также имеется аномально высокий возраст авто - 161 год, что является выбросом."
   ]
  },
  {
   "cell_type": "markdown",
   "id": "0bc88b95",
   "metadata": {},
   "source": [
    "**Вывод**\n",
    "<br>По представленным данным видно, что в базу данных попало мало случаев аварий с июня по декабрь 2012 года. Либо данные были утеряны, либо в этот период не собирались вовсе. Для коллег-аналитиков был составлен ряд задач:\n",
    "1. Узнать, у каких типов автомобилей выше процент аварий кроме царапин(таблицы collisions и vehicles);\n",
    "2. Как страховка зависит от возраста автомобиля (таблицы parties и vehicles);\n",
    "3. Проведите анализ серьёзности повреждений транспортного средства, исходя из состояния дороги в момент ДТП (таблицы collisions и parties);\n",
    "4. Найдите самые частые причины ДТП (таблица parties);\n",
    "5. Узнать, в какую погоду аварии происходят чаще (таблица collisions);\n",
    "6. Найдите самые частые последствия аварии (таблица collisions);\n",
    "7. Кто чаще всего выступает вторым участником происшествия (таблица collisions).\n",
    "\n",
    "Например, решив первую задачу можно сделать вывод, что наиболее часто в серьезные аварии попадают автомобили типа сидан. Наименее часто купе. Решив вторую задачу, можно придти к выводу, что с повышением возраста автомобиля повышается и страховка, но это правило действует только для автомобилей от 2 до 15 лет С 16 до 20 лет страховка скорее понижается. Также имеется аномально высокий возраст авто - 161 год, что является мало вероятным событием."
   ]
  },
  {
   "cell_type": "markdown",
   "id": "4cf77153",
   "metadata": {},
   "source": [
    "## Выбор и обработка признаков для модели"
   ]
  },
  {
   "cell_type": "markdown",
   "id": "74567747",
   "metadata": {},
   "source": [
    "Подготовим набор данных на основе первичного предположения заказчика:\n",
    "1. Тип виновника — только машина (car);\n",
    "2. ДТП привело к любым значимым повреждениям автомобиля любого из участников кроме типа SCRATCH (царапина);\n",
    "3. Взять данные только за 2012 год."
   ]
  },
  {
   "cell_type": "code",
   "execution_count": 14,
   "id": "f9c70b47",
   "metadata": {},
   "outputs": [],
   "source": [
    "query = '''\n",
    "SELECT *, \n",
    "       EXTRACT (HOUR FROM collision_time) collision_hour,\n",
    "       p.party_number party_number_p,\n",
    "       v.party_number party_number_v\n",
    "FROM collisions c\n",
    "JOIN vehicles v ON c.case_id = v.case_id\n",
    "JOIN parties p ON (v.case_id = p.case_id AND v.party_number = p.party_number)\n",
    "\n",
    "WHERE party_type = 'car' AND \n",
    "      EXTRACT(YEAR FROM collision_date::date) = 2012 AND\n",
    "      collision_damage != 'scratch'\n",
    "'''\n",
    "\n",
    "data = pd.read_sql_query(query, con=engine)\n",
    "pd.set_option('display.max_columns', None)\n"
   ]
  },
  {
   "cell_type": "code",
   "execution_count": 15,
   "id": "86b9c917",
   "metadata": {},
   "outputs": [
    {
     "data": {
      "text/html": [
       "<div>\n",
       "<style scoped>\n",
       "    .dataframe tbody tr th:only-of-type {\n",
       "        vertical-align: middle;\n",
       "    }\n",
       "\n",
       "    .dataframe tbody tr th {\n",
       "        vertical-align: top;\n",
       "    }\n",
       "\n",
       "    .dataframe thead th {\n",
       "        text-align: right;\n",
       "    }\n",
       "</style>\n",
       "<table border=\"1\" class=\"dataframe\">\n",
       "  <thead>\n",
       "    <tr style=\"text-align: right;\">\n",
       "      <th></th>\n",
       "      <th>case_id</th>\n",
       "      <th>county_city_location</th>\n",
       "      <th>county_location</th>\n",
       "      <th>distance</th>\n",
       "      <th>direction</th>\n",
       "      <th>intersection</th>\n",
       "      <th>weather_1</th>\n",
       "      <th>location_type</th>\n",
       "      <th>collision_damage</th>\n",
       "      <th>party_count</th>\n",
       "      <th>primary_collision_factor</th>\n",
       "      <th>pcf_violation_category</th>\n",
       "      <th>type_of_collision</th>\n",
       "      <th>motor_vehicle_involved_with</th>\n",
       "      <th>road_surface</th>\n",
       "      <th>road_condition_1</th>\n",
       "      <th>lighting</th>\n",
       "      <th>control_device</th>\n",
       "      <th>collision_date</th>\n",
       "      <th>collision_time</th>\n",
       "      <th>id</th>\n",
       "      <th>case_id</th>\n",
       "      <th>party_number</th>\n",
       "      <th>vehicle_type</th>\n",
       "      <th>vehicle_transmission</th>\n",
       "      <th>vehicle_age</th>\n",
       "      <th>id</th>\n",
       "      <th>case_id</th>\n",
       "      <th>party_number</th>\n",
       "      <th>party_type</th>\n",
       "      <th>at_fault</th>\n",
       "      <th>insurance_premium</th>\n",
       "      <th>party_sobriety</th>\n",
       "      <th>party_drug_physical</th>\n",
       "      <th>cellphone_in_use</th>\n",
       "      <th>collision_hour</th>\n",
       "      <th>party_number_p</th>\n",
       "      <th>party_number_v</th>\n",
       "    </tr>\n",
       "  </thead>\n",
       "  <tbody>\n",
       "    <tr>\n",
       "      <th>0</th>\n",
       "      <td>5482705</td>\n",
       "      <td>3720</td>\n",
       "      <td>san diego</td>\n",
       "      <td>0.0</td>\n",
       "      <td>None</td>\n",
       "      <td>1.0</td>\n",
       "      <td>clear</td>\n",
       "      <td>None</td>\n",
       "      <td>small damage</td>\n",
       "      <td>2</td>\n",
       "      <td>vehicle code violation</td>\n",
       "      <td>automobile right of way</td>\n",
       "      <td>broadside</td>\n",
       "      <td>other motor vehicle</td>\n",
       "      <td>dry</td>\n",
       "      <td>normal</td>\n",
       "      <td>daylight</td>\n",
       "      <td>functioning</td>\n",
       "      <td>2012-01-26</td>\n",
       "      <td>07:40:00</td>\n",
       "      <td>1354645</td>\n",
       "      <td>5482705</td>\n",
       "      <td>1</td>\n",
       "      <td>sedan</td>\n",
       "      <td>manual</td>\n",
       "      <td>2.0</td>\n",
       "      <td>2458130</td>\n",
       "      <td>5482705</td>\n",
       "      <td>1</td>\n",
       "      <td>car</td>\n",
       "      <td>1</td>\n",
       "      <td>31.0</td>\n",
       "      <td>had not been drinking</td>\n",
       "      <td>None</td>\n",
       "      <td>0.0</td>\n",
       "      <td>7.0</td>\n",
       "      <td>1</td>\n",
       "      <td>1</td>\n",
       "    </tr>\n",
       "    <tr>\n",
       "      <th>1</th>\n",
       "      <td>5449062</td>\n",
       "      <td>0708</td>\n",
       "      <td>contra costa</td>\n",
       "      <td>21.0</td>\n",
       "      <td>east</td>\n",
       "      <td>0.0</td>\n",
       "      <td>clear</td>\n",
       "      <td>None</td>\n",
       "      <td>small damage</td>\n",
       "      <td>2</td>\n",
       "      <td>vehicle code violation</td>\n",
       "      <td>dui</td>\n",
       "      <td>rear end</td>\n",
       "      <td>other motor vehicle</td>\n",
       "      <td>dry</td>\n",
       "      <td>normal</td>\n",
       "      <td>dark with street lights</td>\n",
       "      <td>functioning</td>\n",
       "      <td>2012-01-15</td>\n",
       "      <td>02:00:00</td>\n",
       "      <td>1320506</td>\n",
       "      <td>5449062</td>\n",
       "      <td>2</td>\n",
       "      <td>sedan</td>\n",
       "      <td>manual</td>\n",
       "      <td>10.0</td>\n",
       "      <td>2395824</td>\n",
       "      <td>5449062</td>\n",
       "      <td>2</td>\n",
       "      <td>car</td>\n",
       "      <td>0</td>\n",
       "      <td>54.0</td>\n",
       "      <td>had not been drinking</td>\n",
       "      <td>None</td>\n",
       "      <td>0.0</td>\n",
       "      <td>2.0</td>\n",
       "      <td>2</td>\n",
       "      <td>2</td>\n",
       "    </tr>\n",
       "    <tr>\n",
       "      <th>2</th>\n",
       "      <td>5600850</td>\n",
       "      <td>5604</td>\n",
       "      <td>ventura</td>\n",
       "      <td>150.0</td>\n",
       "      <td>north</td>\n",
       "      <td>0.0</td>\n",
       "      <td>clear</td>\n",
       "      <td>highway</td>\n",
       "      <td>small damage</td>\n",
       "      <td>2</td>\n",
       "      <td>vehicle code violation</td>\n",
       "      <td>improper turning</td>\n",
       "      <td>sideswipe</td>\n",
       "      <td>other motor vehicle</td>\n",
       "      <td>dry</td>\n",
       "      <td>normal</td>\n",
       "      <td>daylight</td>\n",
       "      <td>none</td>\n",
       "      <td>2012-04-19</td>\n",
       "      <td>12:44:00</td>\n",
       "      <td>1465119</td>\n",
       "      <td>5600850</td>\n",
       "      <td>2</td>\n",
       "      <td>sedan</td>\n",
       "      <td>auto</td>\n",
       "      <td>NaN</td>\n",
       "      <td>2659554</td>\n",
       "      <td>5600850</td>\n",
       "      <td>2</td>\n",
       "      <td>car</td>\n",
       "      <td>0</td>\n",
       "      <td>NaN</td>\n",
       "      <td>impairment unknown</td>\n",
       "      <td>G</td>\n",
       "      <td>0.0</td>\n",
       "      <td>12.0</td>\n",
       "      <td>2</td>\n",
       "      <td>2</td>\n",
       "    </tr>\n",
       "    <tr>\n",
       "      <th>3</th>\n",
       "      <td>5600893</td>\n",
       "      <td>2908</td>\n",
       "      <td>nevada</td>\n",
       "      <td>190.0</td>\n",
       "      <td>east</td>\n",
       "      <td>0.0</td>\n",
       "      <td>clear</td>\n",
       "      <td>None</td>\n",
       "      <td>small damage</td>\n",
       "      <td>1</td>\n",
       "      <td>vehicle code violation</td>\n",
       "      <td>dui</td>\n",
       "      <td>hit object</td>\n",
       "      <td>other object</td>\n",
       "      <td>dry</td>\n",
       "      <td>normal</td>\n",
       "      <td>dark with no street lights</td>\n",
       "      <td>none</td>\n",
       "      <td>2012-04-21</td>\n",
       "      <td>00:50:00</td>\n",
       "      <td>1465137</td>\n",
       "      <td>5600893</td>\n",
       "      <td>1</td>\n",
       "      <td>sedan</td>\n",
       "      <td>auto</td>\n",
       "      <td>6.0</td>\n",
       "      <td>2659617</td>\n",
       "      <td>5600893</td>\n",
       "      <td>1</td>\n",
       "      <td>car</td>\n",
       "      <td>1</td>\n",
       "      <td>38.0</td>\n",
       "      <td>had been drinking, under influence</td>\n",
       "      <td>None</td>\n",
       "      <td>0.0</td>\n",
       "      <td>0.0</td>\n",
       "      <td>1</td>\n",
       "      <td>1</td>\n",
       "    </tr>\n",
       "    <tr>\n",
       "      <th>4</th>\n",
       "      <td>5603123</td>\n",
       "      <td>1600</td>\n",
       "      <td>kings</td>\n",
       "      <td>2640.0</td>\n",
       "      <td>east</td>\n",
       "      <td>0.0</td>\n",
       "      <td>cloudy</td>\n",
       "      <td>highway</td>\n",
       "      <td>small damage</td>\n",
       "      <td>2</td>\n",
       "      <td>vehicle code violation</td>\n",
       "      <td>unsafe lane change</td>\n",
       "      <td>sideswipe</td>\n",
       "      <td>other motor vehicle</td>\n",
       "      <td>wet</td>\n",
       "      <td>normal</td>\n",
       "      <td>daylight</td>\n",
       "      <td>none</td>\n",
       "      <td>2012-04-13</td>\n",
       "      <td>14:34:00</td>\n",
       "      <td>1466829</td>\n",
       "      <td>5603123</td>\n",
       "      <td>1</td>\n",
       "      <td>sedan</td>\n",
       "      <td>auto</td>\n",
       "      <td>11.0</td>\n",
       "      <td>2662923</td>\n",
       "      <td>5603123</td>\n",
       "      <td>1</td>\n",
       "      <td>car</td>\n",
       "      <td>1</td>\n",
       "      <td>20.0</td>\n",
       "      <td>had not been drinking</td>\n",
       "      <td>None</td>\n",
       "      <td>0.0</td>\n",
       "      <td>14.0</td>\n",
       "      <td>1</td>\n",
       "      <td>1</td>\n",
       "    </tr>\n",
       "    <tr>\n",
       "      <th>...</th>\n",
       "      <td>...</td>\n",
       "      <td>...</td>\n",
       "      <td>...</td>\n",
       "      <td>...</td>\n",
       "      <td>...</td>\n",
       "      <td>...</td>\n",
       "      <td>...</td>\n",
       "      <td>...</td>\n",
       "      <td>...</td>\n",
       "      <td>...</td>\n",
       "      <td>...</td>\n",
       "      <td>...</td>\n",
       "      <td>...</td>\n",
       "      <td>...</td>\n",
       "      <td>...</td>\n",
       "      <td>...</td>\n",
       "      <td>...</td>\n",
       "      <td>...</td>\n",
       "      <td>...</td>\n",
       "      <td>...</td>\n",
       "      <td>...</td>\n",
       "      <td>...</td>\n",
       "      <td>...</td>\n",
       "      <td>...</td>\n",
       "      <td>...</td>\n",
       "      <td>...</td>\n",
       "      <td>...</td>\n",
       "      <td>...</td>\n",
       "      <td>...</td>\n",
       "      <td>...</td>\n",
       "      <td>...</td>\n",
       "      <td>...</td>\n",
       "      <td>...</td>\n",
       "      <td>...</td>\n",
       "      <td>...</td>\n",
       "      <td>...</td>\n",
       "      <td>...</td>\n",
       "      <td>...</td>\n",
       "    </tr>\n",
       "    <tr>\n",
       "      <th>56243</th>\n",
       "      <td>5662345</td>\n",
       "      <td>3026</td>\n",
       "      <td>orange</td>\n",
       "      <td>900.0</td>\n",
       "      <td>north</td>\n",
       "      <td>0.0</td>\n",
       "      <td>clear</td>\n",
       "      <td>highway</td>\n",
       "      <td>middle damage</td>\n",
       "      <td>4</td>\n",
       "      <td>vehicle code violation</td>\n",
       "      <td>improper turning</td>\n",
       "      <td>sideswipe</td>\n",
       "      <td>other motor vehicle</td>\n",
       "      <td>dry</td>\n",
       "      <td>normal</td>\n",
       "      <td>daylight</td>\n",
       "      <td>none</td>\n",
       "      <td>2012-05-10</td>\n",
       "      <td>17:00:00</td>\n",
       "      <td>1511570</td>\n",
       "      <td>5662345</td>\n",
       "      <td>1</td>\n",
       "      <td>coupe</td>\n",
       "      <td>manual</td>\n",
       "      <td>8.0</td>\n",
       "      <td>2741204</td>\n",
       "      <td>5662345</td>\n",
       "      <td>1</td>\n",
       "      <td>car</td>\n",
       "      <td>1</td>\n",
       "      <td>50.0</td>\n",
       "      <td>had not been drinking</td>\n",
       "      <td>None</td>\n",
       "      <td>0.0</td>\n",
       "      <td>17.0</td>\n",
       "      <td>1</td>\n",
       "      <td>1</td>\n",
       "    </tr>\n",
       "    <tr>\n",
       "      <th>56244</th>\n",
       "      <td>5662494</td>\n",
       "      <td>1942</td>\n",
       "      <td>los angeles</td>\n",
       "      <td>0.0</td>\n",
       "      <td>None</td>\n",
       "      <td>1.0</td>\n",
       "      <td>clear</td>\n",
       "      <td>None</td>\n",
       "      <td>middle damage</td>\n",
       "      <td>2</td>\n",
       "      <td>vehicle code violation</td>\n",
       "      <td>traffic signals and signs</td>\n",
       "      <td>head-on</td>\n",
       "      <td>other motor vehicle</td>\n",
       "      <td>dry</td>\n",
       "      <td>normal</td>\n",
       "      <td>daylight</td>\n",
       "      <td>functioning</td>\n",
       "      <td>2012-05-25</td>\n",
       "      <td>15:25:00</td>\n",
       "      <td>1511737</td>\n",
       "      <td>5662494</td>\n",
       "      <td>2</td>\n",
       "      <td>coupe</td>\n",
       "      <td>manual</td>\n",
       "      <td>4.0</td>\n",
       "      <td>2741471</td>\n",
       "      <td>5662494</td>\n",
       "      <td>2</td>\n",
       "      <td>car</td>\n",
       "      <td>0</td>\n",
       "      <td>30.0</td>\n",
       "      <td>had not been drinking</td>\n",
       "      <td>None</td>\n",
       "      <td>1.0</td>\n",
       "      <td>15.0</td>\n",
       "      <td>2</td>\n",
       "      <td>2</td>\n",
       "    </tr>\n",
       "    <tr>\n",
       "      <th>56245</th>\n",
       "      <td>5667033</td>\n",
       "      <td>1915</td>\n",
       "      <td>los angeles</td>\n",
       "      <td>0.0</td>\n",
       "      <td>None</td>\n",
       "      <td>1.0</td>\n",
       "      <td>clear</td>\n",
       "      <td>None</td>\n",
       "      <td>middle damage</td>\n",
       "      <td>2</td>\n",
       "      <td>vehicle code violation</td>\n",
       "      <td>traffic signals and signs</td>\n",
       "      <td>broadside</td>\n",
       "      <td>other motor vehicle</td>\n",
       "      <td>dry</td>\n",
       "      <td>normal</td>\n",
       "      <td>daylight</td>\n",
       "      <td>functioning</td>\n",
       "      <td>2012-05-24</td>\n",
       "      <td>13:07:00</td>\n",
       "      <td>1516315</td>\n",
       "      <td>5667033</td>\n",
       "      <td>2</td>\n",
       "      <td>coupe</td>\n",
       "      <td>manual</td>\n",
       "      <td>5.0</td>\n",
       "      <td>2749910</td>\n",
       "      <td>5667033</td>\n",
       "      <td>2</td>\n",
       "      <td>car</td>\n",
       "      <td>0</td>\n",
       "      <td>34.0</td>\n",
       "      <td>had not been drinking</td>\n",
       "      <td>None</td>\n",
       "      <td>0.0</td>\n",
       "      <td>13.0</td>\n",
       "      <td>2</td>\n",
       "      <td>2</td>\n",
       "    </tr>\n",
       "    <tr>\n",
       "      <th>56246</th>\n",
       "      <td>5667756</td>\n",
       "      <td>4315</td>\n",
       "      <td>santa clara</td>\n",
       "      <td>0.0</td>\n",
       "      <td>None</td>\n",
       "      <td>1.0</td>\n",
       "      <td>clear</td>\n",
       "      <td>intersection</td>\n",
       "      <td>middle damage</td>\n",
       "      <td>2</td>\n",
       "      <td>vehicle code violation</td>\n",
       "      <td>wrong side of road</td>\n",
       "      <td>broadside</td>\n",
       "      <td>other motor vehicle</td>\n",
       "      <td>dry</td>\n",
       "      <td>normal</td>\n",
       "      <td>daylight</td>\n",
       "      <td>none</td>\n",
       "      <td>2012-04-21</td>\n",
       "      <td>12:58:00</td>\n",
       "      <td>1517038</td>\n",
       "      <td>5667756</td>\n",
       "      <td>1</td>\n",
       "      <td>coupe</td>\n",
       "      <td>manual</td>\n",
       "      <td>9.0</td>\n",
       "      <td>2751279</td>\n",
       "      <td>5667756</td>\n",
       "      <td>1</td>\n",
       "      <td>car</td>\n",
       "      <td>1</td>\n",
       "      <td>61.0</td>\n",
       "      <td>had not been drinking</td>\n",
       "      <td>None</td>\n",
       "      <td>0.0</td>\n",
       "      <td>12.0</td>\n",
       "      <td>1</td>\n",
       "      <td>1</td>\n",
       "    </tr>\n",
       "    <tr>\n",
       "      <th>56247</th>\n",
       "      <td>5668208</td>\n",
       "      <td>1942</td>\n",
       "      <td>los angeles</td>\n",
       "      <td>75.0</td>\n",
       "      <td>north</td>\n",
       "      <td>0.0</td>\n",
       "      <td>clear</td>\n",
       "      <td>highway</td>\n",
       "      <td>middle damage</td>\n",
       "      <td>3</td>\n",
       "      <td>vehicle code violation</td>\n",
       "      <td>dui</td>\n",
       "      <td>rear end</td>\n",
       "      <td>other motor vehicle</td>\n",
       "      <td>dry</td>\n",
       "      <td>normal</td>\n",
       "      <td>daylight</td>\n",
       "      <td>none</td>\n",
       "      <td>2012-06-01</td>\n",
       "      <td>18:02:00</td>\n",
       "      <td>1517504</td>\n",
       "      <td>5668208</td>\n",
       "      <td>1</td>\n",
       "      <td>coupe</td>\n",
       "      <td>auto</td>\n",
       "      <td>3.0</td>\n",
       "      <td>2752090</td>\n",
       "      <td>5668208</td>\n",
       "      <td>1</td>\n",
       "      <td>car</td>\n",
       "      <td>0</td>\n",
       "      <td>20.0</td>\n",
       "      <td>had not been drinking</td>\n",
       "      <td>None</td>\n",
       "      <td>0.0</td>\n",
       "      <td>18.0</td>\n",
       "      <td>1</td>\n",
       "      <td>1</td>\n",
       "    </tr>\n",
       "  </tbody>\n",
       "</table>\n",
       "<p>56248 rows × 38 columns</p>\n",
       "</div>"
      ],
      "text/plain": [
       "       case_id county_city_location county_location  distance direction  \\\n",
       "0      5482705                 3720       san diego       0.0      None   \n",
       "1      5449062                 0708    contra costa      21.0      east   \n",
       "2      5600850                 5604         ventura     150.0     north   \n",
       "3      5600893                 2908          nevada     190.0      east   \n",
       "4      5603123                 1600           kings    2640.0      east   \n",
       "...        ...                  ...             ...       ...       ...   \n",
       "56243  5662345                 3026          orange     900.0     north   \n",
       "56244  5662494                 1942     los angeles       0.0      None   \n",
       "56245  5667033                 1915     los angeles       0.0      None   \n",
       "56246  5667756                 4315     santa clara       0.0      None   \n",
       "56247  5668208                 1942     los angeles      75.0     north   \n",
       "\n",
       "       intersection weather_1 location_type collision_damage  party_count  \\\n",
       "0               1.0     clear          None     small damage            2   \n",
       "1               0.0     clear          None     small damage            2   \n",
       "2               0.0     clear       highway     small damage            2   \n",
       "3               0.0     clear          None     small damage            1   \n",
       "4               0.0    cloudy       highway     small damage            2   \n",
       "...             ...       ...           ...              ...          ...   \n",
       "56243           0.0     clear       highway    middle damage            4   \n",
       "56244           1.0     clear          None    middle damage            2   \n",
       "56245           1.0     clear          None    middle damage            2   \n",
       "56246           1.0     clear  intersection    middle damage            2   \n",
       "56247           0.0     clear       highway    middle damage            3   \n",
       "\n",
       "      primary_collision_factor     pcf_violation_category type_of_collision  \\\n",
       "0       vehicle code violation    automobile right of way         broadside   \n",
       "1       vehicle code violation                        dui          rear end   \n",
       "2       vehicle code violation           improper turning         sideswipe   \n",
       "3       vehicle code violation                        dui        hit object   \n",
       "4       vehicle code violation         unsafe lane change         sideswipe   \n",
       "...                        ...                        ...               ...   \n",
       "56243   vehicle code violation           improper turning         sideswipe   \n",
       "56244   vehicle code violation  traffic signals and signs           head-on   \n",
       "56245   vehicle code violation  traffic signals and signs         broadside   \n",
       "56246   vehicle code violation         wrong side of road         broadside   \n",
       "56247   vehicle code violation                        dui          rear end   \n",
       "\n",
       "      motor_vehicle_involved_with road_surface road_condition_1  \\\n",
       "0             other motor vehicle          dry           normal   \n",
       "1             other motor vehicle          dry           normal   \n",
       "2             other motor vehicle          dry           normal   \n",
       "3                    other object          dry           normal   \n",
       "4             other motor vehicle          wet           normal   \n",
       "...                           ...          ...              ...   \n",
       "56243         other motor vehicle          dry           normal   \n",
       "56244         other motor vehicle          dry           normal   \n",
       "56245         other motor vehicle          dry           normal   \n",
       "56246         other motor vehicle          dry           normal   \n",
       "56247         other motor vehicle          dry           normal   \n",
       "\n",
       "                         lighting control_device collision_date  \\\n",
       "0                        daylight    functioning     2012-01-26   \n",
       "1         dark with street lights    functioning     2012-01-15   \n",
       "2                        daylight           none     2012-04-19   \n",
       "3      dark with no street lights           none     2012-04-21   \n",
       "4                        daylight           none     2012-04-13   \n",
       "...                           ...            ...            ...   \n",
       "56243                    daylight           none     2012-05-10   \n",
       "56244                    daylight    functioning     2012-05-25   \n",
       "56245                    daylight    functioning     2012-05-24   \n",
       "56246                    daylight           none     2012-04-21   \n",
       "56247                    daylight           none     2012-06-01   \n",
       "\n",
       "      collision_time       id  case_id  party_number vehicle_type  \\\n",
       "0           07:40:00  1354645  5482705             1        sedan   \n",
       "1           02:00:00  1320506  5449062             2        sedan   \n",
       "2           12:44:00  1465119  5600850             2        sedan   \n",
       "3           00:50:00  1465137  5600893             1        sedan   \n",
       "4           14:34:00  1466829  5603123             1        sedan   \n",
       "...              ...      ...      ...           ...          ...   \n",
       "56243       17:00:00  1511570  5662345             1        coupe   \n",
       "56244       15:25:00  1511737  5662494             2        coupe   \n",
       "56245       13:07:00  1516315  5667033             2        coupe   \n",
       "56246       12:58:00  1517038  5667756             1        coupe   \n",
       "56247       18:02:00  1517504  5668208             1        coupe   \n",
       "\n",
       "      vehicle_transmission  vehicle_age       id  case_id  party_number  \\\n",
       "0                   manual          2.0  2458130  5482705             1   \n",
       "1                   manual         10.0  2395824  5449062             2   \n",
       "2                     auto          NaN  2659554  5600850             2   \n",
       "3                     auto          6.0  2659617  5600893             1   \n",
       "4                     auto         11.0  2662923  5603123             1   \n",
       "...                    ...          ...      ...      ...           ...   \n",
       "56243               manual          8.0  2741204  5662345             1   \n",
       "56244               manual          4.0  2741471  5662494             2   \n",
       "56245               manual          5.0  2749910  5667033             2   \n",
       "56246               manual          9.0  2751279  5667756             1   \n",
       "56247                 auto          3.0  2752090  5668208             1   \n",
       "\n",
       "      party_type  at_fault  insurance_premium  \\\n",
       "0            car         1               31.0   \n",
       "1            car         0               54.0   \n",
       "2            car         0                NaN   \n",
       "3            car         1               38.0   \n",
       "4            car         1               20.0   \n",
       "...          ...       ...                ...   \n",
       "56243        car         1               50.0   \n",
       "56244        car         0               30.0   \n",
       "56245        car         0               34.0   \n",
       "56246        car         1               61.0   \n",
       "56247        car         0               20.0   \n",
       "\n",
       "                           party_sobriety party_drug_physical  \\\n",
       "0                   had not been drinking                None   \n",
       "1                   had not been drinking                None   \n",
       "2                      impairment unknown                   G   \n",
       "3      had been drinking, under influence                None   \n",
       "4                   had not been drinking                None   \n",
       "...                                   ...                 ...   \n",
       "56243               had not been drinking                None   \n",
       "56244               had not been drinking                None   \n",
       "56245               had not been drinking                None   \n",
       "56246               had not been drinking                None   \n",
       "56247               had not been drinking                None   \n",
       "\n",
       "       cellphone_in_use  collision_hour  party_number_p  party_number_v  \n",
       "0                   0.0             7.0               1               1  \n",
       "1                   0.0             2.0               2               2  \n",
       "2                   0.0            12.0               2               2  \n",
       "3                   0.0             0.0               1               1  \n",
       "4                   0.0            14.0               1               1  \n",
       "...                 ...             ...             ...             ...  \n",
       "56243               0.0            17.0               1               1  \n",
       "56244               1.0            15.0               2               2  \n",
       "56245               0.0            13.0               2               2  \n",
       "56246               0.0            12.0               1               1  \n",
       "56247               0.0            18.0               1               1  \n",
       "\n",
       "[56248 rows x 38 columns]"
      ]
     },
     "execution_count": 15,
     "metadata": {},
     "output_type": "execute_result"
    }
   ],
   "source": [
    "data"
   ]
  },
  {
   "cell_type": "markdown",
   "id": "a3bbad9d",
   "metadata": {},
   "source": [
    "Выгруженные по условиям Заказчика данные содержат 56248 случаев и состоят из 35 признаков. Признаков много, поэтому отберем из них самые полезные (Те, что сильнее всего коррелируют с таргетом). Уберем постфактумные признаки(например, collision_damage или party_count - они известны уже после аварии). Останутся следующие признаки:"
   ]
  },
  {
   "cell_type": "code",
   "execution_count": 16,
   "id": "8e33f508",
   "metadata": {},
   "outputs": [
    {
     "data": {
      "text/html": [
       "<div>\n",
       "<style scoped>\n",
       "    .dataframe tbody tr th:only-of-type {\n",
       "        vertical-align: middle;\n",
       "    }\n",
       "\n",
       "    .dataframe tbody tr th {\n",
       "        vertical-align: top;\n",
       "    }\n",
       "\n",
       "    .dataframe thead th {\n",
       "        text-align: right;\n",
       "    }\n",
       "</style>\n",
       "<table border=\"1\" class=\"dataframe\">\n",
       "  <thead>\n",
       "    <tr style=\"text-align: right;\">\n",
       "      <th></th>\n",
       "      <th>at_fault</th>\n",
       "      <th>county_location</th>\n",
       "      <th>distance</th>\n",
       "      <th>direction</th>\n",
       "      <th>weather_1</th>\n",
       "      <th>location_type</th>\n",
       "      <th>road_surface</th>\n",
       "      <th>road_condition_1</th>\n",
       "      <th>lighting</th>\n",
       "      <th>control_device</th>\n",
       "      <th>collision_date</th>\n",
       "      <th>collision_hour</th>\n",
       "      <th>insurance_premium</th>\n",
       "      <th>party_sobriety</th>\n",
       "      <th>party_drug_physical</th>\n",
       "      <th>vehicle_type</th>\n",
       "      <th>vehicle_age</th>\n",
       "      <th>vehicle_transmission</th>\n",
       "    </tr>\n",
       "  </thead>\n",
       "  <tbody>\n",
       "    <tr>\n",
       "      <th>0</th>\n",
       "      <td>1</td>\n",
       "      <td>san diego</td>\n",
       "      <td>0.0</td>\n",
       "      <td>None</td>\n",
       "      <td>clear</td>\n",
       "      <td>None</td>\n",
       "      <td>dry</td>\n",
       "      <td>normal</td>\n",
       "      <td>daylight</td>\n",
       "      <td>functioning</td>\n",
       "      <td>2012-01-26</td>\n",
       "      <td>7.0</td>\n",
       "      <td>31.0</td>\n",
       "      <td>had not been drinking</td>\n",
       "      <td>None</td>\n",
       "      <td>sedan</td>\n",
       "      <td>2.0</td>\n",
       "      <td>manual</td>\n",
       "    </tr>\n",
       "    <tr>\n",
       "      <th>1</th>\n",
       "      <td>0</td>\n",
       "      <td>contra costa</td>\n",
       "      <td>21.0</td>\n",
       "      <td>east</td>\n",
       "      <td>clear</td>\n",
       "      <td>None</td>\n",
       "      <td>dry</td>\n",
       "      <td>normal</td>\n",
       "      <td>dark with street lights</td>\n",
       "      <td>functioning</td>\n",
       "      <td>2012-01-15</td>\n",
       "      <td>2.0</td>\n",
       "      <td>54.0</td>\n",
       "      <td>had not been drinking</td>\n",
       "      <td>None</td>\n",
       "      <td>sedan</td>\n",
       "      <td>10.0</td>\n",
       "      <td>manual</td>\n",
       "    </tr>\n",
       "    <tr>\n",
       "      <th>2</th>\n",
       "      <td>0</td>\n",
       "      <td>ventura</td>\n",
       "      <td>150.0</td>\n",
       "      <td>north</td>\n",
       "      <td>clear</td>\n",
       "      <td>highway</td>\n",
       "      <td>dry</td>\n",
       "      <td>normal</td>\n",
       "      <td>daylight</td>\n",
       "      <td>none</td>\n",
       "      <td>2012-04-19</td>\n",
       "      <td>12.0</td>\n",
       "      <td>NaN</td>\n",
       "      <td>impairment unknown</td>\n",
       "      <td>G</td>\n",
       "      <td>sedan</td>\n",
       "      <td>NaN</td>\n",
       "      <td>auto</td>\n",
       "    </tr>\n",
       "    <tr>\n",
       "      <th>3</th>\n",
       "      <td>1</td>\n",
       "      <td>nevada</td>\n",
       "      <td>190.0</td>\n",
       "      <td>east</td>\n",
       "      <td>clear</td>\n",
       "      <td>None</td>\n",
       "      <td>dry</td>\n",
       "      <td>normal</td>\n",
       "      <td>dark with no street lights</td>\n",
       "      <td>none</td>\n",
       "      <td>2012-04-21</td>\n",
       "      <td>0.0</td>\n",
       "      <td>38.0</td>\n",
       "      <td>had been drinking, under influence</td>\n",
       "      <td>None</td>\n",
       "      <td>sedan</td>\n",
       "      <td>6.0</td>\n",
       "      <td>auto</td>\n",
       "    </tr>\n",
       "    <tr>\n",
       "      <th>4</th>\n",
       "      <td>1</td>\n",
       "      <td>kings</td>\n",
       "      <td>2640.0</td>\n",
       "      <td>east</td>\n",
       "      <td>cloudy</td>\n",
       "      <td>highway</td>\n",
       "      <td>wet</td>\n",
       "      <td>normal</td>\n",
       "      <td>daylight</td>\n",
       "      <td>none</td>\n",
       "      <td>2012-04-13</td>\n",
       "      <td>14.0</td>\n",
       "      <td>20.0</td>\n",
       "      <td>had not been drinking</td>\n",
       "      <td>None</td>\n",
       "      <td>sedan</td>\n",
       "      <td>11.0</td>\n",
       "      <td>auto</td>\n",
       "    </tr>\n",
       "  </tbody>\n",
       "</table>\n",
       "</div>"
      ],
      "text/plain": [
       "   at_fault county_location  distance direction weather_1 location_type  \\\n",
       "0         1       san diego       0.0      None     clear          None   \n",
       "1         0    contra costa      21.0      east     clear          None   \n",
       "2         0         ventura     150.0     north     clear       highway   \n",
       "3         1          nevada     190.0      east     clear          None   \n",
       "4         1           kings    2640.0      east    cloudy       highway   \n",
       "\n",
       "  road_surface road_condition_1                    lighting control_device  \\\n",
       "0          dry           normal                    daylight    functioning   \n",
       "1          dry           normal     dark with street lights    functioning   \n",
       "2          dry           normal                    daylight           none   \n",
       "3          dry           normal  dark with no street lights           none   \n",
       "4          wet           normal                    daylight           none   \n",
       "\n",
       "  collision_date  collision_hour  insurance_premium  \\\n",
       "0     2012-01-26             7.0               31.0   \n",
       "1     2012-01-15             2.0               54.0   \n",
       "2     2012-04-19            12.0                NaN   \n",
       "3     2012-04-21             0.0               38.0   \n",
       "4     2012-04-13            14.0               20.0   \n",
       "\n",
       "                       party_sobriety party_drug_physical vehicle_type  \\\n",
       "0               had not been drinking                None        sedan   \n",
       "1               had not been drinking                None        sedan   \n",
       "2                  impairment unknown                   G        sedan   \n",
       "3  had been drinking, under influence                None        sedan   \n",
       "4               had not been drinking                None        sedan   \n",
       "\n",
       "   vehicle_age vehicle_transmission  \n",
       "0          2.0               manual  \n",
       "1         10.0               manual  \n",
       "2          NaN                 auto  \n",
       "3          6.0                 auto  \n",
       "4         11.0                 auto  "
      ]
     },
     "execution_count": 16,
     "metadata": {},
     "output_type": "execute_result"
    }
   ],
   "source": [
    "columns = ['at_fault',  # целевой признак\n",
    "           'county_location',  # география происшествия важна, а колонка county_city_location аналогична ей\n",
    "           'distance',  # указывает на то, на главной дороге была авария или нет (будет переведено в булевый тип позже)\n",
    "           'direction',\n",
    "           'weather_1',  # погода может сильно влиять на вероятность аварии\n",
    "           'location_type',  # тип дороги: шоссе, перекресток. Также включает в седя информацию из колонки intersection\n",
    "           'road_surface',  # поверхность дороги сильно влияет на вероятность аварии\n",
    "           'road_condition_1',  # состояние дороги сильно влияет на вероятность аварии\n",
    "           'lighting',  # освещенность\n",
    "           'control_device',   # функционирует ли устройство управления\n",
    "           'collision_date',  # от даты (например дня недели) может многое зависеть\n",
    "           'collision_hour',  # время (час) тоже влияет на вероятность аварии\n",
    "           'insurance_premium',  # размер страховки может указывать на состояние автомобиля\n",
    "           'party_sobriety',   # трезв ли водитель\n",
    "           'party_drug_physical',  # состояние водителя  \n",
    "           'vehicle_type',  # тип кузова важен (ранее выяснили это)\n",
    "           'vehicle_age',   # возраст авто указывает на его состояние\n",
    "           'vehicle_transmission'] \n",
    "\n",
    "data = data[columns]  # оставим выбранные признаки в датафрейме\n",
    "data['collision_date'] = pd.to_datetime(data['collision_date'])\n",
    "\n",
    "data.head(5)"
   ]
  },
  {
   "cell_type": "code",
   "execution_count": 17,
   "id": "65b240a0",
   "metadata": {},
   "outputs": [],
   "source": [
    "def about_df(list_df):\n",
    "    '''выводит информацию о всех датасетах из списка list_df'''\n",
    "    for c, i in enumerate(list_df):\n",
    "        print(\"**** DATASET_\"+str(c+1)+' ****')\n",
    "        display(i.info())\n",
    "        display(i.describe().round(2))\n",
    "        print(f'Количество дубликатов: {i.duplicated().sum()}')\n",
    "        print('Количество пропущенных значений:', i.isnull().sum(), sep='\\n')\n",
    "        print()"
   ]
  },
  {
   "cell_type": "code",
   "execution_count": 18,
   "id": "9cc06252",
   "metadata": {},
   "outputs": [
    {
     "name": "stdout",
     "output_type": "stream",
     "text": [
      "**** DATASET_1 ****\n",
      "<class 'pandas.core.frame.DataFrame'>\n",
      "RangeIndex: 56248 entries, 0 to 56247\n",
      "Data columns (total 18 columns):\n",
      " #   Column                Non-Null Count  Dtype         \n",
      "---  ------                --------------  -----         \n",
      " 0   at_fault              56248 non-null  int64         \n",
      " 1   county_location       56248 non-null  object        \n",
      " 2   distance              56248 non-null  float64       \n",
      " 3   direction             43230 non-null  object        \n",
      " 4   weather_1             56080 non-null  object        \n",
      " 5   location_type         25932 non-null  object        \n",
      " 6   road_surface          55900 non-null  object        \n",
      " 7   road_condition_1      55999 non-null  object        \n",
      " 8   lighting              56094 non-null  object        \n",
      " 9   control_device        56033 non-null  object        \n",
      " 10  collision_date        56248 non-null  datetime64[ns]\n",
      " 11  collision_hour        56160 non-null  float64       \n",
      " 12  insurance_premium     55701 non-null  float64       \n",
      " 13  party_sobriety        55376 non-null  object        \n",
      " 14  party_drug_physical   2857 non-null   object        \n",
      " 15  vehicle_type          56248 non-null  object        \n",
      " 16  vehicle_age           54554 non-null  float64       \n",
      " 17  vehicle_transmission  55389 non-null  object        \n",
      "dtypes: datetime64[ns](1), float64(4), int64(1), object(12)\n",
      "memory usage: 7.7+ MB\n"
     ]
    },
    {
     "data": {
      "text/plain": [
       "None"
      ]
     },
     "metadata": {},
     "output_type": "display_data"
    },
    {
     "data": {
      "text/html": [
       "<div>\n",
       "<style scoped>\n",
       "    .dataframe tbody tr th:only-of-type {\n",
       "        vertical-align: middle;\n",
       "    }\n",
       "\n",
       "    .dataframe tbody tr th {\n",
       "        vertical-align: top;\n",
       "    }\n",
       "\n",
       "    .dataframe thead th {\n",
       "        text-align: right;\n",
       "    }\n",
       "</style>\n",
       "<table border=\"1\" class=\"dataframe\">\n",
       "  <thead>\n",
       "    <tr style=\"text-align: right;\">\n",
       "      <th></th>\n",
       "      <th>at_fault</th>\n",
       "      <th>distance</th>\n",
       "      <th>collision_hour</th>\n",
       "      <th>insurance_premium</th>\n",
       "      <th>vehicle_age</th>\n",
       "    </tr>\n",
       "  </thead>\n",
       "  <tbody>\n",
       "    <tr>\n",
       "      <th>count</th>\n",
       "      <td>56248.0</td>\n",
       "      <td>56248.00</td>\n",
       "      <td>56160.00</td>\n",
       "      <td>55701.00</td>\n",
       "      <td>54554.00</td>\n",
       "    </tr>\n",
       "    <tr>\n",
       "      <th>mean</th>\n",
       "      <td>0.5</td>\n",
       "      <td>859.44</td>\n",
       "      <td>13.32</td>\n",
       "      <td>37.61</td>\n",
       "      <td>4.86</td>\n",
       "    </tr>\n",
       "    <tr>\n",
       "      <th>std</th>\n",
       "      <td>0.5</td>\n",
       "      <td>7240.30</td>\n",
       "      <td>5.53</td>\n",
       "      <td>16.33</td>\n",
       "      <td>3.23</td>\n",
       "    </tr>\n",
       "    <tr>\n",
       "      <th>min</th>\n",
       "      <td>0.0</td>\n",
       "      <td>0.00</td>\n",
       "      <td>0.00</td>\n",
       "      <td>0.00</td>\n",
       "      <td>0.00</td>\n",
       "    </tr>\n",
       "    <tr>\n",
       "      <th>25%</th>\n",
       "      <td>0.0</td>\n",
       "      <td>7.00</td>\n",
       "      <td>10.00</td>\n",
       "      <td>24.00</td>\n",
       "      <td>3.00</td>\n",
       "    </tr>\n",
       "    <tr>\n",
       "      <th>50%</th>\n",
       "      <td>1.0</td>\n",
       "      <td>135.00</td>\n",
       "      <td>14.00</td>\n",
       "      <td>34.00</td>\n",
       "      <td>4.00</td>\n",
       "    </tr>\n",
       "    <tr>\n",
       "      <th>75%</th>\n",
       "      <td>1.0</td>\n",
       "      <td>545.00</td>\n",
       "      <td>17.00</td>\n",
       "      <td>49.00</td>\n",
       "      <td>7.00</td>\n",
       "    </tr>\n",
       "    <tr>\n",
       "      <th>max</th>\n",
       "      <td>1.0</td>\n",
       "      <td>1584000.00</td>\n",
       "      <td>23.00</td>\n",
       "      <td>105.00</td>\n",
       "      <td>161.00</td>\n",
       "    </tr>\n",
       "  </tbody>\n",
       "</table>\n",
       "</div>"
      ],
      "text/plain": [
       "       at_fault    distance  collision_hour  insurance_premium  vehicle_age\n",
       "count   56248.0    56248.00        56160.00           55701.00     54554.00\n",
       "mean        0.5      859.44           13.32              37.61         4.86\n",
       "std         0.5     7240.30            5.53              16.33         3.23\n",
       "min         0.0        0.00            0.00               0.00         0.00\n",
       "25%         0.0        7.00           10.00              24.00         3.00\n",
       "50%         1.0      135.00           14.00              34.00         4.00\n",
       "75%         1.0      545.00           17.00              49.00         7.00\n",
       "max         1.0  1584000.00           23.00             105.00       161.00"
      ]
     },
     "metadata": {},
     "output_type": "display_data"
    },
    {
     "name": "stdout",
     "output_type": "stream",
     "text": [
      "Количество дубликатов: 33\n",
      "Количество пропущенных значений:\n",
      "at_fault                    0\n",
      "county_location             0\n",
      "distance                    0\n",
      "direction               13018\n",
      "weather_1                 168\n",
      "location_type           30316\n",
      "road_surface              348\n",
      "road_condition_1          249\n",
      "lighting                  154\n",
      "control_device            215\n",
      "collision_date              0\n",
      "collision_hour             88\n",
      "insurance_premium         547\n",
      "party_sobriety            872\n",
      "party_drug_physical     53391\n",
      "vehicle_type                0\n",
      "vehicle_age              1694\n",
      "vehicle_transmission      859\n",
      "dtype: int64\n",
      "\n"
     ]
    }
   ],
   "source": [
    "about_df([data])"
   ]
  },
  {
   "cell_type": "code",
   "execution_count": 19,
   "id": "483ccb7b",
   "metadata": {},
   "outputs": [
    {
     "name": "stdout",
     "output_type": "stream",
     "text": [
      "county_location\n",
      "['san diego' 'contra costa' 'ventura' 'nevada' 'kings' 'solano' 'orange'\n",
      " 'san joaquin' 'los angeles' 'riverside' 'sacramento' 'san bernardino'\n",
      " 'alameda' 'shasta' 'sonoma' 'kern' 'el dorado' 'modoc' 'fresno' 'yolo'\n",
      " 'tuolumne' 'santa clara' 'placer' 'san mateo' 'stanislaus'\n",
      " 'san luis obispo' 'tehama' 'mendocino' 'san francisco' 'tulare'\n",
      " 'san benito' 'santa barbara' 'marin' 'monterey' 'mariposa' 'santa cruz'\n",
      " 'lassen' 'madera' 'inyo' 'yuba' 'merced' 'napa' 'calaveras' 'imperial'\n",
      " 'sutter' 'plumas' 'humboldt' 'mono' 'butte' 'colusa' 'alpine' 'del norte'\n",
      " 'siskiyou' 'lake' 'amador' 'trinity' 'glenn' 'sierra']\n",
      "\n",
      "direction\n",
      "[None 'east' 'north' 'south' 'west']\n",
      "\n",
      "weather_1\n",
      "['clear' 'cloudy' 'fog' 'raining' None 'other' 'snowing' 'wind']\n",
      "\n",
      "location_type\n",
      "[None 'highway' 'ramp' 'intersection']\n",
      "\n",
      "road_surface\n",
      "['dry' 'wet' 'snowy' None 'slippery']\n",
      "\n",
      "road_condition_1\n",
      "['normal' None 'other' 'loose material' 'construction' 'obstruction'\n",
      " 'holes' 'flooded' 'reduced width']\n",
      "\n",
      "lighting\n",
      "['daylight' 'dark with street lights' 'dark with no street lights'\n",
      " 'dusk or dawn' None 'dark with street lights not functioning']\n",
      "\n",
      "control_device\n",
      "['functioning' 'none' 'not functioning' 'obscured' None]\n",
      "\n",
      "party_sobriety\n",
      "['had not been drinking' 'impairment unknown'\n",
      " 'had been drinking, under influence' None\n",
      " 'had been drinking, not under influence' 'not applicable'\n",
      " 'had been drinking, impairment unknown']\n",
      "\n",
      "party_drug_physical\n",
      "[None 'G' 'under drug influence' 'sleepy/fatigued' 'not applicable'\n",
      " 'impairment - physical']\n",
      "\n",
      "vehicle_type\n",
      "['sedan' 'coupe' 'other']\n",
      "\n",
      "vehicle_transmission\n",
      "['manual' 'auto' None]\n",
      "\n"
     ]
    }
   ],
   "source": [
    "# проверим, есть ли неявные дубликаты в колонках типа object\n",
    "cat_cols = data.select_dtypes(include=['object']).columns.to_list()\n",
    "\n",
    "for i in cat_cols:\n",
    "    print(i)\n",
    "    print(data[i].unique())\n",
    "    print()"
   ]
  },
  {
   "cell_type": "code",
   "execution_count": 20,
   "id": "a40b3231",
   "metadata": {},
   "outputs": [],
   "source": [
    "data['control_device'] = data['control_device'].replace(['none', 'obscured'], 'unknown')"
   ]
  },
  {
   "cell_type": "markdown",
   "id": "c105df20",
   "metadata": {},
   "source": [
    "Представленные данные содержат ненормально высокие значения в колонках distance, vehicle_age. Имеются дубликаты:. Удалим дубли:"
   ]
  },
  {
   "cell_type": "code",
   "execution_count": 21,
   "id": "c3d062f7",
   "metadata": {},
   "outputs": [],
   "source": [
    "data = data.drop_duplicates().reset_index(drop=True)"
   ]
  },
  {
   "cell_type": "raw",
   "id": "5f386093",
   "metadata": {},
   "source": [
    "# преобразуем колонку со временем аварии во время суток (утро, день и т.д.)\n",
    "data['collision_hour'] = np.where(data['collision_hour'] <= 6, 'night',\n",
    "                                  np.where(data['collision_hour'] <= 12, 'morning',\n",
    "                                           np.where(data['collision_hour'] <= 18, 'day', \n",
    "                                                    np.where(data['collision_hour'] <= 24, 'evening', 'unknown'))))\n",
    "\n",
    "data.head(5)"
   ]
  },
  {
   "cell_type": "markdown",
   "id": "399c75ad",
   "metadata": {},
   "source": [
    "Пропуски в категориальных столбцах заполним значением 'unknown'. Численные пропуски заполним медианными значениями:"
   ]
  },
  {
   "cell_type": "code",
   "execution_count": 22,
   "id": "1fa53049",
   "metadata": {
    "scrolled": true
   },
   "outputs": [],
   "source": [
    "data[cat_cols] = data[cat_cols].fillna('unknown')\n",
    "\n",
    "for i in ['distance', 'collision_hour', 'insurance_premium', 'vehicle_age']:\n",
    "    median_val = data[i].median()\n",
    "    data[i].fillna(median_val, inplace=True)"
   ]
  },
  {
   "cell_type": "code",
   "execution_count": 23,
   "id": "13bd1c58",
   "metadata": {},
   "outputs": [
    {
     "name": "stdout",
     "output_type": "stream",
     "text": [
      "**** DATASET_1 ****\n",
      "<class 'pandas.core.frame.DataFrame'>\n",
      "RangeIndex: 56215 entries, 0 to 56214\n",
      "Data columns (total 18 columns):\n",
      " #   Column                Non-Null Count  Dtype         \n",
      "---  ------                --------------  -----         \n",
      " 0   at_fault              56215 non-null  int64         \n",
      " 1   county_location       56215 non-null  object        \n",
      " 2   distance              56215 non-null  float64       \n",
      " 3   direction             56215 non-null  object        \n",
      " 4   weather_1             56215 non-null  object        \n",
      " 5   location_type         56215 non-null  object        \n",
      " 6   road_surface          56215 non-null  object        \n",
      " 7   road_condition_1      56215 non-null  object        \n",
      " 8   lighting              56215 non-null  object        \n",
      " 9   control_device        56215 non-null  object        \n",
      " 10  collision_date        56215 non-null  datetime64[ns]\n",
      " 11  collision_hour        56215 non-null  float64       \n",
      " 12  insurance_premium     56215 non-null  float64       \n",
      " 13  party_sobriety        56215 non-null  object        \n",
      " 14  party_drug_physical   56215 non-null  object        \n",
      " 15  vehicle_type          56215 non-null  object        \n",
      " 16  vehicle_age           56215 non-null  float64       \n",
      " 17  vehicle_transmission  56215 non-null  object        \n",
      "dtypes: datetime64[ns](1), float64(4), int64(1), object(12)\n",
      "memory usage: 7.7+ MB\n"
     ]
    },
    {
     "data": {
      "text/plain": [
       "None"
      ]
     },
     "metadata": {},
     "output_type": "display_data"
    },
    {
     "data": {
      "text/html": [
       "<div>\n",
       "<style scoped>\n",
       "    .dataframe tbody tr th:only-of-type {\n",
       "        vertical-align: middle;\n",
       "    }\n",
       "\n",
       "    .dataframe tbody tr th {\n",
       "        vertical-align: top;\n",
       "    }\n",
       "\n",
       "    .dataframe thead th {\n",
       "        text-align: right;\n",
       "    }\n",
       "</style>\n",
       "<table border=\"1\" class=\"dataframe\">\n",
       "  <thead>\n",
       "    <tr style=\"text-align: right;\">\n",
       "      <th></th>\n",
       "      <th>at_fault</th>\n",
       "      <th>distance</th>\n",
       "      <th>collision_hour</th>\n",
       "      <th>insurance_premium</th>\n",
       "      <th>vehicle_age</th>\n",
       "    </tr>\n",
       "  </thead>\n",
       "  <tbody>\n",
       "    <tr>\n",
       "      <th>count</th>\n",
       "      <td>56215.0</td>\n",
       "      <td>56215.00</td>\n",
       "      <td>56215.00</td>\n",
       "      <td>56215.00</td>\n",
       "      <td>56215.00</td>\n",
       "    </tr>\n",
       "    <tr>\n",
       "      <th>mean</th>\n",
       "      <td>0.5</td>\n",
       "      <td>859.79</td>\n",
       "      <td>13.32</td>\n",
       "      <td>37.57</td>\n",
       "      <td>4.83</td>\n",
       "    </tr>\n",
       "    <tr>\n",
       "      <th>std</th>\n",
       "      <td>0.5</td>\n",
       "      <td>7242.40</td>\n",
       "      <td>5.52</td>\n",
       "      <td>16.25</td>\n",
       "      <td>3.19</td>\n",
       "    </tr>\n",
       "    <tr>\n",
       "      <th>min</th>\n",
       "      <td>0.0</td>\n",
       "      <td>0.00</td>\n",
       "      <td>0.00</td>\n",
       "      <td>0.00</td>\n",
       "      <td>0.00</td>\n",
       "    </tr>\n",
       "    <tr>\n",
       "      <th>25%</th>\n",
       "      <td>0.0</td>\n",
       "      <td>7.00</td>\n",
       "      <td>10.00</td>\n",
       "      <td>24.00</td>\n",
       "      <td>3.00</td>\n",
       "    </tr>\n",
       "    <tr>\n",
       "      <th>50%</th>\n",
       "      <td>1.0</td>\n",
       "      <td>135.00</td>\n",
       "      <td>14.00</td>\n",
       "      <td>34.00</td>\n",
       "      <td>4.00</td>\n",
       "    </tr>\n",
       "    <tr>\n",
       "      <th>75%</th>\n",
       "      <td>1.0</td>\n",
       "      <td>545.00</td>\n",
       "      <td>17.00</td>\n",
       "      <td>48.00</td>\n",
       "      <td>7.00</td>\n",
       "    </tr>\n",
       "    <tr>\n",
       "      <th>max</th>\n",
       "      <td>1.0</td>\n",
       "      <td>1584000.00</td>\n",
       "      <td>23.00</td>\n",
       "      <td>105.00</td>\n",
       "      <td>161.00</td>\n",
       "    </tr>\n",
       "  </tbody>\n",
       "</table>\n",
       "</div>"
      ],
      "text/plain": [
       "       at_fault    distance  collision_hour  insurance_premium  vehicle_age\n",
       "count   56215.0    56215.00        56215.00           56215.00     56215.00\n",
       "mean        0.5      859.79           13.32              37.57         4.83\n",
       "std         0.5     7242.40            5.52              16.25         3.19\n",
       "min         0.0        0.00            0.00               0.00         0.00\n",
       "25%         0.0        7.00           10.00              24.00         3.00\n",
       "50%         1.0      135.00           14.00              34.00         4.00\n",
       "75%         1.0      545.00           17.00              48.00         7.00\n",
       "max         1.0  1584000.00           23.00             105.00       161.00"
      ]
     },
     "metadata": {},
     "output_type": "display_data"
    },
    {
     "name": "stdout",
     "output_type": "stream",
     "text": [
      "Количество дубликатов: 0\n",
      "Количество пропущенных значений:\n",
      "at_fault                0\n",
      "county_location         0\n",
      "distance                0\n",
      "direction               0\n",
      "weather_1               0\n",
      "location_type           0\n",
      "road_surface            0\n",
      "road_condition_1        0\n",
      "lighting                0\n",
      "control_device          0\n",
      "collision_date          0\n",
      "collision_hour          0\n",
      "insurance_premium       0\n",
      "party_sobriety          0\n",
      "party_drug_physical     0\n",
      "vehicle_type            0\n",
      "vehicle_age             0\n",
      "vehicle_transmission    0\n",
      "dtype: int64\n",
      "\n"
     ]
    }
   ],
   "source": [
    "about_df([data])"
   ]
  },
  {
   "cell_type": "markdown",
   "id": "bdd52104",
   "metadata": {},
   "source": [
    "Из даты выделим месяц и день недели аварии:"
   ]
  },
  {
   "cell_type": "code",
   "execution_count": 25,
   "id": "12312afb",
   "metadata": {},
   "outputs": [
    {
     "data": {
      "text/plain": [
       "array(['3', '6', '5', '4', '0', '2', '1'], dtype=object)"
      ]
     },
     "execution_count": 25,
     "metadata": {},
     "output_type": "execute_result"
    }
   ],
   "source": [
    "data['case_month'] = data['collision_date'].dt.month_name()\n",
    "data['case_weekday'] = data['collision_date'].dt.dayofweek.astype('str')\n",
    "\n",
    "data = data.drop('collision_date', axis=1)  # колонка с датой уже не нужна\n",
    "\n",
    "data[['distance', 'vehicle_age', 'collision_hour']] = \\\n",
    "    data[['distance', 'vehicle_age', 'collision_hour']].astype('int')   # изменим тип на int\n",
    "\n",
    "data['case_weekday'].unique()  # проверим дни недели, должно быть 7 уникальных значений"
   ]
  },
  {
   "cell_type": "code",
   "execution_count": 26,
   "id": "b98eaeda",
   "metadata": {},
   "outputs": [
    {
     "data": {
      "text/html": [
       "<div>\n",
       "<style scoped>\n",
       "    .dataframe tbody tr th:only-of-type {\n",
       "        vertical-align: middle;\n",
       "    }\n",
       "\n",
       "    .dataframe tbody tr th {\n",
       "        vertical-align: top;\n",
       "    }\n",
       "\n",
       "    .dataframe thead th {\n",
       "        text-align: right;\n",
       "    }\n",
       "</style>\n",
       "<table border=\"1\" class=\"dataframe\">\n",
       "  <thead>\n",
       "    <tr style=\"text-align: right;\">\n",
       "      <th></th>\n",
       "      <th>at_fault</th>\n",
       "      <th>county_location</th>\n",
       "      <th>distance</th>\n",
       "      <th>direction</th>\n",
       "      <th>weather_1</th>\n",
       "      <th>location_type</th>\n",
       "      <th>road_surface</th>\n",
       "      <th>road_condition_1</th>\n",
       "      <th>lighting</th>\n",
       "      <th>control_device</th>\n",
       "      <th>collision_hour</th>\n",
       "      <th>insurance_premium</th>\n",
       "      <th>party_sobriety</th>\n",
       "      <th>party_drug_physical</th>\n",
       "      <th>vehicle_type</th>\n",
       "      <th>vehicle_age</th>\n",
       "      <th>vehicle_transmission</th>\n",
       "      <th>case_month</th>\n",
       "      <th>case_weekday</th>\n",
       "    </tr>\n",
       "  </thead>\n",
       "  <tbody>\n",
       "    <tr>\n",
       "      <th>0</th>\n",
       "      <td>1</td>\n",
       "      <td>san diego</td>\n",
       "      <td>0</td>\n",
       "      <td>unknown</td>\n",
       "      <td>clear</td>\n",
       "      <td>unknown</td>\n",
       "      <td>dry</td>\n",
       "      <td>normal</td>\n",
       "      <td>daylight</td>\n",
       "      <td>functioning</td>\n",
       "      <td>7</td>\n",
       "      <td>31.0</td>\n",
       "      <td>had not been drinking</td>\n",
       "      <td>unknown</td>\n",
       "      <td>sedan</td>\n",
       "      <td>2</td>\n",
       "      <td>manual</td>\n",
       "      <td>January</td>\n",
       "      <td>3</td>\n",
       "    </tr>\n",
       "    <tr>\n",
       "      <th>1</th>\n",
       "      <td>0</td>\n",
       "      <td>contra costa</td>\n",
       "      <td>21</td>\n",
       "      <td>east</td>\n",
       "      <td>clear</td>\n",
       "      <td>unknown</td>\n",
       "      <td>dry</td>\n",
       "      <td>normal</td>\n",
       "      <td>dark with street lights</td>\n",
       "      <td>functioning</td>\n",
       "      <td>2</td>\n",
       "      <td>54.0</td>\n",
       "      <td>had not been drinking</td>\n",
       "      <td>unknown</td>\n",
       "      <td>sedan</td>\n",
       "      <td>10</td>\n",
       "      <td>manual</td>\n",
       "      <td>January</td>\n",
       "      <td>6</td>\n",
       "    </tr>\n",
       "    <tr>\n",
       "      <th>2</th>\n",
       "      <td>0</td>\n",
       "      <td>ventura</td>\n",
       "      <td>150</td>\n",
       "      <td>north</td>\n",
       "      <td>clear</td>\n",
       "      <td>highway</td>\n",
       "      <td>dry</td>\n",
       "      <td>normal</td>\n",
       "      <td>daylight</td>\n",
       "      <td>unknown</td>\n",
       "      <td>12</td>\n",
       "      <td>34.0</td>\n",
       "      <td>impairment unknown</td>\n",
       "      <td>G</td>\n",
       "      <td>sedan</td>\n",
       "      <td>4</td>\n",
       "      <td>auto</td>\n",
       "      <td>April</td>\n",
       "      <td>3</td>\n",
       "    </tr>\n",
       "  </tbody>\n",
       "</table>\n",
       "</div>"
      ],
      "text/plain": [
       "   at_fault county_location  distance direction weather_1 location_type  \\\n",
       "0         1       san diego         0   unknown     clear       unknown   \n",
       "1         0    contra costa        21      east     clear       unknown   \n",
       "2         0         ventura       150     north     clear       highway   \n",
       "\n",
       "  road_surface road_condition_1                 lighting control_device  \\\n",
       "0          dry           normal                 daylight    functioning   \n",
       "1          dry           normal  dark with street lights    functioning   \n",
       "2          dry           normal                 daylight        unknown   \n",
       "\n",
       "   collision_hour  insurance_premium         party_sobriety  \\\n",
       "0               7               31.0  had not been drinking   \n",
       "1               2               54.0  had not been drinking   \n",
       "2              12               34.0     impairment unknown   \n",
       "\n",
       "  party_drug_physical vehicle_type  vehicle_age vehicle_transmission  \\\n",
       "0             unknown        sedan            2               manual   \n",
       "1             unknown        sedan           10               manual   \n",
       "2                   G        sedan            4                 auto   \n",
       "\n",
       "  case_month case_weekday  \n",
       "0    January            3  \n",
       "1    January            6  \n",
       "2      April            3  "
      ]
     },
     "execution_count": 26,
     "metadata": {},
     "output_type": "execute_result"
    }
   ],
   "source": [
    "data.head(3)"
   ]
  },
  {
   "cell_type": "code",
   "execution_count": 27,
   "id": "9663d84f",
   "metadata": {},
   "outputs": [
    {
     "data": {
      "image/png": "[encoded data removed]",
      "text/plain": [
       "<Figure size 1152x1008 with 2 Axes>"
      ]
     },
     "metadata": {
      "needs_background": "light"
     },
     "output_type": "display_data"
    }
   ],
   "source": [
    "# выполним расчет корреляции \n",
    "interval_cols = list(data._get_numeric_data().columns)\n",
    "phik_overview = data.phik_matrix(interval_cols=interval_cols)\n",
    "\n",
    "# heatmap\n",
    "plot_correlation_matrix(\n",
    "    phik_overview.values,\n",
    "    x_labels=phik_overview.columns,\n",
    "    y_labels=phik_overview.index,\n",
    "    vmin=0, vmax=1, color_map='Reds',\n",
    "    title=r'Корреляция $\\phi_K$',\n",
    "    fontsize_factor=1.2,\n",
    "    figsize=(16, 14)\n",
    ") "
   ]
  },
  {
   "cell_type": "markdown",
   "id": "87262c98",
   "metadata": {},
   "source": [
    "Для моделирования оставим только те признаки, которые лучше коррелируют с таргетом:"
   ]
  },
  {
   "cell_type": "code",
   "execution_count": 28,
   "id": "e5cfcf98",
   "metadata": {},
   "outputs": [],
   "source": [
    "columns = ['vehicle_type', 'party_drug_physical', 'party_sobriety', \n",
    "           'insurance_premium', 'collision_hour', 'lighting', 'county_location', 'at_fault']\n",
    " \n",
    "data = data[columns]"
   ]
  },
  {
   "cell_type": "code",
   "execution_count": 29,
   "id": "6a3b3a42",
   "metadata": {},
   "outputs": [
    {
     "name": "stdout",
     "output_type": "stream",
     "text": [
      "**** DATASET_1 ****\n",
      "<class 'pandas.core.frame.DataFrame'>\n",
      "RangeIndex: 56215 entries, 0 to 56214\n",
      "Data columns (total 8 columns):\n",
      " #   Column               Non-Null Count  Dtype  \n",
      "---  ------               --------------  -----  \n",
      " 0   vehicle_type         56215 non-null  object \n",
      " 1   party_drug_physical  56215 non-null  object \n",
      " 2   party_sobriety       56215 non-null  object \n",
      " 3   insurance_premium    56215 non-null  float64\n",
      " 4   collision_hour       56215 non-null  int64  \n",
      " 5   lighting             56215 non-null  object \n",
      " 6   county_location      56215 non-null  object \n",
      " 7   at_fault             56215 non-null  int64  \n",
      "dtypes: float64(1), int64(2), object(5)\n",
      "memory usage: 3.4+ MB\n"
     ]
    },
    {
     "data": {
      "text/plain": [
       "None"
      ]
     },
     "metadata": {},
     "output_type": "display_data"
    },
    {
     "data": {
      "text/html": [
       "<div>\n",
       "<style scoped>\n",
       "    .dataframe tbody tr th:only-of-type {\n",
       "        vertical-align: middle;\n",
       "    }\n",
       "\n",
       "    .dataframe tbody tr th {\n",
       "        vertical-align: top;\n",
       "    }\n",
       "\n",
       "    .dataframe thead th {\n",
       "        text-align: right;\n",
       "    }\n",
       "</style>\n",
       "<table border=\"1\" class=\"dataframe\">\n",
       "  <thead>\n",
       "    <tr style=\"text-align: right;\">\n",
       "      <th></th>\n",
       "      <th>insurance_premium</th>\n",
       "      <th>collision_hour</th>\n",
       "      <th>at_fault</th>\n",
       "    </tr>\n",
       "  </thead>\n",
       "  <tbody>\n",
       "    <tr>\n",
       "      <th>count</th>\n",
       "      <td>56215.00</td>\n",
       "      <td>56215.00</td>\n",
       "      <td>56215.0</td>\n",
       "    </tr>\n",
       "    <tr>\n",
       "      <th>mean</th>\n",
       "      <td>37.57</td>\n",
       "      <td>13.32</td>\n",
       "      <td>0.5</td>\n",
       "    </tr>\n",
       "    <tr>\n",
       "      <th>std</th>\n",
       "      <td>16.25</td>\n",
       "      <td>5.52</td>\n",
       "      <td>0.5</td>\n",
       "    </tr>\n",
       "    <tr>\n",
       "      <th>min</th>\n",
       "      <td>0.00</td>\n",
       "      <td>0.00</td>\n",
       "      <td>0.0</td>\n",
       "    </tr>\n",
       "    <tr>\n",
       "      <th>25%</th>\n",
       "      <td>24.00</td>\n",
       "      <td>10.00</td>\n",
       "      <td>0.0</td>\n",
       "    </tr>\n",
       "    <tr>\n",
       "      <th>50%</th>\n",
       "      <td>34.00</td>\n",
       "      <td>14.00</td>\n",
       "      <td>1.0</td>\n",
       "    </tr>\n",
       "    <tr>\n",
       "      <th>75%</th>\n",
       "      <td>48.00</td>\n",
       "      <td>17.00</td>\n",
       "      <td>1.0</td>\n",
       "    </tr>\n",
       "    <tr>\n",
       "      <th>max</th>\n",
       "      <td>105.00</td>\n",
       "      <td>23.00</td>\n",
       "      <td>1.0</td>\n",
       "    </tr>\n",
       "  </tbody>\n",
       "</table>\n",
       "</div>"
      ],
      "text/plain": [
       "       insurance_premium  collision_hour  at_fault\n",
       "count           56215.00        56215.00   56215.0\n",
       "mean               37.57           13.32       0.5\n",
       "std                16.25            5.52       0.5\n",
       "min                 0.00            0.00       0.0\n",
       "25%                24.00           10.00       0.0\n",
       "50%                34.00           14.00       1.0\n",
       "75%                48.00           17.00       1.0\n",
       "max               105.00           23.00       1.0"
      ]
     },
     "metadata": {},
     "output_type": "display_data"
    },
    {
     "name": "stdout",
     "output_type": "stream",
     "text": [
      "Количество дубликатов: 16806\n",
      "Количество пропущенных значений:\n",
      "vehicle_type           0\n",
      "party_drug_physical    0\n",
      "party_sobriety         0\n",
      "insurance_premium      0\n",
      "collision_hour         0\n",
      "lighting               0\n",
      "county_location        0\n",
      "at_fault               0\n",
      "dtype: int64\n",
      "\n"
     ]
    }
   ],
   "source": [
    "about_df([data])"
   ]
  },
  {
   "cell_type": "markdown",
   "id": "c81df610",
   "metadata": {},
   "source": [
    "**Вывод**\n",
    "<br>Набор данных был подготовлен на основе первичного предположения заказчика:\n",
    "1. Тип виновника — только машина (car);\n",
    "2. ДТП привело к любым значимым повреждениям автомобиля любого из участников кроме типа SCRATCH (царапина);\n",
    "3. Необходимы данные только за 2012 год.\n",
    "\n",
    "Выгруженные по условиям Заказчика данные содержат 56247 случаев и состоят из множества признаков. Из признаков отберем для моделированиия самые полезные (те, что сильнее всего коррелируют с таргетом) Уберем постфактумные признаки (например, количество участников в аварии - они известны уже после аварии). В результате осталось только 7 признаков.\n",
    "<br>Пропуски в категориальных столбцах были заполнены значением 'unknown'. Численные пропуски заполнены медианными значениями."
   ]
  },
  {
   "cell_type": "markdown",
   "id": "08381310",
   "metadata": {},
   "source": [
    "## EDA"
   ]
  },
  {
   "cell_type": "code",
   "execution_count": 30,
   "id": "478171e7",
   "metadata": {},
   "outputs": [
    {
     "data": {
      "image/png": "[encoded data removed]",
      "text/plain": [
       "<Figure size 432x288 with 1 Axes>"
      ]
     },
     "metadata": {
      "needs_background": "light"
     },
     "output_type": "display_data"
    }
   ],
   "source": [
    "# покажем, сбалансированные ли данные по целдевому признаку\n",
    "sns.countplot(data = data, x='at_fault');"
   ]
  },
  {
   "cell_type": "code",
   "execution_count": 31,
   "id": "8384d1ad",
   "metadata": {},
   "outputs": [
    {
     "data": {
      "image/png": "[encoded data removed]",
      "text/plain": [
       "<Figure size 1080x432 with 2 Axes>"
      ]
     },
     "metadata": {
      "needs_background": "light"
     },
     "output_type": "display_data"
    }
   ],
   "source": [
    "# посторим распреления численных признаков в зависимости от вины участника\n",
    "temp_0 = data.query('at_fault == 0') \n",
    "temp_1 = data.query('at_fault == 1') \n",
    "\n",
    "num_cols = ['insurance_premium', 'collision_hour']\n",
    "\n",
    "fig, axes = plt.subplots(1, 2, figsize=(15, 6))\n",
    "axe = axes.ravel()\n",
    "\n",
    "for i, c in enumerate(num_cols):\n",
    "    temp_0[c].hist(bins=30, label='не виновен', ax=axe[i])\n",
    "    temp_1[c].hist(bins=30, label='виновен', alpha=0.6, ax=axe[i])\n",
    "    axe[i].set_title(f'Параметр {c}')\n",
    "    axe[i].set_xlabel(c)\n",
    "    axe[i].legend()\n",
    "plt.show()"
   ]
  },
  {
   "cell_type": "markdown",
   "id": "49391459",
   "metadata": {},
   "source": [
    "Видно, что водители на автомобилях с размером страховки до 30 тыс. и более 80 тыс. чаще виновны, чем водители со страховкой между этими значениями. В авариях с 21.00 до 6.00 чаще виноваты водители.\n",
    "\n",
    "<br>Посмотрим на распределение аварий по категориальным признакам:"
   ]
  },
  {
   "cell_type": "code",
   "execution_count": 32,
   "id": "0364b2d9",
   "metadata": {
    "scrolled": false
   },
   "outputs": [
    {
     "data": {
      "image/png": "[encoded data removed]",
      "text/plain": [
       "<Figure size 1152x1152 with 4 Axes>"
      ]
     },
     "metadata": {
      "needs_background": "light"
     },
     "output_type": "display_data"
    }
   ],
   "source": [
    "cat_cols = ['vehicle_type', 'party_drug_physical',\n",
    "            'party_sobriety', 'lighting']\n",
    "\n",
    "fig, axes = plt.subplots(2, 2, figsize=(16, 16))\n",
    "axe = axes.ravel()\n",
    "\n",
    "fig.tight_layout(pad=15)\n",
    "for i, c in enumerate(cat_cols):\n",
    "    sns.countplot(data = data, x=c, hue='at_fault', ax=axe[i])\n",
    "    axe[i].set_xlabel(c)\n",
    "    axe[i].set_title(f'Распределение по \"{c}\"')\n",
    "    axe[i].tick_params(axis='x', rotation=90)\n",
    "    \n",
    "plt.show()"
   ]
  },
  {
   "cell_type": "markdown",
   "id": "288079a9",
   "metadata": {},
   "source": [
    "Водители купе чаще оказываются виновниакми ДТП, чем сиданов. Информации по состоянию водителя (party_drug_physical, party_sobriety) по большей части отсутствует. Трезвые водители реже оказываются виновниками, но при этом трезвые водители участвовали в большинстве аварий. при дневном свете водители также часто оказываются невиновными (как выяснили ранее, водители вцелом днем реже виновники)."
   ]
  },
  {
   "cell_type": "code",
   "execution_count": 33,
   "id": "f41b9135",
   "metadata": {},
   "outputs": [
    {
     "data": {
      "image/png": "[encoded data removed]",
      "text/plain": [
       "<Figure size 1080x1224 with 1 Axes>"
      ]
     },
     "metadata": {
      "needs_background": "light"
     },
     "output_type": "display_data"
    }
   ],
   "source": [
    "# посмотрим на виновность водителей по округам\n",
    "plt.subplots(figsize=(15, 17))\n",
    "sns.countplot(data = data, \n",
    "              y='county_location', \n",
    "              hue='at_fault', \n",
    "              order=data['county_location'].value_counts().index)\n",
    "plt.title('Количество аварий в округах');"
   ]
  },
  {
   "cell_type": "markdown",
   "id": "2284dc25",
   "metadata": {},
   "source": [
    "Можно заметить, что в крупных округах водители реже виноваты. В малых же напротив водители чаще виноваты в ДТП. Исходя из этого факта можно выделить в отдельную группу others все мелкие округа:"
   ]
  },
  {
   "cell_type": "code",
   "execution_count": 34,
   "id": "85580285",
   "metadata": {},
   "outputs": [
    {
     "data": {
      "text/plain": [
       "los angeles       16226\n",
       "others            12155\n",
       "orange             5358\n",
       "san diego          3737\n",
       "san bernardino     3646\n",
       "riverside          3312\n",
       "sacramento         2184\n",
       "alameda            1875\n",
       "santa clara        1843\n",
       "ventura            1464\n",
       "kern               1415\n",
       "fresno             1073\n",
       "contra costa        989\n",
       "san mateo           938\n",
       "Name: county_location, dtype: int64"
      ]
     },
     "execution_count": 34,
     "metadata": {},
     "output_type": "execute_result"
    }
   ],
   "source": [
    "# оставим 13 самых частых локаций, остальные сведем в группу others\n",
    "big_locations = data['county_location'].value_counts()\\\n",
    "                                       .sort_values(ascending=False)\\\n",
    "                                       .head(13)\\\n",
    "                                       .index\\\n",
    "                                       .to_list()\n",
    "\n",
    "data['county_location'] = np.where(~data['county_location'].isin(big_locations), 'others', data['county_location'])\n",
    "data['county_location'].value_counts()"
   ]
  },
  {
   "cell_type": "markdown",
   "id": "f3209c3e",
   "metadata": {},
   "source": [
    "**Вывод**\n",
    "<br>Данные по целевому приизнаку сбалансированы (виновных в аварии автомобилей примерно столько же, сколько и невиновных). Видно, что водители на автомобилях с размером страховки до 30 тыс. и более 80 тыс. чаще виновны, чем водители со страховкой между этими значениями. В авариях с 21.00 до 6.00 чаще виноваты водители. Водители купе в 2012 году чаще оказывались виновниакми ДТП, чем сиданов. Информации по состоянию водителя (party_drug_physical, party_sobriety) по большей части отсутствует. Трезвые водители реже оказываются виновниками, но при этом трезвые водители участвовали в большинстве аварий. при дневном свете водители также часто оказываются невиновными (как выяснили ранее, водители вцелом днем реже виновники). Можно заметить, что в крупных округах водители реже виноваты. В малых же напротив водители чаще виноваты в ДТП."
   ]
  },
  {
   "cell_type": "markdown",
   "id": "c0394a23",
   "metadata": {},
   "source": [
    "## Подготовка данных для моделирования"
   ]
  },
  {
   "cell_type": "code",
   "execution_count": 35,
   "id": "59a508ef",
   "metadata": {},
   "outputs": [
    {
     "name": "stdout",
     "output_type": "stream",
     "text": [
      "train size: (44972, 7)  test size: (11243, 7)\n"
     ]
    }
   ],
   "source": [
    "# деление на тренировочную, тестовую и валидационную выборки\n",
    "X_train, X_test, y_train, y_test = train_test_split(data.drop('at_fault', axis=1), \n",
    "                                                    data['at_fault'], \n",
    "                                                    test_size=0.2, \n",
    "                                                    random_state=RANDOM_STATE)\n",
    "\n",
    "print('train size:', X_train.shape, ' test size:', X_test.shape)"
   ]
  },
  {
   "cell_type": "code",
   "execution_count": 36,
   "id": "84dc91c3",
   "metadata": {},
   "outputs": [
    {
     "data": {
      "text/html": [
       "<div>\n",
       "<style scoped>\n",
       "    .dataframe tbody tr th:only-of-type {\n",
       "        vertical-align: middle;\n",
       "    }\n",
       "\n",
       "    .dataframe tbody tr th {\n",
       "        vertical-align: top;\n",
       "    }\n",
       "\n",
       "    .dataframe thead th {\n",
       "        text-align: right;\n",
       "    }\n",
       "</style>\n",
       "<table border=\"1\" class=\"dataframe\">\n",
       "  <thead>\n",
       "    <tr style=\"text-align: right;\">\n",
       "      <th></th>\n",
       "      <th>vehicle_type</th>\n",
       "      <th>party_drug_physical</th>\n",
       "      <th>party_sobriety</th>\n",
       "      <th>insurance_premium</th>\n",
       "      <th>collision_hour</th>\n",
       "      <th>lighting</th>\n",
       "      <th>county_location</th>\n",
       "      <th>at_fault</th>\n",
       "    </tr>\n",
       "  </thead>\n",
       "  <tbody>\n",
       "    <tr>\n",
       "      <th>0</th>\n",
       "      <td>sedan</td>\n",
       "      <td>unknown</td>\n",
       "      <td>had not been drinking</td>\n",
       "      <td>31.0</td>\n",
       "      <td>7</td>\n",
       "      <td>daylight</td>\n",
       "      <td>san diego</td>\n",
       "      <td>1</td>\n",
       "    </tr>\n",
       "    <tr>\n",
       "      <th>1</th>\n",
       "      <td>sedan</td>\n",
       "      <td>unknown</td>\n",
       "      <td>had not been drinking</td>\n",
       "      <td>54.0</td>\n",
       "      <td>2</td>\n",
       "      <td>dark with street lights</td>\n",
       "      <td>contra costa</td>\n",
       "      <td>0</td>\n",
       "    </tr>\n",
       "    <tr>\n",
       "      <th>2</th>\n",
       "      <td>sedan</td>\n",
       "      <td>G</td>\n",
       "      <td>impairment unknown</td>\n",
       "      <td>34.0</td>\n",
       "      <td>12</td>\n",
       "      <td>daylight</td>\n",
       "      <td>ventura</td>\n",
       "      <td>0</td>\n",
       "    </tr>\n",
       "    <tr>\n",
       "      <th>3</th>\n",
       "      <td>sedan</td>\n",
       "      <td>unknown</td>\n",
       "      <td>had been drinking, under influence</td>\n",
       "      <td>38.0</td>\n",
       "      <td>0</td>\n",
       "      <td>dark with no street lights</td>\n",
       "      <td>others</td>\n",
       "      <td>1</td>\n",
       "    </tr>\n",
       "    <tr>\n",
       "      <th>4</th>\n",
       "      <td>sedan</td>\n",
       "      <td>unknown</td>\n",
       "      <td>had not been drinking</td>\n",
       "      <td>20.0</td>\n",
       "      <td>14</td>\n",
       "      <td>daylight</td>\n",
       "      <td>others</td>\n",
       "      <td>1</td>\n",
       "    </tr>\n",
       "  </tbody>\n",
       "</table>\n",
       "</div>"
      ],
      "text/plain": [
       "  vehicle_type party_drug_physical                      party_sobriety  \\\n",
       "0        sedan             unknown               had not been drinking   \n",
       "1        sedan             unknown               had not been drinking   \n",
       "2        sedan                   G                  impairment unknown   \n",
       "3        sedan             unknown  had been drinking, under influence   \n",
       "4        sedan             unknown               had not been drinking   \n",
       "\n",
       "   insurance_premium  collision_hour                    lighting  \\\n",
       "0               31.0               7                    daylight   \n",
       "1               54.0               2     dark with street lights   \n",
       "2               34.0              12                    daylight   \n",
       "3               38.0               0  dark with no street lights   \n",
       "4               20.0              14                    daylight   \n",
       "\n",
       "  county_location  at_fault  \n",
       "0       san diego         1  \n",
       "1    contra costa         0  \n",
       "2         ventura         0  \n",
       "3          others         1  \n",
       "4          others         1  "
      ]
     },
     "execution_count": 36,
     "metadata": {},
     "output_type": "execute_result"
    }
   ],
   "source": [
    "data.head()"
   ]
  },
  {
   "cell_type": "code",
   "execution_count": 37,
   "id": "3c753c1f",
   "metadata": {},
   "outputs": [],
   "source": [
    "# выделим категориальные и численные столбцы\n",
    "num_cols = ['insurance_premium', 'collision_hour']\n",
    "\n",
    "cat_cols = ['vehicle_type', 'party_drug_physical', 'party_sobriety', \n",
    "            'lighting', 'county_location']"
   ]
  },
  {
   "cell_type": "markdown",
   "id": "0fc5c1d5",
   "metadata": {},
   "source": [
    "**Вывод**\n",
    "<br>Данные разбиты на тестовую и тренировочную выборки."
   ]
  },
  {
   "cell_type": "markdown",
   "id": "9c2346dd",
   "metadata": {},
   "source": [
    "## Модель для оценки водительского риска"
   ]
  },
  {
   "cell_type": "markdown",
   "id": "0219497e",
   "metadata": {},
   "source": [
    "Поскольку наблюдений много (более 50 тыс.) то нейросеть строить не будем (даже с меньшим количеством наблюдейний обучение затянется).\n",
    "Сравнивать будем 3 модели в пайплайне: KNeighborsClassifier, LGBMClassifier и CatBoostClassifier. За метрику качества возьмем roc_auc, которая показывает, насколько хорошо классификатор различает положительные и отрицательные классы."
   ]
  },
  {
   "cell_type": "code",
   "execution_count": 38,
   "id": "668351cd",
   "metadata": {},
   "outputs": [],
   "source": [
    "ohe_pipe = Pipeline(   # пайплайн для кодирования\n",
    "    [('simpeImputer_ohe', SimpleImputer(missing_values=np.nan, strategy='most_frequent')),\n",
    "    ('ohe', OneHotEncoder(drop='first', sparse=False))])\n",
    "\n",
    "data_preprocessor = ColumnTransformer(\n",
    "    [('cat', ohe_pipe, cat_cols),\n",
    "    ('num', RobustScaler(), num_cols)], remainder='passthrough')"
   ]
  },
  {
   "cell_type": "code",
   "execution_count": 39,
   "id": "e2697637",
   "metadata": {},
   "outputs": [],
   "source": [
    "pipe_final = Pipeline([\n",
    "    ('preprocessor', data_preprocessor),\n",
    "    ('models', LogisticRegression(random_state=RANDOM_STATE))])\n",
    "\n",
    "param_grid = [\n",
    "\n",
    "    # модель KNeighborsClassifier\n",
    "     {'models': [KNeighborsClassifier()],\n",
    "      'preprocessor__cat': [ohe_pipe, 'passthrough'],\n",
    "      'preprocessor__num': [StandardScaler(), MinMaxScaler(), RobustScaler(), 'passthrough']},   \n",
    "        \n",
    "    # модель LGBMClassifier\n",
    "     {'models': [LGBMClassifier(silent=True)],\n",
    "      'models__n_estimators': [1000, 1500],\n",
    "      'models__max_depth': [10, 15],\n",
    "      'preprocessor__cat': [ohe_pipe, 'passthrough'],\n",
    "      'preprocessor__num': [StandardScaler(), MinMaxScaler(), RobustScaler(), 'passthrough']},\n",
    "    \n",
    "    # модель CatBoostClassifier\n",
    "     {'models': [CatBoostClassifier(silent=True)],\n",
    "      'models__iterations': [100, 200],\n",
    "      'preprocessor__cat': [ohe_pipe, 'passthrough'],\n",
    "      'preprocessor__num': [StandardScaler(), MinMaxScaler(), RobustScaler(), 'passthrough']},\n",
    "]"
   ]
  },
  {
   "cell_type": "code",
   "execution_count": 40,
   "id": "fc784662",
   "metadata": {},
   "outputs": [],
   "source": [
    "best_model = RandomizedSearchCV(pipe_final,\n",
    "                                param_grid,\n",
    "                                cv=5,\n",
    "                                scoring='roc_auc',\n",
    "                                random_state=RANDOM_STATE,\n",
    "                                n_jobs=-1)"
   ]
  },
  {
   "cell_type": "code",
   "execution_count": 41,
   "id": "478949ed",
   "metadata": {
    "scrolled": true
   },
   "outputs": [
    {
     "data": {
      "text/plain": [
       "RandomizedSearchCV(cv=5,\n",
       "                   estimator=Pipeline(steps=[('preprocessor',\n",
       "                                              ColumnTransformer(remainder='passthrough',\n",
       "                                                                transformers=[('cat',\n",
       "                                                                               Pipeline(steps=[('simpeImputer_ohe',\n",
       "                                                                                                SimpleImputer(strategy='most_frequent')),\n",
       "                                                                                               ('ohe',\n",
       "                                                                                                OneHotEncoder(drop='first',\n",
       "                                                                                                              sparse=False))]),\n",
       "                                                                               ['vehicle_type',\n",
       "                                                                                'party_drug_physical',\n",
       "                                                                                'party_sobriety',\n",
       "                                                                                'lighting',\n",
       "                                                                                'county_location']),\n",
       "                                                                              ('num',...\n",
       "                                        {'models': [<catboost.core.CatBoostClassifier object at 0x7f8c8c8035e0>],\n",
       "                                         'models__iterations': [100, 200],\n",
       "                                         'preprocessor__cat': [Pipeline(steps=[('simpeImputer_ohe',\n",
       "                                                                                SimpleImputer(strategy='most_frequent')),\n",
       "                                                                               ('ohe',\n",
       "                                                                                OneHotEncoder(drop='first',\n",
       "                                                                                              sparse=False))]),\n",
       "                                                               'passthrough'],\n",
       "                                         'preprocessor__num': [StandardScaler(),\n",
       "                                                               MinMaxScaler(),\n",
       "                                                               RobustScaler(),\n",
       "                                                               'passthrough']}],\n",
       "                   random_state=15, scoring='roc_auc')"
      ]
     },
     "execution_count": 41,
     "metadata": {},
     "output_type": "execute_result"
    }
   ],
   "source": [
    "best_model.fit(X_train, y_train)"
   ]
  },
  {
   "cell_type": "code",
   "execution_count": 42,
   "id": "c100705e",
   "metadata": {},
   "outputs": [
    {
     "name": "stdout",
     "output_type": "stream",
     "text": [
      "Метрика roc_auc лучшей модели: 0.7051701358002391\n"
     ]
    }
   ],
   "source": [
    "print('Метрика roc_auc лучшей модели:', best_model.best_score_)"
   ]
  },
  {
   "cell_type": "code",
   "execution_count": 43,
   "id": "e9b3b3eb",
   "metadata": {},
   "outputs": [
    {
     "data": {
      "text/plain": [
       "{'preprocessor__num': MinMaxScaler(),\n",
       " 'preprocessor__cat': Pipeline(steps=[('simpeImputer_ohe', SimpleImputer(strategy='most_frequent')),\n",
       "                 ('ohe', OneHotEncoder(drop='first', sparse=False))]),\n",
       " 'models__iterations': 200,\n",
       " 'models': <catboost.core.CatBoostClassifier at 0x7f8c8c8035e0>}"
      ]
     },
     "execution_count": 43,
     "metadata": {},
     "output_type": "execute_result"
    }
   ],
   "source": [
    "best_model.best_params_"
   ]
  },
  {
   "cell_type": "code",
   "execution_count": 44,
   "id": "51913573",
   "metadata": {},
   "outputs": [
    {
     "data": {
      "text/plain": [
       "0.7110972634486914"
      ]
     },
     "execution_count": 44,
     "metadata": {},
     "output_type": "execute_result"
    }
   ],
   "source": [
    "pred = best_model.predict_proba(X_test)[:, 1]\n",
    "roc_auc_score(y_test, pred)"
   ]
  },
  {
   "cell_type": "markdown",
   "id": "d07e1b95",
   "metadata": {},
   "source": [
    "Лучшей моделью оказалась CatBoost с метрикой roc_auc = 0.71 на тренировочных и тестовых данных, что является хорошим результатом.\n",
    "Построим матрицу ошибок модели:"
   ]
  },
  {
   "cell_type": "code",
   "execution_count": 45,
   "id": "f0650501",
   "metadata": {},
   "outputs": [
    {
     "data": {
      "image/png": "[encoded data removed]",
      "text/plain": [
       "<Figure size 432x288 with 2 Axes>"
      ]
     },
     "metadata": {
      "needs_background": "light"
     },
     "output_type": "display_data"
    }
   ],
   "source": [
    "y_pred = best_model.predict(X_test)\n",
    "cm = confusion_matrix(y_test, y_pred)\n",
    "\n",
    "sns.heatmap(cm, annot=True, fmt='d', cmap='Greens', annot_kws={'fontsize': 14})\n",
    "plt.ylabel('Истинные значения')\n",
    "plt.xlabel('Предсказанные значения')\n",
    "plt.title('Матрица ошибок')\n",
    "plt.show()"
   ]
  },
  {
   "cell_type": "markdown",
   "id": "6ec01222",
   "metadata": {},
   "source": [
    "У данной модели presision = 0.70, а recall = 0.55.\n",
    "Найдем самые весомые в модели признаки и проанализируем один из них:"
   ]
  },
  {
   "cell_type": "code",
   "execution_count": 46,
   "id": "e58ef849",
   "metadata": {},
   "outputs": [],
   "source": [
    "def feature_importanses(model):\n",
    "\n",
    "    '''Функция для вывода 5 самых важных признаков модели'''\n",
    "    \n",
    "    features = {'feature': X_train.columns, 'weight': model.feature_importances_}\n",
    "    return pd.DataFrame(features).sort_values(by='weight', ascending=False).head(5)"
   ]
  },
  {
   "cell_type": "code",
   "execution_count": 47,
   "id": "ff3277d5",
   "metadata": {},
   "outputs": [
    {
     "data": {
      "text/html": [
       "<div>\n",
       "<style scoped>\n",
       "    .dataframe tbody tr th:only-of-type {\n",
       "        vertical-align: middle;\n",
       "    }\n",
       "\n",
       "    .dataframe tbody tr th {\n",
       "        vertical-align: top;\n",
       "    }\n",
       "\n",
       "    .dataframe thead th {\n",
       "        text-align: right;\n",
       "    }\n",
       "</style>\n",
       "<table border=\"1\" class=\"dataframe\">\n",
       "  <thead>\n",
       "    <tr style=\"text-align: right;\">\n",
       "      <th></th>\n",
       "      <th>feature</th>\n",
       "      <th>weight</th>\n",
       "    </tr>\n",
       "  </thead>\n",
       "  <tbody>\n",
       "    <tr>\n",
       "      <th>2</th>\n",
       "      <td>party_sobriety</td>\n",
       "      <td>27.411713</td>\n",
       "    </tr>\n",
       "    <tr>\n",
       "      <th>3</th>\n",
       "      <td>insurance_premium</td>\n",
       "      <td>22.911980</td>\n",
       "    </tr>\n",
       "    <tr>\n",
       "      <th>6</th>\n",
       "      <td>county_location</td>\n",
       "      <td>12.311609</td>\n",
       "    </tr>\n",
       "    <tr>\n",
       "      <th>1</th>\n",
       "      <td>party_drug_physical</td>\n",
       "      <td>10.757350</td>\n",
       "    </tr>\n",
       "    <tr>\n",
       "      <th>0</th>\n",
       "      <td>vehicle_type</td>\n",
       "      <td>9.680171</td>\n",
       "    </tr>\n",
       "  </tbody>\n",
       "</table>\n",
       "</div>"
      ],
      "text/plain": [
       "               feature     weight\n",
       "2       party_sobriety  27.411713\n",
       "3    insurance_premium  22.911980\n",
       "6      county_location  12.311609\n",
       "1  party_drug_physical  10.757350\n",
       "0         vehicle_type   9.680171"
      ]
     },
     "execution_count": 47,
     "metadata": {},
     "output_type": "execute_result"
    }
   ],
   "source": [
    "scaler = StandardScaler()\n",
    "X_train[num_cols] = scaler.fit_transform(X_train[num_cols])\n",
    "\n",
    "model = CatBoostClassifier(cat_features=cat_cols)\n",
    "\n",
    "model.fit(X_train, y_train, silent=True)\n",
    "\n",
    "feature_importanses(model)"
   ]
  },
  {
   "cell_type": "markdown",
   "id": "88940276",
   "metadata": {},
   "source": [
    "Все признаки влияющие на модель были рассмотрены ранее и выводы по ним сделаны в разделе EDA. Следует добавить, что их степень влияния коррелирует с ранее выполненным расчетом корреляции."
   ]
  },
  {
   "cell_type": "code",
   "execution_count": 48,
   "id": "3ab8f51a",
   "metadata": {},
   "outputs": [
    {
     "data": {
      "image/png": "[encoded data removed]",
      "text/plain": [
       "<Figure size 576x432 with 1 Axes>"
      ]
     },
     "metadata": {
      "needs_background": "light"
     },
     "output_type": "display_data"
    }
   ],
   "source": [
    "fig, ax = plt.subplots(figsize=(8, 6))\n",
    "sns.countplot(data=data, \n",
    "              x='party_sobriety', \n",
    "              hue = 'at_fault',\n",
    "              ax=ax)\n",
    "plt.title('Распределение виновности водителей по степени трезвости')\n",
    "plt.xlabel('Состояние водителя')\n",
    "plt.xticks(rotation=90)\n",
    "plt.show()"
   ]
  },
  {
   "cell_type": "markdown",
   "id": "7b8c5e3f",
   "metadata": {},
   "source": [
    "## Выводы"
   ]
  },
  {
   "cell_type": "markdown",
   "id": "eaaec46c",
   "metadata": {},
   "source": [
    "Представленные таблицы работают корректно. Таблица case_ids не потребуется. Все таблицы связаны по ключу case_id. Условия: тип виновника — только машина (car) и данныe за 2012 год возможно соблюсти. Описание таблиц не совсем соответствует самим таблицам (например поле CONTROL_CONDITION_1 из описания не имеется в таблице collisions).\n",
    "<br>По представленным данным видно, что в базу данных попало мало случаев аварий с июня по декабрь 2012 года. Либо данные были утеряны, либо в этот период не собирались вовсе. Для коллег-аналитиков был составлен ряд задач:\n",
    "1. Узнать, у каких типов автомобилей выше процент аварий кроме царапин(таблицы collisions и vehicles);\n",
    "2. Как страховка зависит от возраста автомобиля (таблицы parties и vehicles);\n",
    "3. Проведите анализ серьёзности повреждений транспортного средства, исходя из состояния дороги в момент ДТП (таблицы collisions и parties);\n",
    "4. Найдите самые частые причины ДТП (таблица parties);\n",
    "5. Узнать, в какую погоду аварии происходят чаще (таблица collisions);\n",
    "6. Найдите самые частые последствия аварии (таблица collisions);\n",
    "7. Кто чаще всего выступает вторым участником происшествия (таблица collisions).\n",
    "\n",
    "Например, решив первую задачу можно сделать вывод, что наиболее часто в серьезные аварии попадают автомобили типа сидан. Наименее часто купе. Решив вторую задачу, можно придти к выводу, что с повышением возраста автомобиля повышается и страховка, но это правило действует только для автомобилей от 2 до 15 лет С 16 до 20 лет страховка скорее понижается. Также имеется аномально высокий возраст авто - 161 год, что является мало вероятным событием.\n",
    "\n",
    "Набор данных был подготовлен на основе первичного предположения заказчика:\n",
    "1. Тип виновника — только машина (car);\n",
    "2. ДТП привело к любым значимым повреждениям автомобиля любого из участников кроме типа SCRATCH (царапина);\n",
    "3. Необходимы данные только за 2012 год.\n",
    "\n",
    "Выгруженные по условиям Заказчика данные содержат 56247 случаев и состоят из множества признаков. Из признаков отберем для моделированиия самые полезные (те, что сильнее всего коррелируют с таргетом) Уберем постфактумные признаки (например, количество участников в аварии - они известны уже после аварии). В результате осталось только 7 признаков.\n",
    "<br>Пропуски в категориальных столбцах были заполнены значением 'unknown'. Численные пропуски заполнены медианными значениями.\n",
    "\n",
    "Видно, что водители на автомобилях с размером страховки до 30 тыс. и более 80 тыс. чаще виновны, чем водители со страховкой между этими значениями. В авариях с 21.00 до 6.00 чаще виноваты водители. Водители купе в 2012 году чаще оказывались виновниакми ДТП, чем сиданов. Информации по состоянию водителя (party_drug_physical, party_sobriety) по большей части отсутствует. Трезвые водители реже оказываются виновниками, но при этом трезвые водители участвовали в большинстве аварий. при дневном свете водители также часто оказываются невиновными (как выяснили ранее, водители вцелом днем реже виновники). Можно заметить, что в крупных округах водители реже виноваты. В малых же напротив водители чаще виноваты в ДТП.\n",
    "\n",
    "Поскольку наблюдений много (более 50 тыс.) то нейросеть в работе не применялась (даже с меньшим количеством наблюдейний обучение затянется). Сравнивались 3 модели в пайплайне: KNeighborsClassifier, LGBMClassifier и CatBoostClassifier. За метрику качества была принята roc_auc, которая показывает, насколько хорошо классификатор различает положительные и отрицательные классы. Лучшей моделью оказалась CatBoostClassifier с метрикой roc_auc = 0.71 на тренировочных и тестовых данных, что является хорошим результатом. Выполненная матрица ошибок указывает на то, что Presision = 0.7, a Recall = 0.55. Следует отметить, что важность признаков в модели коррелирует с ранее обнаруженной корреляцией таргета с этими самыми признаками.\n",
    "\n",
    "<br>**Рекомендации** С целью сокращения числа аварий следует ужесточить проверку состояния водителей перед поездкой (например создать автоматизированный алкотест перед допуском к управлению авто). Ужесточнение контроля за ПДД в мало населенных округах также положительно скажется на снижении опасности аварии. Необходимо дополнить данные за 2012 год для более корректного моделирования."
   ]
  },
  {
   "cell_type": "code",
   "execution_count": null,
   "id": "cb426de6",
   "metadata": {},
   "outputs": [],
   "source": []
  }
 ],
 "metadata": {
  "ExecuteTimeLog": [
   {
    "duration": 7,
    "start_time": "2025-03-27T03:43:36.227Z"
   },
   {
    "duration": 44,
    "start_time": "2025-03-27T03:43:44.778Z"
   },
   {
    "duration": 6,
    "start_time": "2025-03-27T03:46:42.304Z"
   },
   {
    "duration": 400,
    "start_time": "2025-03-27T03:47:00.496Z"
   },
   {
    "duration": 3,
    "start_time": "2025-03-27T03:47:02.539Z"
   },
   {
    "duration": 31,
    "start_time": "2025-03-27T03:47:03.175Z"
   },
   {
    "duration": 6,
    "start_time": "2025-03-27T03:47:19.712Z"
   },
   {
    "duration": 140,
    "start_time": "2025-03-27T03:49:59.039Z"
   },
   {
    "duration": 8865,
    "start_time": "2025-03-27T03:49:59.731Z"
   },
   {
    "duration": 1234,
    "start_time": "2025-03-27T03:50:13.221Z"
   },
   {
    "duration": 9267,
    "start_time": "2025-03-27T04:01:35.176Z"
   },
   {
    "duration": 9189,
    "start_time": "2025-03-27T04:02:02.376Z"
   },
   {
    "duration": 7,
    "start_time": "2025-03-27T04:04:09.112Z"
   },
   {
    "duration": 214,
    "start_time": "2025-03-27T04:04:25.451Z"
   },
   {
    "duration": 115,
    "start_time": "2025-03-27T04:04:36.077Z"
   },
   {
    "duration": 134,
    "start_time": "2025-03-27T04:04:49.599Z"
   },
   {
    "duration": 135,
    "start_time": "2025-03-27T04:09:46.753Z"
   },
   {
    "duration": 129,
    "start_time": "2025-03-27T04:10:01.676Z"
   },
   {
    "duration": 10075,
    "start_time": "2025-03-27T04:10:47.811Z"
   },
   {
    "duration": 10021,
    "start_time": "2025-03-27T04:12:49.777Z"
   },
   {
    "duration": 13471,
    "start_time": "2025-03-27T04:14:14.182Z"
   },
   {
    "duration": 71558,
    "start_time": "2025-03-27T04:15:25.186Z"
   },
   {
    "duration": 47,
    "start_time": "2025-03-27T04:22:09.289Z"
   },
   {
    "duration": 514,
    "start_time": "2025-03-27T04:22:16.290Z"
   },
   {
    "duration": 8253,
    "start_time": "2025-03-27T04:22:16.805Z"
   },
   {
    "duration": 9584,
    "start_time": "2025-03-27T04:22:25.060Z"
   },
   {
    "duration": 12434,
    "start_time": "2025-03-27T04:22:34.646Z"
   },
   {
    "duration": 68642,
    "start_time": "2025-03-27T04:22:47.081Z"
   },
   {
    "duration": 51,
    "start_time": "2025-03-27T04:26:12.085Z"
   },
   {
    "duration": 495,
    "start_time": "2025-03-27T04:26:37.004Z"
   },
   {
    "duration": 9541,
    "start_time": "2025-03-27T04:26:37.501Z"
   },
   {
    "duration": 9683,
    "start_time": "2025-03-27T04:26:47.044Z"
   },
   {
    "duration": 12806,
    "start_time": "2025-03-27T04:26:56.730Z"
   },
   {
    "duration": 59,
    "start_time": "2025-03-27T04:27:09.538Z"
   },
   {
    "duration": 45,
    "start_time": "2025-03-27T04:27:09.599Z"
   },
   {
    "duration": 518,
    "start_time": "2025-03-27T06:04:41.886Z"
   },
   {
    "duration": 12991,
    "start_time": "2025-03-27T06:04:42.406Z"
   },
   {
    "duration": 13291,
    "start_time": "2025-03-27T06:04:55.398Z"
   },
   {
    "duration": 72805,
    "start_time": "2025-03-27T06:05:08.691Z"
   },
   {
    "duration": 64,
    "start_time": "2025-03-27T06:10:36.516Z"
   },
   {
    "duration": 538,
    "start_time": "2025-03-28T03:36:43.306Z"
   },
   {
    "duration": 10062,
    "start_time": "2025-03-28T03:36:43.846Z"
   },
   {
    "duration": 3370,
    "start_time": "2025-03-28T03:36:53.910Z"
   },
   {
    "duration": 16618,
    "start_time": "2025-03-28T03:36:57.282Z"
   },
   {
    "duration": 44,
    "start_time": "2025-03-28T03:40:43.506Z"
   },
   {
    "duration": 511,
    "start_time": "2025-03-28T03:41:12.087Z"
   },
   {
    "duration": 9551,
    "start_time": "2025-03-28T03:41:12.602Z"
   },
   {
    "duration": 3677,
    "start_time": "2025-03-28T03:41:22.156Z"
   },
   {
    "duration": 3,
    "start_time": "2025-03-28T03:41:25.835Z"
   },
   {
    "duration": 16920,
    "start_time": "2025-03-28T03:41:25.840Z"
   },
   {
    "duration": 477,
    "start_time": "2025-03-28T03:55:44.582Z"
   },
   {
    "duration": 9607,
    "start_time": "2025-03-28T03:55:45.061Z"
   },
   {
    "duration": 3655,
    "start_time": "2025-03-28T03:55:54.670Z"
   },
   {
    "duration": 16834,
    "start_time": "2025-03-28T03:55:58.327Z"
   },
   {
    "duration": 514,
    "start_time": "2025-03-28T03:56:39.650Z"
   },
   {
    "duration": 9673,
    "start_time": "2025-03-28T03:56:40.166Z"
   },
   {
    "duration": 16762,
    "start_time": "2025-03-28T03:56:49.841Z"
   },
   {
    "duration": 11126,
    "start_time": "2025-03-28T03:57:06.605Z"
   },
   {
    "duration": 487,
    "start_time": "2025-03-28T03:57:54.869Z"
   },
   {
    "duration": 9535,
    "start_time": "2025-03-28T03:57:55.357Z"
   },
   {
    "duration": 51,
    "start_time": "2025-03-28T03:58:04.894Z"
   },
   {
    "duration": 12,
    "start_time": "2025-03-28T03:58:04.947Z"
   },
   {
    "duration": 22,
    "start_time": "2025-03-28T03:58:04.960Z"
   },
   {
    "duration": 24,
    "start_time": "2025-03-28T03:58:04.984Z"
   },
   {
    "duration": 182,
    "start_time": "2025-03-28T04:23:42.558Z"
   },
   {
    "duration": 142,
    "start_time": "2025-03-28T04:24:37.417Z"
   },
   {
    "duration": 17,
    "start_time": "2025-03-28T04:24:41.825Z"
   },
   {
    "duration": 135,
    "start_time": "2025-03-28T04:24:48.505Z"
   },
   {
    "duration": 143,
    "start_time": "2025-03-28T04:25:45.152Z"
   },
   {
    "duration": 15,
    "start_time": "2025-03-28T04:27:32.616Z"
   },
   {
    "duration": 103,
    "start_time": "2025-03-28T04:32:58.456Z"
   },
   {
    "duration": 100,
    "start_time": "2025-03-28T04:33:07.723Z"
   },
   {
    "duration": 102,
    "start_time": "2025-03-28T04:33:15.509Z"
   },
   {
    "duration": 133,
    "start_time": "2025-03-28T04:33:22.920Z"
   },
   {
    "duration": 219,
    "start_time": "2025-03-28T04:33:35.466Z"
   },
   {
    "duration": 140,
    "start_time": "2025-03-28T04:34:16.472Z"
   },
   {
    "duration": 213,
    "start_time": "2025-03-28T04:34:37.049Z"
   },
   {
    "duration": 213,
    "start_time": "2025-03-28T04:34:51.467Z"
   },
   {
    "duration": 209,
    "start_time": "2025-03-28T04:39:36.682Z"
   },
   {
    "duration": 1015,
    "start_time": "2025-03-28T05:53:17.393Z"
   },
   {
    "duration": 14,
    "start_time": "2025-03-28T05:54:47.842Z"
   },
   {
    "duration": 253,
    "start_time": "2025-03-28T05:54:50.867Z"
   },
   {
    "duration": 84,
    "start_time": "2025-03-28T05:55:14.016Z"
   },
   {
    "duration": 213,
    "start_time": "2025-03-28T05:55:26.457Z"
   },
   {
    "duration": 230,
    "start_time": "2025-03-28T05:55:29.869Z"
   },
   {
    "duration": 208,
    "start_time": "2025-03-28T05:56:24.262Z"
   },
   {
    "duration": 193,
    "start_time": "2025-03-28T06:00:39.098Z"
   },
   {
    "duration": 289,
    "start_time": "2025-03-28T06:00:45.855Z"
   },
   {
    "duration": 194,
    "start_time": "2025-03-28T06:00:49.406Z"
   },
   {
    "duration": 215,
    "start_time": "2025-03-28T06:02:11.400Z"
   },
   {
    "duration": 248,
    "start_time": "2025-03-28T06:02:14.043Z"
   },
   {
    "duration": 192,
    "start_time": "2025-03-28T06:02:19.003Z"
   },
   {
    "duration": 199,
    "start_time": "2025-03-28T06:02:23.080Z"
   },
   {
    "duration": 222,
    "start_time": "2025-03-28T06:02:33.150Z"
   },
   {
    "duration": 220,
    "start_time": "2025-03-28T06:02:38.348Z"
   },
   {
    "duration": 226,
    "start_time": "2025-03-28T06:02:43.322Z"
   },
   {
    "duration": 197,
    "start_time": "2025-03-28T06:04:21.978Z"
   },
   {
    "duration": 191,
    "start_time": "2025-03-28T10:38:23.814Z"
   },
   {
    "duration": 142,
    "start_time": "2025-03-28T10:38:39.574Z"
   },
   {
    "duration": 129,
    "start_time": "2025-03-28T10:39:09.690Z"
   },
   {
    "duration": 135,
    "start_time": "2025-03-28T10:39:20.996Z"
   },
   {
    "duration": 138,
    "start_time": "2025-03-28T10:39:46.393Z"
   },
   {
    "duration": 137,
    "start_time": "2025-03-28T10:39:51.838Z"
   },
   {
    "duration": 318,
    "start_time": "2025-03-28T10:40:02.316Z"
   },
   {
    "duration": 318,
    "start_time": "2025-03-28T10:40:20.301Z"
   },
   {
    "duration": 301,
    "start_time": "2025-03-28T10:40:28.170Z"
   },
   {
    "duration": 142,
    "start_time": "2025-03-28T10:41:28.853Z"
   },
   {
    "duration": 134,
    "start_time": "2025-03-28T10:41:34.702Z"
   },
   {
    "duration": 1331,
    "start_time": "2025-03-29T04:16:24.175Z"
   },
   {
    "duration": 9728,
    "start_time": "2025-03-29T04:16:25.508Z"
   },
   {
    "duration": 50,
    "start_time": "2025-03-29T04:16:35.238Z"
   },
   {
    "duration": 11,
    "start_time": "2025-03-29T04:16:35.289Z"
   },
   {
    "duration": 159,
    "start_time": "2025-03-29T04:16:35.302Z"
   },
   {
    "duration": 13,
    "start_time": "2025-03-29T04:16:35.463Z"
   },
   {
    "duration": 214,
    "start_time": "2025-03-29T04:16:35.478Z"
   },
   {
    "duration": 203,
    "start_time": "2025-03-29T04:16:35.694Z"
   },
   {
    "duration": 278,
    "start_time": "2025-03-29T04:16:35.898Z"
   },
   {
    "duration": 97,
    "start_time": "2025-03-29T04:24:43.948Z"
   },
   {
    "duration": 209,
    "start_time": "2025-03-29T04:33:38.295Z"
   },
   {
    "duration": 104,
    "start_time": "2025-03-29T04:33:48.446Z"
   },
   {
    "duration": 112,
    "start_time": "2025-03-29T04:34:08.975Z"
   },
   {
    "duration": 110,
    "start_time": "2025-03-29T04:34:30.229Z"
   },
   {
    "duration": 113,
    "start_time": "2025-03-29T04:35:00.653Z"
   },
   {
    "duration": 110,
    "start_time": "2025-03-29T04:35:28.094Z"
   },
   {
    "duration": 104,
    "start_time": "2025-03-29T04:35:42.280Z"
   },
   {
    "duration": 109,
    "start_time": "2025-03-29T04:35:58.646Z"
   },
   {
    "duration": 659,
    "start_time": "2025-03-29T04:36:31.166Z"
   },
   {
    "duration": 674,
    "start_time": "2025-03-29T04:37:16.238Z"
   },
   {
    "duration": 673,
    "start_time": "2025-03-29T04:37:29.558Z"
   },
   {
    "duration": 144,
    "start_time": "2025-03-29T04:39:57.443Z"
   },
   {
    "duration": 150,
    "start_time": "2025-03-29T04:41:00.856Z"
   },
   {
    "duration": 108,
    "start_time": "2025-03-29T04:41:24.997Z"
   },
   {
    "duration": 660,
    "start_time": "2025-03-29T04:41:35.228Z"
   },
   {
    "duration": 128,
    "start_time": "2025-03-29T04:42:15.024Z"
   },
   {
    "duration": 627,
    "start_time": "2025-03-29T04:42:38.868Z"
   },
   {
    "duration": 1421,
    "start_time": "2025-03-29T04:42:50.123Z"
   },
   {
    "duration": 6652,
    "start_time": "2025-03-29T04:43:02.373Z"
   },
   {
    "duration": 639,
    "start_time": "2025-03-29T04:44:27.639Z"
   },
   {
    "duration": 645,
    "start_time": "2025-03-29T04:47:13.336Z"
   },
   {
    "duration": 649,
    "start_time": "2025-03-29T04:47:35.829Z"
   },
   {
    "duration": 661,
    "start_time": "2025-03-29T04:47:56.879Z"
   },
   {
    "duration": 161,
    "start_time": "2025-03-29T04:49:01.569Z"
   },
   {
    "duration": 649,
    "start_time": "2025-03-29T04:49:07.745Z"
   },
   {
    "duration": 183,
    "start_time": "2025-03-29T04:49:12.138Z"
   },
   {
    "duration": 159,
    "start_time": "2025-03-29T04:49:45.428Z"
   },
   {
    "duration": 649,
    "start_time": "2025-03-29T04:50:31.412Z"
   },
   {
    "duration": 233,
    "start_time": "2025-03-29T04:50:33.427Z"
   },
   {
    "duration": 133,
    "start_time": "2025-03-29T04:50:46.028Z"
   },
   {
    "duration": 768,
    "start_time": "2025-03-29T04:56:35.779Z"
   },
   {
    "duration": 131,
    "start_time": "2025-03-29T04:57:15.091Z"
   },
   {
    "duration": 133,
    "start_time": "2025-03-29T05:00:36.962Z"
   },
   {
    "duration": 4250,
    "start_time": "2025-03-29T05:22:31.189Z"
   },
   {
    "duration": 4619,
    "start_time": "2025-03-29T05:33:11.616Z"
   },
   {
    "duration": 2158,
    "start_time": "2025-03-29T05:33:30.692Z"
   },
   {
    "duration": 4182,
    "start_time": "2025-03-29T05:34:02.497Z"
   },
   {
    "duration": 4235,
    "start_time": "2025-03-29T05:34:25.651Z"
   },
   {
    "duration": 4741,
    "start_time": "2025-03-29T05:35:01.539Z"
   },
   {
    "duration": 112,
    "start_time": "2025-03-29T05:35:10.120Z"
   },
   {
    "duration": 4015,
    "start_time": "2025-03-29T05:35:34.420Z"
   },
   {
    "duration": 3721,
    "start_time": "2025-03-29T05:36:15.694Z"
   },
   {
    "duration": 254,
    "start_time": "2025-03-29T05:36:59.066Z"
   },
   {
    "duration": 4201,
    "start_time": "2025-03-29T05:39:06.589Z"
   },
   {
    "duration": 4244,
    "start_time": "2025-03-29T05:39:47.988Z"
   },
   {
    "duration": 4044,
    "start_time": "2025-03-29T05:42:59.734Z"
   },
   {
    "duration": 4125,
    "start_time": "2025-03-29T05:43:54.086Z"
   },
   {
    "duration": 3967,
    "start_time": "2025-03-29T05:45:29.254Z"
   },
   {
    "duration": 249,
    "start_time": "2025-03-29T05:45:43.037Z"
   },
   {
    "duration": 263,
    "start_time": "2025-03-29T05:46:50.729Z"
   },
   {
    "duration": 227,
    "start_time": "2025-03-29T05:47:41.684Z"
   },
   {
    "duration": 3725,
    "start_time": "2025-03-29T05:48:49.801Z"
   },
   {
    "duration": 229,
    "start_time": "2025-03-29T05:48:53.527Z"
   },
   {
    "duration": 117,
    "start_time": "2025-03-29T05:52:58.877Z"
   },
   {
    "duration": 216,
    "start_time": "2025-03-29T05:53:30.067Z"
   },
   {
    "duration": 1392,
    "start_time": "2025-03-31T04:19:14.003Z"
   },
   {
    "duration": 8364,
    "start_time": "2025-03-31T04:19:15.397Z"
   },
   {
    "duration": 213,
    "start_time": "2025-03-31T04:19:23.763Z"
   },
   {
    "duration": 48,
    "start_time": "2025-03-31T04:19:23.978Z"
   },
   {
    "duration": 162,
    "start_time": "2025-03-31T04:19:24.028Z"
   },
   {
    "duration": 46,
    "start_time": "2025-03-31T04:19:24.191Z"
   },
   {
    "duration": 214,
    "start_time": "2025-03-31T04:19:24.238Z"
   },
   {
    "duration": 197,
    "start_time": "2025-03-31T04:19:24.454Z"
   },
   {
    "duration": 2335,
    "start_time": "2025-03-31T04:19:24.653Z"
   },
   {
    "duration": 140,
    "start_time": "2025-03-31T04:19:26.990Z"
   },
   {
    "duration": 4064,
    "start_time": "2025-03-31T04:19:27.132Z"
   },
   {
    "duration": 236,
    "start_time": "2025-03-31T04:19:31.198Z"
   },
   {
    "duration": 16438,
    "start_time": "2025-03-31T04:28:46.251Z"
   },
   {
    "duration": 14453,
    "start_time": "2025-03-31T04:29:09.427Z"
   },
   {
    "duration": 13802,
    "start_time": "2025-03-31T04:32:55.811Z"
   },
   {
    "duration": 10084,
    "start_time": "2025-03-31T05:06:23.444Z"
   },
   {
    "duration": 4977,
    "start_time": "2025-03-31T09:22:14.762Z"
   },
   {
    "duration": 106,
    "start_time": "2025-03-31T09:24:13.354Z"
   },
   {
    "duration": 19811,
    "start_time": "2025-03-31T09:24:16.725Z"
   },
   {
    "duration": 213,
    "start_time": "2025-03-31T09:24:38.978Z"
   },
   {
    "duration": 3,
    "start_time": "2025-03-31T09:24:50.490Z"
   },
   {
    "duration": 32,
    "start_time": "2025-03-31T09:24:51.770Z"
   },
   {
    "duration": 23,
    "start_time": "2025-03-31T09:24:55.850Z"
   },
   {
    "duration": 46,
    "start_time": "2025-03-31T09:25:22.478Z"
   },
   {
    "duration": 4,
    "start_time": "2025-03-31T09:29:52.315Z"
   },
   {
    "duration": 603,
    "start_time": "2025-03-31T09:30:05.336Z"
   },
   {
    "duration": 35,
    "start_time": "2025-03-31T09:32:31.378Z"
   },
   {
    "duration": 57,
    "start_time": "2025-03-31T09:32:56.326Z"
   },
   {
    "duration": 37,
    "start_time": "2025-03-31T09:33:00.027Z"
   },
   {
    "duration": 51,
    "start_time": "2025-03-31T09:36:49.160Z"
   },
   {
    "duration": 53,
    "start_time": "2025-03-31T09:37:46.325Z"
   },
   {
    "duration": 3,
    "start_time": "2025-03-31T09:37:52.234Z"
   },
   {
    "duration": 226,
    "start_time": "2025-03-31T09:38:33.866Z"
   },
   {
    "duration": 231,
    "start_time": "2025-03-31T09:38:42.137Z"
   },
   {
    "duration": 134,
    "start_time": "2025-03-31T09:41:24.307Z"
   },
   {
    "duration": 4,
    "start_time": "2025-03-31T09:41:30.256Z"
   },
   {
    "duration": 544,
    "start_time": "2025-03-31T09:41:30.640Z"
   },
   {
    "duration": 1729,
    "start_time": "2025-03-31T09:41:51.747Z"
   },
   {
    "duration": 46,
    "start_time": "2025-03-31T09:42:09.157Z"
   },
   {
    "duration": 565,
    "start_time": "2025-03-31T09:47:32.841Z"
   },
   {
    "duration": 1391,
    "start_time": "2025-03-31T09:49:40.111Z"
   },
   {
    "duration": 23,
    "start_time": "2025-03-31T09:51:11.373Z"
   },
   {
    "duration": 14,
    "start_time": "2025-03-31T09:51:17.976Z"
   },
   {
    "duration": 42,
    "start_time": "2025-03-31T09:52:39.206Z"
   },
   {
    "duration": 374,
    "start_time": "2025-03-31T09:52:50.706Z"
   },
   {
    "duration": 1306,
    "start_time": "2025-03-31T09:53:21.160Z"
   },
   {
    "duration": 8324,
    "start_time": "2025-03-31T09:53:22.468Z"
   },
   {
    "duration": 211,
    "start_time": "2025-03-31T09:53:30.793Z"
   },
   {
    "duration": 46,
    "start_time": "2025-03-31T09:53:31.006Z"
   },
   {
    "duration": 220,
    "start_time": "2025-03-31T09:53:31.055Z"
   },
   {
    "duration": 45,
    "start_time": "2025-03-31T09:53:31.277Z"
   },
   {
    "duration": 254,
    "start_time": "2025-03-31T09:53:31.323Z"
   },
   {
    "duration": 209,
    "start_time": "2025-03-31T09:53:31.579Z"
   },
   {
    "duration": 1093,
    "start_time": "2025-03-31T09:53:31.790Z"
   },
   {
    "duration": 148,
    "start_time": "2025-03-31T09:53:32.886Z"
   },
   {
    "duration": 6902,
    "start_time": "2025-03-31T09:53:33.036Z"
   },
   {
    "duration": 228,
    "start_time": "2025-03-31T09:53:39.939Z"
   },
   {
    "duration": 12290,
    "start_time": "2025-03-31T09:53:40.169Z"
   },
   {
    "duration": 143,
    "start_time": "2025-03-31T09:53:52.461Z"
   },
   {
    "duration": 14,
    "start_time": "2025-03-31T09:53:52.605Z"
   },
   {
    "duration": 538,
    "start_time": "2025-03-31T09:53:52.620Z"
   },
   {
    "duration": 0,
    "start_time": "2025-03-31T09:53:53.160Z"
   },
   {
    "duration": 0,
    "start_time": "2025-03-31T09:53:53.161Z"
   },
   {
    "duration": 0,
    "start_time": "2025-03-31T09:53:53.163Z"
   },
   {
    "duration": 0,
    "start_time": "2025-03-31T09:53:53.165Z"
   },
   {
    "duration": 42,
    "start_time": "2025-03-31T09:54:26.158Z"
   },
   {
    "duration": 89,
    "start_time": "2025-03-31T09:56:27.630Z"
   },
   {
    "duration": 4,
    "start_time": "2025-03-31T09:56:31.646Z"
   },
   {
    "duration": 564,
    "start_time": "2025-03-31T09:56:32.658Z"
   },
   {
    "duration": 25,
    "start_time": "2025-03-31T09:56:45.254Z"
   },
   {
    "duration": 12355,
    "start_time": "2025-03-31T09:56:54.738Z"
   },
   {
    "duration": 142,
    "start_time": "2025-03-31T09:57:07.094Z"
   },
   {
    "duration": 21,
    "start_time": "2025-03-31T09:57:07.238Z"
   },
   {
    "duration": 1408,
    "start_time": "2025-03-31T09:58:08.512Z"
   },
   {
    "duration": 4,
    "start_time": "2025-03-31T09:58:25.877Z"
   },
   {
    "duration": 592,
    "start_time": "2025-03-31T09:58:26.099Z"
   },
   {
    "duration": 120,
    "start_time": "2025-03-31T09:59:46.595Z"
   },
   {
    "duration": 127,
    "start_time": "2025-03-31T10:00:06.113Z"
   },
   {
    "duration": 73,
    "start_time": "2025-03-31T10:01:32.407Z"
   },
   {
    "duration": 227,
    "start_time": "2025-03-31T10:01:46.960Z"
   },
   {
    "duration": 298,
    "start_time": "2025-03-31T10:25:23.838Z"
   },
   {
    "duration": 866,
    "start_time": "2025-03-31T10:25:34.285Z"
   },
   {
    "duration": 11,
    "start_time": "2025-03-31T10:33:38.578Z"
   },
   {
    "duration": 355,
    "start_time": "2025-03-31T10:34:21.428Z"
   },
   {
    "duration": 416,
    "start_time": "2025-03-31T10:34:58.671Z"
   },
   {
    "duration": 384,
    "start_time": "2025-03-31T10:35:04.750Z"
   },
   {
    "duration": 11,
    "start_time": "2025-03-31T10:35:51.622Z"
   },
   {
    "duration": 396,
    "start_time": "2025-03-31T10:36:01.323Z"
   },
   {
    "duration": 333,
    "start_time": "2025-03-31T10:36:19.509Z"
   },
   {
    "duration": 13,
    "start_time": "2025-03-31T10:36:30.824Z"
   },
   {
    "duration": 398,
    "start_time": "2025-03-31T10:36:33.383Z"
   },
   {
    "duration": 12,
    "start_time": "2025-03-31T10:37:30.491Z"
   },
   {
    "duration": 1285,
    "start_time": "2025-03-31T10:42:35.776Z"
   },
   {
    "duration": 9608,
    "start_time": "2025-03-31T10:42:37.063Z"
   },
   {
    "duration": 205,
    "start_time": "2025-03-31T10:42:46.673Z"
   },
   {
    "duration": 43,
    "start_time": "2025-03-31T10:42:46.880Z"
   },
   {
    "duration": 199,
    "start_time": "2025-03-31T10:42:46.924Z"
   },
   {
    "duration": 44,
    "start_time": "2025-03-31T10:42:47.125Z"
   },
   {
    "duration": 223,
    "start_time": "2025-03-31T10:42:47.171Z"
   },
   {
    "duration": 217,
    "start_time": "2025-03-31T10:42:47.396Z"
   },
   {
    "duration": 789,
    "start_time": "2025-03-31T10:42:47.614Z"
   },
   {
    "duration": 140,
    "start_time": "2025-03-31T10:42:48.405Z"
   },
   {
    "duration": 1464,
    "start_time": "2025-03-31T10:42:48.547Z"
   },
   {
    "duration": 229,
    "start_time": "2025-03-31T10:42:50.013Z"
   },
   {
    "duration": 12372,
    "start_time": "2025-03-31T10:42:50.243Z"
   },
   {
    "duration": 564,
    "start_time": "2025-03-31T10:43:02.617Z"
   },
   {
    "duration": 0,
    "start_time": "2025-03-31T10:43:03.183Z"
   },
   {
    "duration": 0,
    "start_time": "2025-03-31T10:43:03.184Z"
   },
   {
    "duration": 0,
    "start_time": "2025-03-31T10:43:03.185Z"
   },
   {
    "duration": 1,
    "start_time": "2025-03-31T10:43:03.186Z"
   },
   {
    "duration": 123,
    "start_time": "2025-03-31T10:43:54.145Z"
   },
   {
    "duration": 123,
    "start_time": "2025-03-31T10:44:08.325Z"
   },
   {
    "duration": 12655,
    "start_time": "2025-03-31T10:46:35.673Z"
   },
   {
    "duration": 10418,
    "start_time": "2025-03-31T10:48:07.833Z"
   },
   {
    "duration": 533,
    "start_time": "2025-03-31T10:48:22.879Z"
   },
   {
    "duration": 3,
    "start_time": "2025-03-31T10:52:37.463Z"
   },
   {
    "duration": 3,
    "start_time": "2025-03-31T10:52:41.219Z"
   },
   {
    "duration": 406,
    "start_time": "2025-03-31T10:52:49.385Z"
   },
   {
    "duration": 193,
    "start_time": "2025-03-31T10:53:43.248Z"
   },
   {
    "duration": 9,
    "start_time": "2025-03-31T10:54:07.371Z"
   },
   {
    "duration": 4,
    "start_time": "2025-03-31T10:54:09.442Z"
   },
   {
    "duration": 569,
    "start_time": "2025-03-31T10:54:09.647Z"
   },
   {
    "duration": 1555,
    "start_time": "2025-03-31T11:07:53.415Z"
   },
   {
    "duration": 1567,
    "start_time": "2025-03-31T11:08:12.972Z"
   },
   {
    "duration": 127,
    "start_time": "2025-03-31T11:08:23.023Z"
   },
   {
    "duration": 15608,
    "start_time": "2025-03-31T11:08:37.757Z"
   },
   {
    "duration": 294,
    "start_time": "2025-03-31T11:08:53.367Z"
   },
   {
    "duration": 4,
    "start_time": "2025-03-31T11:10:25.131Z"
   },
   {
    "duration": 565,
    "start_time": "2025-03-31T11:10:25.136Z"
   },
   {
    "duration": 268,
    "start_time": "2025-03-31T11:10:29.955Z"
   },
   {
    "duration": 274,
    "start_time": "2025-03-31T11:10:37.577Z"
   },
   {
    "duration": 18,
    "start_time": "2025-03-31T11:10:43.260Z"
   },
   {
    "duration": 24,
    "start_time": "2025-03-31T11:10:49.167Z"
   },
   {
    "duration": 15,
    "start_time": "2025-03-31T11:10:53.403Z"
   },
   {
    "duration": 17,
    "start_time": "2025-03-31T11:11:09.737Z"
   },
   {
    "duration": 310,
    "start_time": "2025-03-31T11:22:13.388Z"
   },
   {
    "duration": 538,
    "start_time": "2025-03-31T11:22:25.477Z"
   },
   {
    "duration": 239,
    "start_time": "2025-03-31T11:27:27.231Z"
   },
   {
    "duration": 540,
    "start_time": "2025-03-31T11:27:33.816Z"
   },
   {
    "duration": 1307,
    "start_time": "2025-03-31T11:31:21.751Z"
   },
   {
    "duration": 9900,
    "start_time": "2025-03-31T11:31:23.060Z"
   },
   {
    "duration": 218,
    "start_time": "2025-03-31T11:31:32.962Z"
   },
   {
    "duration": 44,
    "start_time": "2025-03-31T11:31:33.182Z"
   },
   {
    "duration": 164,
    "start_time": "2025-03-31T11:31:33.227Z"
   },
   {
    "duration": 46,
    "start_time": "2025-03-31T11:31:33.394Z"
   },
   {
    "duration": 323,
    "start_time": "2025-03-31T11:31:33.442Z"
   },
   {
    "duration": 212,
    "start_time": "2025-03-31T11:31:33.767Z"
   },
   {
    "duration": 2438,
    "start_time": "2025-03-31T11:31:33.981Z"
   },
   {
    "duration": 143,
    "start_time": "2025-03-31T11:31:36.421Z"
   },
   {
    "duration": 4096,
    "start_time": "2025-03-31T11:31:36.566Z"
   },
   {
    "duration": 241,
    "start_time": "2025-03-31T11:31:40.664Z"
   },
   {
    "duration": 12535,
    "start_time": "2025-03-31T11:31:40.907Z"
   },
   {
    "duration": 303,
    "start_time": "2025-03-31T11:31:53.444Z"
   },
   {
    "duration": 9,
    "start_time": "2025-03-31T11:31:53.749Z"
   },
   {
    "duration": 604,
    "start_time": "2025-03-31T11:31:53.760Z"
   },
   {
    "duration": 261,
    "start_time": "2025-03-31T11:31:54.366Z"
   },
   {
    "duration": 290,
    "start_time": "2025-03-31T11:31:54.629Z"
   },
   {
    "duration": 42,
    "start_time": "2025-03-31T11:31:54.921Z"
   },
   {
    "duration": 360,
    "start_time": "2025-03-31T11:31:54.965Z"
   },
   {
    "duration": 540,
    "start_time": "2025-03-31T11:31:55.327Z"
   },
   {
    "duration": 311,
    "start_time": "2025-03-31T11:33:21.952Z"
   },
   {
    "duration": 1687,
    "start_time": "2025-04-02T03:41:29.711Z"
   },
   {
    "duration": 8779,
    "start_time": "2025-04-02T03:41:31.400Z"
   },
   {
    "duration": 225,
    "start_time": "2025-04-02T03:41:40.181Z"
   },
   {
    "duration": 44,
    "start_time": "2025-04-02T03:41:40.409Z"
   },
   {
    "duration": 171,
    "start_time": "2025-04-02T03:41:40.455Z"
   },
   {
    "duration": 46,
    "start_time": "2025-04-02T03:41:40.628Z"
   },
   {
    "duration": 222,
    "start_time": "2025-04-02T03:41:40.676Z"
   },
   {
    "duration": 214,
    "start_time": "2025-04-02T03:41:40.900Z"
   },
   {
    "duration": 2406,
    "start_time": "2025-04-02T03:41:41.116Z"
   },
   {
    "duration": 146,
    "start_time": "2025-04-02T03:41:43.524Z"
   },
   {
    "duration": 3769,
    "start_time": "2025-04-02T03:41:43.672Z"
   },
   {
    "duration": 265,
    "start_time": "2025-04-02T03:41:47.442Z"
   },
   {
    "duration": 11154,
    "start_time": "2025-04-02T03:41:47.708Z"
   },
   {
    "duration": 292,
    "start_time": "2025-04-02T03:41:58.865Z"
   },
   {
    "duration": 4,
    "start_time": "2025-04-02T03:41:59.159Z"
   },
   {
    "duration": 596,
    "start_time": "2025-04-02T03:41:59.164Z"
   },
   {
    "duration": 274,
    "start_time": "2025-04-02T03:41:59.762Z"
   },
   {
    "duration": 292,
    "start_time": "2025-04-02T03:42:00.037Z"
   },
   {
    "duration": 33,
    "start_time": "2025-04-02T03:42:00.330Z"
   },
   {
    "duration": 352,
    "start_time": "2025-04-02T03:42:00.365Z"
   },
   {
    "duration": 569,
    "start_time": "2025-04-02T03:42:00.719Z"
   },
   {
    "duration": 11440,
    "start_time": "2025-04-02T03:42:38.969Z"
   },
   {
    "duration": 313,
    "start_time": "2025-04-02T03:42:50.412Z"
   },
   {
    "duration": 7,
    "start_time": "2025-04-02T03:42:50.728Z"
   },
   {
    "duration": 677,
    "start_time": "2025-04-02T03:42:50.737Z"
   },
   {
    "duration": 315,
    "start_time": "2025-04-02T03:42:51.416Z"
   },
   {
    "duration": 306,
    "start_time": "2025-04-02T03:42:51.733Z"
   },
   {
    "duration": 38,
    "start_time": "2025-04-02T03:42:52.041Z"
   },
   {
    "duration": 3025,
    "start_time": "2025-04-02T03:42:52.082Z"
   },
   {
    "duration": 1278,
    "start_time": "2025-04-02T03:43:48.754Z"
   },
   {
    "duration": 8137,
    "start_time": "2025-04-02T03:43:50.034Z"
   },
   {
    "duration": 210,
    "start_time": "2025-04-02T03:43:58.172Z"
   },
   {
    "duration": 44,
    "start_time": "2025-04-02T03:43:58.384Z"
   },
   {
    "duration": 159,
    "start_time": "2025-04-02T03:43:58.429Z"
   },
   {
    "duration": 46,
    "start_time": "2025-04-02T03:43:58.589Z"
   },
   {
    "duration": 216,
    "start_time": "2025-04-02T03:43:58.636Z"
   },
   {
    "duration": 204,
    "start_time": "2025-04-02T03:43:58.853Z"
   },
   {
    "duration": 732,
    "start_time": "2025-04-02T03:43:59.059Z"
   },
   {
    "duration": 165,
    "start_time": "2025-04-02T03:43:59.793Z"
   },
   {
    "duration": 1403,
    "start_time": "2025-04-02T03:43:59.960Z"
   },
   {
    "duration": 233,
    "start_time": "2025-04-02T03:44:01.364Z"
   },
   {
    "duration": 12486,
    "start_time": "2025-04-02T03:44:01.598Z"
   },
   {
    "duration": 287,
    "start_time": "2025-04-02T03:44:14.085Z"
   },
   {
    "duration": 4,
    "start_time": "2025-04-02T03:44:14.374Z"
   },
   {
    "duration": 567,
    "start_time": "2025-04-02T03:44:14.379Z"
   },
   {
    "duration": 249,
    "start_time": "2025-04-02T03:44:14.948Z"
   },
   {
    "duration": 256,
    "start_time": "2025-04-02T03:44:15.198Z"
   },
   {
    "duration": 28,
    "start_time": "2025-04-02T03:44:15.455Z"
   },
   {
    "duration": 311,
    "start_time": "2025-04-02T03:44:15.485Z"
   },
   {
    "duration": 479,
    "start_time": "2025-04-02T03:44:15.798Z"
   },
   {
    "duration": 41,
    "start_time": "2025-04-02T03:46:23.304Z"
   },
   {
    "duration": 498,
    "start_time": "2025-04-02T03:46:40.716Z"
   },
   {
    "duration": 1222,
    "start_time": "2025-04-02T03:47:23.781Z"
   },
   {
    "duration": 7160,
    "start_time": "2025-04-02T03:47:25.005Z"
   },
   {
    "duration": 212,
    "start_time": "2025-04-02T03:47:32.167Z"
   },
   {
    "duration": 43,
    "start_time": "2025-04-02T03:47:32.381Z"
   },
   {
    "duration": 160,
    "start_time": "2025-04-02T03:47:32.426Z"
   },
   {
    "duration": 45,
    "start_time": "2025-04-02T03:47:32.587Z"
   },
   {
    "duration": 220,
    "start_time": "2025-04-02T03:47:32.634Z"
   },
   {
    "duration": 201,
    "start_time": "2025-04-02T03:47:32.855Z"
   },
   {
    "duration": 754,
    "start_time": "2025-04-02T03:47:33.057Z"
   },
   {
    "duration": 137,
    "start_time": "2025-04-02T03:47:33.813Z"
   },
   {
    "duration": 1677,
    "start_time": "2025-04-02T03:47:33.952Z"
   },
   {
    "duration": 222,
    "start_time": "2025-04-02T03:47:35.630Z"
   },
   {
    "duration": 12040,
    "start_time": "2025-04-02T03:47:35.854Z"
   },
   {
    "duration": 326,
    "start_time": "2025-04-02T03:47:47.903Z"
   },
   {
    "duration": 4,
    "start_time": "2025-04-02T03:47:48.230Z"
   },
   {
    "duration": 640,
    "start_time": "2025-04-02T03:47:48.236Z"
   },
   {
    "duration": 256,
    "start_time": "2025-04-02T03:47:48.878Z"
   },
   {
    "duration": 296,
    "start_time": "2025-04-02T03:47:49.136Z"
   },
   {
    "duration": 32,
    "start_time": "2025-04-02T03:47:49.433Z"
   },
   {
    "duration": 352,
    "start_time": "2025-04-02T03:47:49.466Z"
   },
   {
    "duration": 550,
    "start_time": "2025-04-02T03:47:49.821Z"
   },
   {
    "duration": 1246,
    "start_time": "2025-04-02T03:48:47.861Z"
   },
   {
    "duration": 8223,
    "start_time": "2025-04-02T03:48:49.109Z"
   },
   {
    "duration": 239,
    "start_time": "2025-04-02T03:48:57.334Z"
   },
   {
    "duration": 47,
    "start_time": "2025-04-02T03:48:57.576Z"
   },
   {
    "duration": 163,
    "start_time": "2025-04-02T03:48:57.625Z"
   },
   {
    "duration": 46,
    "start_time": "2025-04-02T03:48:57.789Z"
   },
   {
    "duration": 215,
    "start_time": "2025-04-02T03:48:57.837Z"
   },
   {
    "duration": 222,
    "start_time": "2025-04-02T03:48:58.053Z"
   },
   {
    "duration": 764,
    "start_time": "2025-04-02T03:48:58.277Z"
   },
   {
    "duration": 138,
    "start_time": "2025-04-02T03:48:59.043Z"
   },
   {
    "duration": 3969,
    "start_time": "2025-04-02T03:48:59.182Z"
   },
   {
    "duration": 237,
    "start_time": "2025-04-02T03:49:03.153Z"
   },
   {
    "duration": 12734,
    "start_time": "2025-04-02T03:49:03.391Z"
   },
   {
    "duration": 341,
    "start_time": "2025-04-02T03:49:16.127Z"
   },
   {
    "duration": 4,
    "start_time": "2025-04-02T03:49:16.469Z"
   },
   {
    "duration": 552,
    "start_time": "2025-04-02T03:49:16.475Z"
   },
   {
    "duration": 244,
    "start_time": "2025-04-02T03:49:17.029Z"
   },
   {
    "duration": 278,
    "start_time": "2025-04-02T03:49:17.275Z"
   },
   {
    "duration": 52,
    "start_time": "2025-04-02T03:49:17.556Z"
   },
   {
    "duration": 304,
    "start_time": "2025-04-02T03:49:17.610Z"
   },
   {
    "duration": 458,
    "start_time": "2025-04-02T03:49:17.915Z"
   },
   {
    "duration": 11221,
    "start_time": "2025-04-02T03:50:49.824Z"
   },
   {
    "duration": 261,
    "start_time": "2025-04-02T03:51:01.047Z"
   },
   {
    "duration": 3,
    "start_time": "2025-04-02T03:51:01.310Z"
   },
   {
    "duration": 578,
    "start_time": "2025-04-02T03:51:01.315Z"
   },
   {
    "duration": 236,
    "start_time": "2025-04-02T03:51:01.895Z"
   },
   {
    "duration": 288,
    "start_time": "2025-04-02T03:51:02.133Z"
   },
   {
    "duration": 27,
    "start_time": "2025-04-02T03:51:02.423Z"
   },
   {
    "duration": 280,
    "start_time": "2025-04-02T03:51:02.452Z"
   },
   {
    "duration": 451,
    "start_time": "2025-04-02T03:51:02.733Z"
   },
   {
    "duration": 1239,
    "start_time": "2025-04-02T03:51:40.753Z"
   },
   {
    "duration": 7661,
    "start_time": "2025-04-02T03:51:41.994Z"
   },
   {
    "duration": 215,
    "start_time": "2025-04-02T03:51:49.657Z"
   },
   {
    "duration": 45,
    "start_time": "2025-04-02T03:51:49.874Z"
   },
   {
    "duration": 159,
    "start_time": "2025-04-02T03:51:49.921Z"
   },
   {
    "duration": 46,
    "start_time": "2025-04-02T03:51:50.081Z"
   },
   {
    "duration": 217,
    "start_time": "2025-04-02T03:51:50.129Z"
   },
   {
    "duration": 190,
    "start_time": "2025-04-02T03:51:50.347Z"
   },
   {
    "duration": 744,
    "start_time": "2025-04-02T03:51:50.538Z"
   },
   {
    "duration": 144,
    "start_time": "2025-04-02T03:51:51.284Z"
   },
   {
    "duration": 3731,
    "start_time": "2025-04-02T03:51:51.430Z"
   },
   {
    "duration": 232,
    "start_time": "2025-04-02T03:51:55.163Z"
   },
   {
    "duration": 10603,
    "start_time": "2025-04-02T03:51:55.397Z"
   },
   {
    "duration": 274,
    "start_time": "2025-04-02T03:52:06.001Z"
   },
   {
    "duration": 5,
    "start_time": "2025-04-02T03:52:06.277Z"
   },
   {
    "duration": 578,
    "start_time": "2025-04-02T03:52:06.284Z"
   },
   {
    "duration": 247,
    "start_time": "2025-04-02T03:52:06.864Z"
   },
   {
    "duration": 307,
    "start_time": "2025-04-02T03:52:07.113Z"
   },
   {
    "duration": 31,
    "start_time": "2025-04-02T03:52:07.422Z"
   },
   {
    "duration": 342,
    "start_time": "2025-04-02T03:52:07.455Z"
   },
   {
    "duration": 480,
    "start_time": "2025-04-02T03:52:07.798Z"
   },
   {
    "duration": 21,
    "start_time": "2025-04-02T03:56:00.219Z"
   },
   {
    "duration": 45,
    "start_time": "2025-04-02T03:58:14.640Z"
   },
   {
    "duration": 23,
    "start_time": "2025-04-02T03:58:18.464Z"
   },
   {
    "duration": 54,
    "start_time": "2025-04-02T04:00:20.269Z"
   },
   {
    "duration": 26,
    "start_time": "2025-04-02T04:00:21.631Z"
   },
   {
    "duration": 300,
    "start_time": "2025-04-02T04:06:19.284Z"
   },
   {
    "duration": 23,
    "start_time": "2025-04-02T04:06:20.693Z"
   },
   {
    "duration": 566,
    "start_time": "2025-04-02T04:06:33.835Z"
   },
   {
    "duration": 17,
    "start_time": "2025-04-02T04:07:14.633Z"
   },
   {
    "duration": 1409,
    "start_time": "2025-04-02T04:15:25.370Z"
   },
   {
    "duration": 1300,
    "start_time": "2025-04-02T04:15:34.258Z"
   },
   {
    "duration": 6,
    "start_time": "2025-04-02T04:15:42.493Z"
   },
   {
    "duration": 12,
    "start_time": "2025-04-02T04:15:44.270Z"
   },
   {
    "duration": 1412,
    "start_time": "2025-04-02T04:16:05.013Z"
   },
   {
    "duration": 8175,
    "start_time": "2025-04-02T04:16:06.427Z"
   },
   {
    "duration": 204,
    "start_time": "2025-04-02T04:16:14.603Z"
   },
   {
    "duration": 41,
    "start_time": "2025-04-02T04:16:14.809Z"
   },
   {
    "duration": 156,
    "start_time": "2025-04-02T04:16:14.852Z"
   },
   {
    "duration": 44,
    "start_time": "2025-04-02T04:16:15.010Z"
   },
   {
    "duration": 234,
    "start_time": "2025-04-02T04:16:15.056Z"
   },
   {
    "duration": 199,
    "start_time": "2025-04-02T04:16:15.292Z"
   },
   {
    "duration": 774,
    "start_time": "2025-04-02T04:16:15.493Z"
   },
   {
    "duration": 144,
    "start_time": "2025-04-02T04:16:16.269Z"
   },
   {
    "duration": 3734,
    "start_time": "2025-04-02T04:16:16.415Z"
   },
   {
    "duration": 223,
    "start_time": "2025-04-02T04:16:20.151Z"
   },
   {
    "duration": 11047,
    "start_time": "2025-04-02T04:16:20.375Z"
   },
   {
    "duration": 288,
    "start_time": "2025-04-02T04:16:31.424Z"
   },
   {
    "duration": 3,
    "start_time": "2025-04-02T04:16:31.714Z"
   },
   {
    "duration": 573,
    "start_time": "2025-04-02T04:16:31.719Z"
   },
   {
    "duration": 251,
    "start_time": "2025-04-02T04:16:32.294Z"
   },
   {
    "duration": 299,
    "start_time": "2025-04-02T04:16:32.546Z"
   },
   {
    "duration": 28,
    "start_time": "2025-04-02T04:16:32.847Z"
   },
   {
    "duration": 309,
    "start_time": "2025-04-02T04:16:32.876Z"
   },
   {
    "duration": 491,
    "start_time": "2025-04-02T04:16:33.187Z"
   },
   {
    "duration": 256,
    "start_time": "2025-04-02T04:16:33.681Z"
   },
   {
    "duration": 13,
    "start_time": "2025-04-02T04:16:33.939Z"
   },
   {
    "duration": 42,
    "start_time": "2025-04-02T04:16:33.953Z"
   },
   {
    "duration": 1326,
    "start_time": "2025-04-02T04:18:51.300Z"
   },
   {
    "duration": 1244,
    "start_time": "2025-04-02T04:19:00.263Z"
   },
   {
    "duration": 8162,
    "start_time": "2025-04-02T04:19:01.509Z"
   },
   {
    "duration": 213,
    "start_time": "2025-04-02T04:19:09.673Z"
   },
   {
    "duration": 44,
    "start_time": "2025-04-02T04:19:09.888Z"
   },
   {
    "duration": 159,
    "start_time": "2025-04-02T04:19:09.933Z"
   },
   {
    "duration": 47,
    "start_time": "2025-04-02T04:19:10.094Z"
   },
   {
    "duration": 213,
    "start_time": "2025-04-02T04:19:10.143Z"
   },
   {
    "duration": 198,
    "start_time": "2025-04-02T04:19:10.358Z"
   },
   {
    "duration": 762,
    "start_time": "2025-04-02T04:19:10.557Z"
   },
   {
    "duration": 142,
    "start_time": "2025-04-02T04:19:11.321Z"
   },
   {
    "duration": 1267,
    "start_time": "2025-04-02T04:19:11.464Z"
   },
   {
    "duration": 237,
    "start_time": "2025-04-02T04:19:12.733Z"
   },
   {
    "duration": 10737,
    "start_time": "2025-04-02T04:19:12.971Z"
   },
   {
    "duration": 303,
    "start_time": "2025-04-02T04:19:23.710Z"
   },
   {
    "duration": 4,
    "start_time": "2025-04-02T04:19:24.015Z"
   },
   {
    "duration": 569,
    "start_time": "2025-04-02T04:19:24.020Z"
   },
   {
    "duration": 250,
    "start_time": "2025-04-02T04:19:24.591Z"
   },
   {
    "duration": 295,
    "start_time": "2025-04-02T04:19:24.843Z"
   },
   {
    "duration": 29,
    "start_time": "2025-04-02T04:19:25.140Z"
   },
   {
    "duration": 305,
    "start_time": "2025-04-02T04:19:25.171Z"
   },
   {
    "duration": 487,
    "start_time": "2025-04-02T04:19:25.478Z"
   },
   {
    "duration": 249,
    "start_time": "2025-04-02T04:19:25.967Z"
   },
   {
    "duration": 12,
    "start_time": "2025-04-02T04:19:26.218Z"
   },
   {
    "duration": 27,
    "start_time": "2025-04-02T04:19:26.231Z"
   },
   {
    "duration": 101,
    "start_time": "2025-04-02T04:23:33.899Z"
   },
   {
    "duration": 12,
    "start_time": "2025-04-02T04:23:45.845Z"
   },
   {
    "duration": 11,
    "start_time": "2025-04-02T04:23:58.214Z"
   },
   {
    "duration": 73,
    "start_time": "2025-04-02T04:24:42.910Z"
   },
   {
    "duration": 73,
    "start_time": "2025-04-02T04:26:35.404Z"
   },
   {
    "duration": 76,
    "start_time": "2025-04-02T04:27:39.408Z"
   },
   {
    "duration": 7,
    "start_time": "2025-04-02T04:35:41.950Z"
   },
   {
    "duration": 4,
    "start_time": "2025-04-02T04:38:15.615Z"
   },
   {
    "duration": 130,
    "start_time": "2025-04-02T04:38:29.430Z"
   },
   {
    "duration": 58,
    "start_time": "2025-04-02T04:38:39.844Z"
   },
   {
    "duration": 3,
    "start_time": "2025-04-02T04:38:41.022Z"
   },
   {
    "duration": 57,
    "start_time": "2025-04-02T04:39:00.773Z"
   },
   {
    "duration": 57,
    "start_time": "2025-04-02T04:39:12.440Z"
   },
   {
    "duration": 13,
    "start_time": "2025-04-02T04:39:40.177Z"
   },
   {
    "duration": 15,
    "start_time": "2025-04-02T04:39:55.710Z"
   },
   {
    "duration": 73,
    "start_time": "2025-04-02T04:40:19.803Z"
   },
   {
    "duration": 59,
    "start_time": "2025-04-02T04:40:31.812Z"
   },
   {
    "duration": 61,
    "start_time": "2025-04-02T04:41:00.797Z"
   },
   {
    "duration": 16,
    "start_time": "2025-04-02T04:41:33.630Z"
   },
   {
    "duration": 57,
    "start_time": "2025-04-02T04:41:58.351Z"
   },
   {
    "duration": 4,
    "start_time": "2025-04-02T04:41:59.435Z"
   },
   {
    "duration": 349,
    "start_time": "2025-04-02T04:45:01.732Z"
   },
   {
    "duration": 328,
    "start_time": "2025-04-02T04:45:50.089Z"
   },
   {
    "duration": 3980,
    "start_time": "2025-04-02T04:51:06.085Z"
   },
   {
    "duration": 4050,
    "start_time": "2025-04-02T04:51:20.003Z"
   },
   {
    "duration": 4389,
    "start_time": "2025-04-02T04:51:37.678Z"
   },
   {
    "duration": 4343,
    "start_time": "2025-04-02T04:52:51.239Z"
   },
   {
    "duration": 4545,
    "start_time": "2025-04-02T04:53:05.627Z"
   },
   {
    "duration": 4183,
    "start_time": "2025-04-02T04:53:47.185Z"
   },
   {
    "duration": 48,
    "start_time": "2025-04-02T04:54:58.885Z"
   },
   {
    "duration": 2264,
    "start_time": "2025-04-02T04:56:25.167Z"
   },
   {
    "duration": 2267,
    "start_time": "2025-04-02T04:57:16.561Z"
   },
   {
    "duration": 2602,
    "start_time": "2025-04-02T04:57:49.925Z"
   },
   {
    "duration": 2311,
    "start_time": "2025-04-02T04:58:05.339Z"
   },
   {
    "duration": 2727,
    "start_time": "2025-04-02T04:59:22.379Z"
   },
   {
    "duration": 2325,
    "start_time": "2025-04-02T04:59:59.344Z"
   },
   {
    "duration": 4544,
    "start_time": "2025-04-02T05:01:04.477Z"
   },
   {
    "duration": 2277,
    "start_time": "2025-04-02T05:02:07.702Z"
   },
   {
    "duration": 4578,
    "start_time": "2025-04-02T05:02:18.377Z"
   },
   {
    "duration": 4576,
    "start_time": "2025-04-02T05:04:34.114Z"
   },
   {
    "duration": 2475,
    "start_time": "2025-04-02T05:04:50.157Z"
   },
   {
    "duration": 2289,
    "start_time": "2025-04-02T05:04:59.474Z"
   },
   {
    "duration": 4446,
    "start_time": "2025-04-02T05:06:19.245Z"
   },
   {
    "duration": 4977,
    "start_time": "2025-04-02T05:06:53.022Z"
   },
   {
    "duration": 4273,
    "start_time": "2025-04-02T05:07:11.069Z"
   },
   {
    "duration": 4365,
    "start_time": "2025-04-02T05:07:38.318Z"
   },
   {
    "duration": 10,
    "start_time": "2025-04-02T05:09:22.770Z"
   },
   {
    "duration": 4521,
    "start_time": "2025-04-02T05:09:25.955Z"
   },
   {
    "duration": 2804,
    "start_time": "2025-04-02T05:12:17.667Z"
   },
   {
    "duration": 2309,
    "start_time": "2025-04-02T05:12:29.621Z"
   },
   {
    "duration": 2349,
    "start_time": "2025-04-02T05:12:42.965Z"
   },
   {
    "duration": 5006,
    "start_time": "2025-04-02T05:13:28.957Z"
   },
   {
    "duration": 4486,
    "start_time": "2025-04-02T05:13:45.613Z"
   },
   {
    "duration": 2253,
    "start_time": "2025-04-02T05:14:02.450Z"
   },
   {
    "duration": 4588,
    "start_time": "2025-04-02T05:14:15.750Z"
   },
   {
    "duration": 4666,
    "start_time": "2025-04-02T05:14:38.917Z"
   },
   {
    "duration": 4672,
    "start_time": "2025-04-02T05:15:06.522Z"
   },
   {
    "duration": 4502,
    "start_time": "2025-04-02T05:15:45.569Z"
   },
   {
    "duration": 4371,
    "start_time": "2025-04-02T05:16:07.960Z"
   },
   {
    "duration": 4395,
    "start_time": "2025-04-02T05:17:00.348Z"
   },
   {
    "duration": 222,
    "start_time": "2025-04-02T05:28:40.761Z"
   },
   {
    "duration": 181,
    "start_time": "2025-04-02T05:28:43.659Z"
   },
   {
    "duration": 620,
    "start_time": "2025-04-02T05:28:43.908Z"
   },
   {
    "duration": 511,
    "start_time": "2025-04-02T05:29:00.171Z"
   },
   {
    "duration": 5017,
    "start_time": "2025-04-02T06:22:33.279Z"
   },
   {
    "duration": 5184,
    "start_time": "2025-04-02T06:23:00.453Z"
   },
   {
    "duration": 4487,
    "start_time": "2025-04-02T06:27:24.383Z"
   },
   {
    "duration": 4335,
    "start_time": "2025-04-02T06:28:01.158Z"
   },
   {
    "duration": 177,
    "start_time": "2025-04-02T06:31:50.246Z"
   },
   {
    "duration": 61,
    "start_time": "2025-04-02T06:32:00.095Z"
   },
   {
    "duration": 56,
    "start_time": "2025-04-02T06:32:47.870Z"
   },
   {
    "duration": 83,
    "start_time": "2025-04-02T06:32:56.768Z"
   },
   {
    "duration": 40,
    "start_time": "2025-04-02T06:33:08.303Z"
   },
   {
    "duration": 55,
    "start_time": "2025-04-02T06:33:21.726Z"
   },
   {
    "duration": 48,
    "start_time": "2025-04-02T06:33:35.816Z"
   },
   {
    "duration": 45,
    "start_time": "2025-04-02T06:33:42.624Z"
   },
   {
    "duration": 112,
    "start_time": "2025-04-02T06:33:50.615Z"
   },
   {
    "duration": 57,
    "start_time": "2025-04-02T06:34:10.243Z"
   },
   {
    "duration": 72,
    "start_time": "2025-04-02T06:35:03.740Z"
   },
   {
    "duration": 1045,
    "start_time": "2025-04-02T06:35:11.184Z"
   },
   {
    "duration": 1041,
    "start_time": "2025-04-02T06:35:45.160Z"
   },
   {
    "duration": 1243,
    "start_time": "2025-04-02T06:35:55.838Z"
   },
   {
    "duration": 82,
    "start_time": "2025-04-02T06:36:52.952Z"
   },
   {
    "duration": 71,
    "start_time": "2025-04-02T06:36:56.208Z"
   },
   {
    "duration": 1138,
    "start_time": "2025-04-02T06:36:59.223Z"
   },
   {
    "duration": 1063,
    "start_time": "2025-04-02T06:37:06.812Z"
   },
   {
    "duration": 137,
    "start_time": "2025-04-02T06:53:15.092Z"
   },
   {
    "duration": 117,
    "start_time": "2025-04-02T06:54:07.972Z"
   },
   {
    "duration": 37,
    "start_time": "2025-04-02T06:59:31.153Z"
   },
   {
    "duration": 12,
    "start_time": "2025-04-02T06:59:55.619Z"
   },
   {
    "duration": 3798,
    "start_time": "2025-04-02T07:00:05.227Z"
   },
   {
    "duration": 190,
    "start_time": "2025-04-02T07:00:09.027Z"
   },
   {
    "duration": 8793,
    "start_time": "2025-04-02T07:01:52.915Z"
   },
   {
    "duration": 7,
    "start_time": "2025-04-02T07:05:09.713Z"
   },
   {
    "duration": 40,
    "start_time": "2025-04-02T07:05:39.109Z"
   },
   {
    "duration": 356,
    "start_time": "2025-04-02T07:06:00.797Z"
   },
   {
    "duration": 260,
    "start_time": "2025-04-02T07:06:05.010Z"
   },
   {
    "duration": 17,
    "start_time": "2025-04-02T07:06:52.551Z"
   },
   {
    "duration": 15,
    "start_time": "2025-04-02T07:06:56.146Z"
   },
   {
    "duration": 3,
    "start_time": "2025-04-02T07:06:56.216Z"
   },
   {
    "duration": 9,
    "start_time": "2025-04-02T07:09:21.786Z"
   },
   {
    "duration": 2406,
    "start_time": "2025-04-02T07:09:28.512Z"
   },
   {
    "duration": 3228,
    "start_time": "2025-04-03T03:07:09.686Z"
   },
   {
    "duration": 1663,
    "start_time": "2025-04-03T03:07:12.918Z"
   },
   {
    "duration": 3,
    "start_time": "2025-04-03T03:07:14.582Z"
   },
   {
    "duration": 9493,
    "start_time": "2025-04-03T03:07:14.586Z"
   },
   {
    "duration": 211,
    "start_time": "2025-04-03T03:07:24.081Z"
   },
   {
    "duration": 42,
    "start_time": "2025-04-03T03:07:24.293Z"
   },
   {
    "duration": 162,
    "start_time": "2025-04-03T03:07:24.336Z"
   },
   {
    "duration": 43,
    "start_time": "2025-04-03T03:07:24.499Z"
   },
   {
    "duration": 215,
    "start_time": "2025-04-03T03:07:24.544Z"
   },
   {
    "duration": 186,
    "start_time": "2025-04-03T03:07:24.760Z"
   },
   {
    "duration": 2498,
    "start_time": "2025-04-03T03:07:24.948Z"
   },
   {
    "duration": 129,
    "start_time": "2025-04-03T03:07:27.448Z"
   },
   {
    "duration": 3376,
    "start_time": "2025-04-03T03:07:27.579Z"
   },
   {
    "duration": 212,
    "start_time": "2025-04-03T03:07:30.958Z"
   },
   {
    "duration": 9102,
    "start_time": "2025-04-03T03:07:31.171Z"
   },
   {
    "duration": 223,
    "start_time": "2025-04-03T03:07:40.275Z"
   },
   {
    "duration": 3,
    "start_time": "2025-04-03T03:07:40.500Z"
   },
   {
    "duration": 467,
    "start_time": "2025-04-03T03:07:40.505Z"
   },
   {
    "duration": 211,
    "start_time": "2025-04-03T03:07:40.974Z"
   },
   {
    "duration": 239,
    "start_time": "2025-04-03T03:07:41.187Z"
   },
   {
    "duration": 26,
    "start_time": "2025-04-03T03:07:41.428Z"
   },
   {
    "duration": 265,
    "start_time": "2025-04-03T03:07:41.456Z"
   },
   {
    "duration": 414,
    "start_time": "2025-04-03T03:07:41.722Z"
   },
   {
    "duration": 230,
    "start_time": "2025-04-03T03:07:42.138Z"
   },
   {
    "duration": 19,
    "start_time": "2025-04-03T03:07:42.373Z"
   },
   {
    "duration": 89,
    "start_time": "2025-04-03T03:07:42.394Z"
   },
   {
    "duration": 72,
    "start_time": "2025-04-03T03:07:42.485Z"
   },
   {
    "duration": 16,
    "start_time": "2025-04-03T03:07:42.559Z"
   },
   {
    "duration": 41,
    "start_time": "2025-04-03T03:07:42.576Z"
   },
   {
    "duration": 101,
    "start_time": "2025-04-03T03:07:42.619Z"
   },
   {
    "duration": 57,
    "start_time": "2025-04-03T03:07:42.722Z"
   },
   {
    "duration": 462,
    "start_time": "2025-04-03T03:07:42.780Z"
   },
   {
    "duration": 3905,
    "start_time": "2025-04-03T03:07:43.244Z"
   },
   {
    "duration": 927,
    "start_time": "2025-04-03T03:07:47.151Z"
   },
   {
    "duration": 7351,
    "start_time": "2025-04-03T03:07:48.080Z"
   },
   {
    "duration": 199,
    "start_time": "2025-04-03T03:07:55.433Z"
   },
   {
    "duration": 2,
    "start_time": "2025-04-03T03:07:55.634Z"
   },
   {
    "duration": 124,
    "start_time": "2025-04-03T03:07:55.638Z"
   },
   {
    "duration": 0,
    "start_time": "2025-04-03T03:07:55.764Z"
   },
   {
    "duration": 0,
    "start_time": "2025-04-03T03:07:55.765Z"
   },
   {
    "duration": 0,
    "start_time": "2025-04-03T03:07:55.766Z"
   },
   {
    "duration": 0,
    "start_time": "2025-04-03T03:07:55.767Z"
   },
   {
    "duration": 0,
    "start_time": "2025-04-03T03:07:55.768Z"
   },
   {
    "duration": 10,
    "start_time": "2025-04-03T03:11:02.713Z"
   },
   {
    "duration": 4,
    "start_time": "2025-04-03T03:11:31.599Z"
   },
   {
    "duration": 6,
    "start_time": "2025-04-03T03:11:38.145Z"
   },
   {
    "duration": 12,
    "start_time": "2025-04-03T03:11:40.769Z"
   },
   {
    "duration": 11,
    "start_time": "2025-04-03T03:11:58.012Z"
   },
   {
    "duration": 8,
    "start_time": "2025-04-03T03:13:10.061Z"
   },
   {
    "duration": 5,
    "start_time": "2025-04-03T03:13:14.942Z"
   },
   {
    "duration": 10,
    "start_time": "2025-04-03T03:13:17.569Z"
   },
   {
    "duration": 2244,
    "start_time": "2025-04-03T03:21:20.797Z"
   },
   {
    "duration": 1487,
    "start_time": "2025-04-03T03:21:23.043Z"
   },
   {
    "duration": 3,
    "start_time": "2025-04-03T03:21:24.532Z"
   },
   {
    "duration": 8246,
    "start_time": "2025-04-03T03:21:24.537Z"
   },
   {
    "duration": 203,
    "start_time": "2025-04-03T03:21:32.785Z"
   },
   {
    "duration": 41,
    "start_time": "2025-04-03T03:21:32.989Z"
   },
   {
    "duration": 152,
    "start_time": "2025-04-03T03:21:33.032Z"
   },
   {
    "duration": 44,
    "start_time": "2025-04-03T03:21:33.186Z"
   },
   {
    "duration": 215,
    "start_time": "2025-04-03T03:21:33.231Z"
   },
   {
    "duration": 184,
    "start_time": "2025-04-03T03:21:33.448Z"
   },
   {
    "duration": 759,
    "start_time": "2025-04-03T03:21:33.634Z"
   },
   {
    "duration": 139,
    "start_time": "2025-04-03T03:21:34.394Z"
   },
   {
    "duration": 1529,
    "start_time": "2025-04-03T03:21:34.535Z"
   },
   {
    "duration": 233,
    "start_time": "2025-04-03T03:21:36.065Z"
   },
   {
    "duration": 11625,
    "start_time": "2025-04-03T03:21:36.300Z"
   },
   {
    "duration": 216,
    "start_time": "2025-04-03T03:21:47.927Z"
   },
   {
    "duration": 3,
    "start_time": "2025-04-03T03:21:48.145Z"
   },
   {
    "duration": 455,
    "start_time": "2025-04-03T03:21:48.150Z"
   },
   {
    "duration": 193,
    "start_time": "2025-04-03T03:21:48.606Z"
   },
   {
    "duration": 235,
    "start_time": "2025-04-03T03:21:48.800Z"
   },
   {
    "duration": 27,
    "start_time": "2025-04-03T03:21:49.036Z"
   },
   {
    "duration": 256,
    "start_time": "2025-04-03T03:21:49.073Z"
   },
   {
    "duration": 439,
    "start_time": "2025-04-03T03:21:49.331Z"
   },
   {
    "duration": 228,
    "start_time": "2025-04-03T03:21:49.772Z"
   },
   {
    "duration": 12,
    "start_time": "2025-04-03T03:21:50.001Z"
   },
   {
    "duration": 85,
    "start_time": "2025-04-03T03:21:50.014Z"
   },
   {
    "duration": 78,
    "start_time": "2025-04-03T03:21:50.100Z"
   },
   {
    "duration": 3,
    "start_time": "2025-04-03T03:21:50.181Z"
   },
   {
    "duration": 37,
    "start_time": "2025-04-03T03:21:50.186Z"
   },
   {
    "duration": 116,
    "start_time": "2025-04-03T03:21:50.225Z"
   },
   {
    "duration": 52,
    "start_time": "2025-04-03T03:21:50.343Z"
   },
   {
    "duration": 452,
    "start_time": "2025-04-03T03:21:50.397Z"
   },
   {
    "duration": 3650,
    "start_time": "2025-04-03T03:21:50.850Z"
   },
   {
    "duration": 932,
    "start_time": "2025-04-03T03:21:54.501Z"
   },
   {
    "duration": 7280,
    "start_time": "2025-04-03T03:21:55.435Z"
   },
   {
    "duration": 201,
    "start_time": "2025-04-03T03:22:02.717Z"
   },
   {
    "duration": 3,
    "start_time": "2025-04-03T03:22:02.920Z"
   },
   {
    "duration": 23,
    "start_time": "2025-04-03T03:22:02.925Z"
   },
   {
    "duration": 4,
    "start_time": "2025-04-03T03:22:02.950Z"
   },
   {
    "duration": 37,
    "start_time": "2025-04-03T03:22:02.955Z"
   },
   {
    "duration": 16924,
    "start_time": "2025-04-03T03:22:02.993Z"
   },
   {
    "duration": 0,
    "start_time": "2025-04-03T03:22:19.919Z"
   },
   {
    "duration": 0,
    "start_time": "2025-04-03T03:22:19.920Z"
   },
   {
    "duration": 2200,
    "start_time": "2025-04-03T03:26:19.090Z"
   },
   {
    "duration": 1468,
    "start_time": "2025-04-03T03:26:21.293Z"
   },
   {
    "duration": 3,
    "start_time": "2025-04-03T03:26:22.763Z"
   },
   {
    "duration": 8122,
    "start_time": "2025-04-03T03:26:22.767Z"
   },
   {
    "duration": 199,
    "start_time": "2025-04-03T03:26:30.891Z"
   },
   {
    "duration": 41,
    "start_time": "2025-04-03T03:26:31.092Z"
   },
   {
    "duration": 158,
    "start_time": "2025-04-03T03:26:31.135Z"
   },
   {
    "duration": 43,
    "start_time": "2025-04-03T03:26:31.295Z"
   },
   {
    "duration": 212,
    "start_time": "2025-04-03T03:26:31.340Z"
   },
   {
    "duration": 182,
    "start_time": "2025-04-03T03:26:31.556Z"
   },
   {
    "duration": 2369,
    "start_time": "2025-04-03T03:26:31.740Z"
   },
   {
    "duration": 129,
    "start_time": "2025-04-03T03:26:34.110Z"
   },
   {
    "duration": 3808,
    "start_time": "2025-04-03T03:26:34.241Z"
   },
   {
    "duration": 209,
    "start_time": "2025-04-03T03:26:38.050Z"
   },
   {
    "duration": 9915,
    "start_time": "2025-04-03T03:26:38.261Z"
   },
   {
    "duration": 219,
    "start_time": "2025-04-03T03:26:48.177Z"
   },
   {
    "duration": 4,
    "start_time": "2025-04-03T03:26:48.398Z"
   },
   {
    "duration": 458,
    "start_time": "2025-04-03T03:26:48.403Z"
   },
   {
    "duration": 209,
    "start_time": "2025-04-03T03:26:48.863Z"
   },
   {
    "duration": 248,
    "start_time": "2025-04-03T03:26:49.074Z"
   },
   {
    "duration": 28,
    "start_time": "2025-04-03T03:26:49.324Z"
   },
   {
    "duration": 289,
    "start_time": "2025-04-03T03:26:49.354Z"
   },
   {
    "duration": 436,
    "start_time": "2025-04-03T03:26:49.645Z"
   },
   {
    "duration": 238,
    "start_time": "2025-04-03T03:26:50.082Z"
   },
   {
    "duration": 12,
    "start_time": "2025-04-03T03:26:50.321Z"
   },
   {
    "duration": 87,
    "start_time": "2025-04-03T03:26:50.334Z"
   },
   {
    "duration": 81,
    "start_time": "2025-04-03T03:26:50.423Z"
   },
   {
    "duration": 3,
    "start_time": "2025-04-03T03:26:50.507Z"
   },
   {
    "duration": 39,
    "start_time": "2025-04-03T03:26:50.511Z"
   },
   {
    "duration": 121,
    "start_time": "2025-04-03T03:26:50.551Z"
   },
   {
    "duration": 49,
    "start_time": "2025-04-03T03:26:50.674Z"
   },
   {
    "duration": 455,
    "start_time": "2025-04-03T03:26:50.724Z"
   },
   {
    "duration": 3899,
    "start_time": "2025-04-03T03:26:51.180Z"
   },
   {
    "duration": 943,
    "start_time": "2025-04-03T03:26:55.080Z"
   },
   {
    "duration": 7609,
    "start_time": "2025-04-03T03:26:56.024Z"
   },
   {
    "duration": 199,
    "start_time": "2025-04-03T03:27:03.634Z"
   },
   {
    "duration": 2,
    "start_time": "2025-04-03T03:27:03.835Z"
   },
   {
    "duration": 4,
    "start_time": "2025-04-03T03:27:03.839Z"
   },
   {
    "duration": 29,
    "start_time": "2025-04-03T03:27:03.844Z"
   },
   {
    "duration": 12,
    "start_time": "2025-04-03T03:27:03.875Z"
   },
   {
    "duration": 18070,
    "start_time": "2025-04-03T03:27:03.888Z"
   },
   {
    "duration": 0,
    "start_time": "2025-04-03T03:27:21.960Z"
   },
   {
    "duration": 0,
    "start_time": "2025-04-03T03:27:21.960Z"
   },
   {
    "duration": 10,
    "start_time": "2025-04-03T03:30:16.847Z"
   },
   {
    "duration": 3,
    "start_time": "2025-04-03T03:30:21.682Z"
   },
   {
    "duration": 4,
    "start_time": "2025-04-03T03:30:22.967Z"
   },
   {
    "duration": 3,
    "start_time": "2025-04-03T03:30:24.344Z"
   },
   {
    "duration": 63668,
    "start_time": "2025-04-03T03:30:25.952Z"
   },
   {
    "duration": 2211,
    "start_time": "2025-04-03T03:31:43.102Z"
   },
   {
    "duration": 1411,
    "start_time": "2025-04-03T03:31:45.315Z"
   },
   {
    "duration": 3,
    "start_time": "2025-04-03T03:31:46.727Z"
   },
   {
    "duration": 8095,
    "start_time": "2025-04-03T03:31:46.731Z"
   },
   {
    "duration": 198,
    "start_time": "2025-04-03T03:31:54.827Z"
   },
   {
    "duration": 40,
    "start_time": "2025-04-03T03:31:55.027Z"
   },
   {
    "duration": 151,
    "start_time": "2025-04-03T03:31:55.068Z"
   },
   {
    "duration": 42,
    "start_time": "2025-04-03T03:31:55.221Z"
   },
   {
    "duration": 210,
    "start_time": "2025-04-03T03:31:55.264Z"
   },
   {
    "duration": 189,
    "start_time": "2025-04-03T03:31:55.477Z"
   },
   {
    "duration": 769,
    "start_time": "2025-04-03T03:31:55.667Z"
   },
   {
    "duration": 135,
    "start_time": "2025-04-03T03:31:56.437Z"
   },
   {
    "duration": 1135,
    "start_time": "2025-04-03T03:31:56.574Z"
   },
   {
    "duration": 226,
    "start_time": "2025-04-03T03:31:57.711Z"
   },
   {
    "duration": 11535,
    "start_time": "2025-04-03T03:31:57.938Z"
   },
   {
    "duration": 225,
    "start_time": "2025-04-03T03:32:09.475Z"
   },
   {
    "duration": 4,
    "start_time": "2025-04-03T03:32:09.701Z"
   },
   {
    "duration": 480,
    "start_time": "2025-04-03T03:32:09.706Z"
   },
   {
    "duration": 225,
    "start_time": "2025-04-03T03:32:10.187Z"
   },
   {
    "duration": 254,
    "start_time": "2025-04-03T03:32:10.414Z"
   },
   {
    "duration": 29,
    "start_time": "2025-04-03T03:32:10.670Z"
   },
   {
    "duration": 278,
    "start_time": "2025-04-03T03:32:10.701Z"
   },
   {
    "duration": 424,
    "start_time": "2025-04-03T03:32:10.981Z"
   },
   {
    "duration": 234,
    "start_time": "2025-04-03T03:32:11.407Z"
   },
   {
    "duration": 12,
    "start_time": "2025-04-03T03:32:11.643Z"
   },
   {
    "duration": 82,
    "start_time": "2025-04-03T03:32:11.657Z"
   },
   {
    "duration": 85,
    "start_time": "2025-04-03T03:32:11.741Z"
   },
   {
    "duration": 4,
    "start_time": "2025-04-03T03:32:11.830Z"
   },
   {
    "duration": 51,
    "start_time": "2025-04-03T03:32:11.835Z"
   },
   {
    "duration": 105,
    "start_time": "2025-04-03T03:32:11.887Z"
   },
   {
    "duration": 50,
    "start_time": "2025-04-03T03:32:11.994Z"
   },
   {
    "duration": 465,
    "start_time": "2025-04-03T03:32:12.045Z"
   },
   {
    "duration": 3707,
    "start_time": "2025-04-03T03:32:12.512Z"
   },
   {
    "duration": 977,
    "start_time": "2025-04-03T03:32:16.221Z"
   },
   {
    "duration": 7550,
    "start_time": "2025-04-03T03:32:17.200Z"
   },
   {
    "duration": 194,
    "start_time": "2025-04-03T03:32:24.751Z"
   },
   {
    "duration": 3,
    "start_time": "2025-04-03T03:32:24.947Z"
   },
   {
    "duration": 18,
    "start_time": "2025-04-03T03:32:24.952Z"
   },
   {
    "duration": 5,
    "start_time": "2025-04-03T03:32:24.971Z"
   },
   {
    "duration": 5,
    "start_time": "2025-04-03T03:32:24.977Z"
   },
   {
    "duration": 191218,
    "start_time": "2025-04-03T03:32:24.984Z"
   },
   {
    "duration": 3,
    "start_time": "2025-04-03T03:35:36.203Z"
   },
   {
    "duration": 976,
    "start_time": "2025-04-03T03:35:36.208Z"
   },
   {
    "duration": 800,
    "start_time": "2025-04-03T03:36:16.514Z"
   },
   {
    "duration": 13,
    "start_time": "2025-04-03T03:38:46.424Z"
   },
   {
    "duration": 244,
    "start_time": "2025-04-03T03:39:06.981Z"
   },
   {
    "duration": 12,
    "start_time": "2025-04-03T03:39:10.552Z"
   },
   {
    "duration": 3,
    "start_time": "2025-04-03T03:39:11.369Z"
   },
   {
    "duration": 4,
    "start_time": "2025-04-03T03:39:14.853Z"
   },
   {
    "duration": 4,
    "start_time": "2025-04-03T03:39:15.098Z"
   },
   {
    "duration": 3,
    "start_time": "2025-04-03T03:39:15.185Z"
   },
   {
    "duration": 24321,
    "start_time": "2025-04-03T03:39:16.011Z"
   },
   {
    "duration": 0,
    "start_time": "2025-04-03T03:39:40.333Z"
   },
   {
    "duration": 0,
    "start_time": "2025-04-03T03:39:40.334Z"
   },
   {
    "duration": 0,
    "start_time": "2025-04-03T03:39:40.335Z"
   },
   {
    "duration": 2300,
    "start_time": "2025-04-03T03:40:07.520Z"
   },
   {
    "duration": 1515,
    "start_time": "2025-04-03T03:40:09.823Z"
   },
   {
    "duration": 3,
    "start_time": "2025-04-03T03:40:11.340Z"
   },
   {
    "duration": 8130,
    "start_time": "2025-04-03T03:40:11.344Z"
   },
   {
    "duration": 208,
    "start_time": "2025-04-03T03:40:19.476Z"
   },
   {
    "duration": 42,
    "start_time": "2025-04-03T03:40:19.686Z"
   },
   {
    "duration": 155,
    "start_time": "2025-04-03T03:40:19.729Z"
   },
   {
    "duration": 44,
    "start_time": "2025-04-03T03:40:19.885Z"
   },
   {
    "duration": 218,
    "start_time": "2025-04-03T03:40:19.931Z"
   },
   {
    "duration": 185,
    "start_time": "2025-04-03T03:40:20.152Z"
   },
   {
    "duration": 751,
    "start_time": "2025-04-03T03:40:20.338Z"
   },
   {
    "duration": 132,
    "start_time": "2025-04-03T03:40:21.091Z"
   },
   {
    "duration": 3766,
    "start_time": "2025-04-03T03:40:21.225Z"
   },
   {
    "duration": 213,
    "start_time": "2025-04-03T03:40:24.992Z"
   },
   {
    "duration": 8609,
    "start_time": "2025-04-03T03:40:25.207Z"
   },
   {
    "duration": 230,
    "start_time": "2025-04-03T03:40:33.818Z"
   },
   {
    "duration": 3,
    "start_time": "2025-04-03T03:40:34.050Z"
   },
   {
    "duration": 476,
    "start_time": "2025-04-03T03:40:34.055Z"
   },
   {
    "duration": 202,
    "start_time": "2025-04-03T03:40:34.533Z"
   },
   {
    "duration": 252,
    "start_time": "2025-04-03T03:40:34.736Z"
   },
   {
    "duration": 27,
    "start_time": "2025-04-03T03:40:34.990Z"
   },
   {
    "duration": 282,
    "start_time": "2025-04-03T03:40:35.019Z"
   },
   {
    "duration": 455,
    "start_time": "2025-04-03T03:40:35.302Z"
   },
   {
    "duration": 227,
    "start_time": "2025-04-03T03:40:35.758Z"
   },
   {
    "duration": 12,
    "start_time": "2025-04-03T03:40:35.987Z"
   },
   {
    "duration": 88,
    "start_time": "2025-04-03T03:40:36.000Z"
   },
   {
    "duration": 73,
    "start_time": "2025-04-03T03:40:36.089Z"
   },
   {
    "duration": 4,
    "start_time": "2025-04-03T03:40:36.173Z"
   },
   {
    "duration": 39,
    "start_time": "2025-04-03T03:40:36.178Z"
   },
   {
    "duration": 116,
    "start_time": "2025-04-03T03:40:36.218Z"
   },
   {
    "duration": 54,
    "start_time": "2025-04-03T03:40:36.336Z"
   },
   {
    "duration": 443,
    "start_time": "2025-04-03T03:40:36.392Z"
   },
   {
    "duration": 4092,
    "start_time": "2025-04-03T03:40:36.837Z"
   },
   {
    "duration": 952,
    "start_time": "2025-04-03T03:40:40.931Z"
   },
   {
    "duration": 7396,
    "start_time": "2025-04-03T03:40:41.885Z"
   },
   {
    "duration": 190,
    "start_time": "2025-04-03T03:40:49.283Z"
   },
   {
    "duration": 12,
    "start_time": "2025-04-03T03:40:49.475Z"
   },
   {
    "duration": 2,
    "start_time": "2025-04-03T03:40:49.489Z"
   },
   {
    "duration": 4,
    "start_time": "2025-04-03T03:40:49.492Z"
   },
   {
    "duration": 5,
    "start_time": "2025-04-03T03:40:49.497Z"
   },
   {
    "duration": 8,
    "start_time": "2025-04-03T03:40:49.503Z"
   },
   {
    "duration": 23953,
    "start_time": "2025-04-03T03:40:49.512Z"
   },
   {
    "duration": 0,
    "start_time": "2025-04-03T03:41:13.467Z"
   },
   {
    "duration": 0,
    "start_time": "2025-04-03T03:41:13.472Z"
   },
   {
    "duration": 0,
    "start_time": "2025-04-03T03:41:13.473Z"
   },
   {
    "duration": 2263,
    "start_time": "2025-04-03T03:41:53.582Z"
   },
   {
    "duration": 1508,
    "start_time": "2025-04-03T03:41:55.847Z"
   },
   {
    "duration": 2,
    "start_time": "2025-04-03T03:41:57.357Z"
   },
   {
    "duration": 7407,
    "start_time": "2025-04-03T03:41:57.362Z"
   },
   {
    "duration": 222,
    "start_time": "2025-04-03T03:42:04.770Z"
   },
   {
    "duration": 42,
    "start_time": "2025-04-03T03:42:04.994Z"
   },
   {
    "duration": 168,
    "start_time": "2025-04-03T03:42:05.037Z"
   },
   {
    "duration": 43,
    "start_time": "2025-04-03T03:42:05.206Z"
   },
   {
    "duration": 215,
    "start_time": "2025-04-03T03:42:05.250Z"
   },
   {
    "duration": 179,
    "start_time": "2025-04-03T03:42:05.467Z"
   },
   {
    "duration": 752,
    "start_time": "2025-04-03T03:42:05.647Z"
   },
   {
    "duration": 130,
    "start_time": "2025-04-03T03:42:06.401Z"
   },
   {
    "duration": 1541,
    "start_time": "2025-04-03T03:42:06.532Z"
   },
   {
    "duration": 212,
    "start_time": "2025-04-03T03:42:08.075Z"
   },
   {
    "duration": 10246,
    "start_time": "2025-04-03T03:42:08.289Z"
   },
   {
    "duration": 238,
    "start_time": "2025-04-03T03:42:18.536Z"
   },
   {
    "duration": 5,
    "start_time": "2025-04-03T03:42:18.777Z"
   },
   {
    "duration": 490,
    "start_time": "2025-04-03T03:42:18.784Z"
   },
   {
    "duration": 207,
    "start_time": "2025-04-03T03:42:19.276Z"
   },
   {
    "duration": 242,
    "start_time": "2025-04-03T03:42:19.485Z"
   },
   {
    "duration": 29,
    "start_time": "2025-04-03T03:42:19.728Z"
   },
   {
    "duration": 284,
    "start_time": "2025-04-03T03:42:19.758Z"
   },
   {
    "duration": 460,
    "start_time": "2025-04-03T03:42:20.043Z"
   },
   {
    "duration": 233,
    "start_time": "2025-04-03T03:42:20.504Z"
   },
   {
    "duration": 12,
    "start_time": "2025-04-03T03:42:20.738Z"
   },
   {
    "duration": 84,
    "start_time": "2025-04-03T03:42:20.752Z"
   },
   {
    "duration": 82,
    "start_time": "2025-04-03T03:42:20.838Z"
   },
   {
    "duration": 3,
    "start_time": "2025-04-03T03:42:20.924Z"
   },
   {
    "duration": 47,
    "start_time": "2025-04-03T03:42:20.929Z"
   },
   {
    "duration": 101,
    "start_time": "2025-04-03T03:42:20.978Z"
   },
   {
    "duration": 49,
    "start_time": "2025-04-03T03:42:21.081Z"
   },
   {
    "duration": 452,
    "start_time": "2025-04-03T03:42:21.132Z"
   },
   {
    "duration": 3847,
    "start_time": "2025-04-03T03:42:21.585Z"
   },
   {
    "duration": 944,
    "start_time": "2025-04-03T03:42:25.434Z"
   },
   {
    "duration": 7898,
    "start_time": "2025-04-03T03:42:26.379Z"
   },
   {
    "duration": 194,
    "start_time": "2025-04-03T03:42:34.279Z"
   },
   {
    "duration": 12,
    "start_time": "2025-04-03T03:42:34.475Z"
   },
   {
    "duration": 18,
    "start_time": "2025-04-03T03:42:34.489Z"
   },
   {
    "duration": 13,
    "start_time": "2025-04-03T03:42:34.509Z"
   },
   {
    "duration": 7,
    "start_time": "2025-04-03T03:42:34.523Z"
   },
   {
    "duration": 6,
    "start_time": "2025-04-03T03:42:34.532Z"
   },
   {
    "duration": 24685,
    "start_time": "2025-04-03T03:42:34.539Z"
   },
   {
    "duration": 0,
    "start_time": "2025-04-03T03:42:59.226Z"
   },
   {
    "duration": 0,
    "start_time": "2025-04-03T03:42:59.227Z"
   },
   {
    "duration": 0,
    "start_time": "2025-04-03T03:42:59.229Z"
   },
   {
    "duration": 2269,
    "start_time": "2025-04-03T03:43:24.745Z"
   },
   {
    "duration": 1412,
    "start_time": "2025-04-03T03:43:27.015Z"
   },
   {
    "duration": 2,
    "start_time": "2025-04-03T03:43:28.429Z"
   },
   {
    "duration": 8345,
    "start_time": "2025-04-03T03:43:28.433Z"
   },
   {
    "duration": 207,
    "start_time": "2025-04-03T03:43:36.780Z"
   },
   {
    "duration": 42,
    "start_time": "2025-04-03T03:43:36.989Z"
   },
   {
    "duration": 156,
    "start_time": "2025-04-03T03:43:37.032Z"
   },
   {
    "duration": 43,
    "start_time": "2025-04-03T03:43:37.190Z"
   },
   {
    "duration": 214,
    "start_time": "2025-04-03T03:43:37.235Z"
   },
   {
    "duration": 192,
    "start_time": "2025-04-03T03:43:37.450Z"
   },
   {
    "duration": 746,
    "start_time": "2025-04-03T03:43:37.644Z"
   },
   {
    "duration": 136,
    "start_time": "2025-04-03T03:43:38.391Z"
   },
   {
    "duration": 3711,
    "start_time": "2025-04-03T03:43:38.528Z"
   },
   {
    "duration": 234,
    "start_time": "2025-04-03T03:43:42.242Z"
   },
   {
    "duration": 9408,
    "start_time": "2025-04-03T03:43:42.477Z"
   },
   {
    "duration": 233,
    "start_time": "2025-04-03T03:43:51.887Z"
   },
   {
    "duration": 4,
    "start_time": "2025-04-03T03:43:52.122Z"
   },
   {
    "duration": 505,
    "start_time": "2025-04-03T03:43:52.128Z"
   },
   {
    "duration": 202,
    "start_time": "2025-04-03T03:43:52.635Z"
   },
   {
    "duration": 280,
    "start_time": "2025-04-03T03:43:52.839Z"
   },
   {
    "duration": 28,
    "start_time": "2025-04-03T03:43:53.120Z"
   },
   {
    "duration": 284,
    "start_time": "2025-04-03T03:43:53.150Z"
   },
   {
    "duration": 429,
    "start_time": "2025-04-03T03:43:53.436Z"
   },
   {
    "duration": 234,
    "start_time": "2025-04-03T03:43:53.866Z"
   },
   {
    "duration": 11,
    "start_time": "2025-04-03T03:43:54.101Z"
   },
   {
    "duration": 89,
    "start_time": "2025-04-03T03:43:54.114Z"
   },
   {
    "duration": 81,
    "start_time": "2025-04-03T03:43:54.205Z"
   },
   {
    "duration": 4,
    "start_time": "2025-04-03T03:43:54.287Z"
   },
   {
    "duration": 38,
    "start_time": "2025-04-03T03:43:54.292Z"
   },
   {
    "duration": 115,
    "start_time": "2025-04-03T03:43:54.331Z"
   },
   {
    "duration": 59,
    "start_time": "2025-04-03T03:43:54.448Z"
   },
   {
    "duration": 445,
    "start_time": "2025-04-03T03:43:54.508Z"
   },
   {
    "duration": 3795,
    "start_time": "2025-04-03T03:43:54.955Z"
   },
   {
    "duration": 984,
    "start_time": "2025-04-03T03:43:58.751Z"
   },
   {
    "duration": 7999,
    "start_time": "2025-04-03T03:43:59.737Z"
   },
   {
    "duration": 197,
    "start_time": "2025-04-03T03:44:07.738Z"
   },
   {
    "duration": 13,
    "start_time": "2025-04-03T03:44:07.936Z"
   },
   {
    "duration": 6,
    "start_time": "2025-04-03T03:44:07.951Z"
   },
   {
    "duration": 16,
    "start_time": "2025-04-03T03:44:07.959Z"
   },
   {
    "duration": 7,
    "start_time": "2025-04-03T03:44:07.976Z"
   },
   {
    "duration": 4,
    "start_time": "2025-04-03T03:44:07.986Z"
   },
   {
    "duration": 313271,
    "start_time": "2025-04-03T03:44:07.992Z"
   },
   {
    "duration": 0,
    "start_time": "2025-04-03T03:49:21.265Z"
   },
   {
    "duration": 0,
    "start_time": "2025-04-03T03:49:21.266Z"
   },
   {
    "duration": 0,
    "start_time": "2025-04-03T03:49:21.273Z"
   },
   {
    "duration": 2302,
    "start_time": "2025-04-03T03:49:32.212Z"
   },
   {
    "duration": 1428,
    "start_time": "2025-04-03T03:49:34.516Z"
   },
   {
    "duration": 2,
    "start_time": "2025-04-03T03:49:35.946Z"
   },
   {
    "duration": 7544,
    "start_time": "2025-04-03T03:49:35.950Z"
   },
   {
    "duration": 202,
    "start_time": "2025-04-03T03:49:43.495Z"
   },
   {
    "duration": 41,
    "start_time": "2025-04-03T03:49:43.699Z"
   },
   {
    "duration": 155,
    "start_time": "2025-04-03T03:49:43.741Z"
   },
   {
    "duration": 45,
    "start_time": "2025-04-03T03:49:43.897Z"
   },
   {
    "duration": 213,
    "start_time": "2025-04-03T03:49:43.943Z"
   },
   {
    "duration": 182,
    "start_time": "2025-04-03T03:49:44.158Z"
   },
   {
    "duration": 757,
    "start_time": "2025-04-03T03:49:44.342Z"
   },
   {
    "duration": 132,
    "start_time": "2025-04-03T03:49:45.100Z"
   },
   {
    "duration": 1327,
    "start_time": "2025-04-03T03:49:45.233Z"
   },
   {
    "duration": 218,
    "start_time": "2025-04-03T03:49:46.561Z"
   },
   {
    "duration": 11411,
    "start_time": "2025-04-03T03:49:46.780Z"
   },
   {
    "duration": 226,
    "start_time": "2025-04-03T03:49:58.193Z"
   },
   {
    "duration": 4,
    "start_time": "2025-04-03T03:49:58.420Z"
   },
   {
    "duration": 495,
    "start_time": "2025-04-03T03:49:58.425Z"
   },
   {
    "duration": 227,
    "start_time": "2025-04-03T03:49:58.922Z"
   },
   {
    "duration": 258,
    "start_time": "2025-04-03T03:49:59.151Z"
   },
   {
    "duration": 28,
    "start_time": "2025-04-03T03:49:59.410Z"
   },
   {
    "duration": 281,
    "start_time": "2025-04-03T03:49:59.439Z"
   },
   {
    "duration": 476,
    "start_time": "2025-04-03T03:49:59.722Z"
   },
   {
    "duration": 240,
    "start_time": "2025-04-03T03:50:00.200Z"
   },
   {
    "duration": 12,
    "start_time": "2025-04-03T03:50:00.442Z"
   },
   {
    "duration": 87,
    "start_time": "2025-04-03T03:50:00.456Z"
   },
   {
    "duration": 82,
    "start_time": "2025-04-03T03:50:00.545Z"
   },
   {
    "duration": 3,
    "start_time": "2025-04-03T03:50:00.630Z"
   },
   {
    "duration": 46,
    "start_time": "2025-04-03T03:50:00.634Z"
   },
   {
    "duration": 99,
    "start_time": "2025-04-03T03:50:00.682Z"
   },
   {
    "duration": 49,
    "start_time": "2025-04-03T03:50:00.782Z"
   },
   {
    "duration": 452,
    "start_time": "2025-04-03T03:50:00.833Z"
   },
   {
    "duration": 4147,
    "start_time": "2025-04-03T03:50:01.287Z"
   },
   {
    "duration": 1019,
    "start_time": "2025-04-03T03:50:05.436Z"
   },
   {
    "duration": 7597,
    "start_time": "2025-04-03T03:50:06.456Z"
   },
   {
    "duration": 192,
    "start_time": "2025-04-03T03:50:14.054Z"
   },
   {
    "duration": 12,
    "start_time": "2025-04-03T03:50:14.248Z"
   },
   {
    "duration": 12,
    "start_time": "2025-04-03T03:50:14.261Z"
   },
   {
    "duration": 3,
    "start_time": "2025-04-03T03:50:14.275Z"
   },
   {
    "duration": 4,
    "start_time": "2025-04-03T03:50:14.280Z"
   },
   {
    "duration": 4,
    "start_time": "2025-04-03T03:50:14.285Z"
   },
   {
    "duration": 24502,
    "start_time": "2025-04-03T03:50:14.290Z"
   },
   {
    "duration": 0,
    "start_time": "2025-04-03T03:50:38.793Z"
   },
   {
    "duration": 0,
    "start_time": "2025-04-03T03:50:38.794Z"
   },
   {
    "duration": 0,
    "start_time": "2025-04-03T03:50:38.795Z"
   },
   {
    "duration": 2197,
    "start_time": "2025-04-03T03:54:23.923Z"
   },
   {
    "duration": 1404,
    "start_time": "2025-04-03T03:54:26.122Z"
   },
   {
    "duration": 2,
    "start_time": "2025-04-03T03:54:27.527Z"
   },
   {
    "duration": 7572,
    "start_time": "2025-04-03T03:54:27.531Z"
   },
   {
    "duration": 214,
    "start_time": "2025-04-03T03:54:35.104Z"
   },
   {
    "duration": 43,
    "start_time": "2025-04-03T03:54:35.319Z"
   },
   {
    "duration": 161,
    "start_time": "2025-04-03T03:54:35.363Z"
   },
   {
    "duration": 44,
    "start_time": "2025-04-03T03:54:35.525Z"
   },
   {
    "duration": 213,
    "start_time": "2025-04-03T03:54:35.570Z"
   },
   {
    "duration": 183,
    "start_time": "2025-04-03T03:54:35.785Z"
   },
   {
    "duration": 780,
    "start_time": "2025-04-03T03:54:35.972Z"
   },
   {
    "duration": 133,
    "start_time": "2025-04-03T03:54:36.754Z"
   },
   {
    "duration": 1255,
    "start_time": "2025-04-03T03:54:36.889Z"
   },
   {
    "duration": 213,
    "start_time": "2025-04-03T03:54:38.146Z"
   },
   {
    "duration": 9595,
    "start_time": "2025-04-03T03:54:38.361Z"
   },
   {
    "duration": 0,
    "start_time": "2025-04-03T03:54:47.959Z"
   },
   {
    "duration": 0,
    "start_time": "2025-04-03T03:54:47.961Z"
   },
   {
    "duration": 0,
    "start_time": "2025-04-03T03:54:47.962Z"
   },
   {
    "duration": 0,
    "start_time": "2025-04-03T03:54:47.963Z"
   },
   {
    "duration": 0,
    "start_time": "2025-04-03T03:54:47.964Z"
   },
   {
    "duration": 0,
    "start_time": "2025-04-03T03:54:47.965Z"
   },
   {
    "duration": 0,
    "start_time": "2025-04-03T03:54:47.966Z"
   },
   {
    "duration": 0,
    "start_time": "2025-04-03T03:54:47.968Z"
   },
   {
    "duration": 0,
    "start_time": "2025-04-03T03:54:47.969Z"
   },
   {
    "duration": 0,
    "start_time": "2025-04-03T03:54:47.969Z"
   },
   {
    "duration": 0,
    "start_time": "2025-04-03T03:54:47.970Z"
   },
   {
    "duration": 0,
    "start_time": "2025-04-03T03:54:47.971Z"
   },
   {
    "duration": 0,
    "start_time": "2025-04-03T03:54:47.972Z"
   },
   {
    "duration": 0,
    "start_time": "2025-04-03T03:54:47.973Z"
   },
   {
    "duration": 0,
    "start_time": "2025-04-03T03:54:47.974Z"
   },
   {
    "duration": 0,
    "start_time": "2025-04-03T03:54:47.975Z"
   },
   {
    "duration": 0,
    "start_time": "2025-04-03T03:54:47.976Z"
   },
   {
    "duration": 0,
    "start_time": "2025-04-03T03:54:47.977Z"
   },
   {
    "duration": 0,
    "start_time": "2025-04-03T03:54:47.978Z"
   },
   {
    "duration": 0,
    "start_time": "2025-04-03T03:54:47.979Z"
   },
   {
    "duration": 0,
    "start_time": "2025-04-03T03:54:47.980Z"
   },
   {
    "duration": 0,
    "start_time": "2025-04-03T03:54:47.981Z"
   },
   {
    "duration": 0,
    "start_time": "2025-04-03T03:54:47.982Z"
   },
   {
    "duration": 0,
    "start_time": "2025-04-03T03:54:47.983Z"
   },
   {
    "duration": 0,
    "start_time": "2025-04-03T03:54:47.984Z"
   },
   {
    "duration": 0,
    "start_time": "2025-04-03T03:54:47.985Z"
   },
   {
    "duration": 0,
    "start_time": "2025-04-03T03:54:47.986Z"
   },
   {
    "duration": 0,
    "start_time": "2025-04-03T03:54:47.987Z"
   },
   {
    "duration": 0,
    "start_time": "2025-04-03T03:54:47.988Z"
   },
   {
    "duration": 0,
    "start_time": "2025-04-03T03:54:47.989Z"
   },
   {
    "duration": 2244,
    "start_time": "2025-04-03T03:55:04.121Z"
   },
   {
    "duration": 1470,
    "start_time": "2025-04-03T03:55:06.367Z"
   },
   {
    "duration": 2,
    "start_time": "2025-04-03T03:55:07.839Z"
   },
   {
    "duration": 7497,
    "start_time": "2025-04-03T03:55:07.843Z"
   },
   {
    "duration": 225,
    "start_time": "2025-04-03T03:55:15.341Z"
   },
   {
    "duration": 47,
    "start_time": "2025-04-03T03:55:15.568Z"
   },
   {
    "duration": 179,
    "start_time": "2025-04-03T03:55:15.618Z"
   },
   {
    "duration": 46,
    "start_time": "2025-04-03T03:55:15.799Z"
   },
   {
    "duration": 218,
    "start_time": "2025-04-03T03:55:15.847Z"
   },
   {
    "duration": 206,
    "start_time": "2025-04-03T03:55:16.068Z"
   },
   {
    "duration": 771,
    "start_time": "2025-04-03T03:55:16.276Z"
   },
   {
    "duration": 144,
    "start_time": "2025-04-03T03:55:17.049Z"
   },
   {
    "duration": 3919,
    "start_time": "2025-04-03T03:55:17.194Z"
   },
   {
    "duration": 209,
    "start_time": "2025-04-03T03:55:21.115Z"
   },
   {
    "duration": 11875,
    "start_time": "2025-04-03T03:55:21.325Z"
   },
   {
    "duration": 250,
    "start_time": "2025-04-03T03:55:33.201Z"
   },
   {
    "duration": 3,
    "start_time": "2025-04-03T03:55:33.453Z"
   },
   {
    "duration": 571,
    "start_time": "2025-04-03T03:55:33.458Z"
   },
   {
    "duration": 221,
    "start_time": "2025-04-03T03:55:34.030Z"
   },
   {
    "duration": 291,
    "start_time": "2025-04-03T03:55:34.252Z"
   },
   {
    "duration": 38,
    "start_time": "2025-04-03T03:55:34.544Z"
   },
   {
    "duration": 301,
    "start_time": "2025-04-03T03:55:34.583Z"
   },
   {
    "duration": 506,
    "start_time": "2025-04-03T03:55:34.886Z"
   },
   {
    "duration": 253,
    "start_time": "2025-04-03T03:55:35.393Z"
   },
   {
    "duration": 12,
    "start_time": "2025-04-03T03:55:35.647Z"
   },
   {
    "duration": 149,
    "start_time": "2025-04-03T03:55:35.660Z"
   },
   {
    "duration": 81,
    "start_time": "2025-04-03T03:55:35.811Z"
   },
   {
    "duration": 3,
    "start_time": "2025-04-03T03:55:35.895Z"
   },
   {
    "duration": 67,
    "start_time": "2025-04-03T03:55:35.900Z"
   },
   {
    "duration": 103,
    "start_time": "2025-04-03T03:55:35.969Z"
   },
   {
    "duration": 58,
    "start_time": "2025-04-03T03:55:36.074Z"
   },
   {
    "duration": 484,
    "start_time": "2025-04-03T03:55:36.133Z"
   },
   {
    "duration": 4155,
    "start_time": "2025-04-03T03:55:36.619Z"
   },
   {
    "duration": 984,
    "start_time": "2025-04-03T03:55:40.775Z"
   },
   {
    "duration": 7925,
    "start_time": "2025-04-03T03:55:41.761Z"
   },
   {
    "duration": 208,
    "start_time": "2025-04-03T03:55:49.687Z"
   },
   {
    "duration": 13,
    "start_time": "2025-04-03T03:55:49.897Z"
   },
   {
    "duration": 122,
    "start_time": "2025-04-03T03:55:49.912Z"
   },
   {
    "duration": 0,
    "start_time": "2025-04-03T03:55:50.036Z"
   },
   {
    "duration": 0,
    "start_time": "2025-04-03T03:55:50.037Z"
   },
   {
    "duration": 0,
    "start_time": "2025-04-03T03:55:50.038Z"
   },
   {
    "duration": 0,
    "start_time": "2025-04-03T03:55:50.039Z"
   },
   {
    "duration": 0,
    "start_time": "2025-04-03T03:55:50.040Z"
   },
   {
    "duration": 0,
    "start_time": "2025-04-03T03:55:50.041Z"
   },
   {
    "duration": 0,
    "start_time": "2025-04-03T03:55:50.042Z"
   },
   {
    "duration": 0,
    "start_time": "2025-04-03T03:55:50.043Z"
   },
   {
    "duration": 3,
    "start_time": "2025-04-03T03:57:16.739Z"
   },
   {
    "duration": 4,
    "start_time": "2025-04-03T03:57:17.241Z"
   },
   {
    "duration": 4,
    "start_time": "2025-04-03T03:57:17.458Z"
   },
   {
    "duration": 2,
    "start_time": "2025-04-03T03:57:17.534Z"
   },
   {
    "duration": 16319,
    "start_time": "2025-04-03T03:57:17.708Z"
   },
   {
    "duration": 0,
    "start_time": "2025-04-03T03:57:34.028Z"
   },
   {
    "duration": 0,
    "start_time": "2025-04-03T03:57:34.029Z"
   },
   {
    "duration": 0,
    "start_time": "2025-04-03T03:57:34.030Z"
   },
   {
    "duration": 2323,
    "start_time": "2025-04-03T03:59:54.396Z"
   },
   {
    "duration": 1537,
    "start_time": "2025-04-03T03:59:56.721Z"
   },
   {
    "duration": 2,
    "start_time": "2025-04-03T03:59:58.260Z"
   },
   {
    "duration": 8198,
    "start_time": "2025-04-03T03:59:58.264Z"
   },
   {
    "duration": 201,
    "start_time": "2025-04-03T04:00:06.463Z"
   },
   {
    "duration": 40,
    "start_time": "2025-04-03T04:00:06.666Z"
   },
   {
    "duration": 156,
    "start_time": "2025-04-03T04:00:06.707Z"
   },
   {
    "duration": 42,
    "start_time": "2025-04-03T04:00:06.865Z"
   },
   {
    "duration": 215,
    "start_time": "2025-04-03T04:00:06.909Z"
   },
   {
    "duration": 188,
    "start_time": "2025-04-03T04:00:07.126Z"
   },
   {
    "duration": 762,
    "start_time": "2025-04-03T04:00:07.316Z"
   },
   {
    "duration": 139,
    "start_time": "2025-04-03T04:00:08.080Z"
   },
   {
    "duration": 1177,
    "start_time": "2025-04-03T04:00:08.221Z"
   },
   {
    "duration": 209,
    "start_time": "2025-04-03T04:00:09.400Z"
   },
   {
    "duration": 11525,
    "start_time": "2025-04-03T04:00:09.611Z"
   },
   {
    "duration": 246,
    "start_time": "2025-04-03T04:00:21.137Z"
   },
   {
    "duration": 4,
    "start_time": "2025-04-03T04:00:21.384Z"
   },
   {
    "duration": 531,
    "start_time": "2025-04-03T04:00:21.389Z"
   },
   {
    "duration": 230,
    "start_time": "2025-04-03T04:00:21.921Z"
   },
   {
    "duration": 315,
    "start_time": "2025-04-03T04:00:22.152Z"
   },
   {
    "duration": 29,
    "start_time": "2025-04-03T04:00:22.469Z"
   },
   {
    "duration": 309,
    "start_time": "2025-04-03T04:00:22.500Z"
   },
   {
    "duration": 491,
    "start_time": "2025-04-03T04:00:22.811Z"
   },
   {
    "duration": 250,
    "start_time": "2025-04-03T04:00:23.304Z"
   },
   {
    "duration": 18,
    "start_time": "2025-04-03T04:00:23.555Z"
   },
   {
    "duration": 79,
    "start_time": "2025-04-03T04:00:23.574Z"
   },
   {
    "duration": 93,
    "start_time": "2025-04-03T04:00:23.654Z"
   },
   {
    "duration": 4,
    "start_time": "2025-04-03T04:00:23.750Z"
   },
   {
    "duration": 53,
    "start_time": "2025-04-03T04:00:23.756Z"
   },
   {
    "duration": 103,
    "start_time": "2025-04-03T04:00:23.811Z"
   },
   {
    "duration": 69,
    "start_time": "2025-04-03T04:00:23.916Z"
   },
   {
    "duration": 453,
    "start_time": "2025-04-03T04:00:23.987Z"
   },
   {
    "duration": 3981,
    "start_time": "2025-04-03T04:00:24.442Z"
   },
   {
    "duration": 963,
    "start_time": "2025-04-03T04:00:28.424Z"
   },
   {
    "duration": 8108,
    "start_time": "2025-04-03T04:00:29.389Z"
   },
   {
    "duration": 219,
    "start_time": "2025-04-03T04:00:37.499Z"
   },
   {
    "duration": 13,
    "start_time": "2025-04-03T04:00:37.720Z"
   },
   {
    "duration": 10,
    "start_time": "2025-04-03T04:00:37.736Z"
   },
   {
    "duration": 8,
    "start_time": "2025-04-03T04:00:37.748Z"
   },
   {
    "duration": 17,
    "start_time": "2025-04-03T04:00:37.758Z"
   },
   {
    "duration": 7,
    "start_time": "2025-04-03T04:00:37.777Z"
   },
   {
    "duration": 19121,
    "start_time": "2025-04-03T04:00:37.786Z"
   },
   {
    "duration": 0,
    "start_time": "2025-04-03T04:00:56.909Z"
   },
   {
    "duration": 0,
    "start_time": "2025-04-03T04:00:56.911Z"
   },
   {
    "duration": 0,
    "start_time": "2025-04-03T04:00:56.911Z"
   },
   {
    "duration": 2273,
    "start_time": "2025-04-03T04:03:52.925Z"
   },
   {
    "duration": 1502,
    "start_time": "2025-04-03T04:03:55.200Z"
   },
   {
    "duration": 2,
    "start_time": "2025-04-03T04:03:56.704Z"
   },
   {
    "duration": 8198,
    "start_time": "2025-04-03T04:03:56.708Z"
   },
   {
    "duration": 198,
    "start_time": "2025-04-03T04:04:04.908Z"
   },
   {
    "duration": 40,
    "start_time": "2025-04-03T04:04:05.108Z"
   },
   {
    "duration": 154,
    "start_time": "2025-04-03T04:04:05.150Z"
   },
   {
    "duration": 44,
    "start_time": "2025-04-03T04:04:05.305Z"
   },
   {
    "duration": 212,
    "start_time": "2025-04-03T04:04:05.350Z"
   },
   {
    "duration": 192,
    "start_time": "2025-04-03T04:04:05.566Z"
   },
   {
    "duration": 758,
    "start_time": "2025-04-03T04:04:05.760Z"
   },
   {
    "duration": 134,
    "start_time": "2025-04-03T04:04:06.520Z"
   },
   {
    "duration": 1654,
    "start_time": "2025-04-03T04:04:06.656Z"
   },
   {
    "duration": 223,
    "start_time": "2025-04-03T04:04:08.312Z"
   },
   {
    "duration": 10678,
    "start_time": "2025-04-03T04:04:08.536Z"
   },
   {
    "duration": 237,
    "start_time": "2025-04-03T04:04:19.215Z"
   },
   {
    "duration": 4,
    "start_time": "2025-04-03T04:04:19.453Z"
   },
   {
    "duration": 493,
    "start_time": "2025-04-03T04:04:19.458Z"
   },
   {
    "duration": 231,
    "start_time": "2025-04-03T04:04:19.952Z"
   },
   {
    "duration": 295,
    "start_time": "2025-04-03T04:04:20.184Z"
   },
   {
    "duration": 28,
    "start_time": "2025-04-03T04:04:20.481Z"
   },
   {
    "duration": 295,
    "start_time": "2025-04-03T04:04:20.511Z"
   },
   {
    "duration": 488,
    "start_time": "2025-04-03T04:04:20.807Z"
   },
   {
    "duration": 255,
    "start_time": "2025-04-03T04:04:21.296Z"
   },
   {
    "duration": 12,
    "start_time": "2025-04-03T04:04:21.552Z"
   },
   {
    "duration": 81,
    "start_time": "2025-04-03T04:04:21.572Z"
   },
   {
    "duration": 85,
    "start_time": "2025-04-03T04:04:21.654Z"
   },
   {
    "duration": 3,
    "start_time": "2025-04-03T04:04:21.743Z"
   },
   {
    "duration": 54,
    "start_time": "2025-04-03T04:04:21.747Z"
   },
   {
    "duration": 106,
    "start_time": "2025-04-03T04:04:21.803Z"
   },
   {
    "duration": 65,
    "start_time": "2025-04-03T04:04:21.911Z"
   },
   {
    "duration": 476,
    "start_time": "2025-04-03T04:04:21.978Z"
   },
   {
    "duration": 3992,
    "start_time": "2025-04-03T04:04:22.456Z"
   },
   {
    "duration": 952,
    "start_time": "2025-04-03T04:04:26.450Z"
   },
   {
    "duration": 8195,
    "start_time": "2025-04-03T04:04:27.404Z"
   },
   {
    "duration": 215,
    "start_time": "2025-04-03T04:04:35.601Z"
   },
   {
    "duration": 13,
    "start_time": "2025-04-03T04:04:35.818Z"
   },
   {
    "duration": 6,
    "start_time": "2025-04-03T04:04:35.833Z"
   },
   {
    "duration": 8,
    "start_time": "2025-04-03T04:04:35.841Z"
   },
   {
    "duration": 25,
    "start_time": "2025-04-03T04:04:35.850Z"
   },
   {
    "duration": 11,
    "start_time": "2025-04-03T04:04:35.877Z"
   },
   {
    "duration": 198394,
    "start_time": "2025-04-03T04:04:35.889Z"
   },
   {
    "duration": 3,
    "start_time": "2025-04-03T04:07:54.285Z"
   },
   {
    "duration": 812,
    "start_time": "2025-04-03T04:07:54.289Z"
   },
   {
    "duration": 791,
    "start_time": "2025-04-03T04:07:55.102Z"
   },
   {
    "duration": 2391,
    "start_time": "2025-04-03T04:24:15.741Z"
   },
   {
    "duration": 1538,
    "start_time": "2025-04-03T04:24:18.134Z"
   },
   {
    "duration": 2,
    "start_time": "2025-04-03T04:24:19.674Z"
   },
   {
    "duration": 7687,
    "start_time": "2025-04-03T04:24:19.678Z"
   },
   {
    "duration": 196,
    "start_time": "2025-04-03T04:24:27.367Z"
   },
   {
    "duration": 41,
    "start_time": "2025-04-03T04:24:27.565Z"
   },
   {
    "duration": 160,
    "start_time": "2025-04-03T04:24:27.608Z"
   },
   {
    "duration": 43,
    "start_time": "2025-04-03T04:24:27.770Z"
   },
   {
    "duration": 206,
    "start_time": "2025-04-03T04:24:27.815Z"
   },
   {
    "duration": 195,
    "start_time": "2025-04-03T04:24:28.024Z"
   },
   {
    "duration": 756,
    "start_time": "2025-04-03T04:24:28.221Z"
   },
   {
    "duration": 158,
    "start_time": "2025-04-03T04:24:28.979Z"
   },
   {
    "duration": 3913,
    "start_time": "2025-04-03T04:24:29.139Z"
   },
   {
    "duration": 225,
    "start_time": "2025-04-03T04:24:33.053Z"
   },
   {
    "duration": 10902,
    "start_time": "2025-04-03T04:24:33.279Z"
   },
   {
    "duration": 130,
    "start_time": "2025-04-03T04:24:44.182Z"
   },
   {
    "duration": 0,
    "start_time": "2025-04-03T04:24:44.314Z"
   },
   {
    "duration": 0,
    "start_time": "2025-04-03T04:24:44.316Z"
   },
   {
    "duration": 0,
    "start_time": "2025-04-03T04:24:44.317Z"
   },
   {
    "duration": 0,
    "start_time": "2025-04-03T04:24:44.318Z"
   },
   {
    "duration": 0,
    "start_time": "2025-04-03T04:24:44.319Z"
   },
   {
    "duration": 0,
    "start_time": "2025-04-03T04:24:44.320Z"
   },
   {
    "duration": 0,
    "start_time": "2025-04-03T04:24:44.321Z"
   },
   {
    "duration": 0,
    "start_time": "2025-04-03T04:24:44.322Z"
   },
   {
    "duration": 0,
    "start_time": "2025-04-03T04:24:44.324Z"
   },
   {
    "duration": 0,
    "start_time": "2025-04-03T04:24:44.325Z"
   },
   {
    "duration": 0,
    "start_time": "2025-04-03T04:24:44.326Z"
   },
   {
    "duration": 0,
    "start_time": "2025-04-03T04:24:44.328Z"
   },
   {
    "duration": 0,
    "start_time": "2025-04-03T04:24:44.328Z"
   },
   {
    "duration": 0,
    "start_time": "2025-04-03T04:24:44.330Z"
   },
   {
    "duration": 0,
    "start_time": "2025-04-03T04:24:44.331Z"
   },
   {
    "duration": 0,
    "start_time": "2025-04-03T04:24:44.332Z"
   },
   {
    "duration": 0,
    "start_time": "2025-04-03T04:24:44.333Z"
   },
   {
    "duration": 0,
    "start_time": "2025-04-03T04:24:44.334Z"
   },
   {
    "duration": 0,
    "start_time": "2025-04-03T04:24:44.335Z"
   },
   {
    "duration": 0,
    "start_time": "2025-04-03T04:24:44.372Z"
   },
   {
    "duration": 0,
    "start_time": "2025-04-03T04:24:44.373Z"
   },
   {
    "duration": 0,
    "start_time": "2025-04-03T04:24:44.375Z"
   },
   {
    "duration": 0,
    "start_time": "2025-04-03T04:24:44.376Z"
   },
   {
    "duration": 0,
    "start_time": "2025-04-03T04:24:44.377Z"
   },
   {
    "duration": 0,
    "start_time": "2025-04-03T04:24:44.379Z"
   },
   {
    "duration": 0,
    "start_time": "2025-04-03T04:24:44.380Z"
   },
   {
    "duration": 0,
    "start_time": "2025-04-03T04:24:44.381Z"
   },
   {
    "duration": 0,
    "start_time": "2025-04-03T04:24:44.382Z"
   },
   {
    "duration": 0,
    "start_time": "2025-04-03T04:24:44.383Z"
   },
   {
    "duration": 0,
    "start_time": "2025-04-03T04:24:44.384Z"
   },
   {
    "duration": 262,
    "start_time": "2025-04-03T04:38:26.107Z"
   },
   {
    "duration": 4,
    "start_time": "2025-04-03T04:38:29.155Z"
   },
   {
    "duration": 631,
    "start_time": "2025-04-03T04:38:30.054Z"
   },
   {
    "duration": 309,
    "start_time": "2025-04-03T04:39:12.314Z"
   },
   {
    "duration": 366,
    "start_time": "2025-04-03T04:39:12.755Z"
   },
   {
    "duration": 51,
    "start_time": "2025-04-03T04:39:13.123Z"
   },
   {
    "duration": 337,
    "start_time": "2025-04-03T04:39:13.694Z"
   },
   {
    "duration": 569,
    "start_time": "2025-04-03T04:39:14.033Z"
   },
   {
    "duration": 271,
    "start_time": "2025-04-03T04:39:14.660Z"
   },
   {
    "duration": 13,
    "start_time": "2025-04-03T04:39:15.878Z"
   },
   {
    "duration": 299,
    "start_time": "2025-04-03T04:40:18.921Z"
   },
   {
    "duration": 672,
    "start_time": "2025-04-03T04:40:19.836Z"
   },
   {
    "duration": 87,
    "start_time": "2025-04-03T04:45:50.345Z"
   },
   {
    "duration": 87,
    "start_time": "2025-04-03T04:45:52.170Z"
   },
   {
    "duration": 101,
    "start_time": "2025-04-03T04:46:00.663Z"
   },
   {
    "duration": 2359,
    "start_time": "2025-04-03T04:46:16.208Z"
   },
   {
    "duration": 1537,
    "start_time": "2025-04-03T04:46:18.570Z"
   },
   {
    "duration": 2,
    "start_time": "2025-04-03T04:46:20.109Z"
   },
   {
    "duration": 7661,
    "start_time": "2025-04-03T04:46:20.113Z"
   },
   {
    "duration": 214,
    "start_time": "2025-04-03T04:46:27.776Z"
   },
   {
    "duration": 46,
    "start_time": "2025-04-03T04:46:27.992Z"
   },
   {
    "duration": 158,
    "start_time": "2025-04-03T04:46:28.040Z"
   },
   {
    "duration": 47,
    "start_time": "2025-04-03T04:46:28.200Z"
   },
   {
    "duration": 220,
    "start_time": "2025-04-03T04:46:28.248Z"
   },
   {
    "duration": 200,
    "start_time": "2025-04-03T04:46:28.470Z"
   },
   {
    "duration": 768,
    "start_time": "2025-04-03T04:46:28.672Z"
   },
   {
    "duration": 147,
    "start_time": "2025-04-03T04:46:29.441Z"
   },
   {
    "duration": 1278,
    "start_time": "2025-04-03T04:46:29.590Z"
   },
   {
    "duration": 235,
    "start_time": "2025-04-03T04:46:30.870Z"
   },
   {
    "duration": 11275,
    "start_time": "2025-04-03T04:46:31.107Z"
   },
   {
    "duration": 299,
    "start_time": "2025-04-03T04:46:42.385Z"
   },
   {
    "duration": 4,
    "start_time": "2025-04-03T04:46:42.685Z"
   },
   {
    "duration": 676,
    "start_time": "2025-04-03T04:46:42.691Z"
   },
   {
    "duration": 275,
    "start_time": "2025-04-03T04:46:43.373Z"
   },
   {
    "duration": 354,
    "start_time": "2025-04-03T04:46:43.649Z"
   },
   {
    "duration": 30,
    "start_time": "2025-04-03T04:46:44.005Z"
   },
   {
    "duration": 363,
    "start_time": "2025-04-03T04:46:44.037Z"
   },
   {
    "duration": 660,
    "start_time": "2025-04-03T04:46:44.402Z"
   },
   {
    "duration": 283,
    "start_time": "2025-04-03T04:46:45.064Z"
   },
   {
    "duration": 14,
    "start_time": "2025-04-03T04:46:45.348Z"
   },
   {
    "duration": 102,
    "start_time": "2025-04-03T04:46:45.372Z"
   },
   {
    "duration": 87,
    "start_time": "2025-04-03T04:46:45.476Z"
   },
   {
    "duration": 4,
    "start_time": "2025-04-03T04:46:45.572Z"
   },
   {
    "duration": 114,
    "start_time": "2025-04-03T04:46:45.577Z"
   },
   {
    "duration": 122,
    "start_time": "2025-04-03T04:46:45.692Z"
   },
   {
    "duration": 77,
    "start_time": "2025-04-03T04:46:45.816Z"
   },
   {
    "duration": 509,
    "start_time": "2025-04-03T04:46:45.894Z"
   },
   {
    "duration": 4682,
    "start_time": "2025-04-03T04:46:46.405Z"
   },
   {
    "duration": 0,
    "start_time": "2025-04-03T04:46:51.089Z"
   },
   {
    "duration": 0,
    "start_time": "2025-04-03T04:46:51.090Z"
   },
   {
    "duration": 0,
    "start_time": "2025-04-03T04:46:51.091Z"
   },
   {
    "duration": 0,
    "start_time": "2025-04-03T04:46:51.093Z"
   },
   {
    "duration": 0,
    "start_time": "2025-04-03T04:46:51.093Z"
   },
   {
    "duration": 0,
    "start_time": "2025-04-03T04:46:51.095Z"
   },
   {
    "duration": 0,
    "start_time": "2025-04-03T04:46:51.096Z"
   },
   {
    "duration": 0,
    "start_time": "2025-04-03T04:46:51.097Z"
   },
   {
    "duration": 0,
    "start_time": "2025-04-03T04:46:51.098Z"
   },
   {
    "duration": 0,
    "start_time": "2025-04-03T04:46:51.099Z"
   },
   {
    "duration": 0,
    "start_time": "2025-04-03T04:46:51.100Z"
   },
   {
    "duration": 0,
    "start_time": "2025-04-03T04:46:51.101Z"
   },
   {
    "duration": 825,
    "start_time": "2025-04-03T04:49:00.519Z"
   },
   {
    "duration": 1045,
    "start_time": "2025-04-03T04:49:09.080Z"
   },
   {
    "duration": 4292,
    "start_time": "2025-04-03T04:49:31.642Z"
   },
   {
    "duration": 4718,
    "start_time": "2025-04-03T04:50:37.672Z"
   },
   {
    "duration": 1151,
    "start_time": "2025-04-03T04:50:50.686Z"
   },
   {
    "duration": 11081,
    "start_time": "2025-04-03T04:50:51.839Z"
   },
   {
    "duration": 17,
    "start_time": "2025-04-03T05:09:58.782Z"
   },
   {
    "duration": 4,
    "start_time": "2025-04-03T05:09:59.049Z"
   },
   {
    "duration": 639,
    "start_time": "2025-04-03T05:09:59.668Z"
   },
   {
    "duration": 344,
    "start_time": "2025-04-03T05:10:00.309Z"
   },
   {
    "duration": 15,
    "start_time": "2025-04-03T05:11:08.011Z"
   },
   {
    "duration": 11864,
    "start_time": "2025-04-03T05:11:18.261Z"
   },
   {
    "duration": 291,
    "start_time": "2025-04-03T05:11:30.128Z"
   },
   {
    "duration": 5,
    "start_time": "2025-04-03T05:11:30.421Z"
   },
   {
    "duration": 560,
    "start_time": "2025-04-03T05:11:30.428Z"
   },
   {
    "duration": 237,
    "start_time": "2025-04-03T05:12:35.813Z"
   },
   {
    "duration": 287,
    "start_time": "2025-04-03T05:12:40.876Z"
   },
   {
    "duration": 30,
    "start_time": "2025-04-03T05:12:41.328Z"
   },
   {
    "duration": 328,
    "start_time": "2025-04-03T05:12:43.863Z"
   },
   {
    "duration": 534,
    "start_time": "2025-04-03T05:12:44.912Z"
   },
   {
    "duration": 261,
    "start_time": "2025-04-03T05:12:45.497Z"
   },
   {
    "duration": 21,
    "start_time": "2025-04-03T05:12:45.760Z"
   },
   {
    "duration": 82,
    "start_time": "2025-04-03T05:12:48.070Z"
   },
   {
    "duration": 85,
    "start_time": "2025-04-03T05:12:48.927Z"
   },
   {
    "duration": 4,
    "start_time": "2025-04-03T05:12:49.387Z"
   },
   {
    "duration": 47,
    "start_time": "2025-04-03T05:12:49.963Z"
   },
   {
    "duration": 109,
    "start_time": "2025-04-03T05:12:50.413Z"
   },
   {
    "duration": 83,
    "start_time": "2025-04-03T05:12:55.287Z"
   },
   {
    "duration": 1062,
    "start_time": "2025-04-03T05:12:55.502Z"
   },
   {
    "duration": 4319,
    "start_time": "2025-04-03T05:12:57.111Z"
   },
   {
    "duration": 1109,
    "start_time": "2025-04-03T05:13:01.432Z"
   },
   {
    "duration": 10019,
    "start_time": "2025-04-03T05:13:02.543Z"
   },
   {
    "duration": 9965,
    "start_time": "2025-04-03T05:21:22.561Z"
   },
   {
    "duration": 11386,
    "start_time": "2025-04-03T05:26:50.536Z"
   },
   {
    "duration": 426,
    "start_time": "2025-04-03T05:27:01.924Z"
   },
   {
    "duration": 4,
    "start_time": "2025-04-03T05:27:02.352Z"
   },
   {
    "duration": 1017,
    "start_time": "2025-04-03T05:27:02.358Z"
   },
   {
    "duration": 475,
    "start_time": "2025-04-03T05:27:03.377Z"
   },
   {
    "duration": 542,
    "start_time": "2025-04-03T05:27:03.854Z"
   },
   {
    "duration": 126,
    "start_time": "2025-04-03T05:29:24.105Z"
   },
   {
    "duration": 12105,
    "start_time": "2025-04-03T05:30:05.625Z"
   },
   {
    "duration": 16,
    "start_time": "2025-04-03T05:30:40.067Z"
   },
   {
    "duration": 314,
    "start_time": "2025-04-03T05:30:53.862Z"
   },
   {
    "duration": 5,
    "start_time": "2025-04-03T05:31:04.394Z"
   },
   {
    "duration": 887,
    "start_time": "2025-04-03T05:31:04.600Z"
   },
   {
    "duration": 379,
    "start_time": "2025-04-03T05:31:13.266Z"
   },
   {
    "duration": 462,
    "start_time": "2025-04-03T05:31:41.475Z"
   },
   {
    "duration": 38,
    "start_time": "2025-04-03T05:31:51.811Z"
   },
   {
    "duration": 507,
    "start_time": "2025-04-03T05:31:57.269Z"
   },
   {
    "duration": 422,
    "start_time": "2025-04-03T05:32:49.918Z"
   },
   {
    "duration": 4,
    "start_time": "2025-04-03T05:33:05.068Z"
   },
   {
    "duration": 5,
    "start_time": "2025-04-03T05:34:28.943Z"
   },
   {
    "duration": 447,
    "start_time": "2025-04-03T05:35:50.568Z"
   },
   {
    "duration": 2425,
    "start_time": "2025-04-03T05:36:16.599Z"
   },
   {
    "duration": 1564,
    "start_time": "2025-04-03T05:36:19.026Z"
   },
   {
    "duration": 3,
    "start_time": "2025-04-03T05:36:20.592Z"
   },
   {
    "duration": 8470,
    "start_time": "2025-04-03T05:36:20.597Z"
   },
   {
    "duration": 222,
    "start_time": "2025-04-03T05:36:29.069Z"
   },
   {
    "duration": 45,
    "start_time": "2025-04-03T05:36:29.292Z"
   },
   {
    "duration": 168,
    "start_time": "2025-04-03T05:36:29.338Z"
   },
   {
    "duration": 47,
    "start_time": "2025-04-03T05:36:29.508Z"
   },
   {
    "duration": 220,
    "start_time": "2025-04-03T05:36:29.557Z"
   },
   {
    "duration": 210,
    "start_time": "2025-04-03T05:36:29.779Z"
   },
   {
    "duration": 813,
    "start_time": "2025-04-03T05:36:29.990Z"
   },
   {
    "duration": 146,
    "start_time": "2025-04-03T05:36:30.805Z"
   },
   {
    "duration": 734,
    "start_time": "2025-04-03T05:36:30.952Z"
   },
   {
    "duration": 226,
    "start_time": "2025-04-03T05:36:31.687Z"
   },
   {
    "duration": 12321,
    "start_time": "2025-04-03T05:36:31.915Z"
   },
   {
    "duration": 403,
    "start_time": "2025-04-03T05:36:44.238Z"
   },
   {
    "duration": 5,
    "start_time": "2025-04-03T05:36:44.643Z"
   },
   {
    "duration": 1196,
    "start_time": "2025-04-03T05:36:44.649Z"
   },
   {
    "duration": 133,
    "start_time": "2025-04-03T05:36:45.847Z"
   },
   {
    "duration": 0,
    "start_time": "2025-04-03T05:36:45.982Z"
   },
   {
    "duration": 0,
    "start_time": "2025-04-03T05:36:45.984Z"
   },
   {
    "duration": 0,
    "start_time": "2025-04-03T05:36:45.986Z"
   },
   {
    "duration": 0,
    "start_time": "2025-04-03T05:36:45.987Z"
   },
   {
    "duration": 0,
    "start_time": "2025-04-03T05:36:45.989Z"
   },
   {
    "duration": 0,
    "start_time": "2025-04-03T05:36:45.990Z"
   },
   {
    "duration": 0,
    "start_time": "2025-04-03T05:36:45.991Z"
   },
   {
    "duration": 0,
    "start_time": "2025-04-03T05:36:45.992Z"
   },
   {
    "duration": 0,
    "start_time": "2025-04-03T05:36:45.994Z"
   },
   {
    "duration": 0,
    "start_time": "2025-04-03T05:36:45.995Z"
   },
   {
    "duration": 1,
    "start_time": "2025-04-03T05:36:45.996Z"
   },
   {
    "duration": 0,
    "start_time": "2025-04-03T05:36:45.998Z"
   },
   {
    "duration": 0,
    "start_time": "2025-04-03T05:36:46.000Z"
   },
   {
    "duration": 0,
    "start_time": "2025-04-03T05:36:46.001Z"
   },
   {
    "duration": 0,
    "start_time": "2025-04-03T05:36:46.003Z"
   },
   {
    "duration": 0,
    "start_time": "2025-04-03T05:36:46.005Z"
   },
   {
    "duration": 0,
    "start_time": "2025-04-03T05:36:46.006Z"
   },
   {
    "duration": 0,
    "start_time": "2025-04-03T05:36:46.008Z"
   },
   {
    "duration": 0,
    "start_time": "2025-04-03T05:36:46.009Z"
   },
   {
    "duration": 0,
    "start_time": "2025-04-03T05:36:46.010Z"
   },
   {
    "duration": 0,
    "start_time": "2025-04-03T05:36:46.012Z"
   },
   {
    "duration": 0,
    "start_time": "2025-04-03T05:36:46.013Z"
   },
   {
    "duration": 0,
    "start_time": "2025-04-03T05:36:46.015Z"
   },
   {
    "duration": 0,
    "start_time": "2025-04-03T05:36:46.016Z"
   },
   {
    "duration": 0,
    "start_time": "2025-04-03T05:36:46.073Z"
   },
   {
    "duration": 0,
    "start_time": "2025-04-03T05:36:46.074Z"
   },
   {
    "duration": 0,
    "start_time": "2025-04-03T05:36:46.076Z"
   },
   {
    "duration": 0,
    "start_time": "2025-04-03T05:36:46.078Z"
   },
   {
    "duration": 498,
    "start_time": "2025-04-03T05:38:45.703Z"
   },
   {
    "duration": 686,
    "start_time": "2025-04-03T05:38:52.908Z"
   },
   {
    "duration": 38,
    "start_time": "2025-04-03T05:38:54.246Z"
   },
   {
    "duration": 4,
    "start_time": "2025-04-03T05:38:59.174Z"
   },
   {
    "duration": 741,
    "start_time": "2025-04-03T05:39:00.713Z"
   },
   {
    "duration": 534,
    "start_time": "2025-04-03T05:41:18.891Z"
   },
   {
    "duration": 1154,
    "start_time": "2025-04-03T05:41:21.753Z"
   },
   {
    "duration": 427,
    "start_time": "2025-04-03T05:41:38.647Z"
   },
   {
    "duration": 19,
    "start_time": "2025-04-03T05:41:45.353Z"
   },
   {
    "duration": 150,
    "start_time": "2025-04-03T05:41:47.313Z"
   },
   {
    "duration": 158,
    "start_time": "2025-04-03T05:41:47.766Z"
   },
   {
    "duration": 4,
    "start_time": "2025-04-03T05:41:48.703Z"
   },
   {
    "duration": 88,
    "start_time": "2025-04-03T05:41:50.742Z"
   },
   {
    "duration": 110,
    "start_time": "2025-04-03T05:41:53.313Z"
   },
   {
    "duration": 104,
    "start_time": "2025-04-03T05:41:59.833Z"
   },
   {
    "duration": 967,
    "start_time": "2025-04-03T05:42:05.794Z"
   },
   {
    "duration": 1184,
    "start_time": "2025-04-03T05:42:36.770Z"
   },
   {
    "duration": 107,
    "start_time": "2025-04-03T05:43:06.837Z"
   },
   {
    "duration": 8037,
    "start_time": "2025-04-03T05:43:37.008Z"
   },
   {
    "duration": 1089,
    "start_time": "2025-04-03T05:44:09.620Z"
   },
   {
    "duration": 30968,
    "start_time": "2025-04-03T05:44:16.171Z"
   },
   {
    "duration": 31353,
    "start_time": "2025-04-03T05:45:01.530Z"
   },
   {
    "duration": 375,
    "start_time": "2025-04-03T05:46:36.850Z"
   },
   {
    "duration": 19,
    "start_time": "2025-04-03T05:46:37.590Z"
   },
   {
    "duration": 3,
    "start_time": "2025-04-03T05:46:37.917Z"
   },
   {
    "duration": 3,
    "start_time": "2025-04-03T05:46:39.138Z"
   },
   {
    "duration": 4,
    "start_time": "2025-04-03T05:46:39.391Z"
   },
   {
    "duration": 3,
    "start_time": "2025-04-03T05:46:39.496Z"
   },
   {
    "duration": 61116,
    "start_time": "2025-04-03T05:46:39.730Z"
   },
   {
    "duration": 0,
    "start_time": "2025-04-03T05:47:40.848Z"
   },
   {
    "duration": 0,
    "start_time": "2025-04-03T05:47:40.849Z"
   },
   {
    "duration": 0,
    "start_time": "2025-04-03T05:47:40.851Z"
   },
   {
    "duration": 3,
    "start_time": "2025-04-03T05:54:06.940Z"
   },
   {
    "duration": 4,
    "start_time": "2025-04-03T05:54:11.693Z"
   },
   {
    "duration": 4,
    "start_time": "2025-04-03T05:54:12.572Z"
   },
   {
    "duration": 3,
    "start_time": "2025-04-03T05:54:13.303Z"
   },
   {
    "duration": 32378,
    "start_time": "2025-04-03T05:54:13.879Z"
   },
   {
    "duration": 0,
    "start_time": "2025-04-03T05:54:46.259Z"
   },
   {
    "duration": 0,
    "start_time": "2025-04-03T05:54:46.260Z"
   },
   {
    "duration": 0,
    "start_time": "2025-04-03T05:54:46.273Z"
   },
   {
    "duration": 4,
    "start_time": "2025-04-03T05:55:06.609Z"
   },
   {
    "duration": 5,
    "start_time": "2025-04-03T05:55:06.892Z"
   },
   {
    "duration": 3,
    "start_time": "2025-04-03T05:55:07.013Z"
   },
   {
    "duration": 574554,
    "start_time": "2025-04-03T05:55:07.746Z"
   },
   {
    "duration": 0,
    "start_time": "2025-04-03T06:04:42.302Z"
   },
   {
    "duration": 0,
    "start_time": "2025-04-03T06:04:42.304Z"
   },
   {
    "duration": 0,
    "start_time": "2025-04-03T06:04:42.305Z"
   },
   {
    "duration": 30621,
    "start_time": "2025-04-03T06:04:43.665Z"
   },
   {
    "duration": 18,
    "start_time": "2025-04-03T06:06:29.678Z"
   },
   {
    "duration": 11083,
    "start_time": "2025-04-03T06:06:34.902Z"
   },
   {
    "duration": 351,
    "start_time": "2025-04-03T06:06:45.986Z"
   },
   {
    "duration": 29318,
    "start_time": "2025-04-03T06:07:00.938Z"
   },
   {
    "duration": 2341,
    "start_time": "2025-04-03T06:11:27.833Z"
   },
   {
    "duration": 1620,
    "start_time": "2025-04-03T06:11:30.176Z"
   },
   {
    "duration": 3,
    "start_time": "2025-04-03T06:11:31.798Z"
   },
   {
    "duration": 9160,
    "start_time": "2025-04-03T06:11:31.803Z"
   },
   {
    "duration": 209,
    "start_time": "2025-04-03T06:11:40.965Z"
   },
   {
    "duration": 43,
    "start_time": "2025-04-03T06:11:41.175Z"
   },
   {
    "duration": 164,
    "start_time": "2025-04-03T06:11:41.219Z"
   },
   {
    "duration": 45,
    "start_time": "2025-04-03T06:11:41.385Z"
   },
   {
    "duration": 218,
    "start_time": "2025-04-03T06:11:41.432Z"
   },
   {
    "duration": 200,
    "start_time": "2025-04-03T06:11:41.652Z"
   },
   {
    "duration": 1703,
    "start_time": "2025-04-03T06:11:41.854Z"
   },
   {
    "duration": 137,
    "start_time": "2025-04-03T06:11:43.558Z"
   },
   {
    "duration": 5398,
    "start_time": "2025-04-03T06:11:43.696Z"
   },
   {
    "duration": 223,
    "start_time": "2025-04-03T06:11:49.096Z"
   },
   {
    "duration": 13354,
    "start_time": "2025-04-03T06:11:49.321Z"
   },
   {
    "duration": 455,
    "start_time": "2025-04-03T06:12:02.677Z"
   },
   {
    "duration": 4,
    "start_time": "2025-04-03T06:12:03.134Z"
   },
   {
    "duration": 1272,
    "start_time": "2025-04-03T06:12:03.140Z"
   },
   {
    "duration": 542,
    "start_time": "2025-04-03T06:12:04.414Z"
   },
   {
    "duration": 695,
    "start_time": "2025-04-03T06:12:04.958Z"
   },
   {
    "duration": 47,
    "start_time": "2025-04-03T06:12:05.655Z"
   },
   {
    "duration": 740,
    "start_time": "2025-04-03T06:12:05.704Z"
   },
   {
    "duration": 1090,
    "start_time": "2025-04-03T06:12:06.446Z"
   },
   {
    "duration": 462,
    "start_time": "2025-04-03T06:12:07.538Z"
   },
   {
    "duration": 18,
    "start_time": "2025-04-03T06:12:08.002Z"
   },
   {
    "duration": 29220,
    "start_time": "2025-04-03T06:12:08.022Z"
   },
   {
    "duration": 130,
    "start_time": "2025-04-03T06:12:37.244Z"
   },
   {
    "duration": 0,
    "start_time": "2025-04-03T06:12:37.377Z"
   },
   {
    "duration": 0,
    "start_time": "2025-04-03T06:12:37.378Z"
   },
   {
    "duration": 0,
    "start_time": "2025-04-03T06:12:37.379Z"
   },
   {
    "duration": 0,
    "start_time": "2025-04-03T06:12:37.380Z"
   },
   {
    "duration": 0,
    "start_time": "2025-04-03T06:12:37.381Z"
   },
   {
    "duration": 0,
    "start_time": "2025-04-03T06:12:37.382Z"
   },
   {
    "duration": 0,
    "start_time": "2025-04-03T06:12:37.383Z"
   },
   {
    "duration": 0,
    "start_time": "2025-04-03T06:12:37.385Z"
   },
   {
    "duration": 0,
    "start_time": "2025-04-03T06:12:37.386Z"
   },
   {
    "duration": 0,
    "start_time": "2025-04-03T06:12:37.387Z"
   },
   {
    "duration": 0,
    "start_time": "2025-04-03T06:12:37.388Z"
   },
   {
    "duration": 0,
    "start_time": "2025-04-03T06:12:37.389Z"
   },
   {
    "duration": 0,
    "start_time": "2025-04-03T06:12:37.390Z"
   },
   {
    "duration": 0,
    "start_time": "2025-04-03T06:12:37.391Z"
   },
   {
    "duration": 0,
    "start_time": "2025-04-03T06:12:37.392Z"
   },
   {
    "duration": 0,
    "start_time": "2025-04-03T06:12:37.393Z"
   },
   {
    "duration": 0,
    "start_time": "2025-04-03T06:12:37.394Z"
   },
   {
    "duration": 0,
    "start_time": "2025-04-03T06:12:37.395Z"
   },
   {
    "duration": 0,
    "start_time": "2025-04-03T06:12:37.396Z"
   },
   {
    "duration": 0,
    "start_time": "2025-04-03T06:12:37.397Z"
   },
   {
    "duration": 0,
    "start_time": "2025-04-03T06:12:37.398Z"
   },
   {
    "duration": 16,
    "start_time": "2025-04-03T06:17:32.238Z"
   },
   {
    "duration": 30,
    "start_time": "2025-04-03T06:20:54.204Z"
   },
   {
    "duration": 15,
    "start_time": "2025-04-03T06:21:10.972Z"
   },
   {
    "duration": 2437,
    "start_time": "2025-04-03T06:21:33.087Z"
   },
   {
    "duration": 1632,
    "start_time": "2025-04-03T06:21:35.526Z"
   },
   {
    "duration": 3,
    "start_time": "2025-04-03T06:21:37.160Z"
   },
   {
    "duration": 8495,
    "start_time": "2025-04-03T06:21:37.165Z"
   },
   {
    "duration": 211,
    "start_time": "2025-04-03T06:21:45.662Z"
   },
   {
    "duration": 43,
    "start_time": "2025-04-03T06:21:45.875Z"
   },
   {
    "duration": 163,
    "start_time": "2025-04-03T06:21:45.919Z"
   },
   {
    "duration": 47,
    "start_time": "2025-04-03T06:21:46.083Z"
   },
   {
    "duration": 221,
    "start_time": "2025-04-03T06:21:46.132Z"
   },
   {
    "duration": 203,
    "start_time": "2025-04-03T06:21:46.356Z"
   },
   {
    "duration": 789,
    "start_time": "2025-04-03T06:21:46.561Z"
   },
   {
    "duration": 144,
    "start_time": "2025-04-03T06:21:47.352Z"
   },
   {
    "duration": 3703,
    "start_time": "2025-04-03T06:21:47.497Z"
   },
   {
    "duration": 225,
    "start_time": "2025-04-03T06:21:51.202Z"
   },
   {
    "duration": 12219,
    "start_time": "2025-04-03T06:21:51.429Z"
   },
   {
    "duration": 417,
    "start_time": "2025-04-03T06:22:03.650Z"
   },
   {
    "duration": 3,
    "start_time": "2025-04-03T06:22:04.072Z"
   },
   {
    "duration": 1239,
    "start_time": "2025-04-03T06:22:04.077Z"
   },
   {
    "duration": 540,
    "start_time": "2025-04-03T06:22:05.318Z"
   },
   {
    "duration": 705,
    "start_time": "2025-04-03T06:22:05.860Z"
   },
   {
    "duration": 42,
    "start_time": "2025-04-03T06:22:06.567Z"
   },
   {
    "duration": 723,
    "start_time": "2025-04-03T06:22:06.611Z"
   },
   {
    "duration": 1136,
    "start_time": "2025-04-03T06:22:07.336Z"
   },
   {
    "duration": 478,
    "start_time": "2025-04-03T06:22:08.474Z"
   },
   {
    "duration": 29,
    "start_time": "2025-04-03T06:22:08.954Z"
   },
   {
    "duration": 29296,
    "start_time": "2025-04-03T06:22:08.985Z"
   },
   {
    "duration": 18,
    "start_time": "2025-04-03T06:22:38.283Z"
   },
   {
    "duration": 31,
    "start_time": "2025-04-03T06:22:38.305Z"
   },
   {
    "duration": 150,
    "start_time": "2025-04-03T06:22:38.337Z"
   },
   {
    "duration": 0,
    "start_time": "2025-04-03T06:22:38.489Z"
   },
   {
    "duration": 0,
    "start_time": "2025-04-03T06:22:38.490Z"
   },
   {
    "duration": 0,
    "start_time": "2025-04-03T06:22:38.491Z"
   },
   {
    "duration": 0,
    "start_time": "2025-04-03T06:22:38.492Z"
   },
   {
    "duration": 0,
    "start_time": "2025-04-03T06:22:38.493Z"
   },
   {
    "duration": 0,
    "start_time": "2025-04-03T06:22:38.494Z"
   },
   {
    "duration": 0,
    "start_time": "2025-04-03T06:22:38.496Z"
   },
   {
    "duration": 0,
    "start_time": "2025-04-03T06:22:38.497Z"
   },
   {
    "duration": 0,
    "start_time": "2025-04-03T06:22:38.498Z"
   },
   {
    "duration": 0,
    "start_time": "2025-04-03T06:22:38.499Z"
   },
   {
    "duration": 0,
    "start_time": "2025-04-03T06:22:38.500Z"
   },
   {
    "duration": 0,
    "start_time": "2025-04-03T06:22:38.501Z"
   },
   {
    "duration": 0,
    "start_time": "2025-04-03T06:22:38.502Z"
   },
   {
    "duration": 0,
    "start_time": "2025-04-03T06:22:38.504Z"
   },
   {
    "duration": 0,
    "start_time": "2025-04-03T06:22:38.505Z"
   },
   {
    "duration": 0,
    "start_time": "2025-04-03T06:22:38.506Z"
   },
   {
    "duration": 0,
    "start_time": "2025-04-03T06:22:38.507Z"
   },
   {
    "duration": 0,
    "start_time": "2025-04-03T06:22:38.508Z"
   },
   {
    "duration": 0,
    "start_time": "2025-04-03T06:22:38.509Z"
   },
   {
    "duration": 0,
    "start_time": "2025-04-03T06:22:38.510Z"
   },
   {
    "duration": 0,
    "start_time": "2025-04-03T06:22:38.511Z"
   },
   {
    "duration": 358,
    "start_time": "2025-04-03T06:23:50.916Z"
   },
   {
    "duration": 11,
    "start_time": "2025-04-03T06:24:10.958Z"
   },
   {
    "duration": 98,
    "start_time": "2025-04-03T06:24:43.558Z"
   },
   {
    "duration": 35,
    "start_time": "2025-04-03T06:24:47.581Z"
   },
   {
    "duration": 2865,
    "start_time": "2025-04-03T06:24:55.814Z"
   },
   {
    "duration": 506,
    "start_time": "2025-04-03T06:25:12.920Z"
   },
   {
    "duration": 473,
    "start_time": "2025-04-03T06:25:18.884Z"
   },
   {
    "duration": 29,
    "start_time": "2025-04-03T06:25:30.941Z"
   },
   {
    "duration": 2305,
    "start_time": "2025-04-03T06:25:50.327Z"
   },
   {
    "duration": 114,
    "start_time": "2025-04-03T06:26:17.229Z"
   },
   {
    "duration": 12,
    "start_time": "2025-04-03T06:26:20.581Z"
   },
   {
    "duration": 3,
    "start_time": "2025-04-03T06:28:17.856Z"
   },
   {
    "duration": 4,
    "start_time": "2025-04-03T06:28:23.224Z"
   },
   {
    "duration": 5,
    "start_time": "2025-04-03T06:28:24.010Z"
   },
   {
    "duration": 3,
    "start_time": "2025-04-03T06:28:24.826Z"
   },
   {
    "duration": 2467,
    "start_time": "2025-04-03T06:29:45.904Z"
   },
   {
    "duration": 1590,
    "start_time": "2025-04-03T06:29:48.374Z"
   },
   {
    "duration": 3,
    "start_time": "2025-04-03T06:29:49.965Z"
   },
   {
    "duration": 8065,
    "start_time": "2025-04-03T06:29:49.973Z"
   },
   {
    "duration": 204,
    "start_time": "2025-04-03T06:29:58.040Z"
   },
   {
    "duration": 43,
    "start_time": "2025-04-03T06:29:58.246Z"
   },
   {
    "duration": 159,
    "start_time": "2025-04-03T06:29:58.290Z"
   },
   {
    "duration": 46,
    "start_time": "2025-04-03T06:29:58.450Z"
   },
   {
    "duration": 214,
    "start_time": "2025-04-03T06:29:58.497Z"
   },
   {
    "duration": 195,
    "start_time": "2025-04-03T06:29:58.713Z"
   },
   {
    "duration": 764,
    "start_time": "2025-04-03T06:29:58.909Z"
   },
   {
    "duration": 151,
    "start_time": "2025-04-03T06:29:59.675Z"
   },
   {
    "duration": 1930,
    "start_time": "2025-04-03T06:29:59.828Z"
   },
   {
    "duration": 243,
    "start_time": "2025-04-03T06:30:01.760Z"
   },
   {
    "duration": 10702,
    "start_time": "2025-04-03T06:30:02.005Z"
   },
   {
    "duration": 442,
    "start_time": "2025-04-03T06:30:12.709Z"
   },
   {
    "duration": 4,
    "start_time": "2025-04-03T06:30:13.153Z"
   },
   {
    "duration": 1229,
    "start_time": "2025-04-03T06:30:13.158Z"
   },
   {
    "duration": 516,
    "start_time": "2025-04-03T06:30:14.388Z"
   },
   {
    "duration": 675,
    "start_time": "2025-04-03T06:30:14.906Z"
   },
   {
    "duration": 37,
    "start_time": "2025-04-03T06:30:15.583Z"
   },
   {
    "duration": 712,
    "start_time": "2025-04-03T06:30:15.622Z"
   },
   {
    "duration": 1113,
    "start_time": "2025-04-03T06:30:16.336Z"
   },
   {
    "duration": 477,
    "start_time": "2025-04-03T06:30:17.451Z"
   },
   {
    "duration": 19,
    "start_time": "2025-04-03T06:30:17.929Z"
   },
   {
    "duration": 30503,
    "start_time": "2025-04-03T06:30:17.950Z"
   },
   {
    "duration": 39,
    "start_time": "2025-04-03T06:30:48.455Z"
   },
   {
    "duration": 317,
    "start_time": "2025-04-03T06:30:48.497Z"
   },
   {
    "duration": 11,
    "start_time": "2025-04-03T06:30:48.816Z"
   },
   {
    "duration": 116,
    "start_time": "2025-04-03T06:30:48.828Z"
   },
   {
    "duration": 37,
    "start_time": "2025-04-03T06:30:48.945Z"
   },
   {
    "duration": 567,
    "start_time": "2025-04-03T06:30:48.984Z"
   },
   {
    "duration": 43,
    "start_time": "2025-04-03T06:30:49.552Z"
   },
   {
    "duration": 2092,
    "start_time": "2025-04-03T06:30:49.597Z"
   },
   {
    "duration": 126,
    "start_time": "2025-04-03T06:30:51.691Z"
   },
   {
    "duration": 12,
    "start_time": "2025-04-03T06:30:51.818Z"
   },
   {
    "duration": 3,
    "start_time": "2025-04-03T06:30:51.831Z"
   },
   {
    "duration": 6,
    "start_time": "2025-04-03T06:30:51.836Z"
   },
   {
    "duration": 5,
    "start_time": "2025-04-03T06:30:51.843Z"
   },
   {
    "duration": 37,
    "start_time": "2025-04-03T06:30:51.849Z"
   },
   {
    "duration": 12671,
    "start_time": "2025-04-03T06:30:51.887Z"
   },
   {
    "duration": 0,
    "start_time": "2025-04-03T06:31:04.560Z"
   },
   {
    "duration": 0,
    "start_time": "2025-04-03T06:31:04.561Z"
   },
   {
    "duration": 0,
    "start_time": "2025-04-03T06:31:04.573Z"
   },
   {
    "duration": 2440,
    "start_time": "2025-04-03T06:33:53.102Z"
   },
   {
    "duration": 1556,
    "start_time": "2025-04-03T06:33:55.544Z"
   },
   {
    "duration": 3,
    "start_time": "2025-04-03T06:33:57.102Z"
   },
   {
    "duration": 7529,
    "start_time": "2025-04-03T06:33:57.107Z"
   },
   {
    "duration": 556,
    "start_time": "2025-04-03T06:34:04.637Z"
   },
   {
    "duration": 43,
    "start_time": "2025-04-03T06:34:05.195Z"
   },
   {
    "duration": 168,
    "start_time": "2025-04-03T06:34:05.240Z"
   },
   {
    "duration": 46,
    "start_time": "2025-04-03T06:34:05.410Z"
   },
   {
    "duration": 220,
    "start_time": "2025-04-03T06:34:05.457Z"
   },
   {
    "duration": 216,
    "start_time": "2025-04-03T06:34:05.679Z"
   },
   {
    "duration": 780,
    "start_time": "2025-04-03T06:34:05.896Z"
   },
   {
    "duration": 169,
    "start_time": "2025-04-03T06:34:06.678Z"
   },
   {
    "duration": 3692,
    "start_time": "2025-04-03T06:34:06.849Z"
   },
   {
    "duration": 237,
    "start_time": "2025-04-03T06:34:10.543Z"
   },
   {
    "duration": 11771,
    "start_time": "2025-04-03T06:34:10.781Z"
   },
   {
    "duration": 420,
    "start_time": "2025-04-03T06:34:22.553Z"
   },
   {
    "duration": 4,
    "start_time": "2025-04-03T06:34:22.975Z"
   },
   {
    "duration": 1200,
    "start_time": "2025-04-03T06:34:22.980Z"
   },
   {
    "duration": 513,
    "start_time": "2025-04-03T06:34:24.182Z"
   },
   {
    "duration": 659,
    "start_time": "2025-04-03T06:34:24.697Z"
   },
   {
    "duration": 45,
    "start_time": "2025-04-03T06:34:25.358Z"
   },
   {
    "duration": 690,
    "start_time": "2025-04-03T06:34:25.404Z"
   },
   {
    "duration": 1083,
    "start_time": "2025-04-03T06:34:26.096Z"
   },
   {
    "duration": 433,
    "start_time": "2025-04-03T06:34:27.181Z"
   },
   {
    "duration": 18,
    "start_time": "2025-04-03T06:34:27.615Z"
   },
   {
    "duration": 28574,
    "start_time": "2025-04-03T06:34:27.634Z"
   },
   {
    "duration": 24,
    "start_time": "2025-04-03T06:34:56.209Z"
   },
   {
    "duration": 354,
    "start_time": "2025-04-03T06:34:56.237Z"
   },
   {
    "duration": 11,
    "start_time": "2025-04-03T06:34:56.593Z"
   },
   {
    "duration": 121,
    "start_time": "2025-04-03T06:34:56.605Z"
   },
   {
    "duration": 45,
    "start_time": "2025-04-03T06:34:56.728Z"
   },
   {
    "duration": 575,
    "start_time": "2025-04-03T06:34:56.774Z"
   },
   {
    "duration": 39,
    "start_time": "2025-04-03T06:34:57.351Z"
   },
   {
    "duration": 2137,
    "start_time": "2025-04-03T06:34:57.392Z"
   },
   {
    "duration": 121,
    "start_time": "2025-04-03T06:34:59.531Z"
   },
   {
    "duration": 9,
    "start_time": "2025-04-03T06:34:59.654Z"
   },
   {
    "duration": 2,
    "start_time": "2025-04-03T06:34:59.673Z"
   },
   {
    "duration": 4,
    "start_time": "2025-04-03T06:34:59.676Z"
   },
   {
    "duration": 4,
    "start_time": "2025-04-03T06:34:59.682Z"
   },
   {
    "duration": 5,
    "start_time": "2025-04-03T06:34:59.687Z"
   },
   {
    "duration": 594199,
    "start_time": "2025-04-03T06:34:59.693Z"
   },
   {
    "duration": 3,
    "start_time": "2025-04-03T06:44:53.894Z"
   },
   {
    "duration": 482,
    "start_time": "2025-04-03T06:44:53.899Z"
   },
   {
    "duration": 414,
    "start_time": "2025-04-03T06:44:54.384Z"
   },
   {
    "duration": 16,
    "start_time": "2025-04-03T07:17:17.536Z"
   },
   {
    "duration": 2369,
    "start_time": "2025-04-03T07:19:49.041Z"
   },
   {
    "duration": 1549,
    "start_time": "2025-04-03T07:19:51.413Z"
   },
   {
    "duration": 2,
    "start_time": "2025-04-03T07:19:52.964Z"
   },
   {
    "duration": 7854,
    "start_time": "2025-04-03T07:19:52.972Z"
   },
   {
    "duration": 215,
    "start_time": "2025-04-03T07:20:00.828Z"
   },
   {
    "duration": 45,
    "start_time": "2025-04-03T07:20:01.044Z"
   },
   {
    "duration": 174,
    "start_time": "2025-04-03T07:20:01.090Z"
   },
   {
    "duration": 58,
    "start_time": "2025-04-03T07:20:01.265Z"
   },
   {
    "duration": 228,
    "start_time": "2025-04-03T07:20:01.325Z"
   },
   {
    "duration": 212,
    "start_time": "2025-04-03T07:20:01.555Z"
   },
   {
    "duration": 4863,
    "start_time": "2025-04-03T07:20:01.772Z"
   },
   {
    "duration": 150,
    "start_time": "2025-04-03T07:20:06.636Z"
   },
   {
    "duration": 3945,
    "start_time": "2025-04-03T07:20:06.788Z"
   },
   {
    "duration": 238,
    "start_time": "2025-04-03T07:20:10.735Z"
   },
   {
    "duration": 12884,
    "start_time": "2025-04-03T07:20:10.974Z"
   },
   {
    "duration": 408,
    "start_time": "2025-04-03T07:20:23.860Z"
   },
   {
    "duration": 4,
    "start_time": "2025-04-03T07:20:24.272Z"
   },
   {
    "duration": 1166,
    "start_time": "2025-04-03T07:20:24.277Z"
   },
   {
    "duration": 478,
    "start_time": "2025-04-03T07:20:25.445Z"
   },
   {
    "duration": 649,
    "start_time": "2025-04-03T07:20:25.924Z"
   },
   {
    "duration": 36,
    "start_time": "2025-04-03T07:20:26.575Z"
   },
   {
    "duration": 660,
    "start_time": "2025-04-03T07:20:26.612Z"
   },
   {
    "duration": 1021,
    "start_time": "2025-04-03T07:20:27.274Z"
   },
   {
    "duration": 428,
    "start_time": "2025-04-03T07:20:28.296Z"
   },
   {
    "duration": 19,
    "start_time": "2025-04-03T07:20:28.726Z"
   },
   {
    "duration": 28935,
    "start_time": "2025-04-03T07:20:28.747Z"
   },
   {
    "duration": 24,
    "start_time": "2025-04-03T07:20:57.683Z"
   },
   {
    "duration": 327,
    "start_time": "2025-04-03T07:20:57.711Z"
   },
   {
    "duration": 16,
    "start_time": "2025-04-03T07:20:58.040Z"
   },
   {
    "duration": 11,
    "start_time": "2025-04-03T07:20:58.073Z"
   },
   {
    "duration": 110,
    "start_time": "2025-04-03T07:20:58.085Z"
   },
   {
    "duration": 35,
    "start_time": "2025-04-03T07:20:58.197Z"
   },
   {
    "duration": 600,
    "start_time": "2025-04-03T07:20:58.234Z"
   },
   {
    "duration": 38,
    "start_time": "2025-04-03T07:20:58.835Z"
   },
   {
    "duration": 2327,
    "start_time": "2025-04-03T07:20:58.875Z"
   },
   {
    "duration": 124,
    "start_time": "2025-04-03T07:21:01.204Z"
   },
   {
    "duration": 11,
    "start_time": "2025-04-03T07:21:01.330Z"
   },
   {
    "duration": 11,
    "start_time": "2025-04-03T07:21:01.342Z"
   },
   {
    "duration": 5,
    "start_time": "2025-04-03T07:21:01.355Z"
   },
   {
    "duration": 12,
    "start_time": "2025-04-03T07:21:01.362Z"
   },
   {
    "duration": 16,
    "start_time": "2025-04-03T07:21:01.376Z"
   },
   {
    "duration": 598073,
    "start_time": "2025-04-03T07:21:01.393Z"
   },
   {
    "duration": 4,
    "start_time": "2025-04-03T07:30:59.467Z"
   },
   {
    "duration": 413,
    "start_time": "2025-04-03T07:30:59.472Z"
   },
   {
    "duration": 396,
    "start_time": "2025-04-03T07:30:59.887Z"
   },
   {
    "duration": 2440,
    "start_time": "2025-04-03T08:36:08.312Z"
   },
   {
    "duration": 1642,
    "start_time": "2025-04-03T08:36:10.754Z"
   },
   {
    "duration": 3,
    "start_time": "2025-04-03T08:36:12.398Z"
   },
   {
    "duration": 7962,
    "start_time": "2025-04-03T08:36:12.403Z"
   },
   {
    "duration": 227,
    "start_time": "2025-04-03T08:36:20.367Z"
   },
   {
    "duration": 44,
    "start_time": "2025-04-03T08:36:20.596Z"
   },
   {
    "duration": 174,
    "start_time": "2025-04-03T08:36:20.642Z"
   },
   {
    "duration": 48,
    "start_time": "2025-04-03T08:36:20.818Z"
   },
   {
    "duration": 224,
    "start_time": "2025-04-03T08:36:20.868Z"
   },
   {
    "duration": 203,
    "start_time": "2025-04-03T08:36:21.095Z"
   },
   {
    "duration": 786,
    "start_time": "2025-04-03T08:36:21.299Z"
   },
   {
    "duration": 165,
    "start_time": "2025-04-03T08:36:22.087Z"
   },
   {
    "duration": 742,
    "start_time": "2025-04-03T08:36:22.253Z"
   },
   {
    "duration": 227,
    "start_time": "2025-04-03T08:36:22.996Z"
   },
   {
    "duration": 12944,
    "start_time": "2025-04-03T08:36:23.224Z"
   },
   {
    "duration": 425,
    "start_time": "2025-04-03T08:36:36.173Z"
   },
   {
    "duration": 4,
    "start_time": "2025-04-03T08:36:36.599Z"
   },
   {
    "duration": 1243,
    "start_time": "2025-04-03T08:36:36.605Z"
   },
   {
    "duration": 510,
    "start_time": "2025-04-03T08:36:37.850Z"
   },
   {
    "duration": 658,
    "start_time": "2025-04-03T08:36:38.363Z"
   },
   {
    "duration": 37,
    "start_time": "2025-04-03T08:36:39.023Z"
   },
   {
    "duration": 654,
    "start_time": "2025-04-03T08:36:39.062Z"
   },
   {
    "duration": 1070,
    "start_time": "2025-04-03T08:36:39.717Z"
   },
   {
    "duration": 439,
    "start_time": "2025-04-03T08:36:40.788Z"
   },
   {
    "duration": 19,
    "start_time": "2025-04-03T08:36:41.228Z"
   },
   {
    "duration": 29755,
    "start_time": "2025-04-03T08:36:41.248Z"
   },
   {
    "duration": 25,
    "start_time": "2025-04-03T08:37:11.004Z"
   },
   {
    "duration": 344,
    "start_time": "2025-04-03T08:37:11.032Z"
   },
   {
    "duration": 16,
    "start_time": "2025-04-03T08:37:11.378Z"
   },
   {
    "duration": 13,
    "start_time": "2025-04-03T08:37:11.395Z"
   },
   {
    "duration": 120,
    "start_time": "2025-04-03T08:37:11.410Z"
   },
   {
    "duration": 43,
    "start_time": "2025-04-03T08:37:11.531Z"
   },
   {
    "duration": 599,
    "start_time": "2025-04-03T08:37:11.576Z"
   },
   {
    "duration": 32,
    "start_time": "2025-04-03T08:37:12.176Z"
   },
   {
    "duration": 2231,
    "start_time": "2025-04-03T08:37:12.210Z"
   },
   {
    "duration": 120,
    "start_time": "2025-04-03T08:37:14.443Z"
   },
   {
    "duration": 16,
    "start_time": "2025-04-03T08:37:14.565Z"
   },
   {
    "duration": 52,
    "start_time": "2025-04-03T08:37:14.583Z"
   },
   {
    "duration": 4,
    "start_time": "2025-04-03T08:37:14.637Z"
   },
   {
    "duration": 71,
    "start_time": "2025-04-03T08:37:14.642Z"
   },
   {
    "duration": 0,
    "start_time": "2025-04-03T08:37:14.715Z"
   },
   {
    "duration": 0,
    "start_time": "2025-04-03T08:37:14.716Z"
   },
   {
    "duration": 0,
    "start_time": "2025-04-03T08:37:14.717Z"
   },
   {
    "duration": 0,
    "start_time": "2025-04-03T08:37:14.718Z"
   },
   {
    "duration": 125,
    "start_time": "2025-04-03T08:39:05.455Z"
   },
   {
    "duration": 25,
    "start_time": "2025-04-03T08:39:25.213Z"
   },
   {
    "duration": 4,
    "start_time": "2025-04-03T08:39:34.789Z"
   },
   {
    "duration": 6,
    "start_time": "2025-04-03T08:39:41.708Z"
   },
   {
    "duration": 4,
    "start_time": "2025-04-03T08:39:45.107Z"
   },
   {
    "duration": 488938,
    "start_time": "2025-04-03T08:39:46.393Z"
   },
   {
    "duration": 3,
    "start_time": "2025-04-03T08:47:55.334Z"
   },
   {
    "duration": 405,
    "start_time": "2025-04-03T08:47:55.339Z"
   },
   {
    "duration": 57,
    "start_time": "2025-04-03T08:48:36.344Z"
   },
   {
    "duration": 393,
    "start_time": "2025-04-03T08:50:18.711Z"
   },
   {
    "duration": 5,
    "start_time": "2025-04-03T08:52:38.766Z"
   },
   {
    "duration": 15,
    "start_time": "2025-04-03T08:52:42.587Z"
   },
   {
    "duration": 395,
    "start_time": "2025-04-03T08:53:30.803Z"
   },
   {
    "duration": 380,
    "start_time": "2025-04-03T08:53:38.967Z"
   },
   {
    "duration": 4,
    "start_time": "2025-04-03T08:53:47.585Z"
   },
   {
    "duration": 4,
    "start_time": "2025-04-03T08:53:57.536Z"
   },
   {
    "duration": 19,
    "start_time": "2025-04-03T08:54:17.503Z"
   },
   {
    "duration": 19,
    "start_time": "2025-04-03T08:54:22.078Z"
   },
   {
    "duration": 275,
    "start_time": "2025-04-03T08:54:42.284Z"
   },
   {
    "duration": 292,
    "start_time": "2025-04-03T08:56:05.361Z"
   },
   {
    "duration": 247,
    "start_time": "2025-04-03T08:56:25.701Z"
   },
   {
    "duration": 5,
    "start_time": "2025-04-03T08:57:21.618Z"
   },
   {
    "duration": 4,
    "start_time": "2025-04-03T08:58:07.749Z"
   },
   {
    "duration": 2,
    "start_time": "2025-04-03T08:58:23.987Z"
   },
   {
    "duration": 683,
    "start_time": "2025-04-03T08:58:24.764Z"
   },
   {
    "duration": 3,
    "start_time": "2025-04-03T08:58:37.942Z"
   },
   {
    "duration": 780,
    "start_time": "2025-04-03T08:58:38.474Z"
   },
   {
    "duration": 21,
    "start_time": "2025-04-03T08:58:45.462Z"
   },
   {
    "duration": 672,
    "start_time": "2025-04-03T08:58:48.615Z"
   },
   {
    "duration": 4,
    "start_time": "2025-04-03T08:58:57.287Z"
   },
   {
    "duration": 3,
    "start_time": "2025-04-03T09:08:04.316Z"
   },
   {
    "duration": 13,
    "start_time": "2025-04-03T09:08:27.631Z"
   },
   {
    "duration": 5,
    "start_time": "2025-04-03T09:09:50.703Z"
   },
   {
    "duration": 3022,
    "start_time": "2025-04-03T09:13:09.288Z"
   },
   {
    "duration": 2885,
    "start_time": "2025-04-03T09:13:21.572Z"
   },
   {
    "duration": 2,
    "start_time": "2025-04-03T09:13:40.523Z"
   },
   {
    "duration": 2674,
    "start_time": "2025-04-03T09:13:46.256Z"
   },
   {
    "duration": 19,
    "start_time": "2025-04-03T09:15:02.793Z"
   },
   {
    "duration": 16,
    "start_time": "2025-04-03T09:15:24.125Z"
   },
   {
    "duration": 42,
    "start_time": "2025-04-03T09:15:52.105Z"
   },
   {
    "duration": 3,
    "start_time": "2025-04-03T09:15:54.152Z"
   },
   {
    "duration": 2750,
    "start_time": "2025-04-03T09:15:57.490Z"
   },
   {
    "duration": 3,
    "start_time": "2025-04-03T09:16:41.902Z"
   },
   {
    "duration": 38,
    "start_time": "2025-04-03T09:16:49.984Z"
   },
   {
    "duration": 3,
    "start_time": "2025-04-03T09:16:51.138Z"
   },
   {
    "duration": 2960,
    "start_time": "2025-04-03T09:16:51.651Z"
   },
   {
    "duration": 18,
    "start_time": "2025-04-03T09:17:38.478Z"
   },
   {
    "duration": 3,
    "start_time": "2025-04-03T09:18:48.250Z"
   },
   {
    "duration": 93854,
    "start_time": "2025-04-03T09:18:48.961Z"
   },
   {
    "duration": 14,
    "start_time": "2025-04-03T09:20:27.045Z"
   },
   {
    "duration": 9,
    "start_time": "2025-04-03T09:20:32.653Z"
   },
   {
    "duration": 92179,
    "start_time": "2025-04-03T09:20:57.027Z"
   },
   {
    "duration": 17,
    "start_time": "2025-04-03T09:36:57.276Z"
   },
   {
    "duration": 2401,
    "start_time": "2025-04-03T09:45:52.940Z"
   },
   {
    "duration": 1569,
    "start_time": "2025-04-03T09:45:55.344Z"
   },
   {
    "duration": 3,
    "start_time": "2025-04-03T09:45:56.914Z"
   },
   {
    "duration": 7814,
    "start_time": "2025-04-03T09:45:56.920Z"
   },
   {
    "duration": 223,
    "start_time": "2025-04-03T09:46:04.735Z"
   },
   {
    "duration": 44,
    "start_time": "2025-04-03T09:46:04.960Z"
   },
   {
    "duration": 173,
    "start_time": "2025-04-03T09:46:05.005Z"
   },
   {
    "duration": 49,
    "start_time": "2025-04-03T09:46:05.179Z"
   },
   {
    "duration": 213,
    "start_time": "2025-04-03T09:46:05.230Z"
   },
   {
    "duration": 202,
    "start_time": "2025-04-03T09:46:05.446Z"
   },
   {
    "duration": 2847,
    "start_time": "2025-04-03T09:46:05.650Z"
   },
   {
    "duration": 146,
    "start_time": "2025-04-03T09:46:08.498Z"
   },
   {
    "duration": 6554,
    "start_time": "2025-04-03T09:46:08.646Z"
   },
   {
    "duration": 224,
    "start_time": "2025-04-03T09:46:15.202Z"
   },
   {
    "duration": 3776,
    "start_time": "2025-04-03T09:46:15.427Z"
   },
   {
    "duration": 402,
    "start_time": "2025-04-03T09:46:19.204Z"
   },
   {
    "duration": 4,
    "start_time": "2025-04-03T09:46:19.608Z"
   },
   {
    "duration": 1184,
    "start_time": "2025-04-03T09:46:19.613Z"
   },
   {
    "duration": 512,
    "start_time": "2025-04-03T09:46:20.799Z"
   },
   {
    "duration": 698,
    "start_time": "2025-04-03T09:46:21.314Z"
   },
   {
    "duration": 38,
    "start_time": "2025-04-03T09:46:22.014Z"
   },
   {
    "duration": 697,
    "start_time": "2025-04-03T09:46:22.054Z"
   },
   {
    "duration": 1137,
    "start_time": "2025-04-03T09:46:22.752Z"
   },
   {
    "duration": 463,
    "start_time": "2025-04-03T09:46:23.891Z"
   },
   {
    "duration": 31,
    "start_time": "2025-04-03T09:46:24.356Z"
   },
   {
    "duration": 28989,
    "start_time": "2025-04-03T09:46:24.389Z"
   },
   {
    "duration": 24,
    "start_time": "2025-04-03T09:46:53.380Z"
   },
   {
    "duration": 320,
    "start_time": "2025-04-03T09:46:53.407Z"
   },
   {
    "duration": 15,
    "start_time": "2025-04-03T09:46:53.728Z"
   },
   {
    "duration": 28,
    "start_time": "2025-04-03T09:46:53.745Z"
   },
   {
    "duration": 101,
    "start_time": "2025-04-03T09:46:53.775Z"
   },
   {
    "duration": 35,
    "start_time": "2025-04-03T09:46:53.878Z"
   },
   {
    "duration": 1796,
    "start_time": "2025-04-03T09:46:53.914Z"
   },
   {
    "duration": 0,
    "start_time": "2025-04-03T09:46:55.711Z"
   },
   {
    "duration": 0,
    "start_time": "2025-04-03T09:46:55.713Z"
   },
   {
    "duration": 0,
    "start_time": "2025-04-03T09:46:55.714Z"
   },
   {
    "duration": 0,
    "start_time": "2025-04-03T09:46:55.715Z"
   },
   {
    "duration": 0,
    "start_time": "2025-04-03T09:46:55.716Z"
   },
   {
    "duration": 0,
    "start_time": "2025-04-03T09:46:55.717Z"
   },
   {
    "duration": 0,
    "start_time": "2025-04-03T09:46:55.718Z"
   },
   {
    "duration": 0,
    "start_time": "2025-04-03T09:46:55.719Z"
   },
   {
    "duration": 0,
    "start_time": "2025-04-03T09:46:55.720Z"
   },
   {
    "duration": 0,
    "start_time": "2025-04-03T09:46:55.721Z"
   },
   {
    "duration": 0,
    "start_time": "2025-04-03T09:46:55.722Z"
   },
   {
    "duration": 0,
    "start_time": "2025-04-03T09:46:55.723Z"
   },
   {
    "duration": 0,
    "start_time": "2025-04-03T09:46:55.724Z"
   },
   {
    "duration": 0,
    "start_time": "2025-04-03T09:46:55.725Z"
   },
   {
    "duration": 0,
    "start_time": "2025-04-03T09:46:55.726Z"
   },
   {
    "duration": 0,
    "start_time": "2025-04-03T09:46:55.727Z"
   },
   {
    "duration": 360,
    "start_time": "2025-04-03T09:48:07.745Z"
   },
   {
    "duration": 33,
    "start_time": "2025-04-03T09:48:11.444Z"
   },
   {
    "duration": 2385,
    "start_time": "2025-04-03T09:48:11.646Z"
   },
   {
    "duration": 119,
    "start_time": "2025-04-03T09:48:14.033Z"
   },
   {
    "duration": 19,
    "start_time": "2025-04-03T09:48:14.153Z"
   },
   {
    "duration": 3,
    "start_time": "2025-04-03T09:48:14.174Z"
   },
   {
    "duration": 4,
    "start_time": "2025-04-03T09:48:14.342Z"
   },
   {
    "duration": 5,
    "start_time": "2025-04-03T09:48:14.565Z"
   },
   {
    "duration": 3,
    "start_time": "2025-04-03T09:48:14.722Z"
   },
   {
    "duration": 463338,
    "start_time": "2025-04-03T09:48:14.941Z"
   },
   {
    "duration": 0,
    "start_time": "2025-04-03T09:55:58.281Z"
   },
   {
    "duration": 0,
    "start_time": "2025-04-03T09:55:58.283Z"
   },
   {
    "duration": 0,
    "start_time": "2025-04-03T09:55:58.284Z"
   },
   {
    "duration": 0,
    "start_time": "2025-04-03T09:55:58.285Z"
   },
   {
    "duration": 0,
    "start_time": "2025-04-03T09:55:58.286Z"
   },
   {
    "duration": 0,
    "start_time": "2025-04-03T09:55:58.287Z"
   },
   {
    "duration": 2452,
    "start_time": "2025-04-03T11:04:03.501Z"
   },
   {
    "duration": 1760,
    "start_time": "2025-04-03T11:04:05.955Z"
   },
   {
    "duration": 3,
    "start_time": "2025-04-03T11:04:07.717Z"
   },
   {
    "duration": 11811,
    "start_time": "2025-04-03T11:04:07.723Z"
   },
   {
    "duration": 205,
    "start_time": "2025-04-03T11:04:19.536Z"
   },
   {
    "duration": 42,
    "start_time": "2025-04-03T11:04:19.742Z"
   },
   {
    "duration": 163,
    "start_time": "2025-04-03T11:04:19.785Z"
   },
   {
    "duration": 43,
    "start_time": "2025-04-03T11:04:19.950Z"
   },
   {
    "duration": 227,
    "start_time": "2025-04-03T11:04:19.995Z"
   },
   {
    "duration": 202,
    "start_time": "2025-04-03T11:04:20.225Z"
   },
   {
    "duration": 787,
    "start_time": "2025-04-03T11:04:20.429Z"
   },
   {
    "duration": 142,
    "start_time": "2025-04-03T11:04:21.217Z"
   },
   {
    "duration": 4180,
    "start_time": "2025-04-03T11:04:21.360Z"
   },
   {
    "duration": 233,
    "start_time": "2025-04-03T11:04:25.542Z"
   },
   {
    "duration": 12003,
    "start_time": "2025-04-03T11:04:25.777Z"
   },
   {
    "duration": 409,
    "start_time": "2025-04-03T11:04:37.782Z"
   },
   {
    "duration": 4,
    "start_time": "2025-04-03T11:04:38.193Z"
   },
   {
    "duration": 1210,
    "start_time": "2025-04-03T11:04:38.198Z"
   },
   {
    "duration": 526,
    "start_time": "2025-04-03T11:04:39.410Z"
   },
   {
    "duration": 671,
    "start_time": "2025-04-03T11:04:39.938Z"
   },
   {
    "duration": 37,
    "start_time": "2025-04-03T11:04:40.611Z"
   },
   {
    "duration": 692,
    "start_time": "2025-04-03T11:04:40.649Z"
   },
   {
    "duration": 1121,
    "start_time": "2025-04-03T11:04:41.343Z"
   },
   {
    "duration": 441,
    "start_time": "2025-04-03T11:04:42.473Z"
   },
   {
    "duration": 22,
    "start_time": "2025-04-03T11:04:42.917Z"
   },
   {
    "duration": 31477,
    "start_time": "2025-04-03T11:04:42.941Z"
   },
   {
    "duration": 24,
    "start_time": "2025-04-03T11:05:14.420Z"
   },
   {
    "duration": 317,
    "start_time": "2025-04-03T11:05:14.472Z"
   },
   {
    "duration": 15,
    "start_time": "2025-04-03T11:05:14.790Z"
   },
   {
    "duration": 9,
    "start_time": "2025-04-03T11:05:14.807Z"
   },
   {
    "duration": 126,
    "start_time": "2025-04-03T11:05:14.818Z"
   },
   {
    "duration": 46,
    "start_time": "2025-04-03T11:05:14.946Z"
   },
   {
    "duration": 447,
    "start_time": "2025-04-03T11:05:14.994Z"
   },
   {
    "duration": 43,
    "start_time": "2025-04-03T11:05:15.444Z"
   },
   {
    "duration": 2189,
    "start_time": "2025-04-03T11:05:15.489Z"
   },
   {
    "duration": 117,
    "start_time": "2025-04-03T11:05:17.681Z"
   },
   {
    "duration": 11,
    "start_time": "2025-04-03T11:05:17.799Z"
   },
   {
    "duration": 2,
    "start_time": "2025-04-03T11:05:17.812Z"
   },
   {
    "duration": 20,
    "start_time": "2025-04-03T11:05:17.816Z"
   },
   {
    "duration": 8,
    "start_time": "2025-04-03T11:05:17.837Z"
   },
   {
    "duration": 6,
    "start_time": "2025-04-03T11:05:17.846Z"
   },
   {
    "duration": 547972,
    "start_time": "2025-04-03T11:05:17.854Z"
   },
   {
    "duration": 3,
    "start_time": "2025-04-03T11:14:25.828Z"
   },
   {
    "duration": 389,
    "start_time": "2025-04-03T11:14:25.833Z"
   },
   {
    "duration": 381,
    "start_time": "2025-04-03T11:14:26.224Z"
   },
   {
    "duration": 636,
    "start_time": "2025-04-03T11:14:26.606Z"
   },
   {
    "duration": 3,
    "start_time": "2025-04-03T11:14:27.244Z"
   },
   {
    "duration": 90834,
    "start_time": "2025-04-03T11:14:27.249Z"
   },
   {
    "duration": 16,
    "start_time": "2025-04-03T11:15:58.085Z"
   },
   {
    "duration": 10,
    "start_time": "2025-04-03T11:18:49.522Z"
   },
   {
    "duration": 30,
    "start_time": "2025-04-03T11:19:24.000Z"
   },
   {
    "duration": 364,
    "start_time": "2025-04-03T11:23:20.517Z"
   },
   {
    "duration": 376,
    "start_time": "2025-04-03T11:32:34.181Z"
   },
   {
    "duration": 305,
    "start_time": "2025-04-03T11:32:52.516Z"
   },
   {
    "duration": 365,
    "start_time": "2025-04-03T11:34:28.097Z"
   },
   {
    "duration": 365,
    "start_time": "2025-04-03T11:34:47.732Z"
   },
   {
    "duration": 505,
    "start_time": "2025-04-03T11:34:59.859Z"
   },
   {
    "duration": 666,
    "start_time": "2025-04-03T12:02:31.869Z"
   },
   {
    "duration": 652,
    "start_time": "2025-04-03T12:02:46.488Z"
   },
   {
    "duration": 678,
    "start_time": "2025-04-03T12:05:53.818Z"
   },
   {
    "duration": 715,
    "start_time": "2025-04-03T12:09:16.066Z"
   },
   {
    "duration": 748,
    "start_time": "2025-04-03T12:10:32.928Z"
   },
   {
    "duration": 652,
    "start_time": "2025-04-03T12:10:42.601Z"
   },
   {
    "duration": 842,
    "start_time": "2025-04-03T12:10:56.006Z"
   },
   {
    "duration": 723,
    "start_time": "2025-04-03T12:11:08.077Z"
   },
   {
    "duration": 1606,
    "start_time": "2025-04-04T03:18:33.558Z"
   },
   {
    "duration": 0,
    "start_time": "2025-04-04T03:18:35.169Z"
   },
   {
    "duration": 0,
    "start_time": "2025-04-04T03:18:35.170Z"
   },
   {
    "duration": 0,
    "start_time": "2025-04-04T03:18:35.171Z"
   },
   {
    "duration": 0,
    "start_time": "2025-04-04T03:18:35.172Z"
   },
   {
    "duration": 0,
    "start_time": "2025-04-04T03:18:35.173Z"
   },
   {
    "duration": 0,
    "start_time": "2025-04-04T03:18:35.175Z"
   },
   {
    "duration": 0,
    "start_time": "2025-04-04T03:18:35.176Z"
   },
   {
    "duration": 0,
    "start_time": "2025-04-04T03:18:35.177Z"
   },
   {
    "duration": 0,
    "start_time": "2025-04-04T03:18:35.178Z"
   },
   {
    "duration": 0,
    "start_time": "2025-04-04T03:18:35.179Z"
   },
   {
    "duration": 0,
    "start_time": "2025-04-04T03:18:35.180Z"
   },
   {
    "duration": 1,
    "start_time": "2025-04-04T03:18:35.181Z"
   },
   {
    "duration": 0,
    "start_time": "2025-04-04T03:18:35.182Z"
   },
   {
    "duration": 0,
    "start_time": "2025-04-04T03:18:35.183Z"
   },
   {
    "duration": 0,
    "start_time": "2025-04-04T03:18:35.184Z"
   },
   {
    "duration": 0,
    "start_time": "2025-04-04T03:18:35.185Z"
   },
   {
    "duration": 0,
    "start_time": "2025-04-04T03:18:35.186Z"
   },
   {
    "duration": 0,
    "start_time": "2025-04-04T03:18:35.187Z"
   },
   {
    "duration": 0,
    "start_time": "2025-04-04T03:18:35.188Z"
   },
   {
    "duration": 0,
    "start_time": "2025-04-04T03:18:35.189Z"
   },
   {
    "duration": 0,
    "start_time": "2025-04-04T03:18:35.190Z"
   },
   {
    "duration": 0,
    "start_time": "2025-04-04T03:18:35.191Z"
   },
   {
    "duration": 0,
    "start_time": "2025-04-04T03:18:35.193Z"
   },
   {
    "duration": 0,
    "start_time": "2025-04-04T03:18:35.235Z"
   },
   {
    "duration": 0,
    "start_time": "2025-04-04T03:18:35.237Z"
   },
   {
    "duration": 0,
    "start_time": "2025-04-04T03:18:35.238Z"
   },
   {
    "duration": 0,
    "start_time": "2025-04-04T03:18:35.239Z"
   },
   {
    "duration": 0,
    "start_time": "2025-04-04T03:18:35.240Z"
   },
   {
    "duration": 0,
    "start_time": "2025-04-04T03:18:35.241Z"
   },
   {
    "duration": 0,
    "start_time": "2025-04-04T03:18:35.242Z"
   },
   {
    "duration": 0,
    "start_time": "2025-04-04T03:18:35.243Z"
   },
   {
    "duration": 0,
    "start_time": "2025-04-04T03:18:35.244Z"
   },
   {
    "duration": 0,
    "start_time": "2025-04-04T03:18:35.245Z"
   },
   {
    "duration": 0,
    "start_time": "2025-04-04T03:18:35.246Z"
   },
   {
    "duration": 0,
    "start_time": "2025-04-04T03:18:35.247Z"
   },
   {
    "duration": 0,
    "start_time": "2025-04-04T03:18:35.248Z"
   },
   {
    "duration": 0,
    "start_time": "2025-04-04T03:18:35.249Z"
   },
   {
    "duration": 0,
    "start_time": "2025-04-04T03:18:35.250Z"
   },
   {
    "duration": 0,
    "start_time": "2025-04-04T03:18:35.251Z"
   },
   {
    "duration": 0,
    "start_time": "2025-04-04T03:18:35.252Z"
   },
   {
    "duration": 0,
    "start_time": "2025-04-04T03:18:35.253Z"
   },
   {
    "duration": 0,
    "start_time": "2025-04-04T03:18:35.254Z"
   },
   {
    "duration": 0,
    "start_time": "2025-04-04T03:18:35.255Z"
   },
   {
    "duration": 0,
    "start_time": "2025-04-04T03:18:35.256Z"
   },
   {
    "duration": 0,
    "start_time": "2025-04-04T03:18:35.257Z"
   },
   {
    "duration": 0,
    "start_time": "2025-04-04T03:18:35.258Z"
   },
   {
    "duration": 0,
    "start_time": "2025-04-04T03:18:35.259Z"
   },
   {
    "duration": 3998,
    "start_time": "2025-04-04T03:18:44.524Z"
   },
   {
    "duration": 1648,
    "start_time": "2025-04-04T03:18:48.525Z"
   },
   {
    "duration": 3,
    "start_time": "2025-04-04T03:18:50.174Z"
   },
   {
    "duration": 7818,
    "start_time": "2025-04-04T03:18:50.179Z"
   },
   {
    "duration": 208,
    "start_time": "2025-04-04T03:18:57.998Z"
   },
   {
    "duration": 41,
    "start_time": "2025-04-04T03:18:58.208Z"
   },
   {
    "duration": 158,
    "start_time": "2025-04-04T03:18:58.251Z"
   },
   {
    "duration": 44,
    "start_time": "2025-04-04T03:18:58.411Z"
   },
   {
    "duration": 207,
    "start_time": "2025-04-04T03:18:58.457Z"
   },
   {
    "duration": 198,
    "start_time": "2025-04-04T03:18:58.667Z"
   },
   {
    "duration": 2474,
    "start_time": "2025-04-04T03:18:58.867Z"
   },
   {
    "duration": 153,
    "start_time": "2025-04-04T03:19:01.343Z"
   },
   {
    "duration": 4055,
    "start_time": "2025-04-04T03:19:01.498Z"
   },
   {
    "duration": 228,
    "start_time": "2025-04-04T03:19:05.555Z"
   },
   {
    "duration": 7598,
    "start_time": "2025-04-04T03:19:05.785Z"
   },
   {
    "duration": 410,
    "start_time": "2025-04-04T03:19:13.385Z"
   },
   {
    "duration": 4,
    "start_time": "2025-04-04T03:19:13.796Z"
   },
   {
    "duration": 1162,
    "start_time": "2025-04-04T03:19:13.801Z"
   },
   {
    "duration": 498,
    "start_time": "2025-04-04T03:19:14.964Z"
   },
   {
    "duration": 629,
    "start_time": "2025-04-04T03:19:15.463Z"
   },
   {
    "duration": 47,
    "start_time": "2025-04-04T03:19:16.093Z"
   },
   {
    "duration": 685,
    "start_time": "2025-04-04T03:19:16.142Z"
   },
   {
    "duration": 1016,
    "start_time": "2025-04-04T03:19:16.829Z"
   },
   {
    "duration": 424,
    "start_time": "2025-04-04T03:19:17.846Z"
   },
   {
    "duration": 17,
    "start_time": "2025-04-04T03:19:18.272Z"
   },
   {
    "duration": 30785,
    "start_time": "2025-04-04T03:19:18.291Z"
   },
   {
    "duration": 24,
    "start_time": "2025-04-04T03:19:49.078Z"
   },
   {
    "duration": 298,
    "start_time": "2025-04-04T03:19:49.106Z"
   },
   {
    "duration": 113,
    "start_time": "2025-04-04T03:19:49.406Z"
   },
   {
    "duration": 44,
    "start_time": "2025-04-04T03:19:49.521Z"
   },
   {
    "duration": 129,
    "start_time": "2025-04-04T03:19:49.567Z"
   },
   {
    "duration": 0,
    "start_time": "2025-04-04T03:19:49.698Z"
   },
   {
    "duration": 0,
    "start_time": "2025-04-04T03:19:49.700Z"
   },
   {
    "duration": 0,
    "start_time": "2025-04-04T03:19:49.700Z"
   },
   {
    "duration": 0,
    "start_time": "2025-04-04T03:19:49.701Z"
   },
   {
    "duration": 0,
    "start_time": "2025-04-04T03:19:49.703Z"
   },
   {
    "duration": 0,
    "start_time": "2025-04-04T03:19:49.704Z"
   },
   {
    "duration": 0,
    "start_time": "2025-04-04T03:19:49.705Z"
   },
   {
    "duration": 0,
    "start_time": "2025-04-04T03:19:49.706Z"
   },
   {
    "duration": 0,
    "start_time": "2025-04-04T03:19:49.707Z"
   },
   {
    "duration": 0,
    "start_time": "2025-04-04T03:19:49.709Z"
   },
   {
    "duration": 0,
    "start_time": "2025-04-04T03:19:49.709Z"
   },
   {
    "duration": 0,
    "start_time": "2025-04-04T03:19:49.711Z"
   },
   {
    "duration": 1,
    "start_time": "2025-04-04T03:19:49.734Z"
   },
   {
    "duration": 0,
    "start_time": "2025-04-04T03:19:49.737Z"
   },
   {
    "duration": 0,
    "start_time": "2025-04-04T03:19:49.738Z"
   },
   {
    "duration": 0,
    "start_time": "2025-04-04T03:19:49.739Z"
   },
   {
    "duration": 0,
    "start_time": "2025-04-04T03:19:49.741Z"
   },
   {
    "duration": 0,
    "start_time": "2025-04-04T03:19:49.742Z"
   },
   {
    "duration": 228,
    "start_time": "2025-04-04T03:20:33.163Z"
   },
   {
    "duration": 352,
    "start_time": "2025-04-04T03:20:41.415Z"
   },
   {
    "duration": 277,
    "start_time": "2025-04-04T03:21:16.096Z"
   },
   {
    "duration": 265,
    "start_time": "2025-04-04T03:21:22.780Z"
   },
   {
    "duration": 31,
    "start_time": "2025-04-04T03:25:23.408Z"
   },
   {
    "duration": 2301,
    "start_time": "2025-04-04T03:25:23.634Z"
   },
   {
    "duration": 128,
    "start_time": "2025-04-04T03:25:25.938Z"
   },
   {
    "duration": 11,
    "start_time": "2025-04-04T03:25:26.068Z"
   },
   {
    "duration": 57,
    "start_time": "2025-04-04T03:25:26.081Z"
   },
   {
    "duration": 5,
    "start_time": "2025-04-04T03:25:26.140Z"
   },
   {
    "duration": 6,
    "start_time": "2025-04-04T03:25:26.147Z"
   },
   {
    "duration": 3,
    "start_time": "2025-04-04T03:25:26.251Z"
   },
   {
    "duration": 495203,
    "start_time": "2025-04-04T03:25:26.386Z"
   },
   {
    "duration": 0,
    "start_time": "2025-04-04T03:33:41.590Z"
   },
   {
    "duration": 0,
    "start_time": "2025-04-04T03:33:41.591Z"
   },
   {
    "duration": 0,
    "start_time": "2025-04-04T03:33:41.592Z"
   },
   {
    "duration": 0,
    "start_time": "2025-04-04T03:33:41.593Z"
   },
   {
    "duration": 0,
    "start_time": "2025-04-04T03:33:41.594Z"
   },
   {
    "duration": 0,
    "start_time": "2025-04-04T03:33:41.595Z"
   },
   {
    "duration": 0,
    "start_time": "2025-04-04T03:33:41.596Z"
   },
   {
    "duration": 1,
    "start_time": "2025-04-04T03:33:41.597Z"
   },
   {
    "duration": 2475,
    "start_time": "2025-04-04T03:33:57.384Z"
   },
   {
    "duration": 1654,
    "start_time": "2025-04-04T03:33:59.861Z"
   },
   {
    "duration": 3,
    "start_time": "2025-04-04T03:34:01.517Z"
   },
   {
    "duration": 8265,
    "start_time": "2025-04-04T03:34:01.522Z"
   },
   {
    "duration": 205,
    "start_time": "2025-04-04T03:34:09.789Z"
   },
   {
    "duration": 44,
    "start_time": "2025-04-04T03:34:09.995Z"
   },
   {
    "duration": 158,
    "start_time": "2025-04-04T03:34:10.040Z"
   },
   {
    "duration": 45,
    "start_time": "2025-04-04T03:34:10.200Z"
   },
   {
    "duration": 209,
    "start_time": "2025-04-04T03:34:10.246Z"
   },
   {
    "duration": 217,
    "start_time": "2025-04-04T03:34:10.458Z"
   },
   {
    "duration": 772,
    "start_time": "2025-04-04T03:34:10.677Z"
   },
   {
    "duration": 153,
    "start_time": "2025-04-04T03:34:11.451Z"
   },
   {
    "duration": 1591,
    "start_time": "2025-04-04T03:34:11.606Z"
   },
   {
    "duration": 241,
    "start_time": "2025-04-04T03:34:13.199Z"
   },
   {
    "duration": 11374,
    "start_time": "2025-04-04T03:34:13.442Z"
   },
   {
    "duration": 418,
    "start_time": "2025-04-04T03:34:24.818Z"
   },
   {
    "duration": 4,
    "start_time": "2025-04-04T03:34:25.237Z"
   },
   {
    "duration": 1185,
    "start_time": "2025-04-04T03:34:25.243Z"
   },
   {
    "duration": 538,
    "start_time": "2025-04-04T03:34:26.429Z"
   },
   {
    "duration": 679,
    "start_time": "2025-04-04T03:34:26.969Z"
   },
   {
    "duration": 38,
    "start_time": "2025-04-04T03:34:27.649Z"
   },
   {
    "duration": 690,
    "start_time": "2025-04-04T03:34:27.689Z"
   },
   {
    "duration": 1069,
    "start_time": "2025-04-04T03:34:28.381Z"
   },
   {
    "duration": 459,
    "start_time": "2025-04-04T03:34:29.452Z"
   },
   {
    "duration": 24,
    "start_time": "2025-04-04T03:34:29.913Z"
   },
   {
    "duration": 31845,
    "start_time": "2025-04-04T03:34:29.939Z"
   },
   {
    "duration": 24,
    "start_time": "2025-04-04T03:35:01.786Z"
   },
   {
    "duration": 312,
    "start_time": "2025-04-04T03:35:01.813Z"
   },
   {
    "duration": 115,
    "start_time": "2025-04-04T03:35:02.126Z"
   },
   {
    "duration": 35,
    "start_time": "2025-04-04T03:35:02.243Z"
   },
   {
    "duration": 296,
    "start_time": "2025-04-04T03:35:02.279Z"
   },
   {
    "duration": 32,
    "start_time": "2025-04-04T03:35:02.576Z"
   },
   {
    "duration": 2643,
    "start_time": "2025-04-04T03:35:02.609Z"
   },
   {
    "duration": 135,
    "start_time": "2025-04-04T03:35:05.255Z"
   },
   {
    "duration": 11,
    "start_time": "2025-04-04T03:35:05.392Z"
   },
   {
    "duration": 3,
    "start_time": "2025-04-04T03:35:05.405Z"
   },
   {
    "duration": 4,
    "start_time": "2025-04-04T03:35:05.410Z"
   },
   {
    "duration": 21,
    "start_time": "2025-04-04T03:35:05.415Z"
   },
   {
    "duration": 79,
    "start_time": "2025-04-04T03:35:05.437Z"
   },
   {
    "duration": 109122,
    "start_time": "2025-04-04T03:35:05.518Z"
   },
   {
    "duration": 0,
    "start_time": "2025-04-04T03:36:54.642Z"
   },
   {
    "duration": 0,
    "start_time": "2025-04-04T03:36:54.643Z"
   },
   {
    "duration": 0,
    "start_time": "2025-04-04T03:36:54.644Z"
   },
   {
    "duration": 0,
    "start_time": "2025-04-04T03:36:54.645Z"
   },
   {
    "duration": 0,
    "start_time": "2025-04-04T03:36:54.647Z"
   },
   {
    "duration": 0,
    "start_time": "2025-04-04T03:36:54.648Z"
   },
   {
    "duration": 0,
    "start_time": "2025-04-04T03:36:54.649Z"
   },
   {
    "duration": 0,
    "start_time": "2025-04-04T03:36:54.649Z"
   },
   {
    "duration": 2404,
    "start_time": "2025-04-04T03:36:59.475Z"
   },
   {
    "duration": 1612,
    "start_time": "2025-04-04T03:37:01.882Z"
   },
   {
    "duration": 3,
    "start_time": "2025-04-04T03:37:03.495Z"
   },
   {
    "duration": 8126,
    "start_time": "2025-04-04T03:37:03.500Z"
   },
   {
    "duration": 205,
    "start_time": "2025-04-04T03:37:11.628Z"
   },
   {
    "duration": 43,
    "start_time": "2025-04-04T03:37:11.835Z"
   },
   {
    "duration": 162,
    "start_time": "2025-04-04T03:37:11.880Z"
   },
   {
    "duration": 45,
    "start_time": "2025-04-04T03:37:12.044Z"
   },
   {
    "duration": 210,
    "start_time": "2025-04-04T03:37:12.091Z"
   },
   {
    "duration": 210,
    "start_time": "2025-04-04T03:37:12.303Z"
   },
   {
    "duration": 755,
    "start_time": "2025-04-04T03:37:12.515Z"
   },
   {
    "duration": 150,
    "start_time": "2025-04-04T03:37:13.272Z"
   },
   {
    "duration": 1797,
    "start_time": "2025-04-04T03:37:13.423Z"
   },
   {
    "duration": 243,
    "start_time": "2025-04-04T03:37:15.223Z"
   },
   {
    "duration": 8743,
    "start_time": "2025-04-04T03:37:15.468Z"
   },
   {
    "duration": 417,
    "start_time": "2025-04-04T03:37:24.213Z"
   },
   {
    "duration": 5,
    "start_time": "2025-04-04T03:37:24.631Z"
   },
   {
    "duration": 1164,
    "start_time": "2025-04-04T03:37:24.637Z"
   },
   {
    "duration": 525,
    "start_time": "2025-04-04T03:37:25.803Z"
   },
   {
    "duration": 683,
    "start_time": "2025-04-04T03:37:26.335Z"
   },
   {
    "duration": 48,
    "start_time": "2025-04-04T03:37:27.020Z"
   },
   {
    "duration": 699,
    "start_time": "2025-04-04T03:37:27.069Z"
   },
   {
    "duration": 1053,
    "start_time": "2025-04-04T03:37:27.770Z"
   },
   {
    "duration": 457,
    "start_time": "2025-04-04T03:37:28.825Z"
   },
   {
    "duration": 21,
    "start_time": "2025-04-04T03:37:29.283Z"
   },
   {
    "duration": 31303,
    "start_time": "2025-04-04T03:37:29.305Z"
   },
   {
    "duration": 29,
    "start_time": "2025-04-04T03:38:00.610Z"
   },
   {
    "duration": 305,
    "start_time": "2025-04-04T03:38:00.640Z"
   },
   {
    "duration": 111,
    "start_time": "2025-04-04T03:38:00.947Z"
   },
   {
    "duration": 35,
    "start_time": "2025-04-04T03:38:01.060Z"
   },
   {
    "duration": 294,
    "start_time": "2025-04-04T03:38:01.097Z"
   },
   {
    "duration": 42,
    "start_time": "2025-04-04T03:38:01.393Z"
   },
   {
    "duration": 2407,
    "start_time": "2025-04-04T03:38:01.437Z"
   },
   {
    "duration": 127,
    "start_time": "2025-04-04T03:38:03.846Z"
   },
   {
    "duration": 10,
    "start_time": "2025-04-04T03:38:03.975Z"
   },
   {
    "duration": 17,
    "start_time": "2025-04-04T03:38:03.987Z"
   },
   {
    "duration": 5,
    "start_time": "2025-04-04T03:38:04.005Z"
   },
   {
    "duration": 8,
    "start_time": "2025-04-04T03:38:04.011Z"
   },
   {
    "duration": 6,
    "start_time": "2025-04-04T03:38:04.020Z"
   },
   {
    "duration": 520192,
    "start_time": "2025-04-04T03:38:04.036Z"
   },
   {
    "duration": 0,
    "start_time": "2025-04-04T03:46:44.230Z"
   },
   {
    "duration": 0,
    "start_time": "2025-04-04T03:46:44.235Z"
   },
   {
    "duration": 0,
    "start_time": "2025-04-04T03:46:44.236Z"
   },
   {
    "duration": 0,
    "start_time": "2025-04-04T03:46:44.237Z"
   },
   {
    "duration": 0,
    "start_time": "2025-04-04T03:46:44.239Z"
   },
   {
    "duration": 0,
    "start_time": "2025-04-04T03:46:44.240Z"
   },
   {
    "duration": 0,
    "start_time": "2025-04-04T03:46:44.241Z"
   },
   {
    "duration": 0,
    "start_time": "2025-04-04T03:46:44.242Z"
   },
   {
    "duration": 15,
    "start_time": "2025-04-04T03:50:12.345Z"
   },
   {
    "duration": 2330,
    "start_time": "2025-04-04T03:51:10.278Z"
   },
   {
    "duration": 2173,
    "start_time": "2025-04-04T03:51:12.611Z"
   },
   {
    "duration": 3,
    "start_time": "2025-04-04T03:51:14.786Z"
   },
   {
    "duration": 7543,
    "start_time": "2025-04-04T03:51:14.790Z"
   },
   {
    "duration": 197,
    "start_time": "2025-04-04T03:51:22.335Z"
   },
   {
    "duration": 41,
    "start_time": "2025-04-04T03:51:22.533Z"
   },
   {
    "duration": 158,
    "start_time": "2025-04-04T03:51:22.575Z"
   },
   {
    "duration": 44,
    "start_time": "2025-04-04T03:51:22.734Z"
   },
   {
    "duration": 214,
    "start_time": "2025-04-04T03:51:22.779Z"
   },
   {
    "duration": 209,
    "start_time": "2025-04-04T03:51:22.996Z"
   },
   {
    "duration": 764,
    "start_time": "2025-04-04T03:51:23.207Z"
   },
   {
    "duration": 150,
    "start_time": "2025-04-04T03:51:23.973Z"
   },
   {
    "duration": 1596,
    "start_time": "2025-04-04T03:51:24.125Z"
   },
   {
    "duration": 225,
    "start_time": "2025-04-04T03:51:25.723Z"
   },
   {
    "duration": 10092,
    "start_time": "2025-04-04T03:51:25.950Z"
   },
   {
    "duration": 385,
    "start_time": "2025-04-04T03:51:36.044Z"
   },
   {
    "duration": 5,
    "start_time": "2025-04-04T03:51:36.431Z"
   },
   {
    "duration": 1239,
    "start_time": "2025-04-04T03:51:36.438Z"
   },
   {
    "duration": 481,
    "start_time": "2025-04-04T03:51:37.679Z"
   },
   {
    "duration": 631,
    "start_time": "2025-04-04T03:51:38.162Z"
   },
   {
    "duration": 44,
    "start_time": "2025-04-04T03:51:38.794Z"
   },
   {
    "duration": 642,
    "start_time": "2025-04-04T03:51:38.840Z"
   },
   {
    "duration": 1042,
    "start_time": "2025-04-04T03:51:39.483Z"
   },
   {
    "duration": 450,
    "start_time": "2025-04-04T03:51:40.527Z"
   },
   {
    "duration": 19,
    "start_time": "2025-04-04T03:51:40.978Z"
   },
   {
    "duration": 29445,
    "start_time": "2025-04-04T03:51:40.999Z"
   },
   {
    "duration": 22,
    "start_time": "2025-04-04T03:52:10.446Z"
   },
   {
    "duration": 302,
    "start_time": "2025-04-04T03:52:10.471Z"
   },
   {
    "duration": 107,
    "start_time": "2025-04-04T03:52:10.775Z"
   },
   {
    "duration": 31,
    "start_time": "2025-04-04T03:52:10.884Z"
   },
   {
    "duration": 283,
    "start_time": "2025-04-04T03:52:10.916Z"
   },
   {
    "duration": 38,
    "start_time": "2025-04-04T03:52:11.201Z"
   },
   {
    "duration": 2276,
    "start_time": "2025-04-04T03:52:11.240Z"
   },
   {
    "duration": 123,
    "start_time": "2025-04-04T03:52:13.518Z"
   },
   {
    "duration": 12,
    "start_time": "2025-04-04T03:52:13.643Z"
   },
   {
    "duration": 42,
    "start_time": "2025-04-04T03:52:13.657Z"
   },
   {
    "duration": 6,
    "start_time": "2025-04-04T03:52:13.701Z"
   },
   {
    "duration": 12,
    "start_time": "2025-04-04T03:52:13.708Z"
   },
   {
    "duration": 118,
    "start_time": "2025-04-04T03:52:13.722Z"
   },
   {
    "duration": 1103802,
    "start_time": "2025-04-04T03:52:13.842Z"
   },
   {
    "duration": 4,
    "start_time": "2025-04-04T04:10:37.645Z"
   },
   {
    "duration": 2516,
    "start_time": "2025-04-04T04:10:37.650Z"
   },
   {
    "duration": 2493,
    "start_time": "2025-04-04T04:10:40.168Z"
   },
   {
    "duration": 2834,
    "start_time": "2025-04-04T04:10:42.662Z"
   },
   {
    "duration": 3,
    "start_time": "2025-04-04T04:10:45.498Z"
   },
   {
    "duration": 87078,
    "start_time": "2025-04-04T04:10:45.503Z"
   },
   {
    "duration": 10,
    "start_time": "2025-04-04T04:12:12.582Z"
   },
   {
    "duration": 689,
    "start_time": "2025-04-04T04:12:12.593Z"
   },
   {
    "duration": 422,
    "start_time": "2025-04-04T04:15:54.724Z"
   },
   {
    "duration": 435,
    "start_time": "2025-04-04T04:17:49.400Z"
   },
   {
    "duration": 449,
    "start_time": "2025-04-04T04:17:55.447Z"
   },
   {
    "duration": 5,
    "start_time": "2025-04-04T04:20:37.121Z"
   },
   {
    "duration": 3,
    "start_time": "2025-04-04T04:20:51.544Z"
   },
   {
    "duration": 2350,
    "start_time": "2025-04-04T04:26:29.627Z"
   },
   {
    "duration": 1571,
    "start_time": "2025-04-04T04:26:31.979Z"
   },
   {
    "duration": 3,
    "start_time": "2025-04-04T04:26:33.552Z"
   },
   {
    "duration": 7434,
    "start_time": "2025-04-04T04:26:33.557Z"
   },
   {
    "duration": 211,
    "start_time": "2025-04-04T04:26:40.993Z"
   },
   {
    "duration": 43,
    "start_time": "2025-04-04T04:26:41.206Z"
   },
   {
    "duration": 163,
    "start_time": "2025-04-04T04:26:41.251Z"
   },
   {
    "duration": 43,
    "start_time": "2025-04-04T04:26:41.416Z"
   },
   {
    "duration": 215,
    "start_time": "2025-04-04T04:26:41.460Z"
   },
   {
    "duration": 190,
    "start_time": "2025-04-04T04:26:41.677Z"
   },
   {
    "duration": 752,
    "start_time": "2025-04-04T04:26:41.869Z"
   },
   {
    "duration": 151,
    "start_time": "2025-04-04T04:26:42.622Z"
   },
   {
    "duration": 1653,
    "start_time": "2025-04-04T04:26:42.775Z"
   },
   {
    "duration": 230,
    "start_time": "2025-04-04T04:26:44.430Z"
   },
   {
    "duration": 8664,
    "start_time": "2025-04-04T04:26:44.662Z"
   },
   {
    "duration": 0,
    "start_time": "2025-04-04T04:26:53.329Z"
   },
   {
    "duration": 0,
    "start_time": "2025-04-04T04:26:53.331Z"
   },
   {
    "duration": 0,
    "start_time": "2025-04-04T04:26:53.332Z"
   },
   {
    "duration": 0,
    "start_time": "2025-04-04T04:26:53.334Z"
   },
   {
    "duration": 0,
    "start_time": "2025-04-04T04:26:53.335Z"
   },
   {
    "duration": 0,
    "start_time": "2025-04-04T04:26:53.337Z"
   },
   {
    "duration": 0,
    "start_time": "2025-04-04T04:26:53.338Z"
   },
   {
    "duration": 0,
    "start_time": "2025-04-04T04:26:53.340Z"
   },
   {
    "duration": 0,
    "start_time": "2025-04-04T04:26:53.341Z"
   },
   {
    "duration": 0,
    "start_time": "2025-04-04T04:26:53.343Z"
   },
   {
    "duration": 0,
    "start_time": "2025-04-04T04:26:53.344Z"
   },
   {
    "duration": 0,
    "start_time": "2025-04-04T04:26:53.345Z"
   },
   {
    "duration": 0,
    "start_time": "2025-04-04T04:26:53.347Z"
   },
   {
    "duration": 0,
    "start_time": "2025-04-04T04:26:53.348Z"
   },
   {
    "duration": 0,
    "start_time": "2025-04-04T04:26:53.350Z"
   },
   {
    "duration": 0,
    "start_time": "2025-04-04T04:26:53.352Z"
   },
   {
    "duration": 0,
    "start_time": "2025-04-04T04:26:53.353Z"
   },
   {
    "duration": 0,
    "start_time": "2025-04-04T04:26:53.354Z"
   },
   {
    "duration": 0,
    "start_time": "2025-04-04T04:26:53.355Z"
   },
   {
    "duration": 0,
    "start_time": "2025-04-04T04:26:53.356Z"
   },
   {
    "duration": 0,
    "start_time": "2025-04-04T04:26:53.358Z"
   },
   {
    "duration": 0,
    "start_time": "2025-04-04T04:26:53.358Z"
   },
   {
    "duration": 0,
    "start_time": "2025-04-04T04:26:53.359Z"
   },
   {
    "duration": 0,
    "start_time": "2025-04-04T04:26:53.360Z"
   },
   {
    "duration": 0,
    "start_time": "2025-04-04T04:26:53.361Z"
   },
   {
    "duration": 0,
    "start_time": "2025-04-04T04:26:53.363Z"
   },
   {
    "duration": 0,
    "start_time": "2025-04-04T04:26:53.364Z"
   },
   {
    "duration": 0,
    "start_time": "2025-04-04T04:26:53.365Z"
   },
   {
    "duration": 0,
    "start_time": "2025-04-04T04:26:53.366Z"
   },
   {
    "duration": 0,
    "start_time": "2025-04-04T04:26:53.367Z"
   },
   {
    "duration": 0,
    "start_time": "2025-04-04T04:26:53.368Z"
   },
   {
    "duration": 0,
    "start_time": "2025-04-04T04:26:53.369Z"
   },
   {
    "duration": 2327,
    "start_time": "2025-04-04T04:27:21.587Z"
   },
   {
    "duration": 1646,
    "start_time": "2025-04-04T04:27:23.917Z"
   },
   {
    "duration": 2,
    "start_time": "2025-04-04T04:27:25.565Z"
   },
   {
    "duration": 7320,
    "start_time": "2025-04-04T04:27:25.569Z"
   },
   {
    "duration": 233,
    "start_time": "2025-04-04T04:27:32.890Z"
   },
   {
    "duration": 45,
    "start_time": "2025-04-04T04:27:33.125Z"
   },
   {
    "duration": 164,
    "start_time": "2025-04-04T04:27:33.172Z"
   },
   {
    "duration": 47,
    "start_time": "2025-04-04T04:27:33.338Z"
   },
   {
    "duration": 217,
    "start_time": "2025-04-04T04:27:33.387Z"
   },
   {
    "duration": 194,
    "start_time": "2025-04-04T04:27:33.607Z"
   },
   {
    "duration": 769,
    "start_time": "2025-04-04T04:27:33.803Z"
   },
   {
    "duration": 144,
    "start_time": "2025-04-04T04:27:34.574Z"
   },
   {
    "duration": 1097,
    "start_time": "2025-04-04T04:27:34.720Z"
   },
   {
    "duration": 226,
    "start_time": "2025-04-04T04:27:35.819Z"
   },
   {
    "duration": 10704,
    "start_time": "2025-04-04T04:27:36.047Z"
   },
   {
    "duration": 404,
    "start_time": "2025-04-04T04:27:46.753Z"
   },
   {
    "duration": 4,
    "start_time": "2025-04-04T04:27:47.160Z"
   },
   {
    "duration": 1175,
    "start_time": "2025-04-04T04:27:47.165Z"
   },
   {
    "duration": 506,
    "start_time": "2025-04-04T04:27:48.341Z"
   },
   {
    "duration": 656,
    "start_time": "2025-04-04T04:27:48.849Z"
   },
   {
    "duration": 46,
    "start_time": "2025-04-04T04:27:49.507Z"
   },
   {
    "duration": 680,
    "start_time": "2025-04-04T04:27:49.555Z"
   },
   {
    "duration": 1047,
    "start_time": "2025-04-04T04:27:50.237Z"
   },
   {
    "duration": 437,
    "start_time": "2025-04-04T04:27:51.286Z"
   },
   {
    "duration": 22,
    "start_time": "2025-04-04T04:27:51.724Z"
   },
   {
    "duration": 29588,
    "start_time": "2025-04-04T04:27:51.748Z"
   },
   {
    "duration": 22,
    "start_time": "2025-04-04T04:28:21.338Z"
   },
   {
    "duration": 311,
    "start_time": "2025-04-04T04:28:21.364Z"
   },
   {
    "duration": 108,
    "start_time": "2025-04-04T04:28:21.676Z"
   },
   {
    "duration": 32,
    "start_time": "2025-04-04T04:28:21.786Z"
   },
   {
    "duration": 365,
    "start_time": "2025-04-04T04:28:21.819Z"
   },
   {
    "duration": 30,
    "start_time": "2025-04-04T04:28:22.185Z"
   },
   {
    "duration": 2323,
    "start_time": "2025-04-04T04:28:22.216Z"
   },
   {
    "duration": 169,
    "start_time": "2025-04-04T04:28:24.541Z"
   },
   {
    "duration": 10,
    "start_time": "2025-04-04T04:28:24.712Z"
   },
   {
    "duration": 12,
    "start_time": "2025-04-04T04:28:24.723Z"
   },
   {
    "duration": 5,
    "start_time": "2025-04-04T04:28:24.737Z"
   },
   {
    "duration": 7,
    "start_time": "2025-04-04T04:28:24.743Z"
   },
   {
    "duration": 4,
    "start_time": "2025-04-04T04:28:24.751Z"
   },
   {
    "duration": 146,
    "start_time": "2025-04-04T04:28:24.756Z"
   },
   {
    "duration": 0,
    "start_time": "2025-04-04T04:28:24.904Z"
   },
   {
    "duration": 0,
    "start_time": "2025-04-04T04:28:24.905Z"
   },
   {
    "duration": 0,
    "start_time": "2025-04-04T04:28:24.906Z"
   },
   {
    "duration": 0,
    "start_time": "2025-04-04T04:28:24.907Z"
   },
   {
    "duration": 0,
    "start_time": "2025-04-04T04:28:24.908Z"
   },
   {
    "duration": 0,
    "start_time": "2025-04-04T04:28:24.909Z"
   },
   {
    "duration": 0,
    "start_time": "2025-04-04T04:28:24.910Z"
   },
   {
    "duration": 3,
    "start_time": "2025-04-04T04:29:06.284Z"
   },
   {
    "duration": 973951,
    "start_time": "2025-04-04T04:29:06.841Z"
   },
   {
    "duration": 3,
    "start_time": "2025-04-04T04:45:20.794Z"
   },
   {
    "duration": 59724,
    "start_time": "2025-04-04T04:45:20.798Z"
   },
   {
    "duration": 0,
    "start_time": "2025-04-04T04:46:20.524Z"
   },
   {
    "duration": 0,
    "start_time": "2025-04-04T04:46:20.526Z"
   },
   {
    "duration": 0,
    "start_time": "2025-04-04T04:46:20.535Z"
   },
   {
    "duration": 0,
    "start_time": "2025-04-04T04:46:20.536Z"
   },
   {
    "duration": 0,
    "start_time": "2025-04-04T04:46:20.537Z"
   },
   {
    "duration": 59966,
    "start_time": "2025-04-04T04:54:13.010Z"
   },
   {
    "duration": 59074,
    "start_time": "2025-04-04T04:55:29.548Z"
   },
   {
    "duration": 49717,
    "start_time": "2025-04-04T04:56:28.623Z"
   },
   {
    "duration": 245,
    "start_time": "2025-04-04T04:57:25.053Z"
   },
   {
    "duration": 3,
    "start_time": "2025-04-04T04:58:10.566Z"
   },
   {
    "duration": 89007,
    "start_time": "2025-04-04T04:58:10.756Z"
   },
   {
    "duration": 416,
    "start_time": "2025-04-04T04:59:39.765Z"
   },
   {
    "duration": 2404,
    "start_time": "2025-04-04T05:01:03.983Z"
   },
   {
    "duration": 1591,
    "start_time": "2025-04-04T05:01:06.390Z"
   },
   {
    "duration": 3,
    "start_time": "2025-04-04T05:01:07.982Z"
   },
   {
    "duration": 8344,
    "start_time": "2025-04-04T05:01:07.986Z"
   },
   {
    "duration": 221,
    "start_time": "2025-04-04T05:01:16.333Z"
   },
   {
    "duration": 46,
    "start_time": "2025-04-04T05:01:16.558Z"
   },
   {
    "duration": 164,
    "start_time": "2025-04-04T05:01:16.605Z"
   },
   {
    "duration": 46,
    "start_time": "2025-04-04T05:01:16.771Z"
   },
   {
    "duration": 225,
    "start_time": "2025-04-04T05:01:16.819Z"
   },
   {
    "duration": 214,
    "start_time": "2025-04-04T05:01:17.046Z"
   },
   {
    "duration": 787,
    "start_time": "2025-04-04T05:01:17.261Z"
   },
   {
    "duration": 139,
    "start_time": "2025-04-04T05:01:18.050Z"
   },
   {
    "duration": 1321,
    "start_time": "2025-04-04T05:01:18.191Z"
   },
   {
    "duration": 224,
    "start_time": "2025-04-04T05:01:19.515Z"
   },
   {
    "duration": 12615,
    "start_time": "2025-04-04T05:01:19.741Z"
   },
   {
    "duration": 399,
    "start_time": "2025-04-04T05:01:32.358Z"
   },
   {
    "duration": 4,
    "start_time": "2025-04-04T05:01:32.758Z"
   },
   {
    "duration": 1194,
    "start_time": "2025-04-04T05:01:32.764Z"
   },
   {
    "duration": 513,
    "start_time": "2025-04-04T05:01:33.960Z"
   },
   {
    "duration": 654,
    "start_time": "2025-04-04T05:01:34.475Z"
   },
   {
    "duration": 37,
    "start_time": "2025-04-04T05:01:35.131Z"
   },
   {
    "duration": 690,
    "start_time": "2025-04-04T05:01:35.170Z"
   },
   {
    "duration": 1077,
    "start_time": "2025-04-04T05:01:35.862Z"
   },
   {
    "duration": 448,
    "start_time": "2025-04-04T05:01:36.941Z"
   },
   {
    "duration": 18,
    "start_time": "2025-04-04T05:01:37.391Z"
   },
   {
    "duration": 29458,
    "start_time": "2025-04-04T05:01:37.410Z"
   },
   {
    "duration": 26,
    "start_time": "2025-04-04T05:02:06.871Z"
   },
   {
    "duration": 316,
    "start_time": "2025-04-04T05:02:06.899Z"
   },
   {
    "duration": 110,
    "start_time": "2025-04-04T05:02:07.217Z"
   },
   {
    "duration": 36,
    "start_time": "2025-04-04T05:02:07.328Z"
   },
   {
    "duration": 274,
    "start_time": "2025-04-04T05:02:07.366Z"
   },
   {
    "duration": 29,
    "start_time": "2025-04-04T05:02:07.642Z"
   },
   {
    "duration": 2235,
    "start_time": "2025-04-04T05:02:07.672Z"
   },
   {
    "duration": 161,
    "start_time": "2025-04-04T05:02:09.908Z"
   },
   {
    "duration": 9,
    "start_time": "2025-04-04T05:02:10.071Z"
   },
   {
    "duration": 10,
    "start_time": "2025-04-04T05:02:10.082Z"
   },
   {
    "duration": 6,
    "start_time": "2025-04-04T05:02:10.093Z"
   },
   {
    "duration": 11,
    "start_time": "2025-04-04T05:02:10.100Z"
   },
   {
    "duration": 3,
    "start_time": "2025-04-04T05:02:10.113Z"
   },
   {
    "duration": 879727,
    "start_time": "2025-04-04T05:02:10.117Z"
   },
   {
    "duration": 0,
    "start_time": "2025-04-04T05:16:49.846Z"
   },
   {
    "duration": 0,
    "start_time": "2025-04-04T05:16:49.847Z"
   },
   {
    "duration": 0,
    "start_time": "2025-04-04T05:16:49.848Z"
   },
   {
    "duration": 0,
    "start_time": "2025-04-04T05:16:49.849Z"
   },
   {
    "duration": 0,
    "start_time": "2025-04-04T05:16:49.850Z"
   },
   {
    "duration": 0,
    "start_time": "2025-04-04T05:16:49.851Z"
   },
   {
    "duration": 0,
    "start_time": "2025-04-04T05:16:49.853Z"
   },
   {
    "duration": 2361,
    "start_time": "2025-04-04T05:20:06.788Z"
   },
   {
    "duration": 1641,
    "start_time": "2025-04-04T05:20:09.151Z"
   },
   {
    "duration": 2,
    "start_time": "2025-04-04T05:20:10.793Z"
   },
   {
    "duration": 8098,
    "start_time": "2025-04-04T05:20:10.797Z"
   },
   {
    "duration": 203,
    "start_time": "2025-04-04T05:20:18.897Z"
   },
   {
    "duration": 42,
    "start_time": "2025-04-04T05:20:19.102Z"
   },
   {
    "duration": 158,
    "start_time": "2025-04-04T05:20:19.145Z"
   },
   {
    "duration": 46,
    "start_time": "2025-04-04T05:20:19.304Z"
   },
   {
    "duration": 213,
    "start_time": "2025-04-04T05:20:19.352Z"
   },
   {
    "duration": 199,
    "start_time": "2025-04-04T05:20:19.568Z"
   },
   {
    "duration": 777,
    "start_time": "2025-04-04T05:20:19.769Z"
   },
   {
    "duration": 145,
    "start_time": "2025-04-04T05:20:20.547Z"
   },
   {
    "duration": 1503,
    "start_time": "2025-04-04T05:20:20.694Z"
   },
   {
    "duration": 221,
    "start_time": "2025-04-04T05:20:22.199Z"
   },
   {
    "duration": 10190,
    "start_time": "2025-04-04T05:20:22.423Z"
   },
   {
    "duration": 424,
    "start_time": "2025-04-04T05:20:32.614Z"
   },
   {
    "duration": 4,
    "start_time": "2025-04-04T05:20:33.039Z"
   },
   {
    "duration": 1192,
    "start_time": "2025-04-04T05:20:33.045Z"
   },
   {
    "duration": 499,
    "start_time": "2025-04-04T05:20:34.238Z"
   },
   {
    "duration": 655,
    "start_time": "2025-04-04T05:20:34.738Z"
   },
   {
    "duration": 46,
    "start_time": "2025-04-04T05:20:35.394Z"
   },
   {
    "duration": 731,
    "start_time": "2025-04-04T05:20:35.441Z"
   },
   {
    "duration": 1090,
    "start_time": "2025-04-04T05:20:36.174Z"
   },
   {
    "duration": 450,
    "start_time": "2025-04-04T05:20:37.266Z"
   },
   {
    "duration": 22,
    "start_time": "2025-04-04T05:20:37.718Z"
   },
   {
    "duration": 28899,
    "start_time": "2025-04-04T05:20:37.741Z"
   },
   {
    "duration": 23,
    "start_time": "2025-04-04T05:21:06.642Z"
   },
   {
    "duration": 306,
    "start_time": "2025-04-04T05:21:06.669Z"
   },
   {
    "duration": 108,
    "start_time": "2025-04-04T05:21:06.976Z"
   },
   {
    "duration": 32,
    "start_time": "2025-04-04T05:21:07.086Z"
   },
   {
    "duration": 287,
    "start_time": "2025-04-04T05:21:07.120Z"
   },
   {
    "duration": 37,
    "start_time": "2025-04-04T05:21:07.409Z"
   },
   {
    "duration": 2163,
    "start_time": "2025-04-04T05:21:07.448Z"
   },
   {
    "duration": 112,
    "start_time": "2025-04-04T05:21:09.613Z"
   },
   {
    "duration": 16,
    "start_time": "2025-04-04T05:21:09.726Z"
   },
   {
    "duration": 3,
    "start_time": "2025-04-04T05:21:09.743Z"
   },
   {
    "duration": 4,
    "start_time": "2025-04-04T05:21:09.748Z"
   },
   {
    "duration": 5,
    "start_time": "2025-04-04T05:21:09.753Z"
   },
   {
    "duration": 5,
    "start_time": "2025-04-04T05:21:09.759Z"
   },
   {
    "duration": 190569,
    "start_time": "2025-04-04T05:21:09.765Z"
   },
   {
    "duration": 3,
    "start_time": "2025-04-04T05:24:20.336Z"
   },
   {
    "duration": 423,
    "start_time": "2025-04-04T05:24:20.341Z"
   },
   {
    "duration": 413,
    "start_time": "2025-04-04T05:24:20.766Z"
   },
   {
    "duration": 313,
    "start_time": "2025-04-04T05:24:21.181Z"
   },
   {
    "duration": 4,
    "start_time": "2025-04-04T05:24:21.496Z"
   },
   {
    "duration": 89941,
    "start_time": "2025-04-04T05:24:21.501Z"
   },
   {
    "duration": 408,
    "start_time": "2025-04-04T05:25:51.443Z"
   },
   {
    "duration": 2467,
    "start_time": "2025-04-04T05:30:00.165Z"
   },
   {
    "duration": 1663,
    "start_time": "2025-04-04T05:30:02.634Z"
   },
   {
    "duration": 3,
    "start_time": "2025-04-04T05:30:04.299Z"
   },
   {
    "duration": 8006,
    "start_time": "2025-04-04T05:30:04.303Z"
   },
   {
    "duration": 205,
    "start_time": "2025-04-04T05:30:12.311Z"
   },
   {
    "duration": 42,
    "start_time": "2025-04-04T05:30:12.517Z"
   },
   {
    "duration": 169,
    "start_time": "2025-04-04T05:30:12.561Z"
   },
   {
    "duration": 44,
    "start_time": "2025-04-04T05:30:12.732Z"
   },
   {
    "duration": 222,
    "start_time": "2025-04-04T05:30:12.777Z"
   },
   {
    "duration": 206,
    "start_time": "2025-04-04T05:30:13.002Z"
   },
   {
    "duration": 847,
    "start_time": "2025-04-04T05:30:13.210Z"
   },
   {
    "duration": 164,
    "start_time": "2025-04-04T05:30:14.058Z"
   },
   {
    "duration": 3662,
    "start_time": "2025-04-04T05:30:14.223Z"
   },
   {
    "duration": 223,
    "start_time": "2025-04-04T05:30:17.887Z"
   },
   {
    "duration": 11690,
    "start_time": "2025-04-04T05:30:18.112Z"
   },
   {
    "duration": 392,
    "start_time": "2025-04-04T05:30:29.803Z"
   },
   {
    "duration": 4,
    "start_time": "2025-04-04T05:30:30.197Z"
   },
   {
    "duration": 1174,
    "start_time": "2025-04-04T05:30:30.202Z"
   },
   {
    "duration": 479,
    "start_time": "2025-04-04T05:30:31.378Z"
   },
   {
    "duration": 621,
    "start_time": "2025-04-04T05:30:31.859Z"
   },
   {
    "duration": 38,
    "start_time": "2025-04-04T05:30:32.482Z"
   },
   {
    "duration": 674,
    "start_time": "2025-04-04T05:30:32.522Z"
   },
   {
    "duration": 1018,
    "start_time": "2025-04-04T05:30:33.198Z"
   },
   {
    "duration": 438,
    "start_time": "2025-04-04T05:30:34.218Z"
   },
   {
    "duration": 17,
    "start_time": "2025-04-04T05:30:34.657Z"
   },
   {
    "duration": 30696,
    "start_time": "2025-04-04T05:30:34.676Z"
   },
   {
    "duration": 24,
    "start_time": "2025-04-04T05:31:05.373Z"
   },
   {
    "duration": 308,
    "start_time": "2025-04-04T05:31:05.400Z"
   },
   {
    "duration": 104,
    "start_time": "2025-04-04T05:31:05.710Z"
   },
   {
    "duration": 40,
    "start_time": "2025-04-04T05:31:05.815Z"
   },
   {
    "duration": 356,
    "start_time": "2025-04-04T05:31:05.856Z"
   },
   {
    "duration": 38,
    "start_time": "2025-04-04T05:31:06.213Z"
   },
   {
    "duration": 2195,
    "start_time": "2025-04-04T05:31:06.252Z"
   },
   {
    "duration": 123,
    "start_time": "2025-04-04T05:31:08.449Z"
   },
   {
    "duration": 10,
    "start_time": "2025-04-04T05:31:08.573Z"
   },
   {
    "duration": 3,
    "start_time": "2025-04-04T05:31:08.584Z"
   },
   {
    "duration": 5,
    "start_time": "2025-04-04T05:31:08.588Z"
   },
   {
    "duration": 14,
    "start_time": "2025-04-04T05:31:08.594Z"
   },
   {
    "duration": 4,
    "start_time": "2025-04-04T05:31:08.610Z"
   },
   {
    "duration": 188990,
    "start_time": "2025-04-04T05:31:08.615Z"
   },
   {
    "duration": 4,
    "start_time": "2025-04-04T05:34:17.607Z"
   },
   {
    "duration": 374,
    "start_time": "2025-04-04T05:34:17.613Z"
   },
   {
    "duration": 387,
    "start_time": "2025-04-04T05:34:17.989Z"
   },
   {
    "duration": 651,
    "start_time": "2025-04-04T05:34:18.378Z"
   },
   {
    "duration": 8,
    "start_time": "2025-04-04T05:34:19.030Z"
   },
   {
    "duration": 89380,
    "start_time": "2025-04-04T05:34:19.039Z"
   },
   {
    "duration": 451,
    "start_time": "2025-04-04T05:35:48.421Z"
   },
   {
    "duration": 417,
    "start_time": "2025-04-04T05:36:52.677Z"
   },
   {
    "duration": 468,
    "start_time": "2025-04-04T05:37:41.706Z"
   },
   {
    "duration": 793,
    "start_time": "2025-04-04T05:39:24.152Z"
   },
   {
    "duration": 679,
    "start_time": "2025-04-04T05:40:14.561Z"
   },
   {
    "duration": 1506,
    "start_time": "2025-04-05T00:52:03.160Z"
   },
   {
    "duration": 0,
    "start_time": "2025-04-05T00:52:04.674Z"
   },
   {
    "duration": 0,
    "start_time": "2025-04-05T00:52:04.676Z"
   },
   {
    "duration": 0,
    "start_time": "2025-04-05T00:52:04.677Z"
   },
   {
    "duration": 0,
    "start_time": "2025-04-05T00:52:04.678Z"
   },
   {
    "duration": 0,
    "start_time": "2025-04-05T00:52:04.679Z"
   },
   {
    "duration": 0,
    "start_time": "2025-04-05T00:52:04.680Z"
   },
   {
    "duration": 0,
    "start_time": "2025-04-05T00:52:04.681Z"
   },
   {
    "duration": 0,
    "start_time": "2025-04-05T00:52:04.682Z"
   },
   {
    "duration": 0,
    "start_time": "2025-04-05T00:52:04.683Z"
   },
   {
    "duration": 0,
    "start_time": "2025-04-05T00:52:04.684Z"
   },
   {
    "duration": 0,
    "start_time": "2025-04-05T00:52:04.685Z"
   },
   {
    "duration": 0,
    "start_time": "2025-04-05T00:52:04.686Z"
   },
   {
    "duration": 0,
    "start_time": "2025-04-05T00:52:04.687Z"
   },
   {
    "duration": 0,
    "start_time": "2025-04-05T00:52:04.688Z"
   },
   {
    "duration": 0,
    "start_time": "2025-04-05T00:52:04.689Z"
   },
   {
    "duration": 0,
    "start_time": "2025-04-05T00:52:04.690Z"
   },
   {
    "duration": 0,
    "start_time": "2025-04-05T00:52:04.691Z"
   },
   {
    "duration": 0,
    "start_time": "2025-04-05T00:52:04.692Z"
   },
   {
    "duration": 0,
    "start_time": "2025-04-05T00:52:04.693Z"
   },
   {
    "duration": 0,
    "start_time": "2025-04-05T00:52:04.694Z"
   },
   {
    "duration": 0,
    "start_time": "2025-04-05T00:52:04.695Z"
   },
   {
    "duration": 0,
    "start_time": "2025-04-05T00:52:04.696Z"
   },
   {
    "duration": 0,
    "start_time": "2025-04-05T00:52:04.697Z"
   },
   {
    "duration": 0,
    "start_time": "2025-04-05T00:52:04.698Z"
   },
   {
    "duration": 0,
    "start_time": "2025-04-05T00:52:04.699Z"
   },
   {
    "duration": 0,
    "start_time": "2025-04-05T00:52:04.700Z"
   },
   {
    "duration": 0,
    "start_time": "2025-04-05T00:52:04.701Z"
   },
   {
    "duration": 0,
    "start_time": "2025-04-05T00:52:04.702Z"
   },
   {
    "duration": 0,
    "start_time": "2025-04-05T00:52:04.703Z"
   },
   {
    "duration": 0,
    "start_time": "2025-04-05T00:52:04.703Z"
   },
   {
    "duration": 0,
    "start_time": "2025-04-05T00:52:04.704Z"
   },
   {
    "duration": 0,
    "start_time": "2025-04-05T00:52:04.705Z"
   },
   {
    "duration": 0,
    "start_time": "2025-04-05T00:52:04.706Z"
   },
   {
    "duration": 0,
    "start_time": "2025-04-05T00:52:04.707Z"
   },
   {
    "duration": 0,
    "start_time": "2025-04-05T00:52:04.708Z"
   },
   {
    "duration": 0,
    "start_time": "2025-04-05T00:52:04.710Z"
   },
   {
    "duration": 0,
    "start_time": "2025-04-05T00:52:04.711Z"
   },
   {
    "duration": 0,
    "start_time": "2025-04-05T00:52:04.711Z"
   },
   {
    "duration": 0,
    "start_time": "2025-04-05T00:52:04.713Z"
   },
   {
    "duration": 0,
    "start_time": "2025-04-05T00:52:04.713Z"
   },
   {
    "duration": 0,
    "start_time": "2025-04-05T00:52:04.715Z"
   },
   {
    "duration": 0,
    "start_time": "2025-04-05T00:52:04.716Z"
   },
   {
    "duration": 0,
    "start_time": "2025-04-05T00:52:04.773Z"
   },
   {
    "duration": 0,
    "start_time": "2025-04-05T00:52:04.774Z"
   },
   {
    "duration": 0,
    "start_time": "2025-04-05T00:52:04.775Z"
   },
   {
    "duration": 0,
    "start_time": "2025-04-05T00:52:04.776Z"
   },
   {
    "duration": 3233,
    "start_time": "2025-04-05T00:53:31.666Z"
   },
   {
    "duration": 336,
    "start_time": "2025-04-05T00:53:36.590Z"
   },
   {
    "duration": 2716,
    "start_time": "2025-04-05T00:53:42.737Z"
   },
   {
    "duration": 1571,
    "start_time": "2025-04-05T00:53:45.455Z"
   },
   {
    "duration": 2,
    "start_time": "2025-04-05T00:53:47.028Z"
   },
   {
    "duration": 8680,
    "start_time": "2025-04-05T00:53:47.033Z"
   },
   {
    "duration": 218,
    "start_time": "2025-04-05T00:53:55.715Z"
   },
   {
    "duration": 42,
    "start_time": "2025-04-05T00:53:55.934Z"
   },
   {
    "duration": 160,
    "start_time": "2025-04-05T00:53:55.978Z"
   },
   {
    "duration": 47,
    "start_time": "2025-04-05T00:53:56.140Z"
   },
   {
    "duration": 213,
    "start_time": "2025-04-05T00:53:56.188Z"
   },
   {
    "duration": 185,
    "start_time": "2025-04-05T00:53:56.404Z"
   },
   {
    "duration": 123,
    "start_time": "2025-04-05T00:53:56.591Z"
   },
   {
    "duration": 0,
    "start_time": "2025-04-05T00:53:56.716Z"
   },
   {
    "duration": 0,
    "start_time": "2025-04-05T00:53:56.717Z"
   },
   {
    "duration": 0,
    "start_time": "2025-04-05T00:53:56.718Z"
   },
   {
    "duration": 0,
    "start_time": "2025-04-05T00:53:56.719Z"
   },
   {
    "duration": 0,
    "start_time": "2025-04-05T00:53:56.720Z"
   },
   {
    "duration": 0,
    "start_time": "2025-04-05T00:53:56.721Z"
   },
   {
    "duration": 0,
    "start_time": "2025-04-05T00:53:56.722Z"
   },
   {
    "duration": 0,
    "start_time": "2025-04-05T00:53:56.723Z"
   },
   {
    "duration": 0,
    "start_time": "2025-04-05T00:53:56.724Z"
   },
   {
    "duration": 0,
    "start_time": "2025-04-05T00:53:56.726Z"
   },
   {
    "duration": 0,
    "start_time": "2025-04-05T00:53:56.727Z"
   },
   {
    "duration": 0,
    "start_time": "2025-04-05T00:53:56.727Z"
   },
   {
    "duration": 0,
    "start_time": "2025-04-05T00:53:56.729Z"
   },
   {
    "duration": 0,
    "start_time": "2025-04-05T00:53:56.730Z"
   },
   {
    "duration": 0,
    "start_time": "2025-04-05T00:53:56.731Z"
   },
   {
    "duration": 0,
    "start_time": "2025-04-05T00:53:56.731Z"
   },
   {
    "duration": 0,
    "start_time": "2025-04-05T00:53:56.733Z"
   },
   {
    "duration": 0,
    "start_time": "2025-04-05T00:53:56.734Z"
   },
   {
    "duration": 0,
    "start_time": "2025-04-05T00:53:56.734Z"
   },
   {
    "duration": 0,
    "start_time": "2025-04-05T00:53:56.735Z"
   },
   {
    "duration": 0,
    "start_time": "2025-04-05T00:53:56.736Z"
   },
   {
    "duration": 0,
    "start_time": "2025-04-05T00:53:56.737Z"
   },
   {
    "duration": 0,
    "start_time": "2025-04-05T00:53:56.773Z"
   },
   {
    "duration": 0,
    "start_time": "2025-04-05T00:53:56.774Z"
   },
   {
    "duration": 0,
    "start_time": "2025-04-05T00:53:56.775Z"
   },
   {
    "duration": 0,
    "start_time": "2025-04-05T00:53:56.776Z"
   },
   {
    "duration": 0,
    "start_time": "2025-04-05T00:53:56.777Z"
   },
   {
    "duration": 0,
    "start_time": "2025-04-05T00:53:56.778Z"
   },
   {
    "duration": 0,
    "start_time": "2025-04-05T00:53:56.779Z"
   },
   {
    "duration": 0,
    "start_time": "2025-04-05T00:53:56.780Z"
   },
   {
    "duration": 0,
    "start_time": "2025-04-05T00:53:56.781Z"
   },
   {
    "duration": 0,
    "start_time": "2025-04-05T00:53:56.782Z"
   },
   {
    "duration": 0,
    "start_time": "2025-04-05T00:53:56.783Z"
   },
   {
    "duration": 0,
    "start_time": "2025-04-05T00:53:56.784Z"
   },
   {
    "duration": 0,
    "start_time": "2025-04-05T00:53:56.785Z"
   },
   {
    "duration": 0,
    "start_time": "2025-04-05T00:53:56.786Z"
   },
   {
    "duration": 0,
    "start_time": "2025-04-05T00:53:56.787Z"
   },
   {
    "duration": 128,
    "start_time": "2025-04-05T00:56:18.883Z"
   },
   {
    "duration": 368,
    "start_time": "2025-04-05T00:56:51.995Z"
   },
   {
    "duration": 377,
    "start_time": "2025-04-05T00:57:08.099Z"
   },
   {
    "duration": 814,
    "start_time": "2025-04-05T00:57:41.105Z"
   },
   {
    "duration": 367,
    "start_time": "2025-04-05T00:59:13.458Z"
   },
   {
    "duration": 5,
    "start_time": "2025-04-05T01:00:39.597Z"
   },
   {
    "duration": 5,
    "start_time": "2025-04-05T01:00:42.818Z"
   },
   {
    "duration": 875,
    "start_time": "2025-04-05T01:00:53.467Z"
   },
   {
    "duration": 1274,
    "start_time": "2025-04-05T01:02:31.180Z"
   },
   {
    "duration": 4,
    "start_time": "2025-04-05T01:02:44.147Z"
   },
   {
    "duration": 8,
    "start_time": "2025-04-05T01:05:25.147Z"
   },
   {
    "duration": 223,
    "start_time": "2025-04-05T01:05:46.988Z"
   },
   {
    "duration": 155,
    "start_time": "2025-04-05T01:06:44.249Z"
   },
   {
    "duration": 1802,
    "start_time": "2025-04-05T01:07:57.997Z"
   },
   {
    "duration": 155,
    "start_time": "2025-04-05T01:08:02.188Z"
   },
   {
    "duration": 266,
    "start_time": "2025-04-05T01:08:20.449Z"
   },
   {
    "duration": 170,
    "start_time": "2025-04-05T01:08:36.652Z"
   },
   {
    "duration": 152,
    "start_time": "2025-04-05T01:08:50.870Z"
   },
   {
    "duration": 822,
    "start_time": "2025-04-05T01:09:32.426Z"
   },
   {
    "duration": 913,
    "start_time": "2025-04-05T01:10:45.810Z"
   },
   {
    "duration": 369,
    "start_time": "2025-04-05T01:11:34.392Z"
   },
   {
    "duration": 4319,
    "start_time": "2025-04-05T01:24:05.767Z"
   },
   {
    "duration": 2253,
    "start_time": "2025-04-05T01:29:05.575Z"
   },
   {
    "duration": 1420,
    "start_time": "2025-04-05T01:29:07.830Z"
   },
   {
    "duration": 2,
    "start_time": "2025-04-05T01:29:09.252Z"
   },
   {
    "duration": 7255,
    "start_time": "2025-04-05T01:29:09.256Z"
   },
   {
    "duration": 208,
    "start_time": "2025-04-05T01:29:16.513Z"
   },
   {
    "duration": 43,
    "start_time": "2025-04-05T01:29:16.723Z"
   },
   {
    "duration": 159,
    "start_time": "2025-04-05T01:29:16.767Z"
   },
   {
    "duration": 44,
    "start_time": "2025-04-05T01:29:16.928Z"
   },
   {
    "duration": 1247,
    "start_time": "2025-04-05T01:29:16.973Z"
   },
   {
    "duration": 728,
    "start_time": "2025-04-05T01:29:18.222Z"
   },
   {
    "duration": 134,
    "start_time": "2025-04-05T01:29:18.951Z"
   },
   {
    "duration": 3854,
    "start_time": "2025-04-05T01:29:19.087Z"
   },
   {
    "duration": 213,
    "start_time": "2025-04-05T01:29:22.942Z"
   },
   {
    "duration": 10713,
    "start_time": "2025-04-05T01:29:23.156Z"
   },
   {
    "duration": 117,
    "start_time": "2025-04-05T01:29:33.873Z"
   },
   {
    "duration": 0,
    "start_time": "2025-04-05T01:29:33.993Z"
   },
   {
    "duration": 0,
    "start_time": "2025-04-05T01:29:33.994Z"
   },
   {
    "duration": 0,
    "start_time": "2025-04-05T01:29:33.995Z"
   },
   {
    "duration": 0,
    "start_time": "2025-04-05T01:29:33.997Z"
   },
   {
    "duration": 0,
    "start_time": "2025-04-05T01:29:33.998Z"
   },
   {
    "duration": 0,
    "start_time": "2025-04-05T01:29:33.999Z"
   },
   {
    "duration": 0,
    "start_time": "2025-04-05T01:29:34.000Z"
   },
   {
    "duration": 0,
    "start_time": "2025-04-05T01:29:34.000Z"
   },
   {
    "duration": 0,
    "start_time": "2025-04-05T01:29:34.001Z"
   },
   {
    "duration": 0,
    "start_time": "2025-04-05T01:29:34.002Z"
   },
   {
    "duration": 0,
    "start_time": "2025-04-05T01:29:34.003Z"
   },
   {
    "duration": 0,
    "start_time": "2025-04-05T01:29:34.005Z"
   },
   {
    "duration": 0,
    "start_time": "2025-04-05T01:29:34.006Z"
   },
   {
    "duration": 0,
    "start_time": "2025-04-05T01:29:34.007Z"
   },
   {
    "duration": 0,
    "start_time": "2025-04-05T01:29:34.008Z"
   },
   {
    "duration": 0,
    "start_time": "2025-04-05T01:29:34.009Z"
   },
   {
    "duration": 0,
    "start_time": "2025-04-05T01:29:34.010Z"
   },
   {
    "duration": 0,
    "start_time": "2025-04-05T01:29:34.011Z"
   },
   {
    "duration": 0,
    "start_time": "2025-04-05T01:29:34.012Z"
   },
   {
    "duration": 0,
    "start_time": "2025-04-05T01:29:34.013Z"
   },
   {
    "duration": 0,
    "start_time": "2025-04-05T01:29:34.014Z"
   },
   {
    "duration": 0,
    "start_time": "2025-04-05T01:29:34.015Z"
   },
   {
    "duration": 0,
    "start_time": "2025-04-05T01:29:34.016Z"
   },
   {
    "duration": 0,
    "start_time": "2025-04-05T01:29:34.017Z"
   },
   {
    "duration": 0,
    "start_time": "2025-04-05T01:29:34.017Z"
   },
   {
    "duration": 0,
    "start_time": "2025-04-05T01:29:34.018Z"
   },
   {
    "duration": 0,
    "start_time": "2025-04-05T01:29:34.019Z"
   },
   {
    "duration": 0,
    "start_time": "2025-04-05T01:29:34.020Z"
   },
   {
    "duration": 0,
    "start_time": "2025-04-05T01:29:34.021Z"
   },
   {
    "duration": 0,
    "start_time": "2025-04-05T01:29:34.023Z"
   },
   {
    "duration": 0,
    "start_time": "2025-04-05T01:29:34.073Z"
   },
   {
    "duration": 0,
    "start_time": "2025-04-05T01:29:34.074Z"
   },
   {
    "duration": 27,
    "start_time": "2025-04-05T01:29:46.542Z"
   },
   {
    "duration": 11183,
    "start_time": "2025-04-05T01:37:32.906Z"
   },
   {
    "duration": 25,
    "start_time": "2025-04-05T01:37:44.091Z"
   },
   {
    "duration": 12257,
    "start_time": "2025-04-05T01:51:36.298Z"
   },
   {
    "duration": 27,
    "start_time": "2025-04-05T01:51:53.156Z"
   },
   {
    "duration": 40,
    "start_time": "2025-04-05T01:52:08.097Z"
   },
   {
    "duration": 47,
    "start_time": "2025-04-05T02:20:19.731Z"
   },
   {
    "duration": 2324,
    "start_time": "2025-04-05T02:20:32.369Z"
   },
   {
    "duration": 1622,
    "start_time": "2025-04-05T02:20:34.695Z"
   },
   {
    "duration": 2,
    "start_time": "2025-04-05T02:20:36.319Z"
   },
   {
    "duration": 7917,
    "start_time": "2025-04-05T02:20:36.323Z"
   },
   {
    "duration": 216,
    "start_time": "2025-04-05T02:20:44.242Z"
   },
   {
    "duration": 44,
    "start_time": "2025-04-05T02:20:44.460Z"
   },
   {
    "duration": 163,
    "start_time": "2025-04-05T02:20:44.505Z"
   },
   {
    "duration": 45,
    "start_time": "2025-04-05T02:20:44.670Z"
   },
   {
    "duration": 1317,
    "start_time": "2025-04-05T02:20:44.717Z"
   },
   {
    "duration": 779,
    "start_time": "2025-04-05T02:20:46.036Z"
   },
   {
    "duration": 136,
    "start_time": "2025-04-05T02:20:46.816Z"
   },
   {
    "duration": 1572,
    "start_time": "2025-04-05T02:20:46.953Z"
   },
   {
    "duration": 225,
    "start_time": "2025-04-05T02:20:48.526Z"
   },
   {
    "duration": 68,
    "start_time": "2025-04-05T02:20:48.753Z"
   },
   {
    "duration": 0,
    "start_time": "2025-04-05T02:20:48.823Z"
   },
   {
    "duration": 0,
    "start_time": "2025-04-05T02:20:48.824Z"
   },
   {
    "duration": 0,
    "start_time": "2025-04-05T02:20:48.825Z"
   },
   {
    "duration": 0,
    "start_time": "2025-04-05T02:20:48.826Z"
   },
   {
    "duration": 0,
    "start_time": "2025-04-05T02:20:48.827Z"
   },
   {
    "duration": 0,
    "start_time": "2025-04-05T02:20:48.828Z"
   },
   {
    "duration": 0,
    "start_time": "2025-04-05T02:20:48.829Z"
   },
   {
    "duration": 0,
    "start_time": "2025-04-05T02:20:48.830Z"
   },
   {
    "duration": 0,
    "start_time": "2025-04-05T02:20:48.831Z"
   },
   {
    "duration": 0,
    "start_time": "2025-04-05T02:20:48.832Z"
   },
   {
    "duration": 0,
    "start_time": "2025-04-05T02:20:48.833Z"
   },
   {
    "duration": 0,
    "start_time": "2025-04-05T02:20:48.834Z"
   },
   {
    "duration": 0,
    "start_time": "2025-04-05T02:20:48.835Z"
   },
   {
    "duration": 0,
    "start_time": "2025-04-05T02:20:48.836Z"
   },
   {
    "duration": 0,
    "start_time": "2025-04-05T02:20:48.837Z"
   },
   {
    "duration": 0,
    "start_time": "2025-04-05T02:20:48.838Z"
   },
   {
    "duration": 0,
    "start_time": "2025-04-05T02:20:48.838Z"
   },
   {
    "duration": 0,
    "start_time": "2025-04-05T02:20:48.839Z"
   },
   {
    "duration": 0,
    "start_time": "2025-04-05T02:20:48.840Z"
   },
   {
    "duration": 0,
    "start_time": "2025-04-05T02:20:48.841Z"
   },
   {
    "duration": 0,
    "start_time": "2025-04-05T02:20:48.842Z"
   },
   {
    "duration": 0,
    "start_time": "2025-04-05T02:20:48.843Z"
   },
   {
    "duration": 0,
    "start_time": "2025-04-05T02:20:48.844Z"
   },
   {
    "duration": 0,
    "start_time": "2025-04-05T02:20:48.845Z"
   },
   {
    "duration": 0,
    "start_time": "2025-04-05T02:20:48.846Z"
   },
   {
    "duration": 0,
    "start_time": "2025-04-05T02:20:48.847Z"
   },
   {
    "duration": 0,
    "start_time": "2025-04-05T02:20:48.848Z"
   },
   {
    "duration": 0,
    "start_time": "2025-04-05T02:20:48.849Z"
   },
   {
    "duration": 0,
    "start_time": "2025-04-05T02:20:48.850Z"
   },
   {
    "duration": 1,
    "start_time": "2025-04-05T02:20:48.850Z"
   },
   {
    "duration": 0,
    "start_time": "2025-04-05T02:20:48.851Z"
   },
   {
    "duration": 0,
    "start_time": "2025-04-05T02:20:48.852Z"
   },
   {
    "duration": 0,
    "start_time": "2025-04-05T02:20:48.853Z"
   },
   {
    "duration": 0,
    "start_time": "2025-04-05T02:20:48.854Z"
   },
   {
    "duration": 0,
    "start_time": "2025-04-05T02:20:48.855Z"
   },
   {
    "duration": 13305,
    "start_time": "2025-04-05T02:22:17.779Z"
   },
   {
    "duration": 41,
    "start_time": "2025-04-05T02:22:31.086Z"
   },
   {
    "duration": 23,
    "start_time": "2025-04-05T02:27:28.992Z"
   },
   {
    "duration": 228,
    "start_time": "2025-04-05T02:33:25.610Z"
   },
   {
    "duration": 0,
    "start_time": "2025-04-05T02:33:25.840Z"
   },
   {
    "duration": 119,
    "start_time": "2025-04-05T02:33:46.327Z"
   },
   {
    "duration": 124,
    "start_time": "2025-04-05T02:35:02.678Z"
   },
   {
    "duration": 123,
    "start_time": "2025-04-05T02:35:39.085Z"
   },
   {
    "duration": 11791,
    "start_time": "2025-04-05T02:36:52.018Z"
   },
   {
    "duration": 42,
    "start_time": "2025-04-05T02:37:03.811Z"
   },
   {
    "duration": 89,
    "start_time": "2025-04-05T02:45:25.066Z"
   },
   {
    "duration": 4,
    "start_time": "2025-04-05T02:45:33.123Z"
   },
   {
    "duration": 429,
    "start_time": "2025-04-05T02:45:33.644Z"
   },
   {
    "duration": 178,
    "start_time": "2025-04-05T02:45:48.643Z"
   },
   {
    "duration": 181,
    "start_time": "2025-04-05T02:47:10.363Z"
   },
   {
    "duration": 32,
    "start_time": "2025-04-05T02:50:17.158Z"
   },
   {
    "duration": 147,
    "start_time": "2025-04-05T02:54:21.603Z"
   },
   {
    "duration": 12549,
    "start_time": "2025-04-05T02:54:34.414Z"
   },
   {
    "duration": 44,
    "start_time": "2025-04-05T02:54:46.965Z"
   },
   {
    "duration": 12720,
    "start_time": "2025-04-05T02:55:01.030Z"
   },
   {
    "duration": 51,
    "start_time": "2025-04-05T02:55:13.752Z"
   },
   {
    "duration": 2230,
    "start_time": "2025-04-05T02:56:57.044Z"
   },
   {
    "duration": 1609,
    "start_time": "2025-04-05T02:56:59.276Z"
   },
   {
    "duration": 3,
    "start_time": "2025-04-05T02:57:00.886Z"
   },
   {
    "duration": 7633,
    "start_time": "2025-04-05T02:57:00.890Z"
   },
   {
    "duration": 197,
    "start_time": "2025-04-05T02:57:08.525Z"
   },
   {
    "duration": 41,
    "start_time": "2025-04-05T02:57:08.723Z"
   },
   {
    "duration": 151,
    "start_time": "2025-04-05T02:57:08.766Z"
   },
   {
    "duration": 42,
    "start_time": "2025-04-05T02:57:08.919Z"
   },
   {
    "duration": 1271,
    "start_time": "2025-04-05T02:57:08.963Z"
   },
   {
    "duration": 727,
    "start_time": "2025-04-05T02:57:10.237Z"
   },
   {
    "duration": 139,
    "start_time": "2025-04-05T02:57:10.966Z"
   },
   {
    "duration": 2045,
    "start_time": "2025-04-05T02:57:11.106Z"
   },
   {
    "duration": 224,
    "start_time": "2025-04-05T02:57:13.153Z"
   },
   {
    "duration": 71,
    "start_time": "2025-04-05T02:57:13.379Z"
   },
   {
    "duration": 0,
    "start_time": "2025-04-05T02:57:13.452Z"
   },
   {
    "duration": 0,
    "start_time": "2025-04-05T02:57:13.453Z"
   },
   {
    "duration": 0,
    "start_time": "2025-04-05T02:57:13.454Z"
   },
   {
    "duration": 0,
    "start_time": "2025-04-05T02:57:13.455Z"
   },
   {
    "duration": 0,
    "start_time": "2025-04-05T02:57:13.456Z"
   },
   {
    "duration": 0,
    "start_time": "2025-04-05T02:57:13.457Z"
   },
   {
    "duration": 0,
    "start_time": "2025-04-05T02:57:13.458Z"
   },
   {
    "duration": 0,
    "start_time": "2025-04-05T02:57:13.459Z"
   },
   {
    "duration": 0,
    "start_time": "2025-04-05T02:57:13.460Z"
   },
   {
    "duration": 0,
    "start_time": "2025-04-05T02:57:13.461Z"
   },
   {
    "duration": 0,
    "start_time": "2025-04-05T02:57:13.462Z"
   },
   {
    "duration": 0,
    "start_time": "2025-04-05T02:57:13.463Z"
   },
   {
    "duration": 0,
    "start_time": "2025-04-05T02:57:13.465Z"
   },
   {
    "duration": 0,
    "start_time": "2025-04-05T02:57:13.466Z"
   },
   {
    "duration": 0,
    "start_time": "2025-04-05T02:57:13.466Z"
   },
   {
    "duration": 0,
    "start_time": "2025-04-05T02:57:13.467Z"
   },
   {
    "duration": 0,
    "start_time": "2025-04-05T02:57:13.468Z"
   },
   {
    "duration": 0,
    "start_time": "2025-04-05T02:57:13.469Z"
   },
   {
    "duration": 0,
    "start_time": "2025-04-05T02:57:13.470Z"
   },
   {
    "duration": 0,
    "start_time": "2025-04-05T02:57:13.471Z"
   },
   {
    "duration": 0,
    "start_time": "2025-04-05T02:57:13.472Z"
   },
   {
    "duration": 0,
    "start_time": "2025-04-05T02:57:13.474Z"
   },
   {
    "duration": 0,
    "start_time": "2025-04-05T02:57:13.475Z"
   },
   {
    "duration": 0,
    "start_time": "2025-04-05T02:57:13.476Z"
   },
   {
    "duration": 0,
    "start_time": "2025-04-05T02:57:13.477Z"
   },
   {
    "duration": 0,
    "start_time": "2025-04-05T02:57:13.478Z"
   },
   {
    "duration": 0,
    "start_time": "2025-04-05T02:57:13.479Z"
   },
   {
    "duration": 0,
    "start_time": "2025-04-05T02:57:13.480Z"
   },
   {
    "duration": 0,
    "start_time": "2025-04-05T02:57:13.480Z"
   },
   {
    "duration": 1,
    "start_time": "2025-04-05T02:57:13.481Z"
   },
   {
    "duration": 0,
    "start_time": "2025-04-05T02:57:13.482Z"
   },
   {
    "duration": 0,
    "start_time": "2025-04-05T02:57:13.484Z"
   },
   {
    "duration": 0,
    "start_time": "2025-04-05T02:57:13.485Z"
   },
   {
    "duration": 0,
    "start_time": "2025-04-05T02:57:13.486Z"
   },
   {
    "duration": 0,
    "start_time": "2025-04-05T02:57:13.486Z"
   },
   {
    "duration": 0,
    "start_time": "2025-04-05T02:57:13.487Z"
   },
   {
    "duration": 0,
    "start_time": "2025-04-05T02:57:13.488Z"
   },
   {
    "duration": 11427,
    "start_time": "2025-04-05T02:57:24.593Z"
   },
   {
    "duration": 56,
    "start_time": "2025-04-05T02:57:36.022Z"
   },
   {
    "duration": 24,
    "start_time": "2025-04-05T02:57:36.080Z"
   },
   {
    "duration": 148,
    "start_time": "2025-04-05T02:57:36.107Z"
   },
   {
    "duration": 4,
    "start_time": "2025-04-05T02:57:36.257Z"
   },
   {
    "duration": 409,
    "start_time": "2025-04-05T02:57:36.263Z"
   },
   {
    "duration": 164,
    "start_time": "2025-04-05T02:57:36.674Z"
   },
   {
    "duration": 41,
    "start_time": "2025-04-05T02:57:36.840Z"
   },
   {
    "duration": 219,
    "start_time": "2025-04-05T02:57:36.882Z"
   },
   {
    "duration": 26,
    "start_time": "2025-04-05T02:57:37.104Z"
   },
   {
    "duration": 247,
    "start_time": "2025-04-05T02:57:37.132Z"
   },
   {
    "duration": 408,
    "start_time": "2025-04-05T02:57:37.380Z"
   },
   {
    "duration": 175,
    "start_time": "2025-04-05T02:57:37.790Z"
   },
   {
    "duration": 17,
    "start_time": "2025-04-05T02:57:37.966Z"
   },
   {
    "duration": 9068,
    "start_time": "2025-04-05T02:57:37.985Z"
   },
   {
    "duration": 2349,
    "start_time": "2025-04-05T03:00:10.792Z"
   },
   {
    "duration": 1947,
    "start_time": "2025-04-05T03:00:13.143Z"
   },
   {
    "duration": 3,
    "start_time": "2025-04-05T03:00:15.091Z"
   },
   {
    "duration": 8119,
    "start_time": "2025-04-05T03:00:15.095Z"
   },
   {
    "duration": 198,
    "start_time": "2025-04-05T03:00:23.215Z"
   },
   {
    "duration": 42,
    "start_time": "2025-04-05T03:00:23.414Z"
   },
   {
    "duration": 156,
    "start_time": "2025-04-05T03:00:23.458Z"
   },
   {
    "duration": 43,
    "start_time": "2025-04-05T03:00:23.616Z"
   },
   {
    "duration": 1329,
    "start_time": "2025-04-05T03:00:23.661Z"
   },
   {
    "duration": 770,
    "start_time": "2025-04-05T03:00:24.994Z"
   },
   {
    "duration": 146,
    "start_time": "2025-04-05T03:00:25.766Z"
   },
   {
    "duration": 1053,
    "start_time": "2025-04-05T03:00:25.913Z"
   },
   {
    "duration": 228,
    "start_time": "2025-04-05T03:00:26.968Z"
   },
   {
    "duration": 11853,
    "start_time": "2025-04-05T03:00:27.198Z"
   },
   {
    "duration": 50,
    "start_time": "2025-04-05T03:00:39.052Z"
   },
   {
    "duration": 24,
    "start_time": "2025-04-05T03:00:39.104Z"
   },
   {
    "duration": 100,
    "start_time": "2025-04-05T03:00:39.129Z"
   },
   {
    "duration": 3,
    "start_time": "2025-04-05T03:00:39.231Z"
   },
   {
    "duration": 432,
    "start_time": "2025-04-05T03:00:39.236Z"
   },
   {
    "duration": 182,
    "start_time": "2025-04-05T03:00:39.673Z"
   },
   {
    "duration": 37,
    "start_time": "2025-04-05T03:00:39.857Z"
   },
   {
    "duration": 224,
    "start_time": "2025-04-05T03:00:39.896Z"
   },
   {
    "duration": 188,
    "start_time": "2025-04-05T03:00:40.122Z"
   },
   {
    "duration": 367,
    "start_time": "2025-04-05T03:00:40.312Z"
   },
   {
    "duration": 162,
    "start_time": "2025-04-05T03:00:40.681Z"
   },
   {
    "duration": 15,
    "start_time": "2025-04-05T03:00:40.844Z"
   },
   {
    "duration": 8952,
    "start_time": "2025-04-05T03:00:40.861Z"
   },
   {
    "duration": 116,
    "start_time": "2025-04-05T03:00:49.817Z"
   },
   {
    "duration": 0,
    "start_time": "2025-04-05T03:00:49.934Z"
   },
   {
    "duration": 0,
    "start_time": "2025-04-05T03:00:49.936Z"
   },
   {
    "duration": 0,
    "start_time": "2025-04-05T03:00:49.937Z"
   },
   {
    "duration": 0,
    "start_time": "2025-04-05T03:00:49.938Z"
   },
   {
    "duration": 0,
    "start_time": "2025-04-05T03:00:49.938Z"
   },
   {
    "duration": 0,
    "start_time": "2025-04-05T03:00:49.940Z"
   },
   {
    "duration": 0,
    "start_time": "2025-04-05T03:00:49.941Z"
   },
   {
    "duration": 0,
    "start_time": "2025-04-05T03:00:49.942Z"
   },
   {
    "duration": 0,
    "start_time": "2025-04-05T03:00:49.943Z"
   },
   {
    "duration": 0,
    "start_time": "2025-04-05T03:00:49.944Z"
   },
   {
    "duration": 0,
    "start_time": "2025-04-05T03:00:49.945Z"
   },
   {
    "duration": 0,
    "start_time": "2025-04-05T03:00:49.947Z"
   },
   {
    "duration": 0,
    "start_time": "2025-04-05T03:00:49.947Z"
   },
   {
    "duration": 0,
    "start_time": "2025-04-05T03:00:49.972Z"
   },
   {
    "duration": 0,
    "start_time": "2025-04-05T03:00:49.973Z"
   },
   {
    "duration": 0,
    "start_time": "2025-04-05T03:00:49.974Z"
   },
   {
    "duration": 0,
    "start_time": "2025-04-05T03:00:49.975Z"
   },
   {
    "duration": 0,
    "start_time": "2025-04-05T03:00:49.977Z"
   },
   {
    "duration": 0,
    "start_time": "2025-04-05T03:00:49.978Z"
   },
   {
    "duration": 0,
    "start_time": "2025-04-05T03:00:49.978Z"
   },
   {
    "duration": 0,
    "start_time": "2025-04-05T03:00:49.979Z"
   },
   {
    "duration": 187,
    "start_time": "2025-04-05T03:03:30.006Z"
   },
   {
    "duration": 347,
    "start_time": "2025-04-05T03:03:30.972Z"
   },
   {
    "duration": 1345,
    "start_time": "2025-04-05T03:03:31.530Z"
   },
   {
    "duration": 0,
    "start_time": "2025-04-05T03:03:32.876Z"
   },
   {
    "duration": 0,
    "start_time": "2025-04-05T03:03:32.878Z"
   },
   {
    "duration": 2275,
    "start_time": "2025-04-05T03:03:45.040Z"
   },
   {
    "duration": 1467,
    "start_time": "2025-04-05T03:03:47.318Z"
   },
   {
    "duration": 3,
    "start_time": "2025-04-05T03:03:48.786Z"
   },
   {
    "duration": 8009,
    "start_time": "2025-04-05T03:03:48.791Z"
   },
   {
    "duration": 218,
    "start_time": "2025-04-05T03:03:56.802Z"
   },
   {
    "duration": 44,
    "start_time": "2025-04-05T03:03:57.021Z"
   },
   {
    "duration": 155,
    "start_time": "2025-04-05T03:03:57.067Z"
   },
   {
    "duration": 45,
    "start_time": "2025-04-05T03:03:57.224Z"
   },
   {
    "duration": 1251,
    "start_time": "2025-04-05T03:03:57.270Z"
   },
   {
    "duration": 743,
    "start_time": "2025-04-05T03:03:58.524Z"
   },
   {
    "duration": 132,
    "start_time": "2025-04-05T03:03:59.269Z"
   },
   {
    "duration": 4189,
    "start_time": "2025-04-05T03:03:59.403Z"
   },
   {
    "duration": 222,
    "start_time": "2025-04-05T03:04:03.594Z"
   },
   {
    "duration": 12814,
    "start_time": "2025-04-05T03:04:03.818Z"
   },
   {
    "duration": 49,
    "start_time": "2025-04-05T03:04:16.634Z"
   },
   {
    "duration": 22,
    "start_time": "2025-04-05T03:04:16.684Z"
   },
   {
    "duration": 100,
    "start_time": "2025-04-05T03:04:16.707Z"
   },
   {
    "duration": 4,
    "start_time": "2025-04-05T03:04:16.808Z"
   },
   {
    "duration": 369,
    "start_time": "2025-04-05T03:04:16.813Z"
   },
   {
    "duration": 147,
    "start_time": "2025-04-05T03:04:17.184Z"
   },
   {
    "duration": 26,
    "start_time": "2025-04-05T03:04:17.333Z"
   },
   {
    "duration": 179,
    "start_time": "2025-04-05T03:04:17.361Z"
   },
   {
    "duration": 169,
    "start_time": "2025-04-05T03:04:17.542Z"
   },
   {
    "duration": 327,
    "start_time": "2025-04-05T03:04:17.713Z"
   },
   {
    "duration": 156,
    "start_time": "2025-04-05T03:04:18.042Z"
   },
   {
    "duration": 15,
    "start_time": "2025-04-05T03:04:18.199Z"
   },
   {
    "duration": 8374,
    "start_time": "2025-04-05T03:04:18.215Z"
   },
   {
    "duration": 116,
    "start_time": "2025-04-05T03:04:26.593Z"
   },
   {
    "duration": 0,
    "start_time": "2025-04-05T03:04:26.710Z"
   },
   {
    "duration": 0,
    "start_time": "2025-04-05T03:04:26.712Z"
   },
   {
    "duration": 0,
    "start_time": "2025-04-05T03:04:26.713Z"
   },
   {
    "duration": 0,
    "start_time": "2025-04-05T03:04:26.713Z"
   },
   {
    "duration": 1,
    "start_time": "2025-04-05T03:04:26.714Z"
   },
   {
    "duration": 0,
    "start_time": "2025-04-05T03:04:26.716Z"
   },
   {
    "duration": 0,
    "start_time": "2025-04-05T03:04:26.717Z"
   },
   {
    "duration": 0,
    "start_time": "2025-04-05T03:04:26.718Z"
   },
   {
    "duration": 0,
    "start_time": "2025-04-05T03:04:26.719Z"
   },
   {
    "duration": 0,
    "start_time": "2025-04-05T03:04:26.720Z"
   },
   {
    "duration": 0,
    "start_time": "2025-04-05T03:04:26.721Z"
   },
   {
    "duration": 0,
    "start_time": "2025-04-05T03:04:26.722Z"
   },
   {
    "duration": 0,
    "start_time": "2025-04-05T03:04:26.723Z"
   },
   {
    "duration": 0,
    "start_time": "2025-04-05T03:04:26.724Z"
   },
   {
    "duration": 0,
    "start_time": "2025-04-05T03:04:26.725Z"
   },
   {
    "duration": 0,
    "start_time": "2025-04-05T03:04:26.726Z"
   },
   {
    "duration": 0,
    "start_time": "2025-04-05T03:04:26.727Z"
   },
   {
    "duration": 0,
    "start_time": "2025-04-05T03:04:26.728Z"
   },
   {
    "duration": 0,
    "start_time": "2025-04-05T03:04:26.729Z"
   },
   {
    "duration": 0,
    "start_time": "2025-04-05T03:04:26.730Z"
   },
   {
    "duration": 0,
    "start_time": "2025-04-05T03:04:26.731Z"
   },
   {
    "duration": 2337,
    "start_time": "2025-04-05T03:05:11.060Z"
   },
   {
    "duration": 1891,
    "start_time": "2025-04-05T03:05:13.399Z"
   },
   {
    "duration": 3,
    "start_time": "2025-04-05T03:05:15.292Z"
   },
   {
    "duration": 7908,
    "start_time": "2025-04-05T03:05:15.296Z"
   },
   {
    "duration": 197,
    "start_time": "2025-04-05T03:05:23.206Z"
   },
   {
    "duration": 41,
    "start_time": "2025-04-05T03:05:23.404Z"
   },
   {
    "duration": 154,
    "start_time": "2025-04-05T03:05:23.446Z"
   },
   {
    "duration": 43,
    "start_time": "2025-04-05T03:05:23.601Z"
   },
   {
    "duration": 1306,
    "start_time": "2025-04-05T03:05:23.646Z"
   },
   {
    "duration": 767,
    "start_time": "2025-04-05T03:05:24.956Z"
   },
   {
    "duration": 160,
    "start_time": "2025-04-05T03:05:25.725Z"
   },
   {
    "duration": 942,
    "start_time": "2025-04-05T03:05:25.887Z"
   },
   {
    "duration": 216,
    "start_time": "2025-04-05T03:05:26.831Z"
   },
   {
    "duration": 12855,
    "start_time": "2025-04-05T03:05:27.049Z"
   },
   {
    "duration": 42,
    "start_time": "2025-04-05T03:05:39.906Z"
   },
   {
    "duration": 35,
    "start_time": "2025-04-05T03:05:39.950Z"
   },
   {
    "duration": 94,
    "start_time": "2025-04-05T03:05:39.987Z"
   },
   {
    "duration": 4,
    "start_time": "2025-04-05T03:05:40.083Z"
   },
   {
    "duration": 378,
    "start_time": "2025-04-05T03:05:40.088Z"
   },
   {
    "duration": 171,
    "start_time": "2025-04-05T03:05:40.473Z"
   },
   {
    "duration": 39,
    "start_time": "2025-04-05T03:05:40.646Z"
   },
   {
    "duration": 197,
    "start_time": "2025-04-05T03:05:40.687Z"
   },
   {
    "duration": 176,
    "start_time": "2025-04-05T03:05:40.886Z"
   },
   {
    "duration": 380,
    "start_time": "2025-04-05T03:05:41.064Z"
   },
   {
    "duration": 166,
    "start_time": "2025-04-05T03:05:41.446Z"
   },
   {
    "duration": 14,
    "start_time": "2025-04-05T03:05:41.614Z"
   },
   {
    "duration": 8611,
    "start_time": "2025-04-05T03:05:41.630Z"
   },
   {
    "duration": 114,
    "start_time": "2025-04-05T03:05:50.245Z"
   },
   {
    "duration": 0,
    "start_time": "2025-04-05T03:05:50.361Z"
   },
   {
    "duration": 0,
    "start_time": "2025-04-05T03:05:50.362Z"
   },
   {
    "duration": 0,
    "start_time": "2025-04-05T03:05:50.363Z"
   },
   {
    "duration": 0,
    "start_time": "2025-04-05T03:05:50.364Z"
   },
   {
    "duration": 0,
    "start_time": "2025-04-05T03:05:50.372Z"
   },
   {
    "duration": 0,
    "start_time": "2025-04-05T03:05:50.373Z"
   },
   {
    "duration": 0,
    "start_time": "2025-04-05T03:05:50.375Z"
   },
   {
    "duration": 0,
    "start_time": "2025-04-05T03:05:50.376Z"
   },
   {
    "duration": 0,
    "start_time": "2025-04-05T03:05:50.377Z"
   },
   {
    "duration": 0,
    "start_time": "2025-04-05T03:05:50.378Z"
   },
   {
    "duration": 0,
    "start_time": "2025-04-05T03:05:50.380Z"
   },
   {
    "duration": 0,
    "start_time": "2025-04-05T03:05:50.381Z"
   },
   {
    "duration": 0,
    "start_time": "2025-04-05T03:05:50.382Z"
   },
   {
    "duration": 1,
    "start_time": "2025-04-05T03:05:50.382Z"
   },
   {
    "duration": 0,
    "start_time": "2025-04-05T03:05:50.383Z"
   },
   {
    "duration": 0,
    "start_time": "2025-04-05T03:05:50.385Z"
   },
   {
    "duration": 0,
    "start_time": "2025-04-05T03:05:50.386Z"
   },
   {
    "duration": 0,
    "start_time": "2025-04-05T03:05:50.387Z"
   },
   {
    "duration": 0,
    "start_time": "2025-04-05T03:05:50.387Z"
   },
   {
    "duration": 0,
    "start_time": "2025-04-05T03:05:50.388Z"
   },
   {
    "duration": 0,
    "start_time": "2025-04-05T03:05:50.389Z"
   },
   {
    "duration": 671,
    "start_time": "2025-04-05T03:09:00.834Z"
   },
   {
    "duration": 0,
    "start_time": "2025-04-05T03:09:01.509Z"
   },
   {
    "duration": 0,
    "start_time": "2025-04-05T03:09:01.510Z"
   },
   {
    "duration": 0,
    "start_time": "2025-04-05T03:09:01.512Z"
   },
   {
    "duration": 0,
    "start_time": "2025-04-05T03:09:01.513Z"
   },
   {
    "duration": 0,
    "start_time": "2025-04-05T03:09:01.514Z"
   },
   {
    "duration": 0,
    "start_time": "2025-04-05T03:09:01.573Z"
   },
   {
    "duration": 0,
    "start_time": "2025-04-05T03:09:01.574Z"
   },
   {
    "duration": 0,
    "start_time": "2025-04-05T03:09:01.575Z"
   },
   {
    "duration": 0,
    "start_time": "2025-04-05T03:09:01.576Z"
   },
   {
    "duration": 0,
    "start_time": "2025-04-05T03:09:01.577Z"
   },
   {
    "duration": 0,
    "start_time": "2025-04-05T03:09:01.579Z"
   },
   {
    "duration": 0,
    "start_time": "2025-04-05T03:09:01.580Z"
   },
   {
    "duration": 0,
    "start_time": "2025-04-05T03:09:01.581Z"
   },
   {
    "duration": 0,
    "start_time": "2025-04-05T03:09:01.583Z"
   },
   {
    "duration": 0,
    "start_time": "2025-04-05T03:09:01.584Z"
   },
   {
    "duration": 0,
    "start_time": "2025-04-05T03:09:01.586Z"
   },
   {
    "duration": 0,
    "start_time": "2025-04-05T03:09:01.587Z"
   },
   {
    "duration": 0,
    "start_time": "2025-04-05T03:09:01.589Z"
   },
   {
    "duration": 0,
    "start_time": "2025-04-05T03:09:01.590Z"
   },
   {
    "duration": 0,
    "start_time": "2025-04-05T03:09:01.592Z"
   },
   {
    "duration": 0,
    "start_time": "2025-04-05T03:09:01.593Z"
   },
   {
    "duration": 0,
    "start_time": "2025-04-05T03:09:01.594Z"
   },
   {
    "duration": 0,
    "start_time": "2025-04-05T03:09:01.596Z"
   },
   {
    "duration": 0,
    "start_time": "2025-04-05T03:09:01.598Z"
   },
   {
    "duration": 0,
    "start_time": "2025-04-05T03:09:01.600Z"
   },
   {
    "duration": 0,
    "start_time": "2025-04-05T03:09:01.601Z"
   },
   {
    "duration": 0,
    "start_time": "2025-04-05T03:09:01.673Z"
   },
   {
    "duration": 0,
    "start_time": "2025-04-05T03:09:01.675Z"
   },
   {
    "duration": 0,
    "start_time": "2025-04-05T03:09:01.677Z"
   },
   {
    "duration": 0,
    "start_time": "2025-04-05T03:09:01.678Z"
   },
   {
    "duration": 0,
    "start_time": "2025-04-05T03:09:01.679Z"
   },
   {
    "duration": 0,
    "start_time": "2025-04-05T03:09:01.681Z"
   },
   {
    "duration": 0,
    "start_time": "2025-04-05T03:09:01.683Z"
   },
   {
    "duration": 0,
    "start_time": "2025-04-05T03:09:01.684Z"
   },
   {
    "duration": 0,
    "start_time": "2025-04-05T03:09:01.685Z"
   },
   {
    "duration": 0,
    "start_time": "2025-04-05T03:09:01.687Z"
   },
   {
    "duration": 0,
    "start_time": "2025-04-05T03:09:01.688Z"
   },
   {
    "duration": 0,
    "start_time": "2025-04-05T03:09:01.689Z"
   },
   {
    "duration": 0,
    "start_time": "2025-04-05T03:09:01.691Z"
   },
   {
    "duration": 0,
    "start_time": "2025-04-05T03:09:01.692Z"
   },
   {
    "duration": 0,
    "start_time": "2025-04-05T03:09:01.693Z"
   },
   {
    "duration": 0,
    "start_time": "2025-04-05T03:09:01.694Z"
   },
   {
    "duration": 0,
    "start_time": "2025-04-05T03:09:01.695Z"
   },
   {
    "duration": 0,
    "start_time": "2025-04-05T03:09:01.696Z"
   },
   {
    "duration": 0,
    "start_time": "2025-04-05T03:09:01.697Z"
   },
   {
    "duration": 0,
    "start_time": "2025-04-05T03:09:01.698Z"
   },
   {
    "duration": 0,
    "start_time": "2025-04-05T03:09:01.699Z"
   },
   {
    "duration": 0,
    "start_time": "2025-04-05T03:09:01.772Z"
   },
   {
    "duration": 2328,
    "start_time": "2025-04-05T03:09:21.511Z"
   },
   {
    "duration": 1557,
    "start_time": "2025-04-05T03:09:23.841Z"
   },
   {
    "duration": 2,
    "start_time": "2025-04-05T03:09:25.400Z"
   },
   {
    "duration": 8145,
    "start_time": "2025-04-05T03:09:25.404Z"
   },
   {
    "duration": 213,
    "start_time": "2025-04-05T03:09:33.550Z"
   },
   {
    "duration": 43,
    "start_time": "2025-04-05T03:09:33.765Z"
   },
   {
    "duration": 162,
    "start_time": "2025-04-05T03:09:33.809Z"
   },
   {
    "duration": 45,
    "start_time": "2025-04-05T03:09:33.972Z"
   },
   {
    "duration": 1261,
    "start_time": "2025-04-05T03:09:34.019Z"
   },
   {
    "duration": 771,
    "start_time": "2025-04-05T03:09:35.282Z"
   },
   {
    "duration": 135,
    "start_time": "2025-04-05T03:09:36.054Z"
   },
   {
    "duration": 2271,
    "start_time": "2025-04-05T03:09:36.191Z"
   },
   {
    "duration": 213,
    "start_time": "2025-04-05T03:09:38.464Z"
   },
   {
    "duration": 11578,
    "start_time": "2025-04-05T03:09:38.679Z"
   },
   {
    "duration": 46,
    "start_time": "2025-04-05T03:09:50.259Z"
   },
   {
    "duration": 21,
    "start_time": "2025-04-05T03:09:50.307Z"
   },
   {
    "duration": 99,
    "start_time": "2025-04-05T03:09:50.330Z"
   },
   {
    "duration": 4,
    "start_time": "2025-04-05T03:09:50.431Z"
   },
   {
    "duration": 391,
    "start_time": "2025-04-05T03:09:50.437Z"
   },
   {
    "duration": 168,
    "start_time": "2025-04-05T03:09:50.829Z"
   },
   {
    "duration": 29,
    "start_time": "2025-04-05T03:09:50.999Z"
   },
   {
    "duration": 226,
    "start_time": "2025-04-05T03:09:51.030Z"
   },
   {
    "duration": 182,
    "start_time": "2025-04-05T03:09:51.257Z"
   },
   {
    "duration": 342,
    "start_time": "2025-04-05T03:09:51.440Z"
   },
   {
    "duration": 159,
    "start_time": "2025-04-05T03:09:51.784Z"
   },
   {
    "duration": 15,
    "start_time": "2025-04-05T03:09:51.945Z"
   },
   {
    "duration": 8588,
    "start_time": "2025-04-05T03:09:51.973Z"
   },
   {
    "duration": 112,
    "start_time": "2025-04-05T03:10:00.565Z"
   },
   {
    "duration": 0,
    "start_time": "2025-04-05T03:10:00.678Z"
   },
   {
    "duration": 0,
    "start_time": "2025-04-05T03:10:00.679Z"
   },
   {
    "duration": 0,
    "start_time": "2025-04-05T03:10:00.680Z"
   },
   {
    "duration": 0,
    "start_time": "2025-04-05T03:10:00.681Z"
   },
   {
    "duration": 0,
    "start_time": "2025-04-05T03:10:00.682Z"
   },
   {
    "duration": 0,
    "start_time": "2025-04-05T03:10:00.683Z"
   },
   {
    "duration": 0,
    "start_time": "2025-04-05T03:10:00.684Z"
   },
   {
    "duration": 0,
    "start_time": "2025-04-05T03:10:00.685Z"
   },
   {
    "duration": 0,
    "start_time": "2025-04-05T03:10:00.686Z"
   },
   {
    "duration": 0,
    "start_time": "2025-04-05T03:10:00.687Z"
   },
   {
    "duration": 0,
    "start_time": "2025-04-05T03:10:00.688Z"
   },
   {
    "duration": 0,
    "start_time": "2025-04-05T03:10:00.689Z"
   },
   {
    "duration": 0,
    "start_time": "2025-04-05T03:10:00.690Z"
   },
   {
    "duration": 0,
    "start_time": "2025-04-05T03:10:00.691Z"
   },
   {
    "duration": 0,
    "start_time": "2025-04-05T03:10:00.692Z"
   },
   {
    "duration": 0,
    "start_time": "2025-04-05T03:10:00.693Z"
   },
   {
    "duration": 0,
    "start_time": "2025-04-05T03:10:00.694Z"
   },
   {
    "duration": 0,
    "start_time": "2025-04-05T03:10:00.695Z"
   },
   {
    "duration": 0,
    "start_time": "2025-04-05T03:10:00.696Z"
   },
   {
    "duration": 0,
    "start_time": "2025-04-05T03:10:00.696Z"
   },
   {
    "duration": 0,
    "start_time": "2025-04-05T03:10:00.697Z"
   },
   {
    "duration": 83,
    "start_time": "2025-04-05T03:10:56.044Z"
   },
   {
    "duration": 39,
    "start_time": "2025-04-05T03:10:56.270Z"
   },
   {
    "duration": 335,
    "start_time": "2025-04-05T03:12:10.823Z"
   },
   {
    "duration": 69,
    "start_time": "2025-04-05T03:15:34.845Z"
   },
   {
    "duration": 12,
    "start_time": "2025-04-05T03:15:45.985Z"
   },
   {
    "duration": 171,
    "start_time": "2025-04-05T03:15:47.205Z"
   },
   {
    "duration": 13,
    "start_time": "2025-04-05T03:16:11.716Z"
   },
   {
    "duration": 14,
    "start_time": "2025-04-05T03:16:38.037Z"
   },
   {
    "duration": 2322,
    "start_time": "2025-04-05T03:17:25.214Z"
   },
   {
    "duration": 1534,
    "start_time": "2025-04-05T03:17:27.538Z"
   },
   {
    "duration": 3,
    "start_time": "2025-04-05T03:17:29.073Z"
   },
   {
    "duration": 8190,
    "start_time": "2025-04-05T03:17:29.078Z"
   },
   {
    "duration": 212,
    "start_time": "2025-04-05T03:17:37.269Z"
   },
   {
    "duration": 44,
    "start_time": "2025-04-05T03:17:37.482Z"
   },
   {
    "duration": 156,
    "start_time": "2025-04-05T03:17:37.527Z"
   },
   {
    "duration": 45,
    "start_time": "2025-04-05T03:17:37.685Z"
   },
   {
    "duration": 1311,
    "start_time": "2025-04-05T03:17:37.732Z"
   },
   {
    "duration": 742,
    "start_time": "2025-04-05T03:17:39.045Z"
   },
   {
    "duration": 139,
    "start_time": "2025-04-05T03:17:39.789Z"
   },
   {
    "duration": 1517,
    "start_time": "2025-04-05T03:17:39.930Z"
   },
   {
    "duration": 221,
    "start_time": "2025-04-05T03:17:41.449Z"
   },
   {
    "duration": 12045,
    "start_time": "2025-04-05T03:17:41.672Z"
   },
   {
    "duration": 56,
    "start_time": "2025-04-05T03:17:53.718Z"
   },
   {
    "duration": 23,
    "start_time": "2025-04-05T03:17:53.775Z"
   },
   {
    "duration": 92,
    "start_time": "2025-04-05T03:17:53.800Z"
   },
   {
    "duration": 4,
    "start_time": "2025-04-05T03:17:53.893Z"
   },
   {
    "duration": 404,
    "start_time": "2025-04-05T03:17:53.898Z"
   },
   {
    "duration": 179,
    "start_time": "2025-04-05T03:17:54.303Z"
   },
   {
    "duration": 32,
    "start_time": "2025-04-05T03:17:54.484Z"
   },
   {
    "duration": 201,
    "start_time": "2025-04-05T03:17:54.518Z"
   },
   {
    "duration": 193,
    "start_time": "2025-04-05T03:17:54.721Z"
   },
   {
    "duration": 369,
    "start_time": "2025-04-05T03:17:54.916Z"
   },
   {
    "duration": 160,
    "start_time": "2025-04-05T03:17:55.286Z"
   },
   {
    "duration": 14,
    "start_time": "2025-04-05T03:17:55.448Z"
   },
   {
    "duration": 8849,
    "start_time": "2025-04-05T03:17:55.464Z"
   },
   {
    "duration": 14,
    "start_time": "2025-04-05T03:18:04.317Z"
   },
   {
    "duration": 183,
    "start_time": "2025-04-05T03:18:04.332Z"
   },
   {
    "duration": 95,
    "start_time": "2025-04-05T03:18:04.517Z"
   },
   {
    "duration": 20,
    "start_time": "2025-04-05T03:18:04.614Z"
   },
   {
    "duration": 243,
    "start_time": "2025-04-05T03:18:04.636Z"
   },
   {
    "duration": 17,
    "start_time": "2025-04-05T03:18:04.880Z"
   },
   {
    "duration": 2206,
    "start_time": "2025-04-05T03:18:04.898Z"
   },
   {
    "duration": 47,
    "start_time": "2025-04-05T03:18:07.106Z"
   },
   {
    "duration": 28,
    "start_time": "2025-04-05T03:18:07.154Z"
   },
   {
    "duration": 3,
    "start_time": "2025-04-05T03:18:07.183Z"
   },
   {
    "duration": 5,
    "start_time": "2025-04-05T03:18:07.188Z"
   },
   {
    "duration": 122,
    "start_time": "2025-04-05T03:18:07.194Z"
   },
   {
    "duration": 3,
    "start_time": "2025-04-05T03:18:07.318Z"
   },
   {
    "duration": 9566,
    "start_time": "2025-04-05T03:18:07.323Z"
   },
   {
    "duration": 0,
    "start_time": "2025-04-05T03:18:16.891Z"
   },
   {
    "duration": 0,
    "start_time": "2025-04-05T03:18:16.892Z"
   },
   {
    "duration": 0,
    "start_time": "2025-04-05T03:18:16.893Z"
   },
   {
    "duration": 0,
    "start_time": "2025-04-05T03:18:16.894Z"
   },
   {
    "duration": 0,
    "start_time": "2025-04-05T03:18:16.894Z"
   },
   {
    "duration": 0,
    "start_time": "2025-04-05T03:18:16.895Z"
   },
   {
    "duration": 0,
    "start_time": "2025-04-05T03:18:16.896Z"
   },
   {
    "duration": 29,
    "start_time": "2025-04-05T03:25:12.372Z"
   },
   {
    "duration": 432,
    "start_time": "2025-04-05T03:25:12.713Z"
   },
   {
    "duration": 400,
    "start_time": "2025-04-05T03:25:19.663Z"
   },
   {
    "duration": 412,
    "start_time": "2025-04-05T03:25:40.627Z"
   },
   {
    "duration": 599,
    "start_time": "2025-04-05T03:29:44.585Z"
   },
   {
    "duration": 431,
    "start_time": "2025-04-05T03:29:50.927Z"
   },
   {
    "duration": 19,
    "start_time": "2025-04-05T03:32:36.965Z"
   },
   {
    "duration": 2336,
    "start_time": "2025-04-05T03:32:42.830Z"
   },
   {
    "duration": 71,
    "start_time": "2025-04-05T03:34:58.708Z"
   },
   {
    "duration": 3,
    "start_time": "2025-04-05T03:36:33.315Z"
   },
   {
    "duration": 68,
    "start_time": "2025-04-05T03:36:33.646Z"
   },
   {
    "duration": 74,
    "start_time": "2025-04-05T03:37:01.427Z"
   },
   {
    "duration": 6,
    "start_time": "2025-04-05T03:37:13.364Z"
   },
   {
    "duration": 1274,
    "start_time": "2025-04-05T03:38:31.874Z"
   },
   {
    "duration": 6,
    "start_time": "2025-04-05T03:38:59.670Z"
   },
   {
    "duration": 10,
    "start_time": "2025-04-05T03:39:48.807Z"
   },
   {
    "duration": 75,
    "start_time": "2025-04-05T03:42:36.596Z"
   },
   {
    "duration": 1129,
    "start_time": "2025-04-05T03:42:40.939Z"
   },
   {
    "duration": 10,
    "start_time": "2025-04-05T03:45:20.726Z"
   },
   {
    "duration": 35,
    "start_time": "2025-04-05T03:45:54.540Z"
   },
   {
    "duration": 5,
    "start_time": "2025-04-05T03:45:58.454Z"
   },
   {
    "duration": 40,
    "start_time": "2025-04-05T03:46:08.475Z"
   },
   {
    "duration": 33,
    "start_time": "2025-04-05T03:46:17.734Z"
   },
   {
    "duration": 8,
    "start_time": "2025-04-05T03:46:18.947Z"
   },
   {
    "duration": 1022,
    "start_time": "2025-04-05T03:46:49.727Z"
   },
   {
    "duration": 1317,
    "start_time": "2025-04-05T03:50:36.730Z"
   },
   {
    "duration": 41,
    "start_time": "2025-04-05T03:50:40.976Z"
   },
   {
    "duration": 1058,
    "start_time": "2025-04-05T03:50:41.217Z"
   },
   {
    "duration": 1021,
    "start_time": "2025-04-05T03:51:22.410Z"
   },
   {
    "duration": 1169,
    "start_time": "2025-04-05T03:51:31.189Z"
   },
   {
    "duration": 1053,
    "start_time": "2025-04-05T03:51:55.722Z"
   },
   {
    "duration": 1020,
    "start_time": "2025-04-05T03:52:10.520Z"
   },
   {
    "duration": 1040,
    "start_time": "2025-04-05T03:53:05.668Z"
   },
   {
    "duration": 12,
    "start_time": "2025-04-05T03:53:30.017Z"
   },
   {
    "duration": 1167,
    "start_time": "2025-04-05T03:53:30.333Z"
   },
   {
    "duration": 450,
    "start_time": "2025-04-05T03:53:45.156Z"
   },
   {
    "duration": 40,
    "start_time": "2025-04-05T03:53:49.115Z"
   },
   {
    "duration": 1015,
    "start_time": "2025-04-05T03:53:51.219Z"
   },
   {
    "duration": 433,
    "start_time": "2025-04-05T03:54:06.971Z"
   },
   {
    "duration": 40,
    "start_time": "2025-04-05T03:54:10.641Z"
   },
   {
    "duration": 1296,
    "start_time": "2025-04-05T03:54:11.956Z"
   },
   {
    "duration": 19,
    "start_time": "2025-04-05T03:54:55.684Z"
   },
   {
    "duration": 39,
    "start_time": "2025-04-05T03:54:56.937Z"
   },
   {
    "duration": 8,
    "start_time": "2025-04-05T03:54:57.216Z"
   },
   {
    "duration": 9,
    "start_time": "2025-04-05T03:55:12.458Z"
   },
   {
    "duration": 19,
    "start_time": "2025-04-05T03:55:24.548Z"
   },
   {
    "duration": 38,
    "start_time": "2025-04-05T03:55:24.738Z"
   },
   {
    "duration": 8,
    "start_time": "2025-04-05T03:55:26.215Z"
   },
   {
    "duration": 8,
    "start_time": "2025-04-05T03:55:26.748Z"
   },
   {
    "duration": 13,
    "start_time": "2025-04-05T03:56:04.818Z"
   },
   {
    "duration": 19,
    "start_time": "2025-04-05T03:56:10.346Z"
   },
   {
    "duration": 46,
    "start_time": "2025-04-05T03:56:10.537Z"
   },
   {
    "duration": 10,
    "start_time": "2025-04-05T03:56:12.067Z"
   },
   {
    "duration": 16,
    "start_time": "2025-04-05T03:56:42.108Z"
   },
   {
    "duration": 20,
    "start_time": "2025-04-05T03:56:44.098Z"
   },
   {
    "duration": 56,
    "start_time": "2025-04-05T03:56:44.393Z"
   },
   {
    "duration": 10,
    "start_time": "2025-04-05T03:56:45.487Z"
   },
   {
    "duration": 10,
    "start_time": "2025-04-05T03:56:45.928Z"
   },
   {
    "duration": 10,
    "start_time": "2025-04-05T03:56:51.910Z"
   },
   {
    "duration": 9,
    "start_time": "2025-04-05T03:56:52.530Z"
   },
   {
    "duration": 1517,
    "start_time": "2025-04-05T03:56:56.313Z"
   },
   {
    "duration": 15,
    "start_time": "2025-04-05T03:57:35.575Z"
   },
   {
    "duration": 21,
    "start_time": "2025-04-05T03:57:38.367Z"
   },
   {
    "duration": 39,
    "start_time": "2025-04-05T03:57:38.816Z"
   },
   {
    "duration": 9,
    "start_time": "2025-04-05T03:57:39.724Z"
   },
   {
    "duration": 8,
    "start_time": "2025-04-05T03:57:40.326Z"
   },
   {
    "duration": 1034,
    "start_time": "2025-04-05T03:57:47.898Z"
   },
   {
    "duration": 1162,
    "start_time": "2025-04-05T04:05:35.178Z"
   },
   {
    "duration": 1357,
    "start_time": "2025-04-05T04:06:52.618Z"
   },
   {
    "duration": 1288,
    "start_time": "2025-04-05T04:07:11.808Z"
   },
   {
    "duration": 1042,
    "start_time": "2025-04-05T04:09:12.289Z"
   },
   {
    "duration": 240,
    "start_time": "2025-04-05T04:09:38.790Z"
   },
   {
    "duration": 250,
    "start_time": "2025-04-05T04:09:59.408Z"
   },
   {
    "duration": 1208,
    "start_time": "2025-04-05T04:10:06.207Z"
   },
   {
    "duration": 1394,
    "start_time": "2025-04-05T04:11:44.996Z"
   },
   {
    "duration": 1247,
    "start_time": "2025-04-05T04:12:00.987Z"
   },
   {
    "duration": 1254,
    "start_time": "2025-04-05T04:12:22.248Z"
   },
   {
    "duration": 19,
    "start_time": "2025-04-05T04:13:33.487Z"
   },
   {
    "duration": 10,
    "start_time": "2025-04-05T04:13:59.867Z"
   },
   {
    "duration": 78,
    "start_time": "2025-04-05T04:14:39.188Z"
   },
   {
    "duration": 28,
    "start_time": "2025-04-05T04:14:43.137Z"
   },
   {
    "duration": 11,
    "start_time": "2025-04-05T04:14:48.588Z"
   },
   {
    "duration": 31,
    "start_time": "2025-04-05T04:15:18.070Z"
   },
   {
    "duration": 28,
    "start_time": "2025-04-05T04:15:41.170Z"
   },
   {
    "duration": 27,
    "start_time": "2025-04-05T04:15:54.008Z"
   },
   {
    "duration": 24,
    "start_time": "2025-04-05T04:15:57.404Z"
   },
   {
    "duration": 28,
    "start_time": "2025-04-05T04:15:57.591Z"
   },
   {
    "duration": 27,
    "start_time": "2025-04-05T04:16:14.092Z"
   },
   {
    "duration": 26,
    "start_time": "2025-04-05T04:16:20.899Z"
   },
   {
    "duration": 26,
    "start_time": "2025-04-05T04:16:31.570Z"
   },
   {
    "duration": 3221,
    "start_time": "2025-04-05T07:06:42.856Z"
   },
   {
    "duration": 1733,
    "start_time": "2025-04-05T07:06:46.079Z"
   },
   {
    "duration": 2,
    "start_time": "2025-04-05T07:06:47.814Z"
   },
   {
    "duration": 8641,
    "start_time": "2025-04-05T07:06:47.818Z"
   },
   {
    "duration": 219,
    "start_time": "2025-04-05T07:06:56.461Z"
   },
   {
    "duration": 43,
    "start_time": "2025-04-05T07:06:56.682Z"
   },
   {
    "duration": 167,
    "start_time": "2025-04-05T07:06:56.727Z"
   },
   {
    "duration": 46,
    "start_time": "2025-04-05T07:06:56.895Z"
   },
   {
    "duration": 1296,
    "start_time": "2025-04-05T07:06:56.943Z"
   },
   {
    "duration": 776,
    "start_time": "2025-04-05T07:06:58.242Z"
   },
   {
    "duration": 148,
    "start_time": "2025-04-05T07:06:59.020Z"
   },
   {
    "duration": 1458,
    "start_time": "2025-04-05T07:06:59.172Z"
   },
   {
    "duration": 226,
    "start_time": "2025-04-05T07:07:00.632Z"
   },
   {
    "duration": 12496,
    "start_time": "2025-04-05T07:07:00.860Z"
   },
   {
    "duration": 49,
    "start_time": "2025-04-05T07:07:13.357Z"
   },
   {
    "duration": 22,
    "start_time": "2025-04-05T07:07:13.408Z"
   },
   {
    "duration": 97,
    "start_time": "2025-04-05T07:07:13.432Z"
   },
   {
    "duration": 3,
    "start_time": "2025-04-05T07:07:13.531Z"
   },
   {
    "duration": 360,
    "start_time": "2025-04-05T07:07:13.536Z"
   },
   {
    "duration": 149,
    "start_time": "2025-04-05T07:07:13.897Z"
   },
   {
    "duration": 41,
    "start_time": "2025-04-05T07:07:14.048Z"
   },
   {
    "duration": 183,
    "start_time": "2025-04-05T07:07:14.090Z"
   },
   {
    "duration": 177,
    "start_time": "2025-04-05T07:07:14.274Z"
   },
   {
    "duration": 356,
    "start_time": "2025-04-05T07:07:14.453Z"
   },
   {
    "duration": 147,
    "start_time": "2025-04-05T07:07:14.811Z"
   },
   {
    "duration": 21,
    "start_time": "2025-04-05T07:07:14.959Z"
   },
   {
    "duration": 8271,
    "start_time": "2025-04-05T07:07:14.982Z"
   },
   {
    "duration": 13,
    "start_time": "2025-04-05T07:07:23.257Z"
   },
   {
    "duration": 169,
    "start_time": "2025-04-05T07:07:23.271Z"
   },
   {
    "duration": 103,
    "start_time": "2025-04-05T07:07:23.441Z"
   },
   {
    "duration": 449,
    "start_time": "2025-04-05T07:07:23.545Z"
   },
   {
    "duration": 1125,
    "start_time": "2025-04-05T07:07:23.996Z"
   },
   {
    "duration": 1309,
    "start_time": "2025-04-05T07:07:25.122Z"
   },
   {
    "duration": 60,
    "start_time": "2025-04-05T07:07:26.433Z"
   },
   {
    "duration": 10,
    "start_time": "2025-04-05T07:07:26.494Z"
   },
   {
    "duration": 6,
    "start_time": "2025-04-05T07:07:26.505Z"
   },
   {
    "duration": 6,
    "start_time": "2025-04-05T07:07:26.512Z"
   },
   {
    "duration": 5,
    "start_time": "2025-04-05T07:07:26.519Z"
   },
   {
    "duration": 4,
    "start_time": "2025-04-05T07:07:26.525Z"
   },
   {
    "duration": 9824,
    "start_time": "2025-04-05T07:07:26.530Z"
   },
   {
    "duration": 0,
    "start_time": "2025-04-05T07:07:36.356Z"
   },
   {
    "duration": 0,
    "start_time": "2025-04-05T07:07:36.358Z"
   },
   {
    "duration": 0,
    "start_time": "2025-04-05T07:07:36.359Z"
   },
   {
    "duration": 0,
    "start_time": "2025-04-05T07:07:36.360Z"
   },
   {
    "duration": 0,
    "start_time": "2025-04-05T07:07:36.361Z"
   },
   {
    "duration": 0,
    "start_time": "2025-04-05T07:07:36.362Z"
   },
   {
    "duration": 0,
    "start_time": "2025-04-05T07:07:36.363Z"
   },
   {
    "duration": 0,
    "start_time": "2025-04-05T07:07:36.364Z"
   },
   {
    "duration": 1240,
    "start_time": "2025-04-05T07:12:03.834Z"
   },
   {
    "duration": 25,
    "start_time": "2025-04-05T07:12:16.132Z"
   },
   {
    "duration": 23,
    "start_time": "2025-04-05T07:12:24.851Z"
   },
   {
    "duration": 25,
    "start_time": "2025-04-05T07:14:42.254Z"
   },
   {
    "duration": 25,
    "start_time": "2025-04-05T07:14:46.522Z"
   },
   {
    "duration": 25,
    "start_time": "2025-04-05T07:14:59.102Z"
   },
   {
    "duration": 25,
    "start_time": "2025-04-05T07:15:21.028Z"
   },
   {
    "duration": 26,
    "start_time": "2025-04-05T07:15:29.740Z"
   },
   {
    "duration": 23,
    "start_time": "2025-04-05T07:16:21.265Z"
   },
   {
    "duration": 3,
    "start_time": "2025-04-05T07:16:27.265Z"
   },
   {
    "duration": 23,
    "start_time": "2025-04-05T07:18:02.704Z"
   },
   {
    "duration": 21,
    "start_time": "2025-04-05T07:18:54.803Z"
   },
   {
    "duration": 14,
    "start_time": "2025-04-05T07:19:42.650Z"
   },
   {
    "duration": 23,
    "start_time": "2025-04-05T07:19:59.777Z"
   },
   {
    "duration": 20,
    "start_time": "2025-04-05T07:22:01.257Z"
   },
   {
    "duration": 75,
    "start_time": "2025-04-05T07:22:25.098Z"
   },
   {
    "duration": 10,
    "start_time": "2025-04-05T07:25:35.978Z"
   },
   {
    "duration": 15,
    "start_time": "2025-04-05T07:25:40.235Z"
   },
   {
    "duration": 10,
    "start_time": "2025-04-05T07:26:00.850Z"
   },
   {
    "duration": 2349,
    "start_time": "2025-04-05T07:27:32.234Z"
   },
   {
    "duration": 1538,
    "start_time": "2025-04-05T07:27:34.586Z"
   },
   {
    "duration": 3,
    "start_time": "2025-04-05T07:27:36.125Z"
   },
   {
    "duration": 8064,
    "start_time": "2025-04-05T07:27:36.130Z"
   },
   {
    "duration": 199,
    "start_time": "2025-04-05T07:27:44.196Z"
   },
   {
    "duration": 42,
    "start_time": "2025-04-05T07:27:44.397Z"
   },
   {
    "duration": 162,
    "start_time": "2025-04-05T07:27:44.440Z"
   },
   {
    "duration": 43,
    "start_time": "2025-04-05T07:27:44.604Z"
   },
   {
    "duration": 1283,
    "start_time": "2025-04-05T07:27:44.649Z"
   },
   {
    "duration": 760,
    "start_time": "2025-04-05T07:27:45.935Z"
   },
   {
    "duration": 142,
    "start_time": "2025-04-05T07:27:46.697Z"
   },
   {
    "duration": 1662,
    "start_time": "2025-04-05T07:27:46.841Z"
   },
   {
    "duration": 219,
    "start_time": "2025-04-05T07:27:48.505Z"
   },
   {
    "duration": 13261,
    "start_time": "2025-04-05T07:27:48.726Z"
   },
   {
    "duration": 43,
    "start_time": "2025-04-05T07:28:01.988Z"
   },
   {
    "duration": 43,
    "start_time": "2025-04-05T07:28:02.032Z"
   },
   {
    "duration": 81,
    "start_time": "2025-04-05T07:28:02.077Z"
   },
   {
    "duration": 4,
    "start_time": "2025-04-05T07:28:02.173Z"
   },
   {
    "duration": 473,
    "start_time": "2025-04-05T07:28:02.178Z"
   },
   {
    "duration": 220,
    "start_time": "2025-04-05T07:28:02.653Z"
   },
   {
    "duration": 45,
    "start_time": "2025-04-05T07:28:02.875Z"
   },
   {
    "duration": 239,
    "start_time": "2025-04-05T07:28:02.922Z"
   },
   {
    "duration": 187,
    "start_time": "2025-04-05T07:28:03.162Z"
   },
   {
    "duration": 384,
    "start_time": "2025-04-05T07:28:03.351Z"
   },
   {
    "duration": 160,
    "start_time": "2025-04-05T07:28:03.736Z"
   },
   {
    "duration": 16,
    "start_time": "2025-04-05T07:28:03.897Z"
   },
   {
    "duration": 9126,
    "start_time": "2025-04-05T07:28:03.915Z"
   },
   {
    "duration": 16,
    "start_time": "2025-04-05T07:28:13.046Z"
   },
   {
    "duration": 201,
    "start_time": "2025-04-05T07:28:13.063Z"
   },
   {
    "duration": 94,
    "start_time": "2025-04-05T07:28:13.265Z"
   },
   {
    "duration": 448,
    "start_time": "2025-04-05T07:28:13.372Z"
   },
   {
    "duration": 1237,
    "start_time": "2025-04-05T07:28:13.822Z"
   },
   {
    "duration": 1416,
    "start_time": "2025-04-05T07:28:15.060Z"
   },
   {
    "duration": 23,
    "start_time": "2025-04-05T07:28:16.478Z"
   },
   {
    "duration": 5,
    "start_time": "2025-04-05T07:28:16.503Z"
   },
   {
    "duration": 139,
    "start_time": "2025-04-05T07:28:16.509Z"
   },
   {
    "duration": 0,
    "start_time": "2025-04-05T07:28:16.650Z"
   },
   {
    "duration": 0,
    "start_time": "2025-04-05T07:28:16.652Z"
   },
   {
    "duration": 0,
    "start_time": "2025-04-05T07:28:16.653Z"
   },
   {
    "duration": 0,
    "start_time": "2025-04-05T07:28:16.654Z"
   },
   {
    "duration": 0,
    "start_time": "2025-04-05T07:28:16.656Z"
   },
   {
    "duration": 0,
    "start_time": "2025-04-05T07:28:16.672Z"
   },
   {
    "duration": 0,
    "start_time": "2025-04-05T07:28:16.674Z"
   },
   {
    "duration": 0,
    "start_time": "2025-04-05T07:28:16.675Z"
   },
   {
    "duration": 0,
    "start_time": "2025-04-05T07:28:16.677Z"
   },
   {
    "duration": 0,
    "start_time": "2025-04-05T07:28:16.678Z"
   },
   {
    "duration": 0,
    "start_time": "2025-04-05T07:28:16.679Z"
   },
   {
    "duration": 0,
    "start_time": "2025-04-05T07:28:16.681Z"
   },
   {
    "duration": 0,
    "start_time": "2025-04-05T07:28:16.682Z"
   },
   {
    "duration": 0,
    "start_time": "2025-04-05T07:28:16.684Z"
   },
   {
    "duration": 0,
    "start_time": "2025-04-05T07:28:16.685Z"
   },
   {
    "duration": 0,
    "start_time": "2025-04-05T07:28:16.686Z"
   },
   {
    "duration": 0,
    "start_time": "2025-04-05T07:28:16.688Z"
   },
   {
    "duration": 0,
    "start_time": "2025-04-05T07:28:16.689Z"
   },
   {
    "duration": 16,
    "start_time": "2025-04-05T07:28:58.945Z"
   },
   {
    "duration": 16,
    "start_time": "2025-04-05T07:29:03.416Z"
   },
   {
    "duration": 21,
    "start_time": "2025-04-05T07:29:10.326Z"
   },
   {
    "duration": 2439,
    "start_time": "2025-04-05T07:31:19.212Z"
   },
   {
    "duration": 1672,
    "start_time": "2025-04-05T07:31:21.653Z"
   },
   {
    "duration": 3,
    "start_time": "2025-04-05T07:31:23.326Z"
   },
   {
    "duration": 8093,
    "start_time": "2025-04-05T07:31:23.332Z"
   },
   {
    "duration": 201,
    "start_time": "2025-04-05T07:31:31.427Z"
   },
   {
    "duration": 41,
    "start_time": "2025-04-05T07:31:31.630Z"
   },
   {
    "duration": 163,
    "start_time": "2025-04-05T07:31:31.675Z"
   },
   {
    "duration": 50,
    "start_time": "2025-04-05T07:31:31.840Z"
   },
   {
    "duration": 1436,
    "start_time": "2025-04-05T07:31:31.891Z"
   },
   {
    "duration": 776,
    "start_time": "2025-04-05T07:31:33.329Z"
   },
   {
    "duration": 151,
    "start_time": "2025-04-05T07:31:34.107Z"
   },
   {
    "duration": 4072,
    "start_time": "2025-04-05T07:31:34.260Z"
   },
   {
    "duration": 231,
    "start_time": "2025-04-05T07:31:38.333Z"
   },
   {
    "duration": 13664,
    "start_time": "2025-04-05T07:31:38.565Z"
   },
   {
    "duration": 56,
    "start_time": "2025-04-05T07:31:52.231Z"
   },
   {
    "duration": 32,
    "start_time": "2025-04-05T07:31:52.289Z"
   },
   {
    "duration": 115,
    "start_time": "2025-04-05T07:31:52.324Z"
   },
   {
    "duration": 6,
    "start_time": "2025-04-05T07:31:52.441Z"
   },
   {
    "duration": 483,
    "start_time": "2025-04-05T07:31:52.449Z"
   },
   {
    "duration": 200,
    "start_time": "2025-04-05T07:31:52.935Z"
   },
   {
    "duration": 50,
    "start_time": "2025-04-05T07:31:53.137Z"
   },
   {
    "duration": 228,
    "start_time": "2025-04-05T07:31:53.189Z"
   },
   {
    "duration": 199,
    "start_time": "2025-04-05T07:31:53.419Z"
   },
   {
    "duration": 388,
    "start_time": "2025-04-05T07:31:53.620Z"
   },
   {
    "duration": 168,
    "start_time": "2025-04-05T07:31:54.010Z"
   },
   {
    "duration": 15,
    "start_time": "2025-04-05T07:31:54.180Z"
   },
   {
    "duration": 9862,
    "start_time": "2025-04-05T07:31:54.196Z"
   },
   {
    "duration": 15,
    "start_time": "2025-04-05T07:32:04.061Z"
   },
   {
    "duration": 205,
    "start_time": "2025-04-05T07:32:04.078Z"
   },
   {
    "duration": 107,
    "start_time": "2025-04-05T07:32:04.284Z"
   },
   {
    "duration": 479,
    "start_time": "2025-04-05T07:32:04.393Z"
   },
   {
    "duration": 1251,
    "start_time": "2025-04-05T07:32:04.874Z"
   },
   {
    "duration": 1478,
    "start_time": "2025-04-05T07:32:06.128Z"
   },
   {
    "duration": 73,
    "start_time": "2025-04-05T07:32:07.608Z"
   },
   {
    "duration": 0,
    "start_time": "2025-04-05T07:32:07.683Z"
   },
   {
    "duration": 0,
    "start_time": "2025-04-05T07:32:07.684Z"
   },
   {
    "duration": 0,
    "start_time": "2025-04-05T07:32:07.685Z"
   },
   {
    "duration": 0,
    "start_time": "2025-04-05T07:32:07.686Z"
   },
   {
    "duration": 0,
    "start_time": "2025-04-05T07:32:07.687Z"
   },
   {
    "duration": 0,
    "start_time": "2025-04-05T07:32:07.689Z"
   },
   {
    "duration": 0,
    "start_time": "2025-04-05T07:32:07.690Z"
   },
   {
    "duration": 0,
    "start_time": "2025-04-05T07:32:07.691Z"
   },
   {
    "duration": 0,
    "start_time": "2025-04-05T07:32:07.693Z"
   },
   {
    "duration": 0,
    "start_time": "2025-04-05T07:32:07.694Z"
   },
   {
    "duration": 0,
    "start_time": "2025-04-05T07:32:07.695Z"
   },
   {
    "duration": 0,
    "start_time": "2025-04-05T07:32:07.697Z"
   },
   {
    "duration": 0,
    "start_time": "2025-04-05T07:32:07.699Z"
   },
   {
    "duration": 0,
    "start_time": "2025-04-05T07:32:07.700Z"
   },
   {
    "duration": 0,
    "start_time": "2025-04-05T07:32:07.702Z"
   },
   {
    "duration": 57,
    "start_time": "2025-04-05T07:33:08.654Z"
   },
   {
    "duration": 39,
    "start_time": "2025-04-05T07:34:05.196Z"
   },
   {
    "duration": 12,
    "start_time": "2025-04-05T07:34:15.108Z"
   },
   {
    "duration": 3,
    "start_time": "2025-04-05T07:34:57.441Z"
   },
   {
    "duration": 4,
    "start_time": "2025-04-05T07:36:19.637Z"
   },
   {
    "duration": 5,
    "start_time": "2025-04-05T07:36:20.573Z"
   },
   {
    "duration": 3,
    "start_time": "2025-04-05T07:36:28.832Z"
   },
   {
    "duration": 177591,
    "start_time": "2025-04-05T07:36:32.181Z"
   },
   {
    "duration": 4,
    "start_time": "2025-04-05T07:39:29.774Z"
   },
   {
    "duration": 150,
    "start_time": "2025-04-05T07:39:29.780Z"
   },
   {
    "duration": 395,
    "start_time": "2025-04-05T07:50:03.154Z"
   },
   {
    "duration": 3,
    "start_time": "2025-04-05T07:50:03.612Z"
   },
   {
    "duration": 55525,
    "start_time": "2025-04-05T07:50:03.757Z"
   },
   {
    "duration": 246,
    "start_time": "2025-04-05T07:50:59.284Z"
   },
   {
    "duration": 327,
    "start_time": "2025-04-05T07:51:22.230Z"
   },
   {
    "duration": 276,
    "start_time": "2025-04-05T08:01:53.999Z"
   },
   {
    "duration": 71,
    "start_time": "2025-04-05T08:02:17.252Z"
   },
   {
    "duration": 283,
    "start_time": "2025-04-05T08:02:22.641Z"
   },
   {
    "duration": 287,
    "start_time": "2025-04-05T08:02:54.866Z"
   },
   {
    "duration": 277,
    "start_time": "2025-04-05T08:03:47.136Z"
   },
   {
    "duration": 2331,
    "start_time": "2025-04-05T08:18:43.613Z"
   },
   {
    "duration": 1509,
    "start_time": "2025-04-05T08:18:45.946Z"
   },
   {
    "duration": 2,
    "start_time": "2025-04-05T08:18:47.457Z"
   },
   {
    "duration": 7448,
    "start_time": "2025-04-05T08:18:47.461Z"
   },
   {
    "duration": 205,
    "start_time": "2025-04-05T08:18:54.911Z"
   },
   {
    "duration": 42,
    "start_time": "2025-04-05T08:18:55.120Z"
   },
   {
    "duration": 164,
    "start_time": "2025-04-05T08:18:55.163Z"
   },
   {
    "duration": 43,
    "start_time": "2025-04-05T08:18:55.329Z"
   },
   {
    "duration": 1312,
    "start_time": "2025-04-05T08:18:55.374Z"
   },
   {
    "duration": 761,
    "start_time": "2025-04-05T08:18:56.688Z"
   },
   {
    "duration": 134,
    "start_time": "2025-04-05T08:18:57.451Z"
   },
   {
    "duration": 1143,
    "start_time": "2025-04-05T08:18:57.586Z"
   },
   {
    "duration": 220,
    "start_time": "2025-04-05T08:18:58.731Z"
   },
   {
    "duration": 13416,
    "start_time": "2025-04-05T08:18:58.952Z"
   },
   {
    "duration": 60,
    "start_time": "2025-04-05T08:19:12.372Z"
   },
   {
    "duration": 50,
    "start_time": "2025-04-05T08:19:12.434Z"
   },
   {
    "duration": 91,
    "start_time": "2025-04-05T08:19:12.485Z"
   },
   {
    "duration": 4,
    "start_time": "2025-04-05T08:19:12.577Z"
   },
   {
    "duration": 423,
    "start_time": "2025-04-05T08:19:12.582Z"
   },
   {
    "duration": 192,
    "start_time": "2025-04-05T08:19:13.006Z"
   },
   {
    "duration": 33,
    "start_time": "2025-04-05T08:19:13.200Z"
   },
   {
    "duration": 225,
    "start_time": "2025-04-05T08:19:13.235Z"
   },
   {
    "duration": 191,
    "start_time": "2025-04-05T08:19:13.462Z"
   },
   {
    "duration": 373,
    "start_time": "2025-04-05T08:19:13.654Z"
   },
   {
    "duration": 161,
    "start_time": "2025-04-05T08:19:14.029Z"
   },
   {
    "duration": 15,
    "start_time": "2025-04-05T08:19:14.191Z"
   },
   {
    "duration": 8554,
    "start_time": "2025-04-05T08:19:14.207Z"
   },
   {
    "duration": 14,
    "start_time": "2025-04-05T08:19:22.764Z"
   },
   {
    "duration": 211,
    "start_time": "2025-04-05T08:19:22.780Z"
   },
   {
    "duration": 98,
    "start_time": "2025-04-05T08:19:22.992Z"
   },
   {
    "duration": 442,
    "start_time": "2025-04-05T08:19:23.092Z"
   },
   {
    "duration": 1110,
    "start_time": "2025-04-05T08:19:23.536Z"
   },
   {
    "duration": 1308,
    "start_time": "2025-04-05T08:19:24.648Z"
   },
   {
    "duration": 51,
    "start_time": "2025-04-05T08:19:25.957Z"
   },
   {
    "duration": 29,
    "start_time": "2025-04-05T08:19:26.010Z"
   },
   {
    "duration": 11,
    "start_time": "2025-04-05T08:19:26.040Z"
   },
   {
    "duration": 24,
    "start_time": "2025-04-05T08:19:26.052Z"
   },
   {
    "duration": 4,
    "start_time": "2025-04-05T08:19:26.077Z"
   },
   {
    "duration": 5,
    "start_time": "2025-04-05T08:19:26.083Z"
   },
   {
    "duration": 6,
    "start_time": "2025-04-05T08:19:26.089Z"
   },
   {
    "duration": 404217,
    "start_time": "2025-04-05T08:19:26.097Z"
   },
   {
    "duration": 4,
    "start_time": "2025-04-05T08:26:10.315Z"
   },
   {
    "duration": 1071,
    "start_time": "2025-04-05T08:26:10.320Z"
   },
   {
    "duration": 1472,
    "start_time": "2025-04-05T08:26:11.393Z"
   },
   {
    "duration": 8,
    "start_time": "2025-04-05T08:26:12.867Z"
   },
   {
    "duration": 54706,
    "start_time": "2025-04-05T08:26:12.877Z"
   },
   {
    "duration": 280,
    "start_time": "2025-04-05T08:27:07.584Z"
   },
   {
    "duration": 6,
    "start_time": "2025-04-05T08:31:54.799Z"
   },
   {
    "duration": 2423,
    "start_time": "2025-04-05T08:33:01.364Z"
   },
   {
    "duration": 1622,
    "start_time": "2025-04-05T08:33:03.789Z"
   },
   {
    "duration": 3,
    "start_time": "2025-04-05T08:33:05.413Z"
   },
   {
    "duration": 11397,
    "start_time": "2025-04-05T08:33:05.418Z"
   },
   {
    "duration": 210,
    "start_time": "2025-04-05T08:33:16.817Z"
   },
   {
    "duration": 43,
    "start_time": "2025-04-05T08:33:17.029Z"
   },
   {
    "duration": 158,
    "start_time": "2025-04-05T08:33:17.074Z"
   },
   {
    "duration": 46,
    "start_time": "2025-04-05T08:33:17.234Z"
   },
   {
    "duration": 1327,
    "start_time": "2025-04-05T08:33:17.283Z"
   },
   {
    "duration": 753,
    "start_time": "2025-04-05T08:33:18.614Z"
   },
   {
    "duration": 151,
    "start_time": "2025-04-05T08:33:19.369Z"
   },
   {
    "duration": 1385,
    "start_time": "2025-04-05T08:33:19.522Z"
   },
   {
    "duration": 223,
    "start_time": "2025-04-05T08:33:20.909Z"
   },
   {
    "duration": 12615,
    "start_time": "2025-04-05T08:33:21.134Z"
   },
   {
    "duration": 51,
    "start_time": "2025-04-05T08:33:33.751Z"
   },
   {
    "duration": 24,
    "start_time": "2025-04-05T08:33:33.803Z"
   },
   {
    "duration": 102,
    "start_time": "2025-04-05T08:33:33.828Z"
   },
   {
    "duration": 3,
    "start_time": "2025-04-05T08:33:33.932Z"
   },
   {
    "duration": 393,
    "start_time": "2025-04-05T08:33:33.937Z"
   },
   {
    "duration": 174,
    "start_time": "2025-04-05T08:33:34.332Z"
   },
   {
    "duration": 30,
    "start_time": "2025-04-05T08:33:34.508Z"
   },
   {
    "duration": 211,
    "start_time": "2025-04-05T08:33:34.539Z"
   },
   {
    "duration": 186,
    "start_time": "2025-04-05T08:33:34.752Z"
   },
   {
    "duration": 377,
    "start_time": "2025-04-05T08:33:34.940Z"
   },
   {
    "duration": 162,
    "start_time": "2025-04-05T08:33:35.319Z"
   },
   {
    "duration": 15,
    "start_time": "2025-04-05T08:33:35.483Z"
   },
   {
    "duration": 8825,
    "start_time": "2025-04-05T08:33:35.500Z"
   },
   {
    "duration": 13,
    "start_time": "2025-04-05T08:33:44.329Z"
   },
   {
    "duration": 185,
    "start_time": "2025-04-05T08:33:44.344Z"
   },
   {
    "duration": 96,
    "start_time": "2025-04-05T08:33:44.530Z"
   },
   {
    "duration": 457,
    "start_time": "2025-04-05T08:33:44.628Z"
   },
   {
    "duration": 1108,
    "start_time": "2025-04-05T08:33:45.086Z"
   },
   {
    "duration": 1316,
    "start_time": "2025-04-05T08:33:46.197Z"
   },
   {
    "duration": 64,
    "start_time": "2025-04-05T08:33:47.514Z"
   },
   {
    "duration": 36,
    "start_time": "2025-04-05T08:33:47.579Z"
   },
   {
    "duration": 11,
    "start_time": "2025-04-05T08:33:47.617Z"
   },
   {
    "duration": 33,
    "start_time": "2025-04-05T08:33:47.629Z"
   },
   {
    "duration": 5,
    "start_time": "2025-04-05T08:33:47.664Z"
   },
   {
    "duration": 6,
    "start_time": "2025-04-05T08:33:47.671Z"
   },
   {
    "duration": 10,
    "start_time": "2025-04-05T08:33:47.678Z"
   },
   {
    "duration": 146151,
    "start_time": "2025-04-05T08:33:47.690Z"
   },
   {
    "duration": 3,
    "start_time": "2025-04-05T08:36:13.843Z"
   },
   {
    "duration": 6,
    "start_time": "2025-04-05T08:36:13.847Z"
   },
   {
    "duration": 158,
    "start_time": "2025-04-05T08:36:13.854Z"
   },
   {
    "duration": 416,
    "start_time": "2025-04-05T08:36:14.013Z"
   },
   {
    "duration": 3,
    "start_time": "2025-04-05T08:36:14.431Z"
   },
   {
    "duration": 54879,
    "start_time": "2025-04-05T08:36:14.435Z"
   },
   {
    "duration": 265,
    "start_time": "2025-04-05T08:37:09.316Z"
   },
   {
    "duration": 2390,
    "start_time": "2025-04-05T09:11:35.349Z"
   },
   {
    "duration": 1584,
    "start_time": "2025-04-05T09:11:37.741Z"
   },
   {
    "duration": 3,
    "start_time": "2025-04-05T09:11:39.327Z"
   },
   {
    "duration": 9095,
    "start_time": "2025-04-05T09:11:39.332Z"
   },
   {
    "duration": 217,
    "start_time": "2025-04-05T09:11:48.429Z"
   },
   {
    "duration": 45,
    "start_time": "2025-04-05T09:11:48.648Z"
   },
   {
    "duration": 156,
    "start_time": "2025-04-05T09:11:48.694Z"
   },
   {
    "duration": 47,
    "start_time": "2025-04-05T09:11:48.852Z"
   },
   {
    "duration": 1345,
    "start_time": "2025-04-05T09:11:48.901Z"
   },
   {
    "duration": 780,
    "start_time": "2025-04-05T09:11:50.249Z"
   },
   {
    "duration": 143,
    "start_time": "2025-04-05T09:11:51.030Z"
   },
   {
    "duration": 914,
    "start_time": "2025-04-05T09:11:51.175Z"
   },
   {
    "duration": 231,
    "start_time": "2025-04-05T09:11:52.090Z"
   },
   {
    "duration": 12507,
    "start_time": "2025-04-05T09:11:52.323Z"
   },
   {
    "duration": 56,
    "start_time": "2025-04-05T09:12:04.831Z"
   },
   {
    "duration": 95,
    "start_time": "2025-04-05T09:12:04.888Z"
   },
   {
    "duration": 4,
    "start_time": "2025-04-05T09:12:04.984Z"
   },
   {
    "duration": 444,
    "start_time": "2025-04-05T09:12:04.990Z"
   },
   {
    "duration": 197,
    "start_time": "2025-04-05T09:12:05.436Z"
   },
   {
    "duration": 47,
    "start_time": "2025-04-05T09:12:05.635Z"
   },
   {
    "duration": 238,
    "start_time": "2025-04-05T09:12:05.684Z"
   },
   {
    "duration": 195,
    "start_time": "2025-04-05T09:12:05.924Z"
   },
   {
    "duration": 415,
    "start_time": "2025-04-05T09:12:06.121Z"
   },
   {
    "duration": 85,
    "start_time": "2025-04-05T09:12:06.538Z"
   },
   {
    "duration": 0,
    "start_time": "2025-04-05T09:12:06.625Z"
   },
   {
    "duration": 0,
    "start_time": "2025-04-05T09:12:06.626Z"
   },
   {
    "duration": 0,
    "start_time": "2025-04-05T09:12:06.627Z"
   },
   {
    "duration": 0,
    "start_time": "2025-04-05T09:12:06.629Z"
   },
   {
    "duration": 0,
    "start_time": "2025-04-05T09:12:06.630Z"
   },
   {
    "duration": 0,
    "start_time": "2025-04-05T09:12:06.630Z"
   },
   {
    "duration": 0,
    "start_time": "2025-04-05T09:12:06.631Z"
   },
   {
    "duration": 0,
    "start_time": "2025-04-05T09:12:06.632Z"
   },
   {
    "duration": 0,
    "start_time": "2025-04-05T09:12:06.633Z"
   },
   {
    "duration": 0,
    "start_time": "2025-04-05T09:12:06.634Z"
   },
   {
    "duration": 0,
    "start_time": "2025-04-05T09:12:06.635Z"
   },
   {
    "duration": 0,
    "start_time": "2025-04-05T09:12:06.636Z"
   },
   {
    "duration": 0,
    "start_time": "2025-04-05T09:12:06.638Z"
   },
   {
    "duration": 0,
    "start_time": "2025-04-05T09:12:06.638Z"
   },
   {
    "duration": 0,
    "start_time": "2025-04-05T09:12:06.639Z"
   },
   {
    "duration": 0,
    "start_time": "2025-04-05T09:12:06.640Z"
   },
   {
    "duration": 0,
    "start_time": "2025-04-05T09:12:06.642Z"
   },
   {
    "duration": 0,
    "start_time": "2025-04-05T09:12:06.643Z"
   },
   {
    "duration": 0,
    "start_time": "2025-04-05T09:12:06.644Z"
   },
   {
    "duration": 0,
    "start_time": "2025-04-05T09:12:06.644Z"
   },
   {
    "duration": 0,
    "start_time": "2025-04-05T09:12:06.645Z"
   },
   {
    "duration": 0,
    "start_time": "2025-04-05T09:12:06.646Z"
   },
   {
    "duration": 0,
    "start_time": "2025-04-05T09:12:06.647Z"
   },
   {
    "duration": 152,
    "start_time": "2025-04-05T09:12:30.229Z"
   },
   {
    "duration": 16,
    "start_time": "2025-04-05T09:12:46.299Z"
   },
   {
    "duration": 10668,
    "start_time": "2025-04-05T09:12:46.318Z"
   },
   {
    "duration": 13,
    "start_time": "2025-04-05T09:12:56.988Z"
   },
   {
    "duration": 206,
    "start_time": "2025-04-05T09:12:57.004Z"
   },
   {
    "duration": 96,
    "start_time": "2025-04-05T09:12:57.212Z"
   },
   {
    "duration": 439,
    "start_time": "2025-04-05T09:12:57.310Z"
   },
   {
    "duration": 1121,
    "start_time": "2025-04-05T09:12:57.751Z"
   },
   {
    "duration": 1365,
    "start_time": "2025-04-05T09:12:58.874Z"
   },
   {
    "duration": 62,
    "start_time": "2025-04-05T09:13:00.241Z"
   },
   {
    "duration": 36,
    "start_time": "2025-04-05T09:13:00.305Z"
   },
   {
    "duration": 29,
    "start_time": "2025-04-05T09:13:00.342Z"
   },
   {
    "duration": 14,
    "start_time": "2025-04-05T09:13:00.373Z"
   },
   {
    "duration": 8,
    "start_time": "2025-04-05T09:13:00.389Z"
   },
   {
    "duration": 6,
    "start_time": "2025-04-05T09:13:00.400Z"
   },
   {
    "duration": 8,
    "start_time": "2025-04-05T09:13:00.408Z"
   },
   {
    "duration": 144471,
    "start_time": "2025-04-05T09:13:00.418Z"
   },
   {
    "duration": 3,
    "start_time": "2025-04-05T09:15:24.891Z"
   },
   {
    "duration": 6,
    "start_time": "2025-04-05T09:15:24.895Z"
   },
   {
    "duration": 157,
    "start_time": "2025-04-05T09:15:24.903Z"
   },
   {
    "duration": 392,
    "start_time": "2025-04-05T09:15:25.062Z"
   },
   {
    "duration": 4,
    "start_time": "2025-04-05T09:15:25.455Z"
   },
   {
    "duration": 56126,
    "start_time": "2025-04-05T09:15:25.460Z"
   },
   {
    "duration": 278,
    "start_time": "2025-04-05T09:16:21.587Z"
   }
  ],
  "kernelspec": {
   "display_name": "Python 3 (ipykernel)",
   "language": "python",
   "name": "python3"
  },
  "language_info": {
   "codemirror_mode": {
    "name": "ipython",
    "version": 3
   },
   "file_extension": ".py",
   "mimetype": "text/x-python",
   "name": "python",
   "nbconvert_exporter": "python",
   "pygments_lexer": "ipython3",
   "version": "3.9.5"
  },
  "toc": {
   "base_numbering": 1,
   "nav_menu": {},
   "number_sections": false,
   "sideBar": true,
   "skip_h1_title": false,
   "title_cell": "Table of Contents",
   "title_sidebar": "Contents",
   "toc_cell": false,
   "toc_position": {
    "height": "calc(100% - 180px)",
    "left": "10px",
    "top": "150px",
    "width": "299.5px"
   },
   "toc_section_display": true,
   "toc_window_display": true
  },
  "varInspector": {
   "cols": {
    "lenName": 16,
    "lenType": 16,
    "lenVar": 40
   },
   "kernels_config": {
    "python": {
     "delete_cmd_postfix": "",
     "delete_cmd_prefix": "del ",
     "library": "var_list.py",
     "varRefreshCmd": "print(var_dic_list())"
    },
    "r": {
     "delete_cmd_postfix": ") ",
     "delete_cmd_prefix": "rm(",
     "library": "var_list.r",
     "varRefreshCmd": "cat(var_dic_list()) "
    }
   },
   "types_to_exclude": [
    "module",
    "function",
    "builtin_function_or_method",
    "instance",
    "_Feature"
   ],
   "window_display": false
  }
 },
 "nbformat": 4,
 "nbformat_minor": 5
}
